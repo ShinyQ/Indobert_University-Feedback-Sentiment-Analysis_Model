{
  "cells": [
    {
      "cell_type": "code",
      "source": [
        "!pip install -U accelerate\n",
        "!pip install evaluate"
      ],
      "metadata": {
        "colab": {
          "base_uri": "https://localhost:8080/"
        },
        "id": "u5lghUN4R2gB",
        "outputId": "0b45eb48-e062-4bf3-c2c0-d0daa2c9ec93"
      },
      "id": "u5lghUN4R2gB",
      "execution_count": 1,
      "outputs": [
        {
          "output_type": "stream",
          "name": "stdout",
          "text": [
            "Requirement already satisfied: accelerate in /usr/local/lib/python3.11/dist-packages (1.7.0)\n",
            "Requirement already satisfied: numpy<3.0.0,>=1.17 in /usr/local/lib/python3.11/dist-packages (from accelerate) (2.0.2)\n",
            "Requirement already satisfied: packaging>=20.0 in /usr/local/lib/python3.11/dist-packages (from accelerate) (24.2)\n",
            "Requirement already satisfied: psutil in /usr/local/lib/python3.11/dist-packages (from accelerate) (5.9.5)\n",
            "Requirement already satisfied: pyyaml in /usr/local/lib/python3.11/dist-packages (from accelerate) (6.0.2)\n",
            "Requirement already satisfied: torch>=2.0.0 in /usr/local/lib/python3.11/dist-packages (from accelerate) (2.6.0+cu124)\n",
            "Requirement already satisfied: huggingface-hub>=0.21.0 in /usr/local/lib/python3.11/dist-packages (from accelerate) (0.31.4)\n",
            "Requirement already satisfied: safetensors>=0.4.3 in /usr/local/lib/python3.11/dist-packages (from accelerate) (0.5.3)\n",
            "Requirement already satisfied: filelock in /usr/local/lib/python3.11/dist-packages (from huggingface-hub>=0.21.0->accelerate) (3.18.0)\n",
            "Requirement already satisfied: fsspec>=2023.5.0 in /usr/local/lib/python3.11/dist-packages (from huggingface-hub>=0.21.0->accelerate) (2025.3.2)\n",
            "Requirement already satisfied: requests in /usr/local/lib/python3.11/dist-packages (from huggingface-hub>=0.21.0->accelerate) (2.32.3)\n",
            "Requirement already satisfied: tqdm>=4.42.1 in /usr/local/lib/python3.11/dist-packages (from huggingface-hub>=0.21.0->accelerate) (4.67.1)\n",
            "Requirement already satisfied: typing-extensions>=3.7.4.3 in /usr/local/lib/python3.11/dist-packages (from huggingface-hub>=0.21.0->accelerate) (4.13.2)\n",
            "Requirement already satisfied: networkx in /usr/local/lib/python3.11/dist-packages (from torch>=2.0.0->accelerate) (3.4.2)\n",
            "Requirement already satisfied: jinja2 in /usr/local/lib/python3.11/dist-packages (from torch>=2.0.0->accelerate) (3.1.6)\n",
            "Collecting nvidia-cuda-nvrtc-cu12==12.4.127 (from torch>=2.0.0->accelerate)\n",
            "  Downloading nvidia_cuda_nvrtc_cu12-12.4.127-py3-none-manylinux2014_x86_64.whl.metadata (1.5 kB)\n",
            "Collecting nvidia-cuda-runtime-cu12==12.4.127 (from torch>=2.0.0->accelerate)\n",
            "  Downloading nvidia_cuda_runtime_cu12-12.4.127-py3-none-manylinux2014_x86_64.whl.metadata (1.5 kB)\n",
            "Collecting nvidia-cuda-cupti-cu12==12.4.127 (from torch>=2.0.0->accelerate)\n",
            "  Downloading nvidia_cuda_cupti_cu12-12.4.127-py3-none-manylinux2014_x86_64.whl.metadata (1.6 kB)\n",
            "Collecting nvidia-cudnn-cu12==9.1.0.70 (from torch>=2.0.0->accelerate)\n",
            "  Downloading nvidia_cudnn_cu12-9.1.0.70-py3-none-manylinux2014_x86_64.whl.metadata (1.6 kB)\n",
            "Collecting nvidia-cublas-cu12==12.4.5.8 (from torch>=2.0.0->accelerate)\n",
            "  Downloading nvidia_cublas_cu12-12.4.5.8-py3-none-manylinux2014_x86_64.whl.metadata (1.5 kB)\n",
            "Collecting nvidia-cufft-cu12==11.2.1.3 (from torch>=2.0.0->accelerate)\n",
            "  Downloading nvidia_cufft_cu12-11.2.1.3-py3-none-manylinux2014_x86_64.whl.metadata (1.5 kB)\n",
            "Collecting nvidia-curand-cu12==10.3.5.147 (from torch>=2.0.0->accelerate)\n",
            "  Downloading nvidia_curand_cu12-10.3.5.147-py3-none-manylinux2014_x86_64.whl.metadata (1.5 kB)\n",
            "Collecting nvidia-cusolver-cu12==11.6.1.9 (from torch>=2.0.0->accelerate)\n",
            "  Downloading nvidia_cusolver_cu12-11.6.1.9-py3-none-manylinux2014_x86_64.whl.metadata (1.6 kB)\n",
            "Collecting nvidia-cusparse-cu12==12.3.1.170 (from torch>=2.0.0->accelerate)\n",
            "  Downloading nvidia_cusparse_cu12-12.3.1.170-py3-none-manylinux2014_x86_64.whl.metadata (1.6 kB)\n",
            "Requirement already satisfied: nvidia-cusparselt-cu12==0.6.2 in /usr/local/lib/python3.11/dist-packages (from torch>=2.0.0->accelerate) (0.6.2)\n",
            "Requirement already satisfied: nvidia-nccl-cu12==2.21.5 in /usr/local/lib/python3.11/dist-packages (from torch>=2.0.0->accelerate) (2.21.5)\n",
            "Requirement already satisfied: nvidia-nvtx-cu12==12.4.127 in /usr/local/lib/python3.11/dist-packages (from torch>=2.0.0->accelerate) (12.4.127)\n",
            "Collecting nvidia-nvjitlink-cu12==12.4.127 (from torch>=2.0.0->accelerate)\n",
            "  Downloading nvidia_nvjitlink_cu12-12.4.127-py3-none-manylinux2014_x86_64.whl.metadata (1.5 kB)\n",
            "Requirement already satisfied: triton==3.2.0 in /usr/local/lib/python3.11/dist-packages (from torch>=2.0.0->accelerate) (3.2.0)\n",
            "Requirement already satisfied: sympy==1.13.1 in /usr/local/lib/python3.11/dist-packages (from torch>=2.0.0->accelerate) (1.13.1)\n",
            "Requirement already satisfied: mpmath<1.4,>=1.1.0 in /usr/local/lib/python3.11/dist-packages (from sympy==1.13.1->torch>=2.0.0->accelerate) (1.3.0)\n",
            "Requirement already satisfied: MarkupSafe>=2.0 in /usr/local/lib/python3.11/dist-packages (from jinja2->torch>=2.0.0->accelerate) (3.0.2)\n",
            "Requirement already satisfied: charset-normalizer<4,>=2 in /usr/local/lib/python3.11/dist-packages (from requests->huggingface-hub>=0.21.0->accelerate) (3.4.2)\n",
            "Requirement already satisfied: idna<4,>=2.5 in /usr/local/lib/python3.11/dist-packages (from requests->huggingface-hub>=0.21.0->accelerate) (3.10)\n",
            "Requirement already satisfied: urllib3<3,>=1.21.1 in /usr/local/lib/python3.11/dist-packages (from requests->huggingface-hub>=0.21.0->accelerate) (2.4.0)\n",
            "Requirement already satisfied: certifi>=2017.4.17 in /usr/local/lib/python3.11/dist-packages (from requests->huggingface-hub>=0.21.0->accelerate) (2025.4.26)\n",
            "Downloading nvidia_cublas_cu12-12.4.5.8-py3-none-manylinux2014_x86_64.whl (363.4 MB)\n",
            "\u001b[2K   \u001b[90m━━━━━━━━━━━━━━━━━━━━━━━━━━━━━━━━━━━━━━━━\u001b[0m \u001b[32m363.4/363.4 MB\u001b[0m \u001b[31m5.4 MB/s\u001b[0m eta \u001b[36m0:00:00\u001b[0m\n",
            "\u001b[?25hDownloading nvidia_cuda_cupti_cu12-12.4.127-py3-none-manylinux2014_x86_64.whl (13.8 MB)\n",
            "\u001b[2K   \u001b[90m━━━━━━━━━━━━━━━━━━━━━━━━━━━━━━━━━━━━━━━━\u001b[0m \u001b[32m13.8/13.8 MB\u001b[0m \u001b[31m75.6 MB/s\u001b[0m eta \u001b[36m0:00:00\u001b[0m\n",
            "\u001b[?25hDownloading nvidia_cuda_nvrtc_cu12-12.4.127-py3-none-manylinux2014_x86_64.whl (24.6 MB)\n",
            "\u001b[2K   \u001b[90m━━━━━━━━━━━━━━━━━━━━━━━━━━━━━━━━━━━━━━━━\u001b[0m \u001b[32m24.6/24.6 MB\u001b[0m \u001b[31m44.4 MB/s\u001b[0m eta \u001b[36m0:00:00\u001b[0m\n",
            "\u001b[?25hDownloading nvidia_cuda_runtime_cu12-12.4.127-py3-none-manylinux2014_x86_64.whl (883 kB)\n",
            "\u001b[2K   \u001b[90m━━━━━━━━━━━━━━━━━━━━━━━━━━━━━━━━━━━━━━━━\u001b[0m \u001b[32m883.7/883.7 kB\u001b[0m \u001b[31m33.0 MB/s\u001b[0m eta \u001b[36m0:00:00\u001b[0m\n",
            "\u001b[?25hDownloading nvidia_cudnn_cu12-9.1.0.70-py3-none-manylinux2014_x86_64.whl (664.8 MB)\n",
            "\u001b[2K   \u001b[90m━━━━━━━━━━━━━━━━━━━━━━━━━━━━━━━━━━━━━━━━\u001b[0m \u001b[32m664.8/664.8 MB\u001b[0m \u001b[31m2.1 MB/s\u001b[0m eta \u001b[36m0:00:00\u001b[0m\n",
            "\u001b[?25hDownloading nvidia_cufft_cu12-11.2.1.3-py3-none-manylinux2014_x86_64.whl (211.5 MB)\n",
            "\u001b[2K   \u001b[90m━━━━━━━━━━━━━━━━━━━━━━━━━━━━━━━━━━━━━━━━\u001b[0m \u001b[32m211.5/211.5 MB\u001b[0m \u001b[31m5.9 MB/s\u001b[0m eta \u001b[36m0:00:00\u001b[0m\n",
            "\u001b[?25hDownloading nvidia_curand_cu12-10.3.5.147-py3-none-manylinux2014_x86_64.whl (56.3 MB)\n",
            "\u001b[2K   \u001b[90m━━━━━━━━━━━━━━━━━━━━━━━━━━━━━━━━━━━━━━━━\u001b[0m \u001b[32m56.3/56.3 MB\u001b[0m \u001b[31m14.4 MB/s\u001b[0m eta \u001b[36m0:00:00\u001b[0m\n",
            "\u001b[?25hDownloading nvidia_cusolver_cu12-11.6.1.9-py3-none-manylinux2014_x86_64.whl (127.9 MB)\n",
            "\u001b[2K   \u001b[90m━━━━━━━━━━━━━━━━━━━━━━━━━━━━━━━━━━━━━━━━\u001b[0m \u001b[32m127.9/127.9 MB\u001b[0m \u001b[31m8.2 MB/s\u001b[0m eta \u001b[36m0:00:00\u001b[0m\n",
            "\u001b[?25hDownloading nvidia_cusparse_cu12-12.3.1.170-py3-none-manylinux2014_x86_64.whl (207.5 MB)\n",
            "\u001b[2K   \u001b[90m━━━━━━━━━━━━━━━━━━━━━━━━━━━━━━━━━━━━━━━━\u001b[0m \u001b[32m207.5/207.5 MB\u001b[0m \u001b[31m6.2 MB/s\u001b[0m eta \u001b[36m0:00:00\u001b[0m\n",
            "\u001b[?25hDownloading nvidia_nvjitlink_cu12-12.4.127-py3-none-manylinux2014_x86_64.whl (21.1 MB)\n",
            "\u001b[2K   \u001b[90m━━━━━━━━━━━━━━━━━━━━━━━━━━━━━━━━━━━━━━━━\u001b[0m \u001b[32m21.1/21.1 MB\u001b[0m \u001b[31m80.2 MB/s\u001b[0m eta \u001b[36m0:00:00\u001b[0m\n",
            "\u001b[?25hInstalling collected packages: nvidia-nvjitlink-cu12, nvidia-curand-cu12, nvidia-cufft-cu12, nvidia-cuda-runtime-cu12, nvidia-cuda-nvrtc-cu12, nvidia-cuda-cupti-cu12, nvidia-cublas-cu12, nvidia-cusparse-cu12, nvidia-cudnn-cu12, nvidia-cusolver-cu12\n",
            "  Attempting uninstall: nvidia-nvjitlink-cu12\n",
            "    Found existing installation: nvidia-nvjitlink-cu12 12.5.82\n",
            "    Uninstalling nvidia-nvjitlink-cu12-12.5.82:\n",
            "      Successfully uninstalled nvidia-nvjitlink-cu12-12.5.82\n",
            "  Attempting uninstall: nvidia-curand-cu12\n",
            "    Found existing installation: nvidia-curand-cu12 10.3.6.82\n",
            "    Uninstalling nvidia-curand-cu12-10.3.6.82:\n",
            "      Successfully uninstalled nvidia-curand-cu12-10.3.6.82\n",
            "  Attempting uninstall: nvidia-cufft-cu12\n",
            "    Found existing installation: nvidia-cufft-cu12 11.2.3.61\n",
            "    Uninstalling nvidia-cufft-cu12-11.2.3.61:\n",
            "      Successfully uninstalled nvidia-cufft-cu12-11.2.3.61\n",
            "  Attempting uninstall: nvidia-cuda-runtime-cu12\n",
            "    Found existing installation: nvidia-cuda-runtime-cu12 12.5.82\n",
            "    Uninstalling nvidia-cuda-runtime-cu12-12.5.82:\n",
            "      Successfully uninstalled nvidia-cuda-runtime-cu12-12.5.82\n",
            "  Attempting uninstall: nvidia-cuda-nvrtc-cu12\n",
            "    Found existing installation: nvidia-cuda-nvrtc-cu12 12.5.82\n",
            "    Uninstalling nvidia-cuda-nvrtc-cu12-12.5.82:\n",
            "      Successfully uninstalled nvidia-cuda-nvrtc-cu12-12.5.82\n",
            "  Attempting uninstall: nvidia-cuda-cupti-cu12\n",
            "    Found existing installation: nvidia-cuda-cupti-cu12 12.5.82\n",
            "    Uninstalling nvidia-cuda-cupti-cu12-12.5.82:\n",
            "      Successfully uninstalled nvidia-cuda-cupti-cu12-12.5.82\n",
            "  Attempting uninstall: nvidia-cublas-cu12\n",
            "    Found existing installation: nvidia-cublas-cu12 12.5.3.2\n",
            "    Uninstalling nvidia-cublas-cu12-12.5.3.2:\n",
            "      Successfully uninstalled nvidia-cublas-cu12-12.5.3.2\n",
            "  Attempting uninstall: nvidia-cusparse-cu12\n",
            "    Found existing installation: nvidia-cusparse-cu12 12.5.1.3\n",
            "    Uninstalling nvidia-cusparse-cu12-12.5.1.3:\n",
            "      Successfully uninstalled nvidia-cusparse-cu12-12.5.1.3\n",
            "  Attempting uninstall: nvidia-cudnn-cu12\n",
            "    Found existing installation: nvidia-cudnn-cu12 9.3.0.75\n",
            "    Uninstalling nvidia-cudnn-cu12-9.3.0.75:\n",
            "      Successfully uninstalled nvidia-cudnn-cu12-9.3.0.75\n",
            "  Attempting uninstall: nvidia-cusolver-cu12\n",
            "    Found existing installation: nvidia-cusolver-cu12 11.6.3.83\n",
            "    Uninstalling nvidia-cusolver-cu12-11.6.3.83:\n",
            "      Successfully uninstalled nvidia-cusolver-cu12-11.6.3.83\n",
            "Successfully installed nvidia-cublas-cu12-12.4.5.8 nvidia-cuda-cupti-cu12-12.4.127 nvidia-cuda-nvrtc-cu12-12.4.127 nvidia-cuda-runtime-cu12-12.4.127 nvidia-cudnn-cu12-9.1.0.70 nvidia-cufft-cu12-11.2.1.3 nvidia-curand-cu12-10.3.5.147 nvidia-cusolver-cu12-11.6.1.9 nvidia-cusparse-cu12-12.3.1.170 nvidia-nvjitlink-cu12-12.4.127\n",
            "Collecting evaluate\n",
            "  Downloading evaluate-0.4.3-py3-none-any.whl.metadata (9.2 kB)\n",
            "Requirement already satisfied: datasets>=2.0.0 in /usr/local/lib/python3.11/dist-packages (from evaluate) (2.14.4)\n",
            "Requirement already satisfied: numpy>=1.17 in /usr/local/lib/python3.11/dist-packages (from evaluate) (2.0.2)\n",
            "Requirement already satisfied: dill in /usr/local/lib/python3.11/dist-packages (from evaluate) (0.3.7)\n",
            "Requirement already satisfied: pandas in /usr/local/lib/python3.11/dist-packages (from evaluate) (2.2.2)\n",
            "Requirement already satisfied: requests>=2.19.0 in /usr/local/lib/python3.11/dist-packages (from evaluate) (2.32.3)\n",
            "Requirement already satisfied: tqdm>=4.62.1 in /usr/local/lib/python3.11/dist-packages (from evaluate) (4.67.1)\n",
            "Requirement already satisfied: xxhash in /usr/local/lib/python3.11/dist-packages (from evaluate) (3.5.0)\n",
            "Requirement already satisfied: multiprocess in /usr/local/lib/python3.11/dist-packages (from evaluate) (0.70.15)\n",
            "Requirement already satisfied: fsspec>=2021.05.0 in /usr/local/lib/python3.11/dist-packages (from fsspec[http]>=2021.05.0->evaluate) (2025.3.2)\n",
            "Requirement already satisfied: huggingface-hub>=0.7.0 in /usr/local/lib/python3.11/dist-packages (from evaluate) (0.31.4)\n",
            "Requirement already satisfied: packaging in /usr/local/lib/python3.11/dist-packages (from evaluate) (24.2)\n",
            "Requirement already satisfied: pyarrow>=8.0.0 in /usr/local/lib/python3.11/dist-packages (from datasets>=2.0.0->evaluate) (18.1.0)\n",
            "Requirement already satisfied: aiohttp in /usr/local/lib/python3.11/dist-packages (from datasets>=2.0.0->evaluate) (3.11.15)\n",
            "Requirement already satisfied: pyyaml>=5.1 in /usr/local/lib/python3.11/dist-packages (from datasets>=2.0.0->evaluate) (6.0.2)\n",
            "Requirement already satisfied: filelock in /usr/local/lib/python3.11/dist-packages (from huggingface-hub>=0.7.0->evaluate) (3.18.0)\n",
            "Requirement already satisfied: typing-extensions>=3.7.4.3 in /usr/local/lib/python3.11/dist-packages (from huggingface-hub>=0.7.0->evaluate) (4.13.2)\n",
            "Requirement already satisfied: charset-normalizer<4,>=2 in /usr/local/lib/python3.11/dist-packages (from requests>=2.19.0->evaluate) (3.4.2)\n",
            "Requirement already satisfied: idna<4,>=2.5 in /usr/local/lib/python3.11/dist-packages (from requests>=2.19.0->evaluate) (3.10)\n",
            "Requirement already satisfied: urllib3<3,>=1.21.1 in /usr/local/lib/python3.11/dist-packages (from requests>=2.19.0->evaluate) (2.4.0)\n",
            "Requirement already satisfied: certifi>=2017.4.17 in /usr/local/lib/python3.11/dist-packages (from requests>=2.19.0->evaluate) (2025.4.26)\n",
            "Requirement already satisfied: python-dateutil>=2.8.2 in /usr/local/lib/python3.11/dist-packages (from pandas->evaluate) (2.9.0.post0)\n",
            "Requirement already satisfied: pytz>=2020.1 in /usr/local/lib/python3.11/dist-packages (from pandas->evaluate) (2025.2)\n",
            "Requirement already satisfied: tzdata>=2022.7 in /usr/local/lib/python3.11/dist-packages (from pandas->evaluate) (2025.2)\n",
            "Requirement already satisfied: aiohappyeyeballs>=2.3.0 in /usr/local/lib/python3.11/dist-packages (from aiohttp->datasets>=2.0.0->evaluate) (2.6.1)\n",
            "Requirement already satisfied: aiosignal>=1.1.2 in /usr/local/lib/python3.11/dist-packages (from aiohttp->datasets>=2.0.0->evaluate) (1.3.2)\n",
            "Requirement already satisfied: attrs>=17.3.0 in /usr/local/lib/python3.11/dist-packages (from aiohttp->datasets>=2.0.0->evaluate) (25.3.0)\n",
            "Requirement already satisfied: frozenlist>=1.1.1 in /usr/local/lib/python3.11/dist-packages (from aiohttp->datasets>=2.0.0->evaluate) (1.6.0)\n",
            "Requirement already satisfied: multidict<7.0,>=4.5 in /usr/local/lib/python3.11/dist-packages (from aiohttp->datasets>=2.0.0->evaluate) (6.4.4)\n",
            "Requirement already satisfied: propcache>=0.2.0 in /usr/local/lib/python3.11/dist-packages (from aiohttp->datasets>=2.0.0->evaluate) (0.3.1)\n",
            "Requirement already satisfied: yarl<2.0,>=1.17.0 in /usr/local/lib/python3.11/dist-packages (from aiohttp->datasets>=2.0.0->evaluate) (1.20.0)\n",
            "Requirement already satisfied: six>=1.5 in /usr/local/lib/python3.11/dist-packages (from python-dateutil>=2.8.2->pandas->evaluate) (1.17.0)\n",
            "Downloading evaluate-0.4.3-py3-none-any.whl (84 kB)\n",
            "\u001b[2K   \u001b[90m━━━━━━━━━━━━━━━━━━━━━━━━━━━━━━━━━━━━━━━━\u001b[0m \u001b[32m84.0/84.0 kB\u001b[0m \u001b[31m9.0 MB/s\u001b[0m eta \u001b[36m0:00:00\u001b[0m\n",
            "\u001b[?25hInstalling collected packages: evaluate\n",
            "Successfully installed evaluate-0.4.3\n"
          ]
        }
      ]
    },
    {
      "cell_type": "code",
      "execution_count": 2,
      "id": "3c0f1a60",
      "metadata": {
        "id": "3c0f1a60"
      },
      "outputs": [],
      "source": [
        "from transformers import Trainer, AutoModelForSequenceClassification, logging\n",
        "from sklearn.metrics import confusion_matrix, classification_report\n",
        "from sklearn.model_selection import train_test_split\n",
        "\n",
        "import matplotlib.pyplot as plt\n",
        "import seaborn as sns\n",
        "import pandas as pd\n",
        "import numpy as np\n",
        "import evaluate\n",
        "import warnings\n",
        "import wandb\n",
        "\n",
        "logging.set_verbosity_warning()\n",
        "logging.set_verbosity_error()\n",
        "warnings.filterwarnings(\"ignore\", category=DeprecationWarning)"
      ]
    },
    {
      "cell_type": "code",
      "execution_count": 3,
      "id": "08429e07",
      "metadata": {
        "colab": {
          "base_uri": "https://localhost:8080/",
          "height": 206
        },
        "id": "08429e07",
        "outputId": "9670429f-e7c6-4102-ea1d-a6f9d1f8c13b"
      },
      "outputs": [
        {
          "output_type": "execute_result",
          "data": {
            "text/plain": [
              "                                                   text     label\n",
              "4264  menang tugas banget deadline ngotak pantengin ...  negative\n",
              "4572  bamsat kuliah onlen emange protes tanda emang ...  negative\n",
              "2299                     allah cape banget kuliah onlen  positive\n",
              "3880  sadar engga kuliah onlen whatsapp grup pantau ...  negative\n",
              "6588                     jarang suda mulai kuliah onlen   neutral"
            ],
            "text/html": [
              "\n",
              "  <div id=\"df-4476178d-88bd-4424-8b45-df60e2573da0\" class=\"colab-df-container\">\n",
              "    <div>\n",
              "<style scoped>\n",
              "    .dataframe tbody tr th:only-of-type {\n",
              "        vertical-align: middle;\n",
              "    }\n",
              "\n",
              "    .dataframe tbody tr th {\n",
              "        vertical-align: top;\n",
              "    }\n",
              "\n",
              "    .dataframe thead th {\n",
              "        text-align: right;\n",
              "    }\n",
              "</style>\n",
              "<table border=\"1\" class=\"dataframe\">\n",
              "  <thead>\n",
              "    <tr style=\"text-align: right;\">\n",
              "      <th></th>\n",
              "      <th>text</th>\n",
              "      <th>label</th>\n",
              "    </tr>\n",
              "  </thead>\n",
              "  <tbody>\n",
              "    <tr>\n",
              "      <th>4264</th>\n",
              "      <td>menang tugas banget deadline ngotak pantengin ...</td>\n",
              "      <td>negative</td>\n",
              "    </tr>\n",
              "    <tr>\n",
              "      <th>4572</th>\n",
              "      <td>bamsat kuliah onlen emange protes tanda emang ...</td>\n",
              "      <td>negative</td>\n",
              "    </tr>\n",
              "    <tr>\n",
              "      <th>2299</th>\n",
              "      <td>allah cape banget kuliah onlen</td>\n",
              "      <td>positive</td>\n",
              "    </tr>\n",
              "    <tr>\n",
              "      <th>3880</th>\n",
              "      <td>sadar engga kuliah onlen whatsapp grup pantau ...</td>\n",
              "      <td>negative</td>\n",
              "    </tr>\n",
              "    <tr>\n",
              "      <th>6588</th>\n",
              "      <td>jarang suda mulai kuliah onlen</td>\n",
              "      <td>neutral</td>\n",
              "    </tr>\n",
              "  </tbody>\n",
              "</table>\n",
              "</div>\n",
              "    <div class=\"colab-df-buttons\">\n",
              "\n",
              "  <div class=\"colab-df-container\">\n",
              "    <button class=\"colab-df-convert\" onclick=\"convertToInteractive('df-4476178d-88bd-4424-8b45-df60e2573da0')\"\n",
              "            title=\"Convert this dataframe to an interactive table.\"\n",
              "            style=\"display:none;\">\n",
              "\n",
              "  <svg xmlns=\"http://www.w3.org/2000/svg\" height=\"24px\" viewBox=\"0 -960 960 960\">\n",
              "    <path d=\"M120-120v-720h720v720H120Zm60-500h600v-160H180v160Zm220 220h160v-160H400v160Zm0 220h160v-160H400v160ZM180-400h160v-160H180v160Zm440 0h160v-160H620v160ZM180-180h160v-160H180v160Zm440 0h160v-160H620v160Z\"/>\n",
              "  </svg>\n",
              "    </button>\n",
              "\n",
              "  <style>\n",
              "    .colab-df-container {\n",
              "      display:flex;\n",
              "      gap: 12px;\n",
              "    }\n",
              "\n",
              "    .colab-df-convert {\n",
              "      background-color: #E8F0FE;\n",
              "      border: none;\n",
              "      border-radius: 50%;\n",
              "      cursor: pointer;\n",
              "      display: none;\n",
              "      fill: #1967D2;\n",
              "      height: 32px;\n",
              "      padding: 0 0 0 0;\n",
              "      width: 32px;\n",
              "    }\n",
              "\n",
              "    .colab-df-convert:hover {\n",
              "      background-color: #E2EBFA;\n",
              "      box-shadow: 0px 1px 2px rgba(60, 64, 67, 0.3), 0px 1px 3px 1px rgba(60, 64, 67, 0.15);\n",
              "      fill: #174EA6;\n",
              "    }\n",
              "\n",
              "    .colab-df-buttons div {\n",
              "      margin-bottom: 4px;\n",
              "    }\n",
              "\n",
              "    [theme=dark] .colab-df-convert {\n",
              "      background-color: #3B4455;\n",
              "      fill: #D2E3FC;\n",
              "    }\n",
              "\n",
              "    [theme=dark] .colab-df-convert:hover {\n",
              "      background-color: #434B5C;\n",
              "      box-shadow: 0px 1px 3px 1px rgba(0, 0, 0, 0.15);\n",
              "      filter: drop-shadow(0px 1px 2px rgba(0, 0, 0, 0.3));\n",
              "      fill: #FFFFFF;\n",
              "    }\n",
              "  </style>\n",
              "\n",
              "    <script>\n",
              "      const buttonEl =\n",
              "        document.querySelector('#df-4476178d-88bd-4424-8b45-df60e2573da0 button.colab-df-convert');\n",
              "      buttonEl.style.display =\n",
              "        google.colab.kernel.accessAllowed ? 'block' : 'none';\n",
              "\n",
              "      async function convertToInteractive(key) {\n",
              "        const element = document.querySelector('#df-4476178d-88bd-4424-8b45-df60e2573da0');\n",
              "        const dataTable =\n",
              "          await google.colab.kernel.invokeFunction('convertToInteractive',\n",
              "                                                    [key], {});\n",
              "        if (!dataTable) return;\n",
              "\n",
              "        const docLinkHtml = 'Like what you see? Visit the ' +\n",
              "          '<a target=\"_blank\" href=https://colab.research.google.com/notebooks/data_table.ipynb>data table notebook</a>'\n",
              "          + ' to learn more about interactive tables.';\n",
              "        element.innerHTML = '';\n",
              "        dataTable['output_type'] = 'display_data';\n",
              "        await google.colab.output.renderOutput(dataTable, element);\n",
              "        const docLink = document.createElement('div');\n",
              "        docLink.innerHTML = docLinkHtml;\n",
              "        element.appendChild(docLink);\n",
              "      }\n",
              "    </script>\n",
              "  </div>\n",
              "\n",
              "\n",
              "    <div id=\"df-a9952486-f584-4395-81d5-e01da80400e9\">\n",
              "      <button class=\"colab-df-quickchart\" onclick=\"quickchart('df-a9952486-f584-4395-81d5-e01da80400e9')\"\n",
              "                title=\"Suggest charts\"\n",
              "                style=\"display:none;\">\n",
              "\n",
              "<svg xmlns=\"http://www.w3.org/2000/svg\" height=\"24px\"viewBox=\"0 0 24 24\"\n",
              "     width=\"24px\">\n",
              "    <g>\n",
              "        <path d=\"M19 3H5c-1.1 0-2 .9-2 2v14c0 1.1.9 2 2 2h14c1.1 0 2-.9 2-2V5c0-1.1-.9-2-2-2zM9 17H7v-7h2v7zm4 0h-2V7h2v10zm4 0h-2v-4h2v4z\"/>\n",
              "    </g>\n",
              "</svg>\n",
              "      </button>\n",
              "\n",
              "<style>\n",
              "  .colab-df-quickchart {\n",
              "      --bg-color: #E8F0FE;\n",
              "      --fill-color: #1967D2;\n",
              "      --hover-bg-color: #E2EBFA;\n",
              "      --hover-fill-color: #174EA6;\n",
              "      --disabled-fill-color: #AAA;\n",
              "      --disabled-bg-color: #DDD;\n",
              "  }\n",
              "\n",
              "  [theme=dark] .colab-df-quickchart {\n",
              "      --bg-color: #3B4455;\n",
              "      --fill-color: #D2E3FC;\n",
              "      --hover-bg-color: #434B5C;\n",
              "      --hover-fill-color: #FFFFFF;\n",
              "      --disabled-bg-color: #3B4455;\n",
              "      --disabled-fill-color: #666;\n",
              "  }\n",
              "\n",
              "  .colab-df-quickchart {\n",
              "    background-color: var(--bg-color);\n",
              "    border: none;\n",
              "    border-radius: 50%;\n",
              "    cursor: pointer;\n",
              "    display: none;\n",
              "    fill: var(--fill-color);\n",
              "    height: 32px;\n",
              "    padding: 0;\n",
              "    width: 32px;\n",
              "  }\n",
              "\n",
              "  .colab-df-quickchart:hover {\n",
              "    background-color: var(--hover-bg-color);\n",
              "    box-shadow: 0 1px 2px rgba(60, 64, 67, 0.3), 0 1px 3px 1px rgba(60, 64, 67, 0.15);\n",
              "    fill: var(--button-hover-fill-color);\n",
              "  }\n",
              "\n",
              "  .colab-df-quickchart-complete:disabled,\n",
              "  .colab-df-quickchart-complete:disabled:hover {\n",
              "    background-color: var(--disabled-bg-color);\n",
              "    fill: var(--disabled-fill-color);\n",
              "    box-shadow: none;\n",
              "  }\n",
              "\n",
              "  .colab-df-spinner {\n",
              "    border: 2px solid var(--fill-color);\n",
              "    border-color: transparent;\n",
              "    border-bottom-color: var(--fill-color);\n",
              "    animation:\n",
              "      spin 1s steps(1) infinite;\n",
              "  }\n",
              "\n",
              "  @keyframes spin {\n",
              "    0% {\n",
              "      border-color: transparent;\n",
              "      border-bottom-color: var(--fill-color);\n",
              "      border-left-color: var(--fill-color);\n",
              "    }\n",
              "    20% {\n",
              "      border-color: transparent;\n",
              "      border-left-color: var(--fill-color);\n",
              "      border-top-color: var(--fill-color);\n",
              "    }\n",
              "    30% {\n",
              "      border-color: transparent;\n",
              "      border-left-color: var(--fill-color);\n",
              "      border-top-color: var(--fill-color);\n",
              "      border-right-color: var(--fill-color);\n",
              "    }\n",
              "    40% {\n",
              "      border-color: transparent;\n",
              "      border-right-color: var(--fill-color);\n",
              "      border-top-color: var(--fill-color);\n",
              "    }\n",
              "    60% {\n",
              "      border-color: transparent;\n",
              "      border-right-color: var(--fill-color);\n",
              "    }\n",
              "    80% {\n",
              "      border-color: transparent;\n",
              "      border-right-color: var(--fill-color);\n",
              "      border-bottom-color: var(--fill-color);\n",
              "    }\n",
              "    90% {\n",
              "      border-color: transparent;\n",
              "      border-bottom-color: var(--fill-color);\n",
              "    }\n",
              "  }\n",
              "</style>\n",
              "\n",
              "      <script>\n",
              "        async function quickchart(key) {\n",
              "          const quickchartButtonEl =\n",
              "            document.querySelector('#' + key + ' button');\n",
              "          quickchartButtonEl.disabled = true;  // To prevent multiple clicks.\n",
              "          quickchartButtonEl.classList.add('colab-df-spinner');\n",
              "          try {\n",
              "            const charts = await google.colab.kernel.invokeFunction(\n",
              "                'suggestCharts', [key], {});\n",
              "          } catch (error) {\n",
              "            console.error('Error during call to suggestCharts:', error);\n",
              "          }\n",
              "          quickchartButtonEl.classList.remove('colab-df-spinner');\n",
              "          quickchartButtonEl.classList.add('colab-df-quickchart-complete');\n",
              "        }\n",
              "        (() => {\n",
              "          let quickchartButtonEl =\n",
              "            document.querySelector('#df-a9952486-f584-4395-81d5-e01da80400e9 button');\n",
              "          quickchartButtonEl.style.display =\n",
              "            google.colab.kernel.accessAllowed ? 'block' : 'none';\n",
              "        })();\n",
              "      </script>\n",
              "    </div>\n",
              "\n",
              "    </div>\n",
              "  </div>\n"
            ],
            "application/vnd.google.colaboratory.intrinsic+json": {
              "type": "dataframe",
              "summary": "{\n  \"name\": \"df\",\n  \"rows\": 5,\n  \"fields\": [\n    {\n      \"column\": \"text\",\n      \"properties\": {\n        \"dtype\": \"string\",\n        \"num_unique_values\": 5,\n        \"samples\": [\n          \"bamsat kuliah onlen emange protes tanda emang beres usah cupu blokir kaya gin dibatesi cukup\",\n          \"jarang suda mulai kuliah onlen\",\n          \"allah cape banget kuliah onlen\"\n        ],\n        \"semantic_type\": \"\",\n        \"description\": \"\"\n      }\n    },\n    {\n      \"column\": \"label\",\n      \"properties\": {\n        \"dtype\": \"string\",\n        \"num_unique_values\": 3,\n        \"samples\": [\n          \"negative\",\n          \"positive\",\n          \"neutral\"\n        ],\n        \"semantic_type\": \"\",\n        \"description\": \"\"\n      }\n    }\n  ]\n}"
            }
          },
          "metadata": {},
          "execution_count": 3
        }
      ],
      "source": [
        "df = pd.read_csv(\"clean.csv\")\n",
        "df.rename(columns={\"text_clean\": \"text\", \"polarity\": \"label\"}, inplace=True)\n",
        "df.replace(\"\", float(\"NaN\"), inplace=True)\n",
        "df.dropna(inplace=True)\n",
        "\n",
        "df = df[['text', 'label']]\n",
        "df.sample(5)"
      ]
    },
    {
      "cell_type": "code",
      "execution_count": 4,
      "id": "d5d0874a",
      "metadata": {
        "id": "d5d0874a",
        "outputId": "7e574c1a-a9ad-4e17-ce01-051c748151b9",
        "colab": {
          "base_uri": "https://localhost:8080/",
          "height": 465
        }
      },
      "outputs": [
        {
          "output_type": "display_data",
          "data": {
            "text/plain": [
              "<Figure size 500x500 with 1 Axes>"
            ],
            "image/png": "[encoded data removed]"
          },
          "metadata": {}
        }
      ],
      "source": [
        "plt.figure(figsize=(5, 5))\n",
        "sns.countplot(x=df['label'])\n",
        "plt.show()"
      ]
    },
    {
      "cell_type": "code",
      "execution_count": 5,
      "id": "f21fb424",
      "metadata": {
        "id": "f21fb424"
      },
      "outputs": [],
      "source": [
        "df[\"label\"] = df[\"label\"].map({\"negative\": 0, \"neutral\": 1, \"positive\": 2})"
      ]
    },
    {
      "cell_type": "code",
      "execution_count": 6,
      "id": "f96b236b",
      "metadata": {
        "id": "f96b236b"
      },
      "outputs": [],
      "source": [
        "RANDOM_SEED = 42\n",
        "\n",
        "df_train, df_test = train_test_split(\n",
        "    df,\n",
        "    test_size=0.2,\n",
        "    random_state=RANDOM_SEED,\n",
        ")\n",
        "\n",
        "df_val, df_test = train_test_split(\n",
        "    df_test,\n",
        "    test_size=0.1,\n",
        "    random_state=RANDOM_SEED,\n",
        ")\n"
      ]
    },
    {
      "cell_type": "code",
      "execution_count": 7,
      "id": "b0f65d79",
      "metadata": {
        "colab": {
          "base_uri": "https://localhost:8080/",
          "height": 465
        },
        "id": "b0f65d79",
        "outputId": "1087ecdd-f5e5-46c1-df3f-d25070c07eb5"
      },
      "outputs": [
        {
          "output_type": "display_data",
          "data": {
            "text/plain": [
              "<Figure size 500x500 with 1 Axes>"
            ],
            "image/png": "[encoded data removed]"
          },
          "metadata": {}
        }
      ],
      "source": [
        "plt.figure(figsize=(5, 5))\n",
        "sns.countplot(x=df_train['label'])\n",
        "plt.show()"
      ]
    },
    {
      "cell_type": "code",
      "execution_count": 8,
      "id": "fae32632",
      "metadata": {
        "colab": {
          "base_uri": "https://localhost:8080/",
          "height": 465
        },
        "id": "fae32632",
        "outputId": "a5a03d63-c986-41e5-cac0-50160ba80ccb"
      },
      "outputs": [
        {
          "output_type": "display_data",
          "data": {
            "text/plain": [
              "<Figure size 500x500 with 1 Axes>"
            ],
            "image/png": "[encoded data removed]"
          },
          "metadata": {}
        }
      ],
      "source": [
        "plt.figure(figsize=(5, 5))\n",
        "sns.countplot(x=df_val['label'])\n",
        "plt.show()"
      ]
    },
    {
      "cell_type": "code",
      "execution_count": 9,
      "id": "e75c40bc",
      "metadata": {
        "colab": {
          "base_uri": "https://localhost:8080/",
          "height": 465
        },
        "id": "e75c40bc",
        "outputId": "8f11d025-0818-46b1-9be8-0d7f9dbb9b76"
      },
      "outputs": [
        {
          "output_type": "display_data",
          "data": {
            "text/plain": [
              "<Figure size 500x500 with 1 Axes>"
            ],
            "image/png": "[encoded data removed]"
          },
          "metadata": {}
        }
      ],
      "source": [
        "plt.figure(figsize=(5, 5))\n",
        "sns.countplot(x=df_test['label'])\n",
        "plt.show()"
      ]
    },
    {
      "cell_type": "code",
      "execution_count": 10,
      "id": "1fcd1251",
      "metadata": {
        "id": "1fcd1251",
        "colab": {
          "base_uri": "https://localhost:8080/"
        },
        "outputId": "be48fda8-f0d4-4dbf-9081-f692851d9ce0"
      },
      "outputs": [
        {
          "output_type": "stream",
          "name": "stdout",
          "text": [
            "Total Train: 6000\n",
            "Total Val  : 1350\n",
            "Total Test : 150\n"
          ]
        }
      ],
      "source": [
        "print(f'Total Train: {len(df_train)}')\n",
        "print(f'Total Val  : {len(df_val)}')\n",
        "print(f'Total Test : {len(df_test)}')"
      ]
    },
    {
      "cell_type": "code",
      "execution_count": 11,
      "id": "9913c2c8",
      "metadata": {
        "id": "9913c2c8"
      },
      "outputs": [],
      "source": [
        "actual_label = df_test['label']"
      ]
    },
    {
      "cell_type": "code",
      "execution_count": 12,
      "id": "a921f326",
      "metadata": {
        "id": "a921f326"
      },
      "outputs": [],
      "source": [
        "df_train.to_csv(\"train.csv\", index=False)\n",
        "df_val.to_csv(\"eval.csv\", index=False)\n",
        "df_test.to_csv(\"test.csv\", index=False)"
      ]
    },
    {
      "cell_type": "code",
      "source": [
        "# Load CSV files into pandas DataFrames\n",
        "df_train = pd.read_csv(\"train.csv\")\n",
        "df_eval = pd.read_csv(\"eval.csv\")\n",
        "df_test = pd.read_csv(\"test.csv\")"
      ],
      "metadata": {
        "id": "Pr4pF04rLFCj"
      },
      "id": "Pr4pF04rLFCj",
      "execution_count": 13,
      "outputs": []
    },
    {
      "cell_type": "code",
      "execution_count": 14,
      "id": "ecf3c4ce",
      "metadata": {
        "id": "ecf3c4ce"
      },
      "outputs": [],
      "source": [
        "from datasets import Dataset, DatasetDict\n",
        "import pandas as pd\n",
        "\n",
        "# Convert pandas DataFrames to Dataset objects\n",
        "train_dataset = Dataset.from_pandas(df_train)\n",
        "eval_dataset = Dataset.from_pandas(df_eval)\n",
        "test_dataset = Dataset.from_pandas(df_test)\n",
        "\n",
        "# Create a DatasetDict\n",
        "dataset = DatasetDict({\n",
        "    \"train\": train_dataset,\n",
        "    \"eval\": eval_dataset,\n",
        "    \"test\": test_dataset,\n",
        "})"
      ]
    },
    {
      "cell_type": "markdown",
      "id": "ce8e4d13",
      "metadata": {
        "id": "ce8e4d13"
      },
      "source": [
        "### **Tokenize Model**"
      ]
    },
    {
      "cell_type": "code",
      "execution_count": 15,
      "id": "d832dcd1",
      "metadata": {
        "id": "d832dcd1",
        "colab": {
          "base_uri": "https://localhost:8080/",
          "height": 254,
          "referenced_widgets": [
            "fd608a77295346309f40ae97c7ed96b0",
            "9875f779f29c48ecafdebce8c3f6fade",
            "e0d48f9dec6b4d92bb211f1a5dadb439",
            "50d3ae9c7f4840d4a3436a17f878b7b2",
            "a037509f739e47a6815acf41c3b4b8b2",
            "72acd9b33056403d8fbc9f2984e6484c",
            "e326ab2dee564645a45370551feda517",
            "b36d90d3669d4b92876592346894437e",
            "502024339dfc4b5d9674dab5f976d4b7",
            "a2a09bbb82e849e58b87f9e2fc541c0c",
            "1776f12e250f45d28e69d6e685e10ec5",
            "b9dc2763cb4b484e96f8c6ed011012ae",
            "4a4a767b7dbb4c1b8f72403eb30fa3eb",
            "df1317c2f3034cf489c0652f072d8e9e",
            "ee13d4ed34ef4115bdf003a2cc2acfaa",
            "6c140553e6ff4ec59cbf62caf9d4ebe0",
            "d4615b537cb4495ba3142f32fd3b3014",
            "9719aa35681d40378f1e95621208277c",
            "55b07c2281364594a3a050ed38b371d9",
            "963a5b093749478ebe2946d37f96f2c0",
            "c820430912964e86a80405574fd2014e",
            "8222fcd2736349b3916768a73ec451e9",
            "db7b3cae4eb64659a9e785e3f8adb750",
            "89490b2ccdaf4e40a4113ee48f8f64bc",
            "30c0de2ccf854ab0a318a92d3babc738",
            "f30594f2f6c54cd3a9bf038c92362521",
            "a361fe93089341238933b884e8f973d1",
            "1628aecf8b6b4aa3a8c3c1d02789812b",
            "9eff4cd346bd4dc784013d0652699238",
            "a9f1795d78f044cf9fc6e84ae785a485",
            "a33a73410c7546adb7ac8304375697f1",
            "32e187af01ab4da9afa7b58255aaf352",
            "e7bbe08306e04ddf9b9010388f9b7678",
            "4a917fff9da44791a086572ba0868184",
            "fd222fe449d548af903403d2aaa2358c",
            "d721e4811d3142df9c1e4971b2cee634",
            "418a3cd0555e45849b2e8395552a55d0",
            "e4607589ab9a436d827513e4a5164ba3",
            "77647284dd454cf9abbc77a3d277635c",
            "4c53e80d89ea47678057f340f1024db3",
            "ff19fb25a4d542f88a73f6cf6388830a",
            "bcdeb3936343474f84ac82d7511d24a7",
            "a8ac201f465148329a78d1224d1028b7",
            "2309678405d14b6fa65726a0a94d51a7"
          ]
        },
        "outputId": "3c79db0e-5f30-4915-c4b1-de25e572fdb3"
      },
      "outputs": [
        {
          "output_type": "stream",
          "name": "stderr",
          "text": [
            "/usr/local/lib/python3.11/dist-packages/huggingface_hub/utils/_auth.py:94: UserWarning: \n",
            "The secret `HF_TOKEN` does not exist in your Colab secrets.\n",
            "To authenticate with the Hugging Face Hub, create a token in your settings tab (https://huggingface.co/settings/tokens), set it as secret in your Google Colab and restart your session.\n",
            "You will be able to reuse this secret in all of your notebooks.\n",
            "Please note that authentication is recommended but still optional to access public models or datasets.\n",
            "  warnings.warn(\n"
          ]
        },
        {
          "output_type": "display_data",
          "data": {
            "text/plain": [
              "tokenizer_config.json:   0%|          | 0.00/2.00 [00:00<?, ?B/s]"
            ],
            "application/vnd.jupyter.widget-view+json": {
              "version_major": 2,
              "version_minor": 0,
              "model_id": "fd608a77295346309f40ae97c7ed96b0"
            }
          },
          "metadata": {}
        },
        {
          "output_type": "display_data",
          "data": {
            "text/plain": [
              "config.json:   0%|          | 0.00/1.53k [00:00<?, ?B/s]"
            ],
            "application/vnd.jupyter.widget-view+json": {
              "version_major": 2,
              "version_minor": 0,
              "model_id": "b9dc2763cb4b484e96f8c6ed011012ae"
            }
          },
          "metadata": {}
        },
        {
          "output_type": "display_data",
          "data": {
            "text/plain": [
              "vocab.txt:   0%|          | 0.00/229k [00:00<?, ?B/s]"
            ],
            "application/vnd.jupyter.widget-view+json": {
              "version_major": 2,
              "version_minor": 0,
              "model_id": "db7b3cae4eb64659a9e785e3f8adb750"
            }
          },
          "metadata": {}
        },
        {
          "output_type": "display_data",
          "data": {
            "text/plain": [
              "special_tokens_map.json:   0%|          | 0.00/112 [00:00<?, ?B/s]"
            ],
            "application/vnd.jupyter.widget-view+json": {
              "version_major": 2,
              "version_minor": 0,
              "model_id": "4a917fff9da44791a086572ba0868184"
            }
          },
          "metadata": {}
        }
      ],
      "source": [
        "from transformers import AutoTokenizer\n",
        "\n",
        "tokenizer = AutoTokenizer.from_pretrained(\"indobenchmark/indobert-base-p2\")"
      ]
    },
    {
      "cell_type": "code",
      "execution_count": 16,
      "id": "c065c2b3",
      "metadata": {
        "colab": {
          "base_uri": "https://localhost:8080/",
          "height": 113,
          "referenced_widgets": [
            "2cb9f2b0d3994f2aa42c0a2ed804fc91",
            "bc7dcdc6afe44d56a64315bed3c3fde9",
            "808ccc18374e4f20882ebfbc0fd4a1c5",
            "36582223599c407894a8669cabb03426",
            "5d8462c7b7454e9abb2dfe50fadfd907",
            "54ea30ebb62d499db8da4c8011fe28f8",
            "5d5bc42b539a472aa9dfd9320d056a77",
            "dd41b38cabb74cc4b42884a8851c88ea",
            "f3844a8586dd41dbb7c11d859bfa46a7",
            "6d03726060174d34a5d69c5f67a3aa2b",
            "3970a40585274ba6bbc8952fc424379d",
            "e4b2be8efb3d4238bba5b8c127996048",
            "665447b0cdd64f859929812494763171",
            "96f22484ecc248e682fc3e06c765b6d4",
            "ceb6758449f647d48865a75100766d5b",
            "d7a292aef08a43f09044c906deb38aa9",
            "c800a3d7cb6f4c389109310afa614661",
            "fdfddbd2792b4278984bab2d1bc7c837",
            "b6625a0fad0140939388f2f6641ee5b2",
            "11d0a2c939954741ac2ddd9dc41fed73",
            "d472cff3f2fe4b19ae64c4222f3d7c1d",
            "7afc0738f67948e0b2a73e6189ffa427",
            "e3a5823c4f84478fa48b44aa59b58673",
            "67f8503b25b840d290f5d9cc51835156",
            "6933f273d3a9480880944c30df46b7a5",
            "1a9546ec96194c989c9c1fac09f0cbc2",
            "5bdd1e635166432abffd8ce6ee747b6c",
            "e00aba3b9b4c44868f809510477a849e",
            "1cf23ebe6d484e19b208a1c8b7ff41ff",
            "0976ad2dc99d483988aea7cfc8ffbe74",
            "29a0e5456a6640f49cd4038c3baad43d",
            "d771f0c93ba141f2b8d15bfd069426f8",
            "6cc046c11426477ab5d615a2a0c2de84"
          ]
        },
        "id": "c065c2b3",
        "outputId": "94394d45-6eeb-4e83-a869-c0e36ab7bc55"
      },
      "outputs": [
        {
          "output_type": "display_data",
          "data": {
            "text/plain": [
              "Map:   0%|          | 0/6000 [00:00<?, ? examples/s]"
            ],
            "application/vnd.jupyter.widget-view+json": {
              "version_major": 2,
              "version_minor": 0,
              "model_id": "2cb9f2b0d3994f2aa42c0a2ed804fc91"
            }
          },
          "metadata": {}
        },
        {
          "output_type": "display_data",
          "data": {
            "text/plain": [
              "Map:   0%|          | 0/1350 [00:00<?, ? examples/s]"
            ],
            "application/vnd.jupyter.widget-view+json": {
              "version_major": 2,
              "version_minor": 0,
              "model_id": "e4b2be8efb3d4238bba5b8c127996048"
            }
          },
          "metadata": {}
        },
        {
          "output_type": "display_data",
          "data": {
            "text/plain": [
              "Map:   0%|          | 0/150 [00:00<?, ? examples/s]"
            ],
            "application/vnd.jupyter.widget-view+json": {
              "version_major": 2,
              "version_minor": 0,
              "model_id": "e3a5823c4f84478fa48b44aa59b58673"
            }
          },
          "metadata": {}
        }
      ],
      "source": [
        "def tokenize_function(text):\n",
        "    return tokenizer(text[\"text\"], padding='max_length', max_length=256)\n",
        "\n",
        "tokenized_datasets = dataset.map(tokenize_function, batched=True)"
      ]
    },
    {
      "cell_type": "code",
      "execution_count": 17,
      "id": "6d94d147",
      "metadata": {
        "id": "6d94d147"
      },
      "outputs": [],
      "source": [
        "train_dataset = tokenized_datasets[\"train\"]\n",
        "eval_dataset = tokenized_datasets[\"eval\"]"
      ]
    },
    {
      "cell_type": "markdown",
      "id": "66183e9b",
      "metadata": {
        "id": "66183e9b"
      },
      "source": [
        "### **Train Model**"
      ]
    },
    {
      "cell_type": "code",
      "execution_count": 18,
      "id": "85047d27",
      "metadata": {
        "colab": {
          "base_uri": "https://localhost:8080/",
          "height": 36
        },
        "id": "85047d27",
        "outputId": "736018d5-1387-4794-c6c9-54a95a24ba3c"
      },
      "outputs": [
        {
          "output_type": "execute_result",
          "data": {
            "text/plain": [
              "'cuda:0'"
            ],
            "application/vnd.google.colaboratory.intrinsic+json": {
              "type": "string"
            }
          },
          "metadata": {},
          "execution_count": 18
        }
      ],
      "source": [
        "import torch\n",
        "torch.cuda.empty_cache()\n",
        "\n",
        "device = \"cuda:0\" if torch.cuda.is_available() else \"cpu\"\n",
        "device"
      ]
    },
    {
      "cell_type": "code",
      "execution_count": 19,
      "id": "37ae2ec7",
      "metadata": {
        "colab": {
          "base_uri": "https://localhost:8080/",
          "height": 49,
          "referenced_widgets": [
            "1a6819e231fe45e4b0298223ebcedabb",
            "e31e76d5893e4bbdab00c9221dec979d",
            "cd776bc7c0e844a18e1fb8aabf1ff6fb",
            "ae6126ac7cad4acc98c1eeb83d4a87be",
            "b25204357d114c1884ba16493d970cfd",
            "d17eb0df30374ebeb2690cbdfc478c4c",
            "85cb36b4e73047ed84be32a8a456bd2a",
            "d8e04fc8b0a542b2b7296d475758bf10",
            "3ed149bf364f41fbb247481b4d05ff4f",
            "7987bd1b2a1e4d559f55da9015a0dcac",
            "9437f3fc5f0a4172b4e910287f792405"
          ]
        },
        "id": "37ae2ec7",
        "outputId": "5123a876-0938-472d-a81d-c1ef405d26a4"
      },
      "outputs": [
        {
          "output_type": "display_data",
          "data": {
            "text/plain": [
              "pytorch_model.bin:   0%|          | 0.00/498M [00:00<?, ?B/s]"
            ],
            "application/vnd.jupyter.widget-view+json": {
              "version_major": 2,
              "version_minor": 0,
              "model_id": "1a6819e231fe45e4b0298223ebcedabb"
            }
          },
          "metadata": {}
        }
      ],
      "source": [
        "model = AutoModelForSequenceClassification.from_pretrained(\"indobenchmark/indobert-base-p2\", num_labels=3)"
      ]
    },
    {
      "cell_type": "code",
      "execution_count": 20,
      "id": "b8f5b92c",
      "metadata": {
        "id": "b8f5b92c"
      },
      "outputs": [],
      "source": [
        "from transformers import TrainingArguments\n",
        "\n",
        "training_args = TrainingArguments(\n",
        "    \"trainer_sentiboard_indobert_bs24_ml256\",\n",
        "    eval_strategy=\"steps\",\n",
        "    per_device_train_batch_size=24,\n",
        "    log_level='info',\n",
        "    logging_dir='./logs',             # Directory for logging\n",
        "    logging_steps=50,                 # Log every 50 steps\n",
        "    save_steps=100                    # Save checkpoint every 100 steps\n",
        ")"
      ]
    },
    {
      "cell_type": "code",
      "source": [
        "# Initialize an empty list to store the results\n",
        "metric_result = []\n",
        "\n",
        "# Define the compute metrics function\n",
        "def compute_metrics(eval_pred):\n",
        "    metrics = [\"accuracy\", \"recall\", \"precision\", \"f1\"]\n",
        "    metric = {met: evaluate.load(met) for met in metrics}\n",
        "    logits, labels = eval_pred\n",
        "    predictions = np.argmax(logits, axis=-1)\n",
        "\n",
        "    metric_res = {}\n",
        "    for met in metrics:\n",
        "        if met == 'accuracy':\n",
        "            metric_res[met] = metric[met].compute(predictions=predictions, references=labels)[met]\n",
        "        else:\n",
        "            metric_res[met] = metric[met].compute(predictions=predictions, references=labels, average=\"weighted\")[met]\n",
        "\n",
        "    metric_result.append(metric_res)\n",
        "    return metric_res"
      ],
      "metadata": {
        "id": "ftme33msTQA-"
      },
      "id": "ftme33msTQA-",
      "execution_count": 21,
      "outputs": []
    },
    {
      "cell_type": "code",
      "execution_count": 22,
      "id": "bcd6d792",
      "metadata": {
        "id": "bcd6d792",
        "outputId": "c7ad55bf-ab68-4bc5-f822-3c04b6f3009d",
        "colab": {
          "base_uri": "https://localhost:8080/",
          "height": 1000,
          "referenced_widgets": [
            "5ada5f451e744c90b8158af47c16bac4",
            "000c4938fc994589987f6e3aeee746e3",
            "2ec6fe0e714c4572b6912425d8eb45c9",
            "c16fefc1be1d476a8298502147b1e052",
            "6a112951ece4416582d751b0b3b2e6d1",
            "b76a643e314a4197a9bdf83626f78e68",
            "26a4efc8ed974c2797036080c3cbbbc1",
            "093bee0c86b843e382ba947bdfcaf4c6",
            "c61360c1bc8c4df2928467bbba4a7c4c",
            "e595d0475729492bb8371043633fe89d",
            "0fd1961a39aa4651aa34cb0544a180ae",
            "0e2515bd438841c2be76892071ba5e14",
            "bd2ea1110bbe4713b187bee2ce3c640b",
            "96a1a196bd88409f945c54d9d8de7be3",
            "cb212abe06104cf69bae04d24cd238c5",
            "a8a07d04526e40f5945ee2c4231d7bdd",
            "f7a69bb56c6a4091815bb02e773cf2fa",
            "630b81551cb241c996e72dffda101a20",
            "aad8cea7308641948f941987399c1dea",
            "7ac8867e796c4f149f27b6306169748a",
            "dd6275a505db49a8aafae63e07781dd0",
            "95dfcb121c384dadb6805d6090d850e4",
            "c81d8edfbb0f403ab65de4bc5a0acfd0",
            "4740873b9fc4453c8b7b65d85177ef14",
            "55c627876987425c856851862dda390c",
            "6521988f7a02493a99b3a5d0becbe1a5",
            "6336bfc5a03743e190500857456feef9",
            "adbc7dcbc0fb455d98251fadad901314",
            "a0ef533dab584c81b846f7ca678a50e9",
            "b0d5866f01c04abdbdd231d4ade5c86c",
            "1b7130e2491e4ffbacb1a01e2004df5b",
            "c5bd9b20b9e24bc68dc2b8f929f64e0c",
            "d835c88d6f214599bd122954a95c7b24",
            "e6455b41730045dd86aff86a6cea6c7b",
            "e66f47a88e9641578a25880347e6bd47",
            "0e5d9f3ea644435786122066b2a2c25c",
            "1f4374974f6f41e0a00379d231c6df10",
            "38294135ce5545f0a13ef6f0debe49b6",
            "27d732c5d9a04499a0d69704217973ae",
            "03d76032345c4522a0d4401511e820fd",
            "e4f08b69044c42c88bb1a7c92a85dbe7",
            "44b9ccb19503468eabb522999898f9a9",
            "20dba511d1b74ec6a0c2b77a59e2b766",
            "4aba95d3f3874df98953ac1396ff0559",
            "856fd216fdc04c0aa800b0ea124ff6ef",
            "7435a3a15c2e4262b967738042015323",
            "2c6f80bd819f402f9f63c794e5d35e1d",
            "e4bb2ccd761d4ed2b032f718eab115a0",
            "a1a73d5c18a9475fbd2abed1d49b7030",
            "10bd07e0e6964e5599a2c5d581c63e8b",
            "9d8939af652149d89d902395bcb9eb79",
            "2006c02e2aef4340adb2a71eb0ee4ee2",
            "c640a43ac7564e5e8f91c875ac1abee1",
            "4ec0cbcdcb774f9196cea5655d3bb2b0",
            "09a90c100b7148bb8d92fa3092ba1464"
          ]
        }
      },
      "outputs": [
        {
          "output_type": "stream",
          "name": "stderr",
          "text": [
            "Safetensors PR exists\n",
            "The following columns in the Training set don't have a corresponding argument in `BertForSequenceClassification.forward` and have been ignored: text. If text are not expected by `BertForSequenceClassification.forward`,  you can safely ignore this message.\n"
          ]
        },
        {
          "output_type": "display_data",
          "data": {
            "text/plain": [
              "model.safetensors:   0%|          | 0.00/498M [00:00<?, ?B/s]"
            ],
            "application/vnd.jupyter.widget-view+json": {
              "version_major": 2,
              "version_minor": 0,
              "model_id": "5ada5f451e744c90b8158af47c16bac4"
            }
          },
          "metadata": {}
        },
        {
          "output_type": "stream",
          "name": "stderr",
          "text": [
            "***** Running training *****\n",
            "  Num examples = 6,000\n",
            "  Num Epochs = 3\n",
            "  Instantaneous batch size per device = 24\n",
            "  Total train batch size (w. parallel, distributed & accumulation) = 24\n",
            "  Gradient Accumulation steps = 1\n",
            "  Total optimization steps = 750\n",
            "  Number of trainable parameters = 124,443,651\n",
            "Automatic Weights & Biases logging enabled, to disable set os.environ[\"WANDB_DISABLED\"] = \"true\"\n",
            "\u001b[34m\u001b[1mwandb\u001b[0m: \u001b[33mWARNING\u001b[0m The `run_name` is currently set to the same value as `TrainingArguments.output_dir`. If this was not intended, please specify a different run name by setting the `TrainingArguments.run_name` parameter.\n"
          ]
        },
        {
          "output_type": "display_data",
          "data": {
            "text/plain": [
              "<IPython.core.display.Javascript object>"
            ],
            "application/javascript": [
              "\n",
              "        window._wandbApiKey = new Promise((resolve, reject) => {\n",
              "            function loadScript(url) {\n",
              "            return new Promise(function(resolve, reject) {\n",
              "                let newScript = document.createElement(\"script\");\n",
              "                newScript.onerror = reject;\n",
              "                newScript.onload = resolve;\n",
              "                document.body.appendChild(newScript);\n",
              "                newScript.src = url;\n",
              "            });\n",
              "            }\n",
              "            loadScript(\"https://cdn.jsdelivr.net/npm/postmate/build/postmate.min.js\").then(() => {\n",
              "            const iframe = document.createElement('iframe')\n",
              "            iframe.style.cssText = \"width:0;height:0;border:none\"\n",
              "            document.body.appendChild(iframe)\n",
              "            const handshake = new Postmate({\n",
              "                container: iframe,\n",
              "                url: 'https://wandb.ai/authorize'\n",
              "            });\n",
              "            const timeout = setTimeout(() => reject(\"Couldn't auto authenticate\"), 5000)\n",
              "            handshake.then(function(child) {\n",
              "                child.on('authorize', data => {\n",
              "                    clearTimeout(timeout)\n",
              "                    resolve(data)\n",
              "                });\n",
              "            });\n",
              "            })\n",
              "        });\n",
              "    "
            ]
          },
          "metadata": {}
        },
        {
          "output_type": "stream",
          "name": "stderr",
          "text": [
            "\u001b[34m\u001b[1mwandb\u001b[0m: Logging into wandb.ai. (Learn how to deploy a W&B server locally: https://wandb.me/wandb-server)\n",
            "\u001b[34m\u001b[1mwandb\u001b[0m: You can find your API key in your browser here: https://wandb.ai/authorize?ref=models\n",
            "wandb: Paste an API key from your profile and hit enter:"
          ]
        },
        {
          "name": "stdout",
          "output_type": "stream",
          "text": [
            " ··········\n"
          ]
        },
        {
          "output_type": "stream",
          "name": "stderr",
          "text": [
            "\u001b[34m\u001b[1mwandb\u001b[0m: \u001b[33mWARNING\u001b[0m If you're specifying your api key in code, ensure this code is not shared publicly.\n",
            "\u001b[34m\u001b[1mwandb\u001b[0m: \u001b[33mWARNING\u001b[0m Consider setting the WANDB_API_KEY environment variable, or running `wandb login` from the command line.\n",
            "\u001b[34m\u001b[1mwandb\u001b[0m: No netrc file found, creating one.\n",
            "\u001b[34m\u001b[1mwandb\u001b[0m: Appending key for api.wandb.ai to your netrc file: /root/.netrc\n",
            "\u001b[34m\u001b[1mwandb\u001b[0m: Currently logged in as: \u001b[33mkurniadiahmadwijaya\u001b[0m (\u001b[33mkurniadiahmadwijaya-bank-btpn\u001b[0m) to \u001b[32mhttps://api.wandb.ai\u001b[0m. Use \u001b[1m`wandb login --relogin`\u001b[0m to force relogin\n"
          ]
        },
        {
          "output_type": "display_data",
          "data": {
            "text/plain": [
              "<IPython.core.display.HTML object>"
            ],
            "text/html": [
              "Tracking run with wandb version 0.19.11"
            ]
          },
          "metadata": {}
        },
        {
          "output_type": "display_data",
          "data": {
            "text/plain": [
              "<IPython.core.display.HTML object>"
            ],
            "text/html": [
              "Run data is saved locally in <code>/content/wandb/run-20250603_105050-a05qudaa</code>"
            ]
          },
          "metadata": {}
        },
        {
          "output_type": "display_data",
          "data": {
            "text/plain": [
              "<IPython.core.display.HTML object>"
            ],
            "text/html": [
              "Syncing run <strong><a href='https://wandb.ai/kurniadiahmadwijaya-bank-btpn/huggingface/runs/a05qudaa' target=\"_blank\">trainer_sentiboard_indobert_bs24_ml256</a></strong> to <a href='https://wandb.ai/kurniadiahmadwijaya-bank-btpn/huggingface' target=\"_blank\">Weights & Biases</a> (<a href='https://wandb.me/developer-guide' target=\"_blank\">docs</a>)<br>"
            ]
          },
          "metadata": {}
        },
        {
          "output_type": "display_data",
          "data": {
            "text/plain": [
              "<IPython.core.display.HTML object>"
            ],
            "text/html": [
              " View project at <a href='https://wandb.ai/kurniadiahmadwijaya-bank-btpn/huggingface' target=\"_blank\">https://wandb.ai/kurniadiahmadwijaya-bank-btpn/huggingface</a>"
            ]
          },
          "metadata": {}
        },
        {
          "output_type": "display_data",
          "data": {
            "text/plain": [
              "<IPython.core.display.HTML object>"
            ],
            "text/html": [
              " View run at <a href='https://wandb.ai/kurniadiahmadwijaya-bank-btpn/huggingface/runs/a05qudaa' target=\"_blank\">https://wandb.ai/kurniadiahmadwijaya-bank-btpn/huggingface/runs/a05qudaa</a>"
            ]
          },
          "metadata": {}
        },
        {
          "output_type": "stream",
          "name": "stderr",
          "text": [
            "The following columns in the Evaluation set don't have a corresponding argument in `BertForSequenceClassification.forward` and have been ignored: text. If text are not expected by `BertForSequenceClassification.forward`,  you can safely ignore this message.\n",
            "\n",
            "***** Running Evaluation *****\n",
            "  Num examples = 1350\n",
            "  Batch size = 8\n"
          ]
        },
        {
          "output_type": "stream",
          "name": "stdout",
          "text": [
            "{'loss': 0.6499, 'grad_norm': 8.413052558898926, 'learning_rate': 4.6733333333333335e-05, 'epoch': 0.2}\n"
          ]
        },
        {
          "output_type": "display_data",
          "data": {
            "text/plain": [
              "Downloading builder script:   0%|          | 0.00/4.20k [00:00<?, ?B/s]"
            ],
            "application/vnd.jupyter.widget-view+json": {
              "version_major": 2,
              "version_minor": 0,
              "model_id": "0e2515bd438841c2be76892071ba5e14"
            }
          },
          "metadata": {}
        },
        {
          "output_type": "display_data",
          "data": {
            "text/plain": [
              "Downloading builder script:   0%|          | 0.00/7.38k [00:00<?, ?B/s]"
            ],
            "application/vnd.jupyter.widget-view+json": {
              "version_major": 2,
              "version_minor": 0,
              "model_id": "c81d8edfbb0f403ab65de4bc5a0acfd0"
            }
          },
          "metadata": {}
        },
        {
          "output_type": "display_data",
          "data": {
            "text/plain": [
              "Downloading builder script:   0%|          | 0.00/7.56k [00:00<?, ?B/s]"
            ],
            "application/vnd.jupyter.widget-view+json": {
              "version_major": 2,
              "version_minor": 0,
              "model_id": "e6455b41730045dd86aff86a6cea6c7b"
            }
          },
          "metadata": {}
        },
        {
          "output_type": "display_data",
          "data": {
            "text/plain": [
              "Downloading builder script:   0%|          | 0.00/6.79k [00:00<?, ?B/s]"
            ],
            "application/vnd.jupyter.widget-view+json": {
              "version_major": 2,
              "version_minor": 0,
              "model_id": "856fd216fdc04c0aa800b0ea124ff6ef"
            }
          },
          "metadata": {}
        },
        {
          "output_type": "stream",
          "name": "stdout",
          "text": [
            "{'eval_loss': 0.6296156048774719, 'eval_accuracy': 0.7896296296296297, 'eval_recall': 0.7896296296296297, 'eval_precision': 0.811743938119766, 'eval_f1': 0.7859991391277638, 'eval_runtime': 26.4474, 'eval_samples_per_second': 51.045, 'eval_steps_per_second': 6.39, 'epoch': 0.2}\n"
          ]
        },
        {
          "output_type": "stream",
          "name": "stderr",
          "text": [
            "The following columns in the Evaluation set don't have a corresponding argument in `BertForSequenceClassification.forward` and have been ignored: text. If text are not expected by `BertForSequenceClassification.forward`,  you can safely ignore this message.\n",
            "\n",
            "***** Running Evaluation *****\n",
            "  Num examples = 1350\n",
            "  Batch size = 8\n"
          ]
        },
        {
          "output_type": "stream",
          "name": "stdout",
          "text": [
            "{'loss': 0.4814, 'grad_norm': 10.660346031188965, 'learning_rate': 4.3400000000000005e-05, 'epoch': 0.4}\n"
          ]
        },
        {
          "output_type": "stream",
          "name": "stderr",
          "text": [
            "Saving model checkpoint to trainer_sentiboard_indobert_bs24_ml256/checkpoint-100\n",
            "Configuration saved in trainer_sentiboard_indobert_bs24_ml256/checkpoint-100/config.json\n"
          ]
        },
        {
          "output_type": "stream",
          "name": "stdout",
          "text": [
            "{'eval_loss': 0.4854692816734314, 'eval_accuracy': 0.8422222222222222, 'eval_recall': 0.8422222222222222, 'eval_precision': 0.8458598307016156, 'eval_f1': 0.840510242976457, 'eval_runtime': 24.825, 'eval_samples_per_second': 54.381, 'eval_steps_per_second': 6.808, 'epoch': 0.4}\n"
          ]
        },
        {
          "output_type": "stream",
          "name": "stderr",
          "text": [
            "Model weights saved in trainer_sentiboard_indobert_bs24_ml256/checkpoint-100/model.safetensors\n",
            "The following columns in the Evaluation set don't have a corresponding argument in `BertForSequenceClassification.forward` and have been ignored: text. If text are not expected by `BertForSequenceClassification.forward`,  you can safely ignore this message.\n",
            "\n",
            "***** Running Evaluation *****\n",
            "  Num examples = 1350\n",
            "  Batch size = 8\n"
          ]
        },
        {
          "output_type": "stream",
          "name": "stdout",
          "text": [
            "{'loss': 0.4277, 'grad_norm': 6.037622928619385, 'learning_rate': 4.006666666666667e-05, 'epoch': 0.6}\n",
            "{'eval_loss': 0.4339514970779419, 'eval_accuracy': 0.8451851851851852, 'eval_recall': 0.8451851851851852, 'eval_precision': 0.8501164649546216, 'eval_f1': 0.8432073813241053, 'eval_runtime': 24.8251, 'eval_samples_per_second': 54.38, 'eval_steps_per_second': 6.808, 'epoch': 0.6}\n"
          ]
        },
        {
          "output_type": "stream",
          "name": "stderr",
          "text": [
            "The following columns in the Evaluation set don't have a corresponding argument in `BertForSequenceClassification.forward` and have been ignored: text. If text are not expected by `BertForSequenceClassification.forward`,  you can safely ignore this message.\n",
            "\n",
            "***** Running Evaluation *****\n",
            "  Num examples = 1350\n",
            "  Batch size = 8\n"
          ]
        },
        {
          "output_type": "stream",
          "name": "stdout",
          "text": [
            "{'loss': 0.3788, 'grad_norm': 7.666097164154053, 'learning_rate': 3.6733333333333336e-05, 'epoch': 0.8}\n"
          ]
        },
        {
          "output_type": "stream",
          "name": "stderr",
          "text": [
            "Saving model checkpoint to trainer_sentiboard_indobert_bs24_ml256/checkpoint-200\n",
            "Configuration saved in trainer_sentiboard_indobert_bs24_ml256/checkpoint-200/config.json\n"
          ]
        },
        {
          "output_type": "stream",
          "name": "stdout",
          "text": [
            "{'eval_loss': 0.3690524697303772, 'eval_accuracy': 0.8562962962962963, 'eval_recall': 0.8562962962962963, 'eval_precision': 0.8566347448936598, 'eval_f1': 0.8545277570723254, 'eval_runtime': 24.9757, 'eval_samples_per_second': 54.053, 'eval_steps_per_second': 6.767, 'epoch': 0.8}\n"
          ]
        },
        {
          "output_type": "stream",
          "name": "stderr",
          "text": [
            "Model weights saved in trainer_sentiboard_indobert_bs24_ml256/checkpoint-200/model.safetensors\n",
            "The following columns in the Evaluation set don't have a corresponding argument in `BertForSequenceClassification.forward` and have been ignored: text. If text are not expected by `BertForSequenceClassification.forward`,  you can safely ignore this message.\n",
            "\n",
            "***** Running Evaluation *****\n",
            "  Num examples = 1350\n",
            "  Batch size = 8\n"
          ]
        },
        {
          "output_type": "stream",
          "name": "stdout",
          "text": [
            "{'loss': 0.3675, 'grad_norm': 12.404662132263184, 'learning_rate': 3.3400000000000005e-05, 'epoch': 1.0}\n",
            "{'eval_loss': 0.4483318328857422, 'eval_accuracy': 0.8518518518518519, 'eval_recall': 0.8518518518518519, 'eval_precision': 0.8700979420979421, 'eval_f1': 0.8533746362034713, 'eval_runtime': 24.7257, 'eval_samples_per_second': 54.599, 'eval_steps_per_second': 6.835, 'epoch': 1.0}\n"
          ]
        },
        {
          "output_type": "stream",
          "name": "stderr",
          "text": [
            "The following columns in the Evaluation set don't have a corresponding argument in `BertForSequenceClassification.forward` and have been ignored: text. If text are not expected by `BertForSequenceClassification.forward`,  you can safely ignore this message.\n",
            "\n",
            "***** Running Evaluation *****\n",
            "  Num examples = 1350\n",
            "  Batch size = 8\n"
          ]
        },
        {
          "output_type": "stream",
          "name": "stdout",
          "text": [
            "{'loss': 0.2573, 'grad_norm': 8.951796531677246, 'learning_rate': 3.006666666666667e-05, 'epoch': 1.2}\n"
          ]
        },
        {
          "output_type": "stream",
          "name": "stderr",
          "text": [
            "Saving model checkpoint to trainer_sentiboard_indobert_bs24_ml256/checkpoint-300\n",
            "Configuration saved in trainer_sentiboard_indobert_bs24_ml256/checkpoint-300/config.json\n"
          ]
        },
        {
          "output_type": "stream",
          "name": "stdout",
          "text": [
            "{'eval_loss': 0.44092443585395813, 'eval_accuracy': 0.837037037037037, 'eval_recall': 0.837037037037037, 'eval_precision': 0.8472263523090136, 'eval_f1': 0.8335229022727744, 'eval_runtime': 24.9067, 'eval_samples_per_second': 54.202, 'eval_steps_per_second': 6.785, 'epoch': 1.2}\n"
          ]
        },
        {
          "output_type": "stream",
          "name": "stderr",
          "text": [
            "Model weights saved in trainer_sentiboard_indobert_bs24_ml256/checkpoint-300/model.safetensors\n",
            "The following columns in the Evaluation set don't have a corresponding argument in `BertForSequenceClassification.forward` and have been ignored: text. If text are not expected by `BertForSequenceClassification.forward`,  you can safely ignore this message.\n",
            "\n",
            "***** Running Evaluation *****\n",
            "  Num examples = 1350\n",
            "  Batch size = 8\n"
          ]
        },
        {
          "output_type": "stream",
          "name": "stdout",
          "text": [
            "{'loss': 0.2755, 'grad_norm': 2.7205350399017334, 'learning_rate': 2.6733333333333334e-05, 'epoch': 1.4}\n",
            "{'eval_loss': 0.3284936547279358, 'eval_accuracy': 0.8888888888888888, 'eval_recall': 0.8888888888888888, 'eval_precision': 0.8883862520763535, 'eval_f1': 0.8882945375271531, 'eval_runtime': 24.8989, 'eval_samples_per_second': 54.219, 'eval_steps_per_second': 6.787, 'epoch': 1.4}\n"
          ]
        },
        {
          "output_type": "stream",
          "name": "stderr",
          "text": [
            "The following columns in the Evaluation set don't have a corresponding argument in `BertForSequenceClassification.forward` and have been ignored: text. If text are not expected by `BertForSequenceClassification.forward`,  you can safely ignore this message.\n",
            "\n",
            "***** Running Evaluation *****\n",
            "  Num examples = 1350\n",
            "  Batch size = 8\n"
          ]
        },
        {
          "output_type": "stream",
          "name": "stdout",
          "text": [
            "{'loss': 0.2489, 'grad_norm': 5.095343112945557, 'learning_rate': 2.3400000000000003e-05, 'epoch': 1.6}\n"
          ]
        },
        {
          "output_type": "stream",
          "name": "stderr",
          "text": [
            "Saving model checkpoint to trainer_sentiboard_indobert_bs24_ml256/checkpoint-400\n",
            "Configuration saved in trainer_sentiboard_indobert_bs24_ml256/checkpoint-400/config.json\n"
          ]
        },
        {
          "output_type": "stream",
          "name": "stdout",
          "text": [
            "{'eval_loss': 0.336315780878067, 'eval_accuracy': 0.8814814814814815, 'eval_recall': 0.8814814814814815, 'eval_precision': 0.8829201084581147, 'eval_f1': 0.881443471629001, 'eval_runtime': 25.5821, 'eval_samples_per_second': 52.771, 'eval_steps_per_second': 6.606, 'epoch': 1.6}\n"
          ]
        },
        {
          "output_type": "stream",
          "name": "stderr",
          "text": [
            "Model weights saved in trainer_sentiboard_indobert_bs24_ml256/checkpoint-400/model.safetensors\n",
            "The following columns in the Evaluation set don't have a corresponding argument in `BertForSequenceClassification.forward` and have been ignored: text. If text are not expected by `BertForSequenceClassification.forward`,  you can safely ignore this message.\n",
            "\n",
            "***** Running Evaluation *****\n",
            "  Num examples = 1350\n",
            "  Batch size = 8\n"
          ]
        },
        {
          "output_type": "stream",
          "name": "stdout",
          "text": [
            "{'loss': 0.1941, 'grad_norm': 4.711963653564453, 'learning_rate': 2.0066666666666665e-05, 'epoch': 1.8}\n",
            "{'eval_loss': 0.3356584906578064, 'eval_accuracy': 0.8859259259259259, 'eval_recall': 0.8859259259259259, 'eval_precision': 0.8858505716188068, 'eval_f1': 0.8858832194445734, 'eval_runtime': 24.7681, 'eval_samples_per_second': 54.506, 'eval_steps_per_second': 6.823, 'epoch': 1.8}\n"
          ]
        },
        {
          "output_type": "stream",
          "name": "stderr",
          "text": [
            "The following columns in the Evaluation set don't have a corresponding argument in `BertForSequenceClassification.forward` and have been ignored: text. If text are not expected by `BertForSequenceClassification.forward`,  you can safely ignore this message.\n",
            "\n",
            "***** Running Evaluation *****\n",
            "  Num examples = 1350\n",
            "  Batch size = 8\n"
          ]
        },
        {
          "output_type": "stream",
          "name": "stdout",
          "text": [
            "{'loss': 0.2389, 'grad_norm': 8.190475463867188, 'learning_rate': 1.6733333333333335e-05, 'epoch': 2.0}\n"
          ]
        },
        {
          "output_type": "stream",
          "name": "stderr",
          "text": [
            "Saving model checkpoint to trainer_sentiboard_indobert_bs24_ml256/checkpoint-500\n",
            "Configuration saved in trainer_sentiboard_indobert_bs24_ml256/checkpoint-500/config.json\n"
          ]
        },
        {
          "output_type": "stream",
          "name": "stdout",
          "text": [
            "{'eval_loss': 0.3308568298816681, 'eval_accuracy': 0.8925925925925926, 'eval_recall': 0.8925925925925926, 'eval_precision': 0.8941199139870517, 'eval_f1': 0.8919297510686779, 'eval_runtime': 24.947, 'eval_samples_per_second': 54.115, 'eval_steps_per_second': 6.774, 'epoch': 2.0}\n"
          ]
        },
        {
          "output_type": "stream",
          "name": "stderr",
          "text": [
            "Model weights saved in trainer_sentiboard_indobert_bs24_ml256/checkpoint-500/model.safetensors\n",
            "The following columns in the Evaluation set don't have a corresponding argument in `BertForSequenceClassification.forward` and have been ignored: text. If text are not expected by `BertForSequenceClassification.forward`,  you can safely ignore this message.\n",
            "\n",
            "***** Running Evaluation *****\n",
            "  Num examples = 1350\n",
            "  Batch size = 8\n"
          ]
        },
        {
          "output_type": "stream",
          "name": "stdout",
          "text": [
            "{'loss': 0.1465, 'grad_norm': 7.689798831939697, 'learning_rate': 1.3400000000000002e-05, 'epoch': 2.2}\n",
            "{'eval_loss': 0.36768823862075806, 'eval_accuracy': 0.8955555555555555, 'eval_recall': 0.8955555555555555, 'eval_precision': 0.8953525991130368, 'eval_f1': 0.8951745298479258, 'eval_runtime': 25.1545, 'eval_samples_per_second': 53.668, 'eval_steps_per_second': 6.718, 'epoch': 2.2}\n"
          ]
        },
        {
          "output_type": "stream",
          "name": "stderr",
          "text": [
            "The following columns in the Evaluation set don't have a corresponding argument in `BertForSequenceClassification.forward` and have been ignored: text. If text are not expected by `BertForSequenceClassification.forward`,  you can safely ignore this message.\n",
            "\n",
            "***** Running Evaluation *****\n",
            "  Num examples = 1350\n",
            "  Batch size = 8\n"
          ]
        },
        {
          "output_type": "stream",
          "name": "stdout",
          "text": [
            "{'loss': 0.0977, 'grad_norm': 2.9958114624023438, 'learning_rate': 1.0066666666666668e-05, 'epoch': 2.4}\n"
          ]
        },
        {
          "output_type": "stream",
          "name": "stderr",
          "text": [
            "Saving model checkpoint to trainer_sentiboard_indobert_bs24_ml256/checkpoint-600\n",
            "Configuration saved in trainer_sentiboard_indobert_bs24_ml256/checkpoint-600/config.json\n"
          ]
        },
        {
          "output_type": "stream",
          "name": "stdout",
          "text": [
            "{'eval_loss': 0.4008106291294098, 'eval_accuracy': 0.8970370370370371, 'eval_recall': 0.8970370370370371, 'eval_precision': 0.8971822718213285, 'eval_f1': 0.8968504166352017, 'eval_runtime': 25.5184, 'eval_samples_per_second': 52.903, 'eval_steps_per_second': 6.623, 'epoch': 2.4}\n"
          ]
        },
        {
          "output_type": "stream",
          "name": "stderr",
          "text": [
            "Model weights saved in trainer_sentiboard_indobert_bs24_ml256/checkpoint-600/model.safetensors\n",
            "The following columns in the Evaluation set don't have a corresponding argument in `BertForSequenceClassification.forward` and have been ignored: text. If text are not expected by `BertForSequenceClassification.forward`,  you can safely ignore this message.\n",
            "\n",
            "***** Running Evaluation *****\n",
            "  Num examples = 1350\n",
            "  Batch size = 8\n"
          ]
        },
        {
          "output_type": "stream",
          "name": "stdout",
          "text": [
            "{'loss': 0.1381, 'grad_norm': 4.990004062652588, 'learning_rate': 6.733333333333333e-06, 'epoch': 2.6}\n",
            "{'eval_loss': 0.41435909271240234, 'eval_accuracy': 0.8896296296296297, 'eval_recall': 0.8896296296296297, 'eval_precision': 0.8892187900557078, 'eval_f1': 0.8891096218188179, 'eval_runtime': 24.8003, 'eval_samples_per_second': 54.435, 'eval_steps_per_second': 6.814, 'epoch': 2.6}\n"
          ]
        },
        {
          "output_type": "stream",
          "name": "stderr",
          "text": [
            "The following columns in the Evaluation set don't have a corresponding argument in `BertForSequenceClassification.forward` and have been ignored: text. If text are not expected by `BertForSequenceClassification.forward`,  you can safely ignore this message.\n",
            "\n",
            "***** Running Evaluation *****\n",
            "  Num examples = 1350\n",
            "  Batch size = 8\n"
          ]
        },
        {
          "output_type": "stream",
          "name": "stdout",
          "text": [
            "{'loss': 0.146, 'grad_norm': 13.242149353027344, 'learning_rate': 3.4000000000000005e-06, 'epoch': 2.8}\n"
          ]
        },
        {
          "output_type": "stream",
          "name": "stderr",
          "text": [
            "Saving model checkpoint to trainer_sentiboard_indobert_bs24_ml256/checkpoint-700\n",
            "Configuration saved in trainer_sentiboard_indobert_bs24_ml256/checkpoint-700/config.json\n"
          ]
        },
        {
          "output_type": "stream",
          "name": "stdout",
          "text": [
            "{'eval_loss': 0.398567259311676, 'eval_accuracy': 0.882962962962963, 'eval_recall': 0.882962962962963, 'eval_precision': 0.8852131842981517, 'eval_f1': 0.8837800050917226, 'eval_runtime': 25.3398, 'eval_samples_per_second': 53.276, 'eval_steps_per_second': 6.669, 'epoch': 2.8}\n"
          ]
        },
        {
          "output_type": "stream",
          "name": "stderr",
          "text": [
            "Model weights saved in trainer_sentiboard_indobert_bs24_ml256/checkpoint-700/model.safetensors\n",
            "The following columns in the Evaluation set don't have a corresponding argument in `BertForSequenceClassification.forward` and have been ignored: text. If text are not expected by `BertForSequenceClassification.forward`,  you can safely ignore this message.\n",
            "\n",
            "***** Running Evaluation *****\n",
            "  Num examples = 1350\n",
            "  Batch size = 8\n"
          ]
        },
        {
          "output_type": "stream",
          "name": "stdout",
          "text": [
            "{'loss': 0.0961, 'grad_norm': 14.405405044555664, 'learning_rate': 6.666666666666667e-08, 'epoch': 3.0}\n"
          ]
        },
        {
          "output_type": "stream",
          "name": "stderr",
          "text": [
            "Saving model checkpoint to trainer_sentiboard_indobert_bs24_ml256/checkpoint-750\n",
            "Configuration saved in trainer_sentiboard_indobert_bs24_ml256/checkpoint-750/config.json\n"
          ]
        },
        {
          "output_type": "stream",
          "name": "stdout",
          "text": [
            "{'eval_loss': 0.3975439965724945, 'eval_accuracy': 0.8918518518518519, 'eval_recall': 0.8918518518518519, 'eval_precision': 0.8924432001043584, 'eval_f1': 0.8921147665272452, 'eval_runtime': 24.7438, 'eval_samples_per_second': 54.559, 'eval_steps_per_second': 6.83, 'epoch': 3.0}\n"
          ]
        },
        {
          "output_type": "stream",
          "name": "stderr",
          "text": [
            "Model weights saved in trainer_sentiboard_indobert_bs24_ml256/checkpoint-750/model.safetensors\n",
            "\n",
            "\n",
            "Training completed. Do not forget to share your model on huggingface.co/models =)\n",
            "\n",
            "\n"
          ]
        },
        {
          "output_type": "stream",
          "name": "stdout",
          "text": [
            "{'train_runtime': 1433.5813, 'train_samples_per_second': 12.556, 'train_steps_per_second': 0.523, 'train_loss': 0.2762903887430827, 'epoch': 3.0}\n"
          ]
        }
      ],
      "source": [
        "torch.cuda.empty_cache()\n",
        "\n",
        "trainer = Trainer(\n",
        "    model=model,\n",
        "    args=training_args,\n",
        "    train_dataset=train_dataset,\n",
        "    eval_dataset=eval_dataset,\n",
        "    compute_metrics=compute_metrics,\n",
        ")\n",
        "\n",
        "training_history = trainer.train()"
      ]
    },
    {
      "cell_type": "markdown",
      "source": [
        "![image.png](data:image/png;base64,iVBORw0KGgoAAAANSUhEUgAABKQAAAFHCAYAAACfy5RbAAAAAXNSR0IArs4c6QAAAARnQU1BAACxjwv8YQUAAAAJcEhZcwAADsMAAA7DAcdvqGQAAOICSURBVHhe7N13eFvl9cDxryQvSd7bcfYmITuQkEVCBmE0jBJKmaX8oECBlraU0pYCHVCglDLKCKthQ9gQQgZkh2zHzrKTOE685Sl5aFnj94ctId3Ie9vn8zz3Ue773qUr51776LznqtxutxshhBBCCCGEEEIIIbqIWtkghBBCCCGEEEIIIURnkoCUEEIIIYQQQgghhOhSEpASQgghhBBCCCGEEF1KAlJCCCGEEEIIIYQQoktJQEoIIYQQQgghhBBCdClVU0/ZW/F9GWazmaWpZurq6pTdQggh+png4GDi4uKIjo6mqKiI6upqXC6XcjEhhBD9iEqlQq/Xk5iYiFarxWw2U1JSgtlspok/NYQQQvQDGo2G6OhoYmNjCQ0NRaVSefuaDEj959tc7HY7v7pgEKGhocpuIYQQ/YzNZqOoqAiHw0FkZCRxcXFoNBrlYkIIIfoRt9uNyWSisLCQpKQkzGYzERERREZGolbLgAwhhOjP6urqKC0tpa6ujpSUFEJCQrx9TQakMjMzGTZsmASjhBBCeNXW1lJcXMyIESOUXUIIIfopt9tNaWkpbrcblUpFYmKichEhhBD9lNVqxWQyER0d7RdfavIri7q6OglGCSGE8BMcHExwcLCyWQghRD/n+dZbMmeFEEL4UqvVATNmz2wRQgghhBBCCCGEEKITSUBKCCGEEEIIIYQQQnQpCUgJIYQQQgghhBBCiC4lASkhhBBCCCGEEEII0aUkICWEEEIIIYQQQgghupQEpIQQQgghhBBCCCFEl5KAlBBCCCGEEEIIIYToUhKQEkIIIYQQQgghhBBdSgJSQgghhBBCCCGEEKJLSUBKCCGEEEIIIYQQQnQpCUgJIYQQQgghhBBCiC4lASkhhBBCCCGEEEII0aUkICWEEEIIIYQQQgghupQEpIQQQgghhBBCCCFEl5KAlBBCCCGEEEIIIYToUhKQEkIIIYQQQgghhBBdSgJSQgghhBBCCCGEEKJLSUBKCCGEEEIIIYQQQnQpCUgJIYQQQgghhBBCiC4lASkhhBBCCCGEEEII0aUkICWEEEIIIYQQQgghupQEpIQQQgghhBBCCCFEl5KAlBBCCCGEEEIIIYToUhKQEkIIIYQQQgghhBBdSgJSQgghhBBCCCGEEKJLSUBKCCGEEEIIIYQQQnQpCUgJIYQQQgghhBBCiC4lASkhhBBCCCGEEEII0aUkICWEEEIIIYQQQgghupQEpIQQQgghhBBCCCFEl5KAlBBCCCGEEEIIIYToUhKQEkIIIYQQQgghhBBdSgJSQgghhBBCCCGEEKJLSUBKCCGEEEIIIYQQQnQpCUgJIYQQQgghhBBCiC4lASkhhBBCCCGEEEII0aUkICWEEEIIIYQQQrTRyZwcHv7bP/jjgw9RVFSk7BZCNEICUqJfyszKYtHSS/jlPb/GbLEouztNWXk5P776p8yYPY+33nlX2S2EEKKFnE4n+9MOsPDCi5kxe94Z0/xFF/L9zl3K1Zrl2e7SSy/jiX/9W9ndLLfbTXlFBXfcdQ83/OwWyisqlIsIIYToYiUlJfzn2efOuFdcefU1fPb5l8rFO5TNZuOrr9dw/U038/r/3sRutysXEaLfkoCU6DF8gzXKadHSS8jMylKu0qP99e+P8uOrf0pZebm3zWw2Ex4eDsDQIUN8lhZCCNEaGo2GqVMm8+3ar9m++Tv+9vBfCA0N5Te/vodd27ewacNazps5Q7las9xuN2VlZVRVVVFSWorFalUuIoQQopcaO2Y0/37ycXZt38Ku7Vv45MP3ufyyHykXE0J0EQlICdEJzBYLhpISZTODBw1i5euvsGv7FubOma3sFkII0c2CgoJYsngRO7Zs5F+PP4Y2LEy5iBBCCCGE6AASkBI9zsDUVFZ/8an3m4td27ew4ZvVjB0zRrmoEEII0Si73c4bK9/k17+9j8+++JLz5s7nhp/dQkFhIQ8+9Ig3C3fO/IXe4Xlut5vcvDyu/un1PPGvf3uH4P3qN79j5Vtve9fzXae1HA4H69Zv8O5/3gWL+WDVR95+u93Oq6+/EbDfarX6HXtbhyYKIYSo5xlS9+Orf8qTTz1NdU0NABkZB/nlPb/mjw8+RGZWFm++/Q7nL1zivQd0ZL0o5ZDCm37+f2zf8b23/2RODn/6y8MB+zMyDnLbHXd5++68+9dkHTvus3Uhei4JSIlew2yx8Mt7fs2MAPWX3nrnXWbMnsdf//4oBBj+15Ihf1u3bWfG7Hl+daU8+1Su39T2t27bzoJFF7J3337yCwq4ZNkVzJg9j63btje6PXzeg2dSvkfP8b31zrt+ywbalhBCiHpOp5Pvd+7iscefRKVSkZAQR0FhIWqNhk3frmPrxg387Mbr+fqbtU0Gdmw2G2+sfIuLL1rK1o0buPmmG9i2YwfHT5xQLtokh8PBdxs38ffHHuc3v76H7Zu/488P3M9/X3yZD1Z9hNPp5NDhI3zy2Rf85tf38P3WTax8/RV0Oh3VNTVs2bqNrdt38J+nnmTHlo288Ox//IaGCyGEaJ3Q0FDGnTWWsWPHkHPqNIWFRdhsNnLz8wkODuaSi5Zit9mxWqysePG/bPluPX/4/e/Izc1lzdr17a4JVVJSwrvvf0DagXT+/eTjfPnpR0yZPIkVr77G9h3fY6qqYtv2HZSVlfHvJx/nu3Vr+PU9d6MJCiIvv4DvNm0iKCiIN994jfVrvuKmG66jurpauRsheiQJSIleQ6fVcs3VywHYuWu3XzHynJxTREREcPXyH/PWO+9yybIryC8o8PZXV1fzpwcf7pBf2jt6+54g1fMvvOTX/vwLL3kDbMp232Wrq6t57r8vdmlxdiGE6C1UKhVJSYm8vfJ1dmzZyL+ffIJzp0/nkb/8GW1YWEMtqinodDpy8/KUq3tpNBqmT5vK5MmTUKvVDBo4kKqqasrKWn7dd7vdmKqq+PTzLxgyeDCLFl6ARqNh2rSpjB93Fl+tXkNZeTllZWUYjUb27N2HzW5n2NCh/OiSiwkNCSE3Lw+Hw8HWbdvRaDSMG3cWP7rkYuWuhBBCBJCZdYzf3Hc/M2bPY8Hipd6MqNQBAzhv5gxCQoIpKyvDZDJx6tRpdDodw4cNZeLECdx26y2MGT2K0NBQBg8cSEJ8POXl5djaEZByOJ1kHT9OxsHDnD1+PBMnTiA2Lo5p06ai0QSx4/udlJWVUVFRQV5+PlnHjhMcHMyUyZOYee451NXZKS0rp9hQzNGjmURGRjLj3HOYPm2qcldC9EgSkBI9jm9WkWfaum07AGedNZaBqakUFxswm83QkK2UnnGQMaNHMXjwYH585RVcctFS77C/jRvWMn3aVPILCjh6NFOxt9Zrbvtz58xm9RefMjA11W/4YWM1o/bt28/effv9ll35+itERESwZdv2gNlPd915u99yWceOk5ubq1xMCCFEAJ5heLf/8m5mzVvAHXfdQ1VVFadPd811VK1Wk5SUiE6nQ6VSodfpSIiPx1RloqqqioUXLOD5Z54m7UA6CxZdyLIrr+L4iROEhITwsxtv4C9/eoCPP/3MOwRRnuQnhBAt41vUfOP6b7jvt/cSER7uDTLptFqyjh3ndF4ehYWFjBwxgri4OFAMq7v1jl+yZ99+Ko1GajogG0mrDSMuLo7QkBCCNBqiIiLRasOoNBrRabXc/LObuObq5ax8620uWHKRd7jg8GHD+NVddzJvzmwee+JJvyCbEL2BBKRErxIfF8ekiRP8gktHj2aSX1DAzBnnotNq0Wm1/OXPf6SsrIxFSy/xDp8DOHX6tGKLrdfR29+4aTMAl1/2I+Ibbnhjx4xh3pzZVFdXs2fvPr/lL7loKTdcdy0AgwcPZszoUX79QgghGudwOFi/4Vsuu3I5w4cNY8eWjbz4/LPeJ6B2BZfLhcFQgtlsxu12U2s2U1pWRlRkFLGxsd4nCG74ZjUfvvc2wUHB/PXvj1FeUeFXdP2/z/6HktISHnv8SXkaoBBCtFNychIDBgzg8OEjpKUdwGyxMGb0KNQaDVu3b+e3v/8DJaVlfPbRB7zy4n+ZNHGCchNtZrFYvdlWDqcTU3UVFouVmOhowiMiiIqM5Mbrr2Pd11/yh9//jqysY7z97vtU19SQmJjIr++5m3VrvuLmm27g+127WfXRJ+0eSihEV5CAlOhxAhU1980uunr5j4mIiPAGcjZu2kxERATnTJ8GQGZWFouWXsJNP7+Vh/78R3Zt38IlFy31rt9eHbl936fxDR0yxK9v2LCh0DAcUQghRMdwuVzk5ecTGxvDFZcvw+l0sj8tjZou+DZZpVIRFRnJFZct43RuLhu+/Q6n08m+ffs5fOQol15yEbExMRQWF/O/N99CpVKRmJDA2ePHQcOxHz5yhC9Xf41arWbIkMGMHDFCuRshhBBtEBUVxdChQ8gvKGDdhu+8w/WcDgcmUxWhoaGcO306sbGx5Obnk5uXr9xEqwVpNIwZNYqJE8Zz6PBhMjIOUlFezr59+3E6Hcw6byYhwcHsT0tj46bN3kyuwYMGAlBVVcWu3bvZu28/er2eYcOGkpKcpNyNED2WBKREr+PJCkrPOEhW1jG/4XoAH676GICVr7/S6DC59ujI7eu0WpISEyFAdpUnEOUJTAkhhGi/4OBgLr9sGQNSUrj+pp+z8MKLsdnsTJk0Ublou7jdbo4dP87FP7qcGbPneYfXmaqquGDBfP78wP38+z/PMvv8C/j7Y4/zyzt+wU+WX4XNZuPFF1/mxZdfYUbDU/TS0tN58E9/QK1W89x/X+Tvj/6TmXPO59LLrqSqqpoH7r8PbViY8hCEEEIo+NaQmjF7Hhcvu5zX//cmdrvdG+yJiorC5XJy7vTppKSkNASipnH2+HE89sSTLL30MjZt3sKs82Z6txsXF8fwYUNJO5DuzVxSKi+v4OVXXmXugkV++46Ojubaa37ClMmT+M199/OjK64i7UA6t/3fLcyedR5ZWcd4acVr/OFPDzJj9jzuvOfXaHU6rvnJck7m5PD0M8/zy3t+zex5C/jLw39j6JAhLL/qSkJCQpSHIESPo3K73W5lo8fBgweZMKHjUhGFaEpZeTm/uOMuAF5+8Xnv8LVA3nrnXVa+9Q533n4bL7y0gptuuI4brrsWs8XCffc/wN59+/nX448xd85stm7bzu/ufwAaai/dcN21ZGZlcdevfsOY0aN48vHH0Gm13raoyEjv/v/690dZveYbIiIieP6ZfzN48OAWbd/zXkxVVTz/zL8ZO2YMNGRE3Xf/A2QdO+5t96w/MDXVu1/PsQBnLHfJRUv5y5//2Oj2hOhsdrud4uJibxBYCCGEcLvdmEwmbDYbQUFB3ro7QgghhN1ux2QyERkZSWhoqLddMqREjxOoqLlvYXPAOzzv8Sef8pv3zTj63f0PMGP2PG+wyFd8fDxRkZH1gaWnnvZr893/6jXf+K3X0u3rdDqSk5Oorq7mpp/fesbx+5o2baq3KLpnvzf9/Faqq6uZN2e2BJmEEEIIIYQQQvQ5EpASvZJvMW/f4XoAv/vtvX6POr3rztv51+OPeefxKY4OkJ5xkLLycuLj4vjH3x4mIiICgIiICFa+/gp33Xm737ot2b5Oq+WRhx5kYGqqt005JM9Dp9Xy32f/c0YdqrvuvN2bCSWEEEIIIYQQQvQlMmRPCCFEq8iQPSGEEEoyZE8IIURjZMieEEIIIYQQQgghhOgRJCAlhBBCCCGEEEIIIbqUBKSEEEIIIYQQQgghRJeSgJQQQgghhBBCCCGE6FISkBJCCCGEEEIIIYQQXUqesieEEKJV5Cl7QgjRezidTr/5uro61q1bx7FjxwDQ6/VcddVVxMbG+i0HoNFolE2NkqfsCSFE7+J2u3G5XH5thYWFbN26lcLCQtRqNSNHjuT8888nPDzcbzmVSoVa3fL8JnnKnhBCCCGEEP2Yy+XixIkT3mAUgNlsZsOGDX7LCSGE6H+qq6s5duwYhYWF0HDPyM3NJSMjQ7loh9E8/PDDDysbPUpKSkhKSlI2CyGE6MecTic1NTVERUUpu0QrWB11PLl9HQ6Xi2Ex8cruPq+p9+9yuzllLOdvW1aTEhlNkj7Sr7+zOF0udhee4umd3zI5aSDhIT98g9dRbE4Hb6Rt57ucLGYPHqHs9mN11PH4trXkGsuZmDxQ2d0qTZ1vpY7cb1dozTntjzyDIdxuN1VVVXz99dfU1dX5LWOxWAAYOND/827Nt98ANpsNp9OJWq1Gp9Mpu0UrVJ0spGhzGqogNWGx/e9+29T7d1hslO4/RsmuQ4REhRMSqffr7yx2Uw3FOw5ScSgHXXIcmrAQ5SLtVpNfQv76Pdgqqwgf3PTf4VUnC8lbtwtXnQNdSvsyEps630odud+u0Jpz2h957hEOh4Ps7Gz27t3rl1nrcDiw2WzodDq/zFeVSoVKpfLON8fpdGKz2QgNDSUoKMjb3rq7jBBCCCG6XZ3LyVfHMrj1i7fIKClQdvdKVkcdf930FX/67nNq6mzK7h7F6XLxff5Jbvn8TTbmZCm7+yWX283JyjJu+XwlV69aEfBn0+qo45FNX3H31+9hqKny6+tINqeDl/Zu5upVK/jpR6/y5PZ1EOAYr161ghs+ed37GTa2Xl/hcDjYvn07ZrNZ2YXD4SA9PZ2Kigpll+iFrKWVnPp8CyfeW09tQamyu1eqOllI1huryV+3G6fVruzuUeymGvLX7+bYm19jOpGn7O6XHBYbhp2HSX/qPQ48/nbAn82qk4UcffVLcj7bit1U69fXkWrySzj21jek/fMtDj67iuLt9dk/vseY9s+3SPvnW2S9sdr7GTa2Xl9RUlLC4cOHsdnO/B2soqKCY8eOUVNTo+xqNwlICSGEEL1MsFrDpaMn8sqyG5iYmKrs7pXCgoL5y/xL+ccFlxEe3PGZSR1Jo1Zz3sDhvHbZjSwYNkbZ3e+43G5OG8t5fvdGfnXeIt758S1cftZkPji0lxp7/S+2dS4n3+ZkUmW3EhnWeZkzNqeDNw98T7XNxgfLb+WZi39CuaXWG3RSAckR0Tx30TV8uPw23rry5ywYNgab08HKAzvIqzLy+mU38cblNxGs0ZwRVBOiNwhLiGHoZfMY+dPF6FMTlN29UuTwAYy5+RIGLjm3UzKTOlJIVDgDF5/L6BsvJmrkIGV3v+Ow2CjPyKa2oISR1yxi7M8vISRKT+XhHG9w0VpaiTHzFG6nE03ID9kzHa0mv4SSXUeIHD6ASb/9KQPmT6G2oNQbdFJp1MScNZTxd1zJlD/cwJibLyFq5CBq8kso3n4QXVIsE3/9E4Yum0NdjeWMoJpoPSlqLoQQfYCyaG1rtKZoLVLUnH2lBRyqKFY2B3R2bDLTEs4MGFkddfxz2zccKS1ChYpEfTj3zbqQdSePYK6zc8pYTp3Twf2zl5JmyOOt9J3e5f487xLideHsKTrNqsP7+N15i7E66nhx3xbOjk/hq+MH0ajUTE0ZzH2zl+DGTam5hse2fkNBVSXBag0XjRzPtRNncNpY7l1vbfYRLho5nusnzVQeLjQEFL45cZi30neiVqkYEZvIA3OWog0KZnfhKV7YvQmb00FUqJa7Z17A+PgU9hbl8lVWOnG6cHbkZXv3fdX4aQHf/9rswxitFn47azGnjeU89f0GIkJCya4s9XtPKM5hS97v9ZNmYnXU8dSO9QyKimHr6RMkhkfyu1mL2ZZ7wvu+UiNjCAsK5p5zF5AUHniooCcA89zujfxsyixGxyZ6t7v51DFq7HbvZ5UUHnnGsY5LSCEsKJj7Zi/xDhNUnr+JialYHXU8sX0dljo7+VWV2J1Ov+36fia+Px/RWh1vpe/0/izV2K3E6cLJrij1W66x99fUfhP0EZwylvOPLaupttv8jtfDc35eTdvOPecuIEEfwWljOc/s/o7Fw89iR97JJs8vDYGltw58T5m1luNlBmrsduJ0Oi4eNYEPDu3F4XJ5P3NPEMpotXh/Pny383b6TkI1QVw7cQa5pgo+PLyXO8+Z7x2S6cZNmbmGF3Zv4opxU/tMkNejq+4PUtQcKo+eomz/D/W5mhI/dTQxZw1VNkNDpkj++t3YKqtRaTREjRpE1MiBmLLzcNRasRlr0A9IIPbsYVQcysaYmetdLnXBVMBN6b4s6mqtJJ5zFjV5BkzHclGp1VSfLiZIF0bCtDEkz56Iq85B5dFTFG5Ow1FrJSQ6nKQZ44keO4SKQye969lMNSTNGE/8lNHKw4WGgELR9gyMmbloQoKJPXs4KfMm47TZKdl9hLIDx8HlJnxwEinzJhMcrqX8wHGqcw24HE4shgrvvkOiwgO+f2PWaXTJscRPHUN5RjZlacfA5cJeVev3nlCcw5a83/gpo6k6WUjpvkxwg9lQQcyYwUSfNYTSfZne9xWkDyN8UBLJsycSEhV4qKA3AJNvIGnm2Thtdd7t1uQZcLvc3s8qJEp/xrGGxkQQOXwAybMnYjfVBDx/+tSE+mF2Ww/gMNuoqzEDKr/t+n4mvj8f9upaSvdlen+WcINKBfaqWr/lGnt/Te1XHRJEefoJirdn4HY4/Y7Xw2GxUXHoJNZSI8mzJ9avk5FN9cmChn2qmjy/NASWSvccxWaswVZRhdvlRpcSR0iEFuOxPDShId7P3BOE0iXHen8+fLdTlnaM8IGJRI8dgjHzNHZTLUkzx3sDn646B8asXKpyCkmYOqbPBHlppKh5S3VUUXOpISWEEH1AE98tNKs1NxOkhhSZxlKyjKXU1NmbneLD9AyLDPDkKrWa8YkDyCwzcM3Z07nz3PmEBQeTVnSaA8X5/OKcedw06TyMVgvphjz+uehKlo2dREltNaeN5UxISqWwxsSR0iJmDRpBncvFhpNHCA0K5qklVzEoOpbdBaeYnDSQILWGF3ZvYuGwsdw3ewnzho5iXfYRYnV6QjRBP6x34fJG6wW5cVNhqeWLzHR+cc753DZtLm63m8JqE2qVivcP7+XBeZdw46SZJEdE8/Wxg0wZMJiS2mo25mRxdsIA/jL/UnQhIaQV5zNr0HCmpAw+4/2nF+djdTiYNWgERquFrbnHmJ4yhEcWLGPagCF8fTwDXXAoAyKjeSt9Jy63m/8svZpLR09gy+nj7C44xTmpQ/nm+GEWjxzHnefMZ1rKYNadPMrZCQMICwpm6+kTnKgo4eH5P+KSURPIMBTwydH9/GbWYm6bNheny8WRkkLmDRndaA0pN2CyWurPccog4rR6/+2OmcC+wlyiQrUMiIzmzfTvqbBa+NeSq7jyrCnsyMsmSK3hvEHDyTVV8MaBHfxyxgLumH4+SeFRvJ62jUFRscRp9WzPPYEL+OeiK/nxuCmkF+dzuLSImQOHsa8oj+25J/jnoiu5+uxpqFVqNpw8yoyBw/x+lm6ZOpuJyQP9zndj7w3A4XI1ut9zUofyReYBRsYm8siCZUxOHsSW08eYljLEu77d5eTTo2kALBk5DpvTwav7t3HB0LGMjktif3EeM1KHNXkMTreLtKI8sn3O6c78HI6VG/jrgss4f+hovs3JJCUymnhduPdnx7eGlMvtJt9UyVfHD3LhqLNJ0IWTVW5g9bGDfHI0jY+P7ietOJ9zUodisljYnn+S/KpKntv1HZ9lHsBSZ2/0/0Rv0pX3h/5eQ6rqRB7lGdnYq2qbnXTJsYQPCvx3VnC4Fk1YCG6ni9QLppI8awJOex2m43mo1WoGXTiD2AnDsZRUEqQPY+TVCwkfkoTFUIHb6SI0JgJzUTmuOgf61ARsldVUny4mevQghlwyC7fThb3KjC45DnNxBabM0yTPnsDgi84jWK+lOreYoLAQ6mqs3vWGXzm/0XpBrjoH1acN2E21DF46k4Spo6mrtVBXY8FsqKSu2sKwK84nYfpYHLVWLCWVhMVEUltUhqXUSMK0MaTOn4Kj1oLTaid6zGCCw7VnvP/aglKCw7XoUuKxFFdgLTeReO44hlw6G3WQhqqThQTpQnGYbZTuzSRy+ABGXbsEbUIM5RknqKsxow4JxlxcTvKsCQxYMBV1kAaLoRJtYiwOiw1j5mmCI/QMu3we+oEJlGdk46ixMOTS2SRMHY3NVIvL4SJyWEqjmVr1AbZK6qpqCR+YiNvp8m536LI5aJNi6gNwUToc5vphYvqUeEb+ZBG6lHhq8gyExkQQlhBNxeFTWEsrGXzReSTPmoDNWIPpWC6h0RG4nS5qThURMSSZEVcvJHxQIlUn8nHVOQiJ0lNx8CTq4CBGXL2Q2HFDsJYbsRurCYkO9/tZGjBvMkG6UL/z3dh7A7BVVje6X3VIMFXZBcRPGsXgS2ahCtJgM1ajH/BDEMdsqKDyyCnC4qOIGjWImrwSqrPziR47BHVoCA6zlfDBSU0eg72qlqrsAkIiw73n1HQ8n+AIPUMumUVwuA5zYSkhUfVPhvP87PjWkHJYbJhOFGCvrCJ6zBDUGjWm43mU7s/C8P0hSncfpa7aTFhCNJaSSqpPFWE6lk/+ut1UHDqJWqNp9P9Eb9LWe4TUkOpBcivtLHv1JDty2jbWdUdOLT977zQmS9u/werp7vwoj8e/NSib+d0XBW0+b6JjOSqKKHjoUqwn9im7WsR6Yh/FT9+My1Kt7OozSl68m8pPn1Y2U/bGH7Ce2IfLUk3hY1dz6vbxlLx4t3Ix0UcM0EWQqo8iRRfR5JSqj2KALkK5epPUKjWj45KYmJiKWqVicHQMl42dzL1rV3HDJ6+z4WQmRQFq76iA8JAwLhw1HpVKRZIuArfbTXFtFYXVJk5UlPDi3s38ZNUr/HL1e5yoKKWstsZvvaaoUBEZqiUpPJInt61l2+kTLBkxjnlDR3GotJDj5QbuXvM+P/34Vf69Yz0ltVXU2GyoVCpideEsHjEONSridOFYHXXUBqhPoKQCdMGhTEwZ1JC5FM20lCHkV1VgslnIrixj+oD6IEiwWsPikeMorq2i0mLminFTOG0s55qPXuH+DZ9QUlOFwVx/bQpSq5mROoyk8EgcbhcHDfkMjYqvP+eoiNdHEBIUrDia5nm2mxwRRWRIGBEhod5jPVlZzqJhYwkPCUWlUpHckBnkdLs4UlaENjiE4dHxaNRqJicPZEB4NBlF9cMHNGo1Z8UlER4SSrBaw5KR47E66jDaLKQVneZgSQE//3wl1338Gm+mf4/RZqHGbvP7WWqLxvZrddQxLnEAG05m8tSO9QyJjuXWqXO969W5nKzPPkKGIZ8bJ82sz3RK30mQWtPq4Y1qlYrBUXHecxqn1Tec40j0oaGEaIIorw1cz8KNmzJLDS/u3cLU5EFMTExF0/AZPTz/R3yw/Faevfga6pxOPjuShhuotlkYFBHN+1fdyt8vuIz9xXkyZE+0im5AAhFDUwgflNTkFDE0BZ3PH+gtFRQWSvjgJPSpCQRpQ4kZOwRNSDAHn1vF8bfXUp1ThMNsVa4GKhXaxGgihqagDgkmSK/FZbdjLavEUlKJKbuAkx9tIv2p9zj91XZsZSYcZpvfek1RBwcREh2O3VhD/rrd9dlU501AlxxLbUEJ5RknOPziJxx+8VMMu49ir7bgsNlRaTToUuKJHJ6KOiQYTVgoDlsdTpt/0f2AVCpCo8PRJsYQpA1FPzCBkCg9torq+owZpxNtUgwAYXGR6FMTsFZUE6zXEjNmMCV7jnDwmQ8p/G4fdlNNQ6YPBEdoiRiSREiUHnu1GbupFn1qAvrUBNQhwQTrtag0rf8T2rPdsPgogsN1uN1u77GqVBAxvD7ApQ4JIkgXBoCjxoyt3EhIhJ6wuChCosKJHJ6K2+3GUlIJgEYXSlhCNJqwEMLiIokYnITTasdSYqQ610DJnqNk/OcDjr72FZWHcnDUWnFa7H4/S23R2H41QUEEhYVQvP0gZfuziJswgsTpZ3nXs5ZWUpZ2DJVGQ+zZI7wZSmEJ0USObN0XAJrQELQJUd5zGhYXWX+O4yIJ0tYHdB2WAP8fGoKopuN5mLJOEzk8FX1qAiFR4STNPJsxN13CpN/+lNRF0zEXl1N59BRupwu3y03CtDFM+NXVxE8ZQ9XJAhmy1wFa/79JiA6SW2lHF6Jm1rDG0zGF6OkcFUWotOGEjZyGveAY6jA9g5/eSeIdz3n78+5fEDCQ1RW++eYbnn76ab755htll2ijsTGJ3DB6CjeNmdbkdMPoKYyNSVSu3mJOl4td+ad4ZNOX3DxlFm9d+XMuaOUf9ASomeNbN6c1QjVB3D79fF5ZdgObTx/zFoPWqNScM2Cod9sfLL+V5y7+qTfo0pFcbjdFNVWoAG1QEHH6+m8+fVkcdfxz6zdklhbz/lW38viiK4kIrf/lvidSoSI6VNtktpAvN26MNgu1NhvBag3LRk/0nvv3r7q1vgZXC7fVGp79WuvqOG/gcF657AbGJiT7Ff+uczlZe+Iwn2emc+v0eSSGR2CyWThSVsyewlPeAOHxcgN//u7zTgv2eIZtPrFtHQm6cL9hqPXDTRNQoSImTMf8oaMpbviZ8g2ApkREkaALbzTg1RvV1dWxevVqnn766YDTihUrpKh5O0UMSWbkNYsYdd2SJqeR1ywiYkiycvVWsZtqKNychjHzNMOvnM+o6y9sU3BBWTPHUzentcGB8IGJjL5hKSnnT6Hg230NxaDzCdKFkTJ3knfbk++7lmGXzyU0+szrd3u57A4cZhsqtRqNNpQg7ZnX/qqTBeR+swttQgwTfnU1KfPrh5n1VKogDUH6sCazhXy5nC7qzDactjpCosMZdOEM77mf+Jtr6mtwaVu2rdbw7FejDWXg4nMZ+ZMLsJRW+hX/tpZWUrzjII4aC4nnjCVIF4qtoorawlKKtqZz8JkPKfh2LxUHs8n9ekenBXs8wzZL9hwlckSq3zDU4Agd2sRo1MFB6FPi0CbHeoOzvgFQbUI0ao2m0YBXb1RYWMgHH3xwxr3h6aef5plnnmH16tVS1Fy0zY6cWha/eKLHZSLtzjWjD5YfQdEy1hP7yLt/fpszuDqL7cQ+1KH1QVVnRREu6w//zxwVRRQ9fi1OU4nPGl3n0KFDHD16FICjR49y6NAh5SKim6hQERkSRlQTgRIXbsotNUSH6RkWHYfJZiGrvHU/S6qGP6zDNEG8mb4TGoI62RWt+yXP3XAsK/ZtxeFy8cDci+r/kK82MTY+mRxjKRtzsnDjpspubfYJaipV8+/fDVgddspra3C66odvHTDksXTU2USGahkQEc3a44fBk5Vz4ghJ+gh0ISHU1tmZPmAITreLw6WFVNsC/8LoCTzkmsox1FThcLtIL8rD7mjBt/Mt4Pmc9cEh7C08jRu33+eoUak5Kz6ZohoTGSUFOF0uDhTnU1hjZGJKfSFcTxDOjZtyay2fHEljStJAUiOjGZ+YyvcFJ8koKWjy3Lfk502psf3GaHV8eGgvR8uKuXjk2fz6vEVYHXVUWs3eYJSnppQKFYm6CJ6+cLk3YPb4oisZFZfE3y+4rM3ZW03xDUYl6SP8akpZHXX8Z+e33vNVaTWz6dQxBkREkRIRRUyYjrXHD9d/DoZ8yiy1jEtoOjNEiM6gDg4iOFyHJqTxbE2XvQ6XvY7Q6AhCIvXYKqqwGVuXpa4JCyUsLgpruYmKQ9kA1FWbsZQYlYs2yVNjx/D9IfQD4hl8ySxC46NwuyEkMpyqnCJMJ/Jw1TmwVVY3+wS1lrx/3G4cFjsOixW7qQZj5mncTidRowYSEh2Oy+6g+lQRANbyKmoLSgmJ0KHSqNGEBqNNisFRY8ZSXIbL7lBuHYCg0GDUIUFYSk3YTbXYq82Yi8txO9tWc0fJ8z6dtjoshsr68+PzOQaF6wiJisBcXE5tQSl2Uw1VJwtQqVRoE+uzv+qDcNaGYZPF1OaXED4wgfBB9Vl0puN51BaUNnnuW3S+FRrbb12thaJt6TjtDlIXTCN+0kicVjs1eYb6YJTZ5q0ppQ4OIm7iSCbcvZwpf7iBCb+6mtSF04mdMILBF89qU4C1Ob7BqJixQ/xqSlWfKiJv7S7v+aotKsdSXEFYXCTahGgcZhvVp4qwm2rqf7Y0GrQJZ5ZlEK3Tq2pIldU6eHSDgc8OmViTWdXklFtpZ/qgpseu3/lRHg99U8yK78s5UGDhknFRPP6tgee2lbFkdARhwWpyK+1c9b8cdCFqwkPVXPW/HJ7dWsqK78uJ1QUxLjkMk9XJ10ermDM8nEExTUecH//WwK8/K/DuM0YbxO+/LKCwysGbeyuoNDuZMzycHTm1/PStU7ywvYw391QwNjGMQTEhPP5t/ft/8rsSnt1a6tdnsji56b1cHv/W4Hd8u3LNbDtZw+Ixkc0en6+P0o3c+O5pVnxfzqoDRuaPDGf9sWp+9Wk+80eGE6XVePd5sszGhBSt3/497wVg9ZEqorUa7zzA67vLWTq2/pg851l5bmkIqAU6F4GOz2R1ctuqPGYM1hGl1ZBbafebv/OjPE5V2PnT6iJWH61i5mAdt62qH06oPGbl+aw0OymudjT6/n3fW1NctUYqVj1O7a4vMO9f2+TkrCwmdPhk5Sb8lLx4N6Wv3Yfxqxew52WiP+diKj99msrPnkY/fSmq4ND64XgPLyMoKh61NoKCh5dR+fGTGL96geDEIYSkjsZlqaF215foJi0gKHaAcjd+Kj99GsMz/+fdpyYmCcNzt+MwnMK09lXcdXa0Z52H9cQ+Ch65DOPnz2Ba/z/CRk0jKHYA1hP7KFv5J2p2fk7Zyj9h/OoF7zouSzVF/7qB8nce9js+24n91KatJ3zGpc0en6/a3V9R+LcrMH71AtVbP0I/7UIsBzdjePYX6KddiFob4d2noyyf0KFn++3fc1wAtXvXoAmP8c4DVK17Hf05F+OoKKL01ftwlhdSteldwkZNIyR1NFGLf4a7rv4JIr7rdTTl+G+z2cynn37qV6gwLy+Ps88+m+Bg/184WlsjpL/XkOoobqDKbuW1tO2syz7CoKhYimtM3jo4apWKaK2OjTlZvJ2xi82njnFWfDIOl4vzBg33qyHlcLm89YwS9RF+9Y0GRERxVmIKa04c5vW07Xx8JI2DJflMTRnst16SvvGMJrcbThnL2ZWfw6v7t/HZ0QNU2638fMpsBkREEa+PYMW+rbx/aC+rjx2kpLba7xhnDxqBLjjEb14fEtro+581aAQmq4W04nwyyw28cWAHewtPs2DoGBaPGEdQQw2ujaeyeGHPZr7IymBQVCy/n30hIZog7E4Hr6Vt57PMA9Ta7cRodZyVkEKcVs/3eSeJDtMyMXkgGpWaIdFxFFQbG7aTTrRWBypVkzWOAtWQ8t2uw+Xyzk8ZMNjv/Pt+jnMGjyQyNIxorY5nvv+WDw7v5UhpEXeeu4CJiak4XC525GVjczp4cc9mvjlxmHh9BLdOm0tYUHBDUXAVz+/ayEdH9rPm+CHUKhXjEwecUVNJ+fM2NCa+0c+8sf3+37Q5WBx17C/O5f2De/jg8F72F57mR2MmERYUzIp9W6iyW9ly+jirjuzji6x0YsJ0DIuJB5/z1tIaUr7vwfecTkweiLnOzvd5JxkZm8CQ6DiKa6v4LicTXXAo3+dlc6A4j8JqI6uO7PPWijo7cQCRoVpe2L2Rdw7uZn32UeYMGsH1k2bWD1Fs+JzeOLCD/YW5/GT8dM5O6vigWVfz3B/UajWJiYkcO3aMujr/oGtQUBDTpk1j1KhRfu2tvT/09xpSHcntcFCdZ6B4awY1eQZUQRrqqszeOjjqkGCc9vpi2YYdh7CWGgmNCickUo82McavhpTdVOOtZxSkDfWrb6QfEI9Ko8aw8xCFG/dTuv8YDrMVbUK033ohkY2PaHBYrNTkGShPP0Hhpv1UHj5FaEwkSeeOQ5sQVZ/NtSmN4u0HqTx6CnWQ2u8YPdlivvPqIHWj71+XEo+1zEhNbnF9IGzHIRxmK3ETRxI9ejAhkXo0YSEYdh4if8MeqnOKiB0/jJR5k1GrVfUZOVvS64diudyExESgT4nH7XRRW1hKWFwUupQ4gvRagvRhmLJyKfhuH9UnC9EEBxMSoWuyxlGgGlK+27VVVnvno0YN9J7/4i3pfp9j5PBUQiK0WMtM5K/fQ+meTNTBQaTMneStDVaTZ6C2oJSC7/ZRc9pA5PBUEqaPJThcS0iEjtrC+j7D94cwZecTrA8jSB92Rk0l5c9baGxko595Y/uNmzQSW2U1lUdOUbzjICW7j+KqcxA1ahDW8irK009gq6iiPOMExdsyqDqeT3CElrDY+t8nXQ4nlpLKFteQ8n0PvudUmxiDtcyItcxUX+hcr6UmvwRzQRl11bWYjuVjKa6gJtdA8bYMSncfxVZZhS4xFltlDQXf7qV4W0Z9fbOpY4ifMprg8PqhmoadhzDsOITb4SRh2mj0A+rvb72Z5x6h1WpRq9UUFBSc8TCMuLg4Jk2aRErKD1/SdFQNqV71lL3cSju3vJ9LZQtqLZ07WMcLVzX+mE1PPaP7F9b/J7zzozwuGBXBuYN13PVxPn9YmMSsYXo+Sjfy3fFqXrhqEH/5poj/mxHH4JgQduTUsmJnGc9cPhCT1em3TmNyK+3c92UhT/5oAINjQvjvtlKmpOoorKpjVbqRFcsHeYMovsv57uulHWVsOFbNa9cMZnBDgGp/gYUVywex/li191hNFidPbS7ht+cnEqVt+RNSPHz3GaXVeM/DY5cM4LZVeSyfFM1Vk6L9lnt7XwVTUnXMGqY/4z3c+VEeQ2JCvOc7t9LOP7818NglA4jSapo8t7e8n8svZsVz1aRoDhVZySyxMiAymIe+KeKRpSnMGqZnR04t1TYnZyWF+e030HEcL7V5z5/nM2jsmAHv+fz0oIkrJkTxwOpCLhgVccb7b+l5bk3WjG7SBd6hX4F4hoHFXHEvNASn9NMuJHTkNAzP3ErcDY8QNnIatbu/onbfWhLveI7y9/9O1JJbCIpNwXpiH8Yvnyfx9mdxWWr81mmMo6KIkpd/ReIvniEoNgXT2tcIHTEZZ0URpm/fJPnXr6HWRpyxnO++7AXHMDx3O/HXPYT+3Pq6VaWv/JaEW5/CWVHkPVaXpZrKz54h5vJfoda2rhYPDVlVnn2qtRHe8xD/s0cp/s8tRC280bt/z3LVWz4kdMRkwkZOO+M9lLx4N8HJw73n21FRRMUHjxL/s0e92/c9Bx7Kz6kzKG8cq1atIj8/368NYODAgSxfvtyvrTVPUUKesieEEL2K7/3B5XKRlZXlN4xbpVIxYMAArr76am+bR2vuD/KUPSGE6F2UT9mrrq5m3759pKXVP5gEICwsjEmTJjFr1ixvGw33jtZ8adHYU/Z6VUCq1u7iua2lFFY1n0o/b3g4V02KVjZDQ+bLbavyyC7zL6q6fFI09y9M8gtWeQJVnm09/q2BVen1aawxWg2vXVP/B1lLAlI0BL4yCi088aNU77IfpRv9AlIfpRv5p6IAuGdf7+2v5HSl3Rts8w2iANzyfi6x+iDvtppy50d57M6tL+D3h4VJfufL9316jIgPPSPwpQzs+R57WJDK+z6VAamP0o1kl9m88zRybnfnmv3Oje+yvufBQxlUUs4rj4NGjnlgdHCjn6lvkFL5/lvCbbNg/PpFHGVnBguUdJMuQH/upcpmAFyWaor/cwv20/VDVjyiLvw/Yq641y8I4glUebZV+enTmNa+CoAmKpGU+98FaFFAiobAlyVzJ0l3v+RdVhmMqd39FaWv3++3nmdfjopCyt96iKRfvUJQbH2k3TeYVvT4tWiiE84I7ARS8uLdmNO/AyDh54/7nS/f9+kRMmQ8yb9+DcvBzd7AlzJg5HvsqlCd930qA1K1u7/CXnDcb74nBKQOHTrE+vXr/fp9LV68mLPPPts735o/OJCAVJ/lcrs5ZSznH1tWU233vz9GhWq9w7D6C5vTwRtp2/kuJ8uvXaNSMzVlsN9QsN6mJ3zWPeEY+gvlFxZ1dXWsW7eOY8eOAaDX67nqqquIjT1z6Elr7g8SkOrbHBYb5eknKN6egavuhyFuKpWK8MFJ3mFY/UVNfgmFG/efUecoSBdGwrQxfkPBepue8Fn3hGPoD5QBKRpqSW3dupXCwkLUajUjR47k/PPPJzzcfzRQvwxIdRSTxcmvPsvntpnxZwQb8MkO+t38JP62vpgnfzSAqDANt63KY2qqlvsXJrEjp5Z/fmvg+R/XF/xrLHgRiCcgVmC088SPUs/IkPINeCgpAzG5lfYz9r0jp5bff1lAanTIGYGclmoq0OIJ8jy4OJl/bTJ4z6NvRpHyuJSBoN99UcCVE6KZNUzvPR+Bzm1nB6QaO+amAlKNvf+u5rJUU/LSPUT/6K6AASRP1k/s1Q9Q9uafSfzFM6i14RT/5xa0Y88j5op7sZ7Y5w0M0YqAFD4BsbriHJLufumMDCnfrCwl3/36BqR8gz3WE/swPHc7wcnDzgjwtFRTgSBP9lP8jX+n4sPHvOfR83S8xDuew1FR5HdOlMdY9sYfCJ+7vNGgnEdTx9FRJCAlhBAiEGVAyu12U1VVxRdffEFtbS0zZsxgypQpfst4tOb+IAEpIYToXQIFpBwOBydOnGDHjh3o9XrOPfdchg0b5rcMHRiQavkW+pAorYazEsN4Zmsppobhf7mVdu+/xzfULvowvZKpqVoGx4Rgsjqx2F3MbagTtPVkDZa61hW0y62085dviojSavjgxqFMHKClsKqOAZHBaIN/GH957mAdx0ttfNSQLWSyOMmtrK9BA1BudnqP9Z/fGhgYHcyshuGFH6UbmTVMz7s3DK1f1+psU1HzucPD2XCs2ruO7zEMjgkhTqfhw/RK4vVB3qBSudnJBaPq/wjfnWumwhy4QGBupR2z3eU9z02d23MH66iodbD+WH1xP89xzB0ezvFSm/f4fD8/i91FvrE+i+69/ZVU1AY+jqaOeXBMCAOjg3l73w9PmzlYZPH2TU3Vsjm7Gl2w2vs+uppaG0Ho0IlUrHocl6X+/Dgqirz/Dkmtf2JE9ZYP0Y49j6DYFFyWGtxWM9oJ8wCwHNziV4S7JRwVRZS//3fU2ggGPPAh2rEzcVYUoYlNQR32Q2AudOQ0bKcOUbv7K2gIYDkq6otLArisNTgqCqEhkGM7dYiI86+pD2Tt/oqwkdNIfeiLhnVr2lTUXDthHjU7P/eu43sMQbEpBEUnUb3lQ4KikwgbOa2+32hAP+1CaChY7jD6Zyt6OBoKmHvOc09y9tlnc++99zY6+QajhBBC9G0ajcZvCgoKIjY2lp/97Gf88pe/ZPr06Wcs45mEEEL0XSqV6ozrfmhoKOPHj+fWW2/l2muvZeTIkWcso9FoWhWMakrHbKUXun9hEnE6DQtfPMH0f2dx7VunOFxc/xQeT8Dqu2PV3iDJ4JgQZg/Tc8+n+Uz/dxaltQ5i9fXFuKLCNGhD1H4BrkDyTXVkldiY/u8spv87i3Kzk8WjIxifHIalzs3CF09w50d5DI4J4ZGlKfxncwnT/53FwhdP+A3hq6h1cMkr2Uz/dxbHS238oSHbx1Bdx8s7ypj+7yyufCPHG0wrrKprdfBs1jA9v5gV732/C188wXv7K739F4yK4OsjVcwcUh+AiNJqWD4pmn9+a2D6v7P46oiJkQk/RD6HxITw5WETO3Jq2Z1rZkhMiDfjqalz29i5UB7flW/k8NKOsia3pdTcMT92yQDKzU7v5/Wbzwq8Qbm5w8N5b3+l3/voDjFX3EtQdBK5987k1O3jKXhkGfaC+hR8T8CqZufn3gBUUGwKuskLKf7XjZy6fTxOowFNdH26q1objipM5xfgCsRRUYQtJ4NTt4/n1O3jcRgNaCecX18Y3VpL7r0zKXnxboJiU0i49V+UvfMIp24fT+69M6n44FG/bZW+8ltO3T6e0tfvJ/bHvyUoNgVHpYGKj5/i1O3jyf/jIm8wTfkEu5YIGzmN2B//zvt+c++dSfXm9739+mkXUr35PbTj50DDOYtaeCOlr9/PqdvHU739Y0KH/hC8CU4eTtWmd7Ge2IftxD6Ck4c3mblV+enTnLp9PKa1r2Ja+yqnf3VOqwJqQgghhBBCCNFX9cshe71ZY0PVehPfQuK9VXPDPkXTAg3Z6208xdxbMryxKyiHZLRGa78Fb+uQPbfb3aqncQghhOgebblet3fIXlv2KYQQouu15XotQ/a6yEfpRm9Gje/0kzdPNZk91V/kVto5XGzttmFuHWX9sfrhen01GFW7+ytvBpTvVPjY1U1mT/UXjooibCcP9Mjhej1Za29cQgghukd3XK+7Y59CCCFaryOv15Ih1cv0hQyp3iy30s4t7+cC8No1gxkcE6JcRLRAX8iQ6ml6Q4aUh+9tR6VSybzMy7zMy3wPm1e14Y8NdzszpDwaOyaZl3mZl3mZ7xnzqjbcIxrLkJKAlBBC9AG9KSAlhBCi73F3UEBKCCFE3yMBKSGE6MN6Q0CqidtNl3C3Yby7EEL0Zp7rnu8rPt90N3ZNbKy9Ke0NSMk9QgghulZX3iMkICWEEH1YbwhICSGE6LvaG5ASQgjRdzUWkJKi5o3IefVlDv/lAWVzi5V8u65d6/d0thIDe26+DtPB9DPaD//lARy1NX7tonsZag1c/8n1ZBgylF0tUmuv5Vff/LrN6/cGL+9bwR+//ZOymb9v+UeXvG/f/bf38+rp3G63d/LMK1+lX/oDtUu/9Et/6/pdLtcZ/S6XK+B6gdbvDspjCPQq/dIfqF36pV/6W97f2HJdfY+QgJToUKaD6SScv4Agfbiyq8OZDqaz/UdLKPl2nbLLqyXLCNEYQ60BfYieiUkTlV2iHVQqlXfyzCtfpV/6A7VLv/RLf+v61er6X/V9+9VqdcD1Aq3fHZTHEOhV+qU/ULv0S7/0t7y/seW6+h4hAale6vBfHuiRGVgVe3YRmpikbO4UURMmMfvLdSQuXKLs8mrJMqL7ZRgyuOKDK3tcRlBGcQa6YJ2yucc7dOgQTz/9dKPToUOHlKt0iY78NqW16urqsNvt1NXVKbuEEKLPauzbbd+2nqK7jsflcnnvEe0Z/i6EEL2N8n7QHfeIbq8hVbr5O8q2bFI2n0EdEsrga29AO6jxmiWmg+kc+uN9OC0WNFotZz/6JGFJyaTdfTvDb7vDG5TIefVljPv3MuHJp8l77x3y3n8bgIjRY5nw5NME6cPJefVlzLmnGP/XxxR78WcrMZB29+3Yy8u8+7SVGMh87G/eZcY+8CCJC5dw+C8PUL5jGwBxs+Z4t334Lw8QGp+AYf03OC0WQuLimfLcS4QmJgXcvn74CA7edy8h8fHNHp9SoGPwPR9B+nDvPoffdgdREyZ594/Pe7GVGMi4/zeM/s3viZowCRrOxYnn/8OY+/+Es7aWIw//Ge3gwZRsqM9O8n3POa++jNNcS3XmUWzlZUx57iWshuIzPj/Ptku+Xec9p57zA/gdQ86rL3s/S8++lMfpqK3h4H33Un0sE4BB11zPsP/7xRnHVH0s84xjaIkqWxUr9r1Cta1K2XWGcYnj+cn4q5XNfv747Z/Yllv/ec0ZPIdHF/6Dl/etYF/hXp6+8Gn0IXoMtQbu+OpO7ph+OxOTJ3LHV3dSZq7/vB6c92cWj1iModbAb9f+lt/P/n2z2T4v71vBOxnvQMM+/zT3j9y79l4yy7IAGBs/hqcvfJrsymzuW/97LHUWtMFanlz8BBOTJpJhyOC1tNcBSCtKA+C6idfxi2m3Bdz+owv/wfrs9fzr+6e822ipDEPGGcdgqDHw4t6XePHSF0jSJ1Frr+XetfcybcB0rp9wnd97UR7XaeNpHl34D+/2/77lHywb8yMmJk3k5X0rMNtrOVp2lDJzOS9e+gLhweGNbm999nr+tuXvAMTr4r3H4/v+PedSH6L3239rPi8P31+iDx06xPr16/36fS1evJizzz7bO9/Xa0i53W4qTNWUVFeh04YxJD5euYgQQoh2cvfSGlJ1dQ5MpRXYjDVEJccRHhulXEQIIUQ79dgaUjXHj1O6eWOzU9m2zdiNlcrVvWwlBk6++DzTX3uLeRu2cvajT3J65eto9HqSFi+ldPNGABy1NVRnHmH4HXdRezKboPBw5m3YyrwNWwmJj6di5w7lpptU+MVnJC1eyrwNW5n+2luUbvqOxIVLGHTN9cTNmsO8DVtJXLiEnFdfRjd4qHdfNARZPKozjzLj/U+Yt2ErEWPGcuL5/zS6/SB9OFNeeKXVwajGjmHAsstxWMzUnsyGhsBexJixJC5cQt4H7zLluZeYt2Erk55+nuI1qxutD2U6mI5u8FDvcD1beRmh8YnM27CVGe9+RHVWpt97Nqz/huF33MXMDz4FCPj5OWprMB1M5+TLLzDp6eeZt2ErZ/35YWoajtXDVmLAuH8vM979iHkbthI57uwz6lsBZD3+D6KnTmfehq3M+nwNxv17yXn1ZW+/55jmbdhK9JRpVOza6bd+cywOCzvydrDx1KZmp/TiM4/P18v7VjAkeghbbt7Mlps3Q0OQ4/Kxl2GuM5NdWX8OMoozGBs/lsUjFvPuwfd48dIX2HLzZp6/+Dm+Or6aWnutYsuNM9Qa2Fe4l1VXf8iWmzczPnE82ZXZ/O2CvzE4ahDPX/wcK360gpq6Gp7f/TxvXrGSLTdv5snFT/Ba2uvefWWWZXLpqEu8x/HNiW/IMGQE3H6GIYPFIxaz9vpvWhx8oeFYAx3D5KTJxOviyCiuz7bKrsxGG6zj+gnX8VnW59x17l1suXkzq67+kH2FezHUGpSbhobtm+vMjIgZ4W37Jnstd517F5/85GOS9En8Y+ujLB+3nC03b2bNdV9zpPQIGYYMMgwZvLD3RZ6/+Dm23LyZh+c/RHZFNhmGDMJDwr2fabwugR15rbvmtMTZZ5/NwIEDlc0ADBw40C8Y1Z+UOyycNhuVzUII0WcF+t45UJuA2uxCbJXVymYhhOizAt0PArV1pm4PSMVMP4fECxaRcP6CJqekxUvRDkhVru5lOphO9bFMdl17FVsWzSX93rsw5+XirK1lwLLLsZeVYSsxeIMu+uEjiJowicQLFrHzJ1ewZdFcyndsozYnR7npJsXOmEnh5x/XZzklJjHy7nuVi+CorcG4fy9577/NlkVzA+4reup0byBn4PJrcJrNOGprWrR9D1uJwftedv7kCmwlP/yh3dQxhCYmET97njf4Urp5IwnnLwBg5N33UvjFZ2ec00Aq9uwidsZM77xGp/POhyYmkbR4qf97njLNm33U1OdXsWsnEWPP8i4bNWEScTNnebdDw/ZD4uPZe8sNmA6mM+ia687IbLKVGDDn5XqPKUgfTuqPl2Pcv9cbZPM9Jt3goZhzT/ltozlRoVEsGbGEBUPnt2hqTK29ln2Fe3kn4x3mvXE+8944n2252zhpzCFJn8TcIfP4Pr/+89p4apN3W/fO/DWfZX7OvDfO566v7ybPlEdNXeAAYiBJ+iTidQnc+OlNZBgyuG7CtQGDRBnFGWSWZbH8w6sD7itBF8/E5Pr1JiZN5Kz4szDUGFq8fY+X963wvv+X963w62vsGFwqF8vHLWfjqfrMy+/zdzIuYRz6ED3XTbgWQ42BeW+cz/IPr+a0KRdDTeCAVEZxBkOih6AP0XvbpqVM8x6vodZAZlkmf9vyd+a9cT4XvXMxaUVpGGoMfJ+/k7Piz/IuOzFpIrMGzWJi0kQWDV/IlR/82O8z7QyXXHIJwcHBfm3BwcFccsklfm39idnpoNBaTYXNouwSQog+KVCdj0BtAhwVVVgKSnFabMouIYTokwLdDwK1daZuD0hFT57K2D8+xFkP/rXJaeQ9vyEkrulhFp6MJM8084NPCU1M8gYrTAfTG4Ib4wjSh1Py7TrS7r7dmwEUN2uOcpPN8tQoSjh/AVsWzW20rpNGp/Nm+Hgmz1CxQGzlZThra1u8fRqCMjM/+NTvvftq6hhiZ8ykOvMItTknsZeVeYe3pd15KwDzGjKkNLrA9XRsJQacZjP64T9kkwTSVICnsc+vpcb/9TFmvP8JJ198nu0/WhIwQypIqyMsKVnZ3GHCgsK4ffoveGTBI81Oi0csVq7uRxus82bYeCbPcLDzBs7kSOkRTlaepMxcysTkidTaa7nty/p+T2aSLlir2GrzHl34Dz65+mOe3/08F769tNG6TnMGz/E7Nk/WUGM8gZeWbh/gF9NuO+O9+2rsGCYmT6TMXMrJypMcKT3CeQPrg5B//PZPbDy1iS0NGVIJusavKbsKdnvXa0y8Ls6b7eWZmvpc12ev546v7vRmsc0Z3PprTkvpdDrmz/cPes6fPx9dI/+Hu0JXf+MSiNFuJb/GpGwWQog+SVkLpDvqg7RUTzieqqxcrBXNl10QQoi+QHk/6I57RLcHpDpK1IRJfkPCHLU1fhlCCecvoHjNasy5pxiw7HIAanNyiBgz1lurqTqrvq5Qa+S9/w6mg+kkLlzCpKef92Y26YcN8y4TpA8nYuw4Tr74vDcTx1Zi8Bv65gnUOGprOPni88TPnkdoYlKj229tUfPmjsETSCr68jOip04nNDEJZ20tDovZm1FUsWsnTrPZZ6s/UA7XA3Cazd7PwHQwHcO6NQxcfo3PWj9o6vOrD5Yd9QaYlOfO03biufoaWFNeeIXoKdP8Pn98sqgKv/gMGvZR8PEqv+y0nkIfomdcwjie3/28dxicodbg/bdnGNnnmZ8zbcB0kvRJ1NTVYK4ze4Mo3+fvxFzXukwQQ62Bp3f+B32InhU/WsG0lGkYagyEB4cT5xO8mZg8kcyyTNZn19cpqrXX+g19q60zezOP1mevJ7Msk8vHXtbo9ttS1LypY/BkYn2e+TkJugQmJtUH7MrMpd5ssoziDEobam0pBRqup+TZxzM7n/W2ZVfUZ2CeN3AmR8uOet+P57M7acxhbPxYkvRJ3gyrznT22Wdz1llnAXDWWWd1+1C9rv7GJZBaZx25NUbJkhJC9AuNPSHJt62n6AnHYyuvoibXIFlSQoh+QXk/6I57RJ8JSIUmJnHWnx/m+H/+xZZFc9lx2UXeOkw0BDzMebneZQEGLLuc6qxMtiyaS9rdtxM9Zap3ef2wYZTv2OZX80jJUVuDo7aWQ3+8zzvMLPmiSwjSh3sDLFsWzSXn1ZcZ9n+/ICQ+nh2XXcSWRXPZe8sN3uGDAObc097jBhj00+sa3T6AvSzwH9JNaeoYPAErw/pv/IbZxc+eR/q9d7Fl0VxsZSWENmSpafR6grQ6b4BLOVyPhoysky+/4D32pCUXnTGMzqOpzy9qwiSG/+JO73HsuvYq8t6rLwrtYS0xUH30CFsahiPay8qIVQzrAxhz/58w7t/r3Uf01OlNZqp1p19Mu414XQIXvXMx8944nxs/vclbN8oTsPome603AOUZynfX13cz743zKa0tJV5XX1A0PDgcXbDOL8AViKGmhKOlR7zD5MrMpcwaNMu7v7u+vpsrP/gxAA/Pf4h/ff+Ud7iab2AG4KFNDzPvjfP525a/c8f02+uDMI1s31BTHwBqjSR9UpPHsGDofD7N/IwZqedCwzlbPm65d4jdV8dXMzZ+rHf54dHD2Ja7jfXZ6wMO1wvkT3P/SJm51Pt+7lv/ewy1BiYmTeTO6Xd4P4vlH17N2wff4fKxl5FZlsm8N87njq/uZGrKD9cc3/239PNqiaVLl3LvvfeydOlSZVe/VOdyUVhrkiwpIUS/EOgb7kBtPYHT6SQt7SAPPfQ4v/rVA6xYsZKSklLlYgCUl1fw/vufctdd93P//Y/wxRffYLd3zFNUK4/kSJaUEKJfCHQ/CNTWmbr9KXui/sl3usFDe2xgpDmO2hpOvbaCobfc9kNB8wBP4RP9Q4Yhgye2P8FTFz7V5BC+nuydg+8yIfHsJutb9TTteVR1f3nK3r6yAvZXGwjRaJgQm8yclKFoNf51toQQQrSNu51P2cvLK2DHjt0kJiYwffpkdu3aS2WliYsvXoxe/8Nw8/LyCjZv3oHVauWyyy6moqKSzMzjjBgxjOHDh/htsyU8T9krWb8XW1E5AAPOn0L85FFotD88CUoIIUTb9din7PV0njpKnswb36mp7Kn+pGLnDjQ6fY8b9iYCW5+93pvR4zvd9uVt7c7G6QsMtQYOlxxucrieaJsmvv/oUnank5yqCo4b6//wCKSuzsG3324hJ+c0RqOJf/7zGe6990+sWbNBuagQQvRYylog3VEfpCXcbjeVlUZsNjtDhgxCp9MSFxeHxWLFYPDPkqqoqMTlcjFz5jno9ToGDUpl8eL5LQpGud1uXC7/KdB5qDySg7nM1Ogydrudbdt2cd99D/P00y+SmXmcnJzTZGX5PwVaCCF6MuX9oDvuEZIhJYQQolV6e4YUQIhGw7T4VM4fMFy5OG63m5KSUj79dDWXXnoh+fmFZGYeY+nSRXzwwafcdNM1REdHKVcTQoh+zd2ODCm3283Ro8fIzDzGnDkzSUxM4PjxbNLTDzN16iRvsMnpdHL4cCa7du3DarWRlXWCmJgoLrhgHgsWNP+gELPZgslUrWzGZbVj3JyOvbjC2xYxdRS60YMI0oURGhrirafidDrJyjpBTs5pBg0aQGWliaioSEpKynC74YIL5hIcHOSzdSGE6Fk0Gg1hYSGtHiXRHo1lSElASgghRKv0hYAUQLIugjkpQxkZ6f9HU31Aqow1azZwxRWX8tVXa5k16xxiY2P49NOvuPzySyQgJYToFdxu9xmFaQO1dYT2BKRcLhcHDhziyJFMlixZ0GRAKiPjCJs3b2fSpLOZN+88MjKOcPDgEebMmdlsllSgP3scDs+QvX3eIXsA2oRoBl44A31qAvgU+LXb7Rw5kkVZWQXDhw8hO/sUQ4cOxm63k59fyJw5M/2GGAohRE8V6H4QqK0jNBaQkiF7QgghuoTb7fYOf7vrrvv54x//Rk7OaeViADgcTrZv38Vdd93PPfc8wDPPrMBq7dinHlXYzBQEKG6uUqmIjo7CYrHw4IOPUlZWQWJiAkVFxdhsdsLCwpSrCCFEjxToj4pAbd1NpVIRHByEy+WmpsaM0+mkpsaM2Rz4iaixsTEMGTIIjUZDfHws0dGRmExnXs+VPE+Q8p3AM/mzlBqpzSvBZbX7nTONRoNaraaqqorKSmP9shYLZWUVuFxugoOlNqEQoncIdD8I1NaZJCAlhBCiS9TV1bFp0zZSUhJ59tnHuOGGq1m16guMRv8/IhwOJ7t37+O777by97//kaee+isjRgzh6NEsv+Xay+50kl9bRUHtmX/EhIaGcMcdP+fZZx/jV7+6jdDQEMrKKpk3bxZhYVLkVgjRO3gygnxflW09geeLgNDQEE6fzsNstlBeXo5WG0ZMTBTbtu3ipZf+x+nT+cTHx6JSqTh06Cg1NbXk5xdSVVVNamqKcrPtFuiJexqNhmHDhhAWFsZbb63i88/X8Nprb5OVdZxp0yYSEiIBKSFE76C8H3THPUICUkIIIbpEXZ2DkydzmThxPCqVipSUZIKCgs7IknI6nRw9eoxLL11CdHQUwcHBXHrphUyZ0vFPPTRYqjlhary4uUdQUBBz5szgrLNGK7uEEKLH8nzT7fuqbOspBg1KZerUiezevZ8///kfnDx5mvPPn0VQUBBVVVXU1dV5l5s5cxpHjx7jD3/4Kxs3bmX8+LEkJtYPretIllIjNbkGnBb/DN2IiHAuvngx//nPP3j++cd55pnHuO22mzrlGIQQorMo7wfdcY/olBpSTWxSCCFED9KWm01ba0iZzWZWrvyApUsvYNiwIdhsdt5++0OmTp3oDTa53W5MpmrefvsDYmNj2LFjDxqNhqlTJ3DTTT9VbvIMLpeLmhqzsplaq42DVQb2V5cou0gJC2dO4iBS9dHeNofDwfbtuxg6dDBRUVG8/vo7lJSUsnDhPBYvnu+3vhBC9EQajYagIM0Z1/nOqg9Sf/1uWw2p7lRX56khtdevhpSHNiGaQUtnemtJCSFEXxHofhCorSM0VkOqUwJSQggh+q62BqSqqmp48cXXuPrqy5sJSFXxyitvkZgYx403XoPJVMXrr7/LggWzm82Scrlc1NaeWXOk1mojw2TwK2ruEaxWMzkmmbnJQ6HhGEpLy/j882+4+OJFFBQUkZV1ggsvXMCqVV9y/fVXERUVqdyMEEL0KCqVukuf9tZXA1IAA86fQvzkUWi0odjtdnbvTuPzz9dgsfxwv9HrdcyePYOlSxfKsD0hhFDo0oBUE5vsML6RO8/+WjPfGVE/IYToLsrrmme+ude2XAvbGpCqqallxYo3WbBgNpMnTwgYaPIEpHzb6+rqWLNmA8HBwVx00SLlZpvlbuQpe75GRsVxQepIYkO1uOUpe0KIPkJ5zff9nVh532iv+ut32wNSHX08LdWSgFRzWVJ5eQVkZh5nxIhhzT7pTwgheoquvEc0FpDqlBpSnj9yOnNSq9V+/27tvHJ7Mskkk0y9eVJe1zzzzb12pdDQEIYPH0xGxmHcbjdFRcU4HA6GDh1MUZGBhx9+ggMHDqLX6xg2bDBbtuxsKGxbwdGjxxg7dpRykx0mt8bIwfIiaLiHyVP2hBB9gec67/uqbOspetrx+GqslpRHUlICUVGRpKcforb2zGHjQgjREynvB91xj+iUgJQnsiav8iqv8iqvPfPV5XLR1eoznBZjNlu4554HeOutD1m+fBlRUZFUVlZis1m9y1188WJCQoL4/e8f5vHHn2XixPEMG9Z53zrbnU5KrbVU2OqHX8hT9oQQfYHnmt9cm2heoCfuedhsdqqqqnA4HMouIYTosQLdDwK1daZOGbInhBCi72rrkL3u4m7BkD2A8OBQzk0cyLmJg5RdQgghmuFu55C97tKSIXseA86fQuS4Iew7eOSMGlIDBiRx0UWLmq11KIQQ/VFjQ/Z6bUDK3Y4aUna73TsfHCxFB4XoDHaHHXBT57BjcVpxu904nHXUuRzUuR0k6xLRh0UoVxNt5Lkmtva1LdoakGrPPtujpQEpfGpJRWpC2LVrL++994m3LyQkhBtuWC5/bAgheg3lNd/3d+KOvia72xmQ6ujjaanWBKSaqyUlhBC9SVfeI/pcQKo9rFYblZUmNBo1iYnxym4hRDPSi/M5cjyD3KoSSgsPE1RTiZEqal2VGEPtmPTKNX4QY3ZTqau/uA0tVbE0dTnXXvdL5WKiB2trQKq7tCYgFR4cyjkJqYwJjea99z5m6dILGDZsCC6Xi2PHTrB58w5uuumnMmxPCCEU2huQ6i6tCUiheOKeEEKIlunXASnfSB+AxWLFaKySgJQQTdh3OI0Nh7dQbKukwHQAtdtJYXjg2gkeMbVuYmrdxFvdxDjrHzUdHxxOQvJZDItOYNTA0QTFpXLo4E7Wpn/M2mH1/zcnFWr52eWPMW38FMUWRVs1961Gc/1N6csBKRqypCaGxrJj/RauueZKwsJCcbvdVFVVy1P2hBC9SqBrfaC2jtBfAlKBsqScTieZmcfJzy9kzpyZ6PU6v3WEEKInCnQ/CNTWEfp1QEpJMqREf2Qtrn+CmNVQjK24GKuh2Nt37NBOijV2jqmKyY2sJSfJ/yIUXVP/GlPrJtbsJs7qRhUWxGijCnXqIGZEDSd8YCJho88B8L42xVFeQNoXr/Bh/np2DQwiuhbOtg7hJ9c/yqTkgcrFRQ/S1wNSsaFaJkYkkvbVJsmQEkKIFuovASmAvSYDWbUVWF1Ob5ter2P27BksXbqQkBApCSKEEL76XEDKN3KnzIBqbl4ypERfZS0uwrDuG6yGImzF9QEnq6EIa8O/PYzhsH94/f+H7yb4B59izG5UwIxCBzH2EC5wxqEbPYHoSZMJikslKG4AQXGpfuu0hycw9ULpt2QnqImuhXF1o/jnva8qFxU+3C4XKvUPD0pVfpvhmW/utS3aGpBqzz7bo7UBqRCNhrNjkkisdvDmq+956w5GRoZz6603durT/oQQoiMpr/m+vxN39DXZ3c6AVEcfT0u1JSAVKEtKCCF6m668R/S5gFR7SIaU6ItOv/kGp9983TsflpwMgGlALOmxUKLTcFJjoERX5rMWxNuczC2zATDGGcWsaVcCEH7eZR0aeGqOo7yAz/57H1+F5nEyUU1ULYyMWsDTNzysXLRfM2UcIPOxhyi0VjAoeiBjfv9nIs4ar1ysU7U1INVdWhuQoiFLambSECbG1f8/EkII0bT2BqS6S1sCUkgtKSGEaBUJSPmQgJToS6zFRRx78jGM6WmEJSfjuPIK3g02kl2ZQa3zqN+y8TYnCTYXY6vrGFtVx4TgRMLPu5yw0ee0aJhdVzB9v5b3PnmMrwe7MYZDpFXD8PiLeHb5fcpFexXPkMl2cbt5808/Zd0EN2WRKiI1en6cGc5Nj30ArfwGoz3fevSHgFSIRsO0+FTOHzAcGrZhMJTywQefctNN10gNKSFErxDoWh+orSP0t4CUOlLHzmoDB/NOgwzZE0L0QoHuB4HaOoIEpHxIQEr0BZ7heZ6sqK+WTWB3uAGXqj4DKqpOQ7DLztwymzf4FBQ3gLDR5/aoAFQgnmF863I2sSuhPjAVbg9l7pjbeWB+fQZXb2FMTyPr0YfIDDIqu9rl0/PU2KJ1RAbreXLgbQyevVi5SKfpDwEpFFlSEpASQoim9beAFEBxhJrIcUPQx0Rx4kQOU6dOYvhwGdYthBBKfS4g5Ru587yFls63poZUZaWRV155i1tvvYGYmGhve3Z2DqtXr+fWW29Eqw3zW0eIzuY7PG/tvCR2DrBTpzF5h995AlBho88hKC61xwegGuMJTK09uoF1Z2kA0NnDuPm8R/jJxJnKxXsUa3ERGb/5JUdVZby2qOO/ZQhzqNBodUSr9dyccCWLF11zxhjwlry2RVsDUu3ZZ3u0NSDlmyUlASkhRG+kvOb7/k7c0ddkdzsDUh19PC3VnoCUOlJLaaKOsTMnUVZWQVlZBfPmzZIMKSFEr9CV94g+F5Bqj9ZkSDUWkGqsXYjOZC0uIuN391BcU8yeceFsHmUGnzpQyy0xhJ93OdGX3qlctVdzlBew85V/8l3ZATaMry/kPcJxFktn/KzHBaY8QyhPZafx3dlq9o8AvUPLiORlpEa0rx5RhaWW7/M2AaAJOYkuSIs+RM+jFzzP6Pgk5eKdpq0Bqe7S1oAUwKDwaOYPGMYAXaQEpIQQogntDUh1l/YEpABcI5KIHDcUOy7y8wuZM2cmer1OuZgQQvRr/Tog5Rvpo4UZUnv2pLFy5fvKZj+DBw/k7rtvlQwp0ek8w/PSP3md/cNV3ifj+Qaioi+9k/DzLleu2qfUHE1jz4sPsjmoynsOBgXN5PeL72ZS8kDl4l3KWlzE6bfewLB2DfuHwyfn1QfOYl2D+OyWt5WLt9lv33+EPZbvCHW6CQoLZ1bkYh5cdq9ysWa/1Wiuvyn9KSDlqnNQe+Q0pr3HUKlUJCbGc/fdt0pASgjRKwS61gdq6wj9NiClC2FDUQ4VLpvUkBJC9CqB7geB2jpCvw5IKbU2Q+pf//ovJlOVX/uSJfNZtuwivzbR86QX53d7oKK9Tr/5RqOBqJsn39zlT8PrCcq/XknGZ//j80QX+0dAhDWI2JCz+d0l93X55+0biDKGw+dz3ByP06B3aPnZjIc7JYNrw4kjHCg6wfTU0cwfPlbZ3en6U0AKnyypVL0EoYQQojH9NSCFPHFPCCGa1ecCUr6RO2UGVHPzLcmQ8pCheb3bkhUXMTrlRzz/o943hM2YnsaOZ/7K7uhyv0DUj8qCuWLy8j43LK+1HOUFVKx9h7TVq3l3gpucJBVRtZBqjWfe2Cu59tLrlKt0KGVR+S1T3d46VxPjf9LlP3PKbzM88829tkVbA1Lt2Wd7tDcgpXzinhBC9BbKa77v78QdfU12tzMg1dHH01IdEZDSJkQzaOlM9KkJyi4hhOixuvIe0ecCUu3Rmgwp0Xs9tukT1uQ8A9Q/oW1k7GKeXX6fcrEex1pcxPaVz7PVsFUCUS3gKC8g77X/cDJzD18PdrJnSP1QuSm5QZwTOonFUxYTNWkyYckpylXbRBmIsiSp+ficOjKjgglxRXLrOX/qlKyonqStAanu0t6AFMDIqDguSB1JbKhW2SWEEKIDAlLdpSMCUgBhE4Yx+oJzJEtKCCECkICUj44ISGVn5/Duux9z113/J5lTPdQdz1zN4UgDiw672DtEjTEcwq3BjAuawr9ufVK5eI+w5dVn+O7Ix36BqJ+pJnDxVX/ud8Py2sJRXsD+d/7Bx9UH+H5Aff2GYQY3FxyEs1RJRE2aQtKSi4ieNEW5arOUgahgXRDbppj5cmh9DbnuyIpqj/Z869EfA1KSJSWE6I0CXesDtXWE/h6QqlU5KU3UseTqS6WouRCiVwh0PwjU1hEkIOWjqYBUYzWjApE6Uj3bsufPx6iHdbP/xf51q0g/vpU1I0MwhkNUrYqzXOP469UPdljmTHvsWvMB7+56mbQhTgBGVam4a8DFTLjgOglEtYGjvIBD+9ezOn0Va+NqAIiuhR9/72aYwU1YcjJRk6YQPXEKSRc2/X9YGYgKidRjGFTKyrO0lIVqULvjeebiZ7q8dlV36o8BKSRLSgghmtTegJTT6SQj4wifffY1RqOR8ePHcvnlF5OY6D8Mrry8gvXrN7Nt204AgoODOeecyVx22cVtCgR1VEAKIHLaaIbOmSxZUkIIodDnAlK+kTvPW2jpfGtqSInea94b53NurpN/PbQNGoIUaV+8woYT61gzsj57JroGFhhSuXbuDc0GJjravsNpHD+6k+8zPyUt1QbAiAq4Z/AlTFn+e+Xioo3Ss/bx0ZaX2RyUBUCMBRYeD2XyQYt3mbDkZJKWXEzUpMl+2VOn33zDG4gKjYvBnlDD3uRqPk2t/4W3J2VFea6JrX1ti7YGpNqzz/boqIBUeHAo5yYO5NzEQcouIYTokZTXfN/fiTv6muxuZ0AqL6+AHTt2k5iYwPTpk9m1ay+VlSYuvnixX6CpvLyCvXsPEBISwoIFc/y20RYdGZCSWlJCiN6kK+8RfS4g1R5NZUiJvuHJ1//Ol6r1XFOawp2/f9+vz1FewMHv3uG7Ix/x+eD6TIfoGrjqaDTnz7z8jKBER7EWF7H7qw/5xrgPs/E0+0f80LfkBFw6/2YmL/6Z7yqiA6Vn7eP9Xe+w3bkPgDiri3NKgvhR+SAqj+R4l/NkTxnWrqmfT0xAH+UkN+I0j51V/5Q1veYs/rnkz/0qK8pXWwNS3aWjAlJIlpQQQjSqPQEpt9vNoUNHSUs7yJw5MxkyZCAZGUc4ePAIc+bMZPjwId5ly8srOHw4k4iIcKZMmei3nbboyIAU8sQ9IYQIqF8HpHwjfbQyQ6qpIXyDBw/k7rtvRautryEjeo5fPbKQtMEOnh3YeJAnUGBqajZccMhFcngyQ274eZuzpjzDvACyDmxhB9nkJEJO0g9R5hgLTDLG8fsrHiT8rI4PgInA0ovzeWP7u+yvWg0Ndbrmltm4whhFXew0LOUWjOlp9YGpoQlUV2/jleHhHI0MRu2O5+yEhT0mK6opzX2r0Vx/U/pzQEqypIQQvUmga32gto7Q3oDU0aPHyMw8xpw5M0lMTOD48WzS0w8zdeokv4BUXl4Bq1ev49ChTAAGDEjioosWtSg4ZbPZMZt/yJCmYd/2GgsVG/djK6rw62uL0LgokhdOQ5vS8vcvhBBdSaVSERQUhEajPuN+0Fn3iH4dkFJqb4ZUZaWRV155i1tvvUEKmvdQy547n9EVTv551wfN1mDyBKY2Za3i01QdMWYYVvRDYKq5QtjW4iKshmJM6QcwpadhTE/DGA77h6vOCEKNqlIxQDeav926wm8bouulF+fzyp4vOFK6Doeq0huYWm6JQTNgAs7Cg6zSVnqH56Vo5/PBNY8oN9Mv9eeAFJIlJYQQAbUnIOVyuThw4BBHjmSyZMmCJgNSTqcTi8WKSqXC5XKxY8duCgqKuPTSJWfUm1JyOBzY7XV+bU6nE7OxhvLv9nVIQAogac4kYieOkCwpIUSPpVar0Gg0yuZO0+cCUr6RO2UGVHPzrcmQakx2dg6rV6/n1ltvlAypHubdd/7LS/YP+dEpK/c9skvZ3ShPYOqlws84Ghlcn8FUHM6iHfXZcb51hnyDTx7GcNg/JoT9gx0YG0odxNucTLfGEBU1kl/e/LR3WdFzKANTUXUaLiip5lCUjuPhoHbHc8f0+/jJxJnKVXsU5bcZnvnmXtuirQEpl8tNVVUVL730P/LzC4mMDOfWW29k2LAf/tAAcDic7Nq1l/fe+wQart2JifHcffetREfXD5tsjY4OSMWGapmZNISJccnKLiGE6FGU13zf34nbcx8IxN2OgJTb7ebgwSMcOHCo2SF7So0Frlqqo4fsIbWkhBC9RFfeI7o8IPXFF2tYt24TABMnjuO2225SLuKVnZ3DCy+8js1mB+Cmm67hnHN+yEbx3VZUVCS/+90v25WZ1N4MKSRLqkd7+t5L+HRiDb+zj2PZL15UdjfrjMCUDSZUpbBkXYFyUaoHxbJrlIYDMZUYw1wAxNpVnGuJYFzCZC6/7m/KVUQPlV6cz9eZu1l78h1cqjLoYUXLe5K2BqTq6upYvXodJlMVN9zwE7KyjvPll+u47bYb/QJNDoeTvXvTyMo6zk03/dRvG23R0QGpEI2G0VEJzEoeIllSQgjRoD0BKZooar5o0fkcPpzFoUNHmT9/NlarlbKyCubNm4XNZmtVhlQgnRGQQmpJCSGEn8YCUpqHH374Yb8lfZSUlJCUlKRsbtaePWl8++0W/vzn33DxxYvZsuV7yssrGDNmlHJRKiuN/Pe/r3PVVcu49dYbGDNmJO+++zFDhw4iNjbGb1s//vGPqK2tZd26TUydOong4CDl5lrE4XBitdpQq1VtejysxWLlxRffAGD27BltPg7ROV468DLGcBV/Hn89IYPGKrubpdZFkjJ+NheNWoo1K4dTznyORtaSNkZFzfBhjBg/kw2j6nj9nGq2D7FyKsKCzgXnusdwRdxcHrn+ZebOvJaxEy9Qblr0YMnhkcwdehZTUmaDcxAXjriS38+7QrlYn9Gebz2cTic1NTVERbUuW8lqtbFhwxZmzpxGSkoSwcHBpKcfJjo6kpSUH+41LpeboiIDarWaUaOG+22jOW63G5fLhdvt9k4ulwurzUaRpZoie61ylVZzut04XE4igkNJ0oYru4UQokdRXuvbc/1vjs1mw+l0olar0ela9zt2VFQkoaEhbNiwhc8//5rg4GCWLr2A0NBQjh/PpqysghEjhqLX6zhyJIvXX3+HTZu2ERISwrJlS9sUjKJhuKDNbKH2ZCHOGv/6Uu3hMFvRpyYQEqlXdgkhRI8Q6H4QqK0jOJ1ObDYboaGhBAX9ED/plAypFStWkpycyLJl9QWh9+xJY+PGbQELgGdn5/Duux9z113/5800WrFiJVOmTOScc6bwxRdrKC4u8WZYdURmUmsypBorah4aGsKdd/6cESOG+bWL7nX6zTe4wfk/ZhXZ+fsvPmq2flRLpGftY9uOt/nWtoey0B/G2cbaVUxQj2bS0DlctfhGv3WE6MvamiFlNptZufIDli69gGHDhmCz2Xn77Q+ZOnWiXzHauro6vvjiGzZu3AZAcHAQS5Ys4KKLFvlsLTCn00Vp6ZnfcNe5XBw1l7O/ukTZ1SbBajVjI+I5N24AYWr5UkII0fOEhYV16Zem7c2Q6i6dlSEFEDtuGMlzJhIaG6nsEkKIfqWxDKlOCUj96U//4PLLL/YOuwsUdPK1YsVKjMYq7r77VgoLi/yW9QSEZsyYyrJlF3kDVLfeeqM3cuc71rEl8x1RQ0r0TJ7hejdWxPJ/v/1U2d0u6Vn7+GjLywBcOfFypsy4WLmIEN3G821Ga1/boq0BKZOpmpdeep2rr768yYCU2+3GYrFit9uJjIwgM/M4q1Z9zo03/uSMelMt4e7gIXseUktKCNHTKa/5vr8Tt+c+EIi7nQGpjj6elurMgBRAkC6MgYvOIWrUQNRdGCAUQojmdOU9oksDUn/727+49tofe7OHKiuNPP/8q35tviwWK8899wq5ufkQoIaUb42p1taQqqqqVjY1pIvZUakgJOTMcd0ajdrvJIneoepgOv/47HfsHwFP1U1m4k1PKhcRok8JDQ1RNnWJtgakamvNvPzyShYsmM3kyRMwmap4/fV3WbBgdpOP624scNVSnRWQCtFomBafyvkDWjesUAgh+qL2BqS6S2cHpGgISkWNHEjSzPGSLSWE6JcaC0ip/ZbqBpWVRv7+96cYO3Yk9957O6GhIWzcuA2LxQoNw/1eeOF17rzz5yxZMh+TqYqtW79XbqZRarX6jOmHSJ8KjUZ9xqRSqVCrf5iqqqqw2eprTlVVVfHII0/wyCNPUFVV5becTN07lX27lpMNZWhGj5t3Rr9MMvW1qSlNfNcALejvDCEhwQwfPpiMjMO43W6KiopxOBwMHTqYoiIDDz/8BPv2pWMwlPK//72H1WrD5XKRnZ1Dfn5hm56w15nsTidZxlIyyouVXUII0SMEutYHahOdy2G2Up5xgpxPN2M8lourzqFcRAghulyg+0Ggts7UKRlSTzzxHAsWzGnRkD1ljShPttTYsSNZvHgBzz33yhnbeu21d7jllusCZlu1RGtqSHmOJzo6kttuu4kVK1YCkJycSGbmiYB1sUT32H39cn63sIS5pTYeueXjDqkfJYQ4U1szpGjIdnr99bc5fDiLyMhwbr31RoYMGURm5jHeeutDrrrqMoYMGUh6+hE+/fQrAO9ybRmuRydmSCFZUkII4SUZUi0TpAsjftJI4qaMloLnQoh+o0szpKKjIykq+uEb44oKI6GhoYSFBQ7cJCcnev+t1YYxduxIiovrC8+GhYUSG/tDEGvAgBSio6MoL6/0trkbnqTUmvmWslrrM7WWL7+MykojRmMVy5dfxty55/n1i+5lTE9jh67+Z26YJkWCUaLfUV7XPPPNvXYlt9tNaGgId9zxc55//nEeffRBhg0bglqtZty4sTz22F+YNm0S8fFxLFw4l+eff9xvuZ7I7nSSU13JiarO/yNGCCFaS3nN9/2duDvuA03pacfTWRxmK8XfH6JoUxq2Cv+HJgkhRFdS3g+64x7RKQGpKVMmsmvXfiorjVgsVjZu3MbYsSPRasOorDTypz/9w5tpNH78WHbu3Ed2dg40DOHbtWs/U6ZMRKsNY+jQQXz88VfeIXyHDh3FZKryexS4SqXyK7jVkvnWsNlsVFRUsnXr90RHR56R5SW6n2HdGk4l1v84T4kaquwWos9TXtc88829dqXu2GdXKDZXs63olASlhBA9jvKa7/s7cU+7Jve04+lsFUdyOPb2WiqPnJIhfEKIbqG8H3THPaJTAlLnnDOFGTOm8uCDj3HffQ8RHR3JsmUX+S1jNFZhsVgZMWIYV1xxCU8//RJ33XU/Dz74GDNmTPUO0Vu27CKioyO5776HuOuu+3n//U/4+c+v7bKgUExMNJMmjefpp19i8+YdLFw4D0CCUz2MKT3NWz9qzPjzld1CCIWu+tajvyg2V/PFqSN8cCJdAlNCiB4j0LU+UJvoHg6zlfwNe8hfv0eypYQQXS7Q/SBQW2fqlBpSPV1rakgFYrFY2bv3ANOnT5b6UT2AMT2NjN/ew5+vU0v9KCG6QHtqSHUHdyfWkAokWRfBnJShjIzsHfVThBCiI7ilhlS7hA9JJvWCaeiSYpVdQgjR63VpDamu4BtH8x3r2NL59tBqw5g7d6YEo3oIw7o17G8YwSn1o0R/5bmutfa1K3XHPruDJ1vqq9OZVNgsym4hhOgyymu+7+/EPe2a3NOOp6vVnC4m+4NvKdlzFKfFpuwWQogOp7wfdMc9otcGpHzHNPqOdWzpfGutWLGSu+66nyeeeA6LxYrFYqWy0qhcTHQDU3qat37U5fHjlN1C9AvK8d4tfe1K3bHP7mJ3OjlUUcwXp47IED4hRLdRXvN9fyfuadfknnY83cFhtmL4/hAFG/fLED4hRKdT3g+64x7RawNSreEb6fPMt4anAPu9995OWFh9etn69Rt55ZW3vMXWRfcwpqdhLS7meGoQc0tthI0+R7mIEP1Sc9e55vpFx5BsKSFEdwp0rQ/UJnoOh9lKecaJXl3w3GG2cuqLrRx+8VOyVn5NzmdbOL16ByW7j1BxMJuq7AJqcg2SCSZENwt0PwjU1pn6RUDKN9LnmW+pykojRmMVy5df5tc+d+55AFitEpDqTp7hetVhDuLtTsLPu1y5iBD9UnPXueb6RcexO50cM5WyPu+YZEsJIbpUoGt9oDbR8/TWguee4zYdz8duqsFcVI4x8zQVB7Mp+G4fp1fvIHvVdxx/dx0Zz3zIwWdXNRm4spYZe2VQTojeIND9IFBbZ+q1ASllxlNr59uroqISm02i+t3NlJ7m/feIhOl+fUL0J8rrmme+udeu1B377CnsTic51ZWSLSWE6FLKa77v78Q97Zrc046nJ/BkSxVvy+g1QamSPUepyilqcRDJYbY2Gbg6+uqXpD/1HgefXUXWyq+pLShVbkII0UbK+0F33CN6bUBKmfHU2vmWiomJJjo6klWrPve2Wa1WPv74K5KSEoiJifZbXnQdw9o1WIuL2Tk+EoBZYfJUEtF/Ka9rnvnmXrtSd+yzp5FsKSFEV1Je831/J+5p1+Sedjw9ScWRHI69vbbHFzwv3JxG2YHjnXKMDrMVc1E5lUdPYa+qVXYLIdpAeT/ojntErw1IdaUbbvgJRmMVTz/9EseOZfPgg49520X3MWbUZ0cVRtZI/SghWqmrvvUQZ/LNllqffxyLs065iBBCdIhA1/pAbaLn6+kFzzszGOWr8sgpbBXVymYhRBsEuh8EautMEpBqAa02jN///m6ef/5x7/T739+NVhumXLRfMaancfrNN5TNXcaUnsb+4fX/Hltll/pRQrRCV33rIRpndzo5WFHMFznyJD4hROcIdK0P1CZ6h546hK9kbyaVh3M6PRhFwzko/v4gZkOFsksI0UqB7geB2jpTrw1I+UbufMc6tnS+JVasWMldd93PXXfdz549P9QqAsjOzuFvf/sXlZVGv/b+wpieRsZv78Gw7musxUXK7k7nGa53dMwAAMYNPV+5iBD9inK8d0tfu1J37LOnk2wpIURnUl7zfX8n7mnX5J52PD1ZxZGcHhOUqjxyivL9x7p0GF3N6WKqTxZ2SQBMiL5MeT/ojntErw1I+UbufMc6tnS+OStWrOT06Xz+9rcHuOmma1i58n327EnDYrHyxBPP8fTTLzFp0vh+WUPKE4wCsBYXc/qtrs+S8gzXy4mqv/kNCdYplhCif1GO927pa1fqjn32FpItJYToDMprvu/vxD3tmtzTjqenqziSQ86nm7u1yHfN6WIMuw5jrTApuzpdyZ6jmA2VymYhRCso7wfdcY/otQGp1vCN9Hnmm2KxWLFabfz859cSExPNOedMYcmS+axc+T733fcQAE8++QjLll2kXLXP8wSjwpKTmfjUsyRdeBGGtWsw+jztrit4nq5n1VQzt9Qmw/WEUGjuOtdcv+h6ki0lhOhoga71gdpE72QpNXLy401UHjnV4qfadRRLqZHCLQewdNPQORm6J0T7BbofBGrrTP0iIOUb6fPMN8VqrQ9IxcbGeNtSUpKJiorkb397oN/Wj/INRo2+749ET5rCkBtuBuDYk48qF+80nuF6uy87DxrqR0lBcyH8NXeda65fdB/JlhJCdJRA1/pAbaL3cpit5G/Yg+l4fpcFpSylRvK+2dmt2VkA1lIjNbkGGbonRBsFuh8EautMvTYgpcx4au18W0RFRRIW1v8CUTQSjAIIS05hzH1/rB+610UFzj3D9dKi6/+zSP0oIc68rnnmm3vtSt2xz97KN1vqq9OZVNgsykWEEKJZymu+7+/EPe2a7HA4SEs7yEMPPc6vfvUAK1aspKSk8YBHdXUNX3+9nieeeJa0tAxld7/SlUGpnhKMwufJgzJ0TzTHYbZiLiqnbF8Weet2c/iFTzj47CqyVn5NzmdbKNl9BEtxeaf//+lplPeD7rhHqNxN7OngwYNMmDBB2dzrWa02KitNaDRqEhPjld1UVhr517/+i8nUdKHAqKhIfve7X/b5OlKNBaM8rMVFHHvyMayGIib+61nCklP8+jva7uuXE5aUwm/G5RBZV8nrA68l+tI7lYsJITqJ3W6nuLiYwYMHK7t6JLfbTYWpmn1lBeyvNii7e7wQjYZUXSTTEgcyMjJO2S2EED2C2+3GZDJhs9kICgoiLq5116u8vAJ27NhNYmIC06dPZteuvVRWmrj44sXo9f61Qp1OJ4cPZ7Jp03bCw/VMmTKBKVMm+i3TUnV1DkylFZSs34utqHdnpQbpwkg672zizh6ORhuq7G43h9nKqc+3Un26WNnVrWLHDSN5zkRCYyOVXaIfcpit1BaWYS0zYS4qo7oVWXRBujD0A+IJH5xEWFwU+gHxnfJ/qT+y2+2YTCYiIyMJDf3hnPbaDCnRNZoLRtGQJTX4xpuxFhdz7MnHlN0dyjNcL2nJRdjVVZxV5ZDhekK0QRPfRYgexjdb6oMT6TKMTwjRYoGu9YHaupvb7cZoNGGz2RkyZBA6nZa4uDgsFisGw5mZOIWFxRw9eoyYmCji42OV3f2WJ2OoYOP+Dn8CX33NpkOYS3peNlLVqSJM2QUtDjqIvsFhtmI31VCRkU3xtgxyPt1MxjMfcvDZVZz8aCOFm/ZjzMpt1c+Fw2zFdCKfgu/2kb3qO4688gWHX/yUkx9tpGT3Ear62M9ZoPtBoLbOJBlSATKkRD3D2jVkPfkoYcnJnPv2KmX3GbKefBTD2jVMfOrZgIGrjuDZx/f33sLqkje4NbuaG/6+X7mYEKITSYZU9wrRaJgQm8yclKFoNcHKbiGE6BbtyZByu90cPXqMzMxjzJkzk8TEBI4fzyY9/TBTp05i+PAh3mWrq2vYvz8Ds9nCmDEjOHToKIMGpbYoQ8rhcFCnGJLjdDoxG6sp+3YftqK+USA7SBdGxPABJJw7jpCYCGV3mxi2pVORkd1j/xgPi49iwOJz0Q2Qv+36IofZSl2VGUtROdYKE+aicuwVVd0yxC5IF4Y2OY6wuEi0KXHoByb2yiwqtVqFRqNRNneaxjKkem1Ayu12ewtued5CS+ctFitGY5UEpJrQ2mAUDUP3dl9/davWaS3PcL1/nBNDkWUTn6jnEH/TP5SLCdHveK6JrX1ti7YGpFwuN1VVVbz00v/Izy8kMjKcW2+9kWHDfvhDw5fL5SIz8xgrV37A/PmzueiiRcpFWqSvBaSQYXxCiBZSXvN9fyduz30gEHc7AlJOp4v09EMcOZLJkiULGg1I2e129u1LJzs7hyVLFmCz2UlLy2hxQMpms1Fb61+Tz+12U1droWJjWp8JSHlEjRlM3Iz2B6VKdxyk8uBJXFa7sqtHiZk8itipowmO8B/iKXovp8VG5aEcTAezqas2K7t7BI02FHVwEKFxUegGJqAJC1EuQpAuFFVQkLLZj0Ybgjq46WU6ikqlIjRCT3BYSJfdI/pcQKo9JEOqaW0JRnl41k268CLG3PdHZXe7eLY95r4/cmP+80wvL+e+cTdK/SghulhbA1J1dXWsXr0Ok6mKG274CVlZx/nyy3XcdtuNREdH+S1b/4dNNW+++T5qtZoRI4ZKQCqAEI2GYRGxnJs4kFS9/zkUQoiu1J6AlNvt5tCho6SlHWTOnJkMGTKQjIwjHDx4hDlzZnoDUuXlFaxfv5lt23b6rR8TE8UFF8xjwYI5fu0t0ZdqSAXS3vpKhZvTKDtwvMdmRvkK0oUxcNE5RI0a2GV/2IvOYSk1UrQ1neqcwm7JgurrtAnRDFo6E31qgrKr0zQWkOq0GlJffLGGu+66n7vuup8VK1Yqu/1kZ+fw298+6F1+z576p6h5WCxWnnjiuRZvT8ndQU/Z6w/aE4wCiJo0mehJUzClp2FM9/8c28vzdL3/OQxY1DWMrbJL/SghGtHcda65/s5gt9dx8mQuEyeOR6VSkZKSTFBQEDk5p5WL4nA42LRpKzpdGIMHpyq7RQO700mWsZTVpzPZV1qAxVmnXEQI0Y8FutYHautuKpWK6OgoQkNDOH06D7PZQnl5OVptGDExUWzbtouXXvofJlM111xzBc8//zjPP/84999/D0uWzOfKKy9tUzCqP6g4kkPOp5vb9FS8kr2ZVB7O6RXBKBqGdZWlH8fawfWzRNepPHKK4++s49ibazAdy5VgVCcLdD8I1NaZOiVDas+eND777Gt+97tfEhYWxnPPvcLYsSNZtuwi5aLeJ9pdfvnFnHPOFLKzc3jttXe45ZbrGDFiGBaL1W99i8XKK6+8ySWXLGbEiGHKzbWIZEgFdvrNNzj95utET5rCxKeeVXa3mGfoXnu3o+QZrrdi/lgyyj7g3wcqmf5M/37MrxDdoa0ZUmazmZUrP2Dp0gsYNmwINpudt9/+kKlTJ/oNtXC5XBw7doLNm3fw059exaZNWwkODm5RhpTL5cJkqlY2Y7HXcai6hP3VJcquPiNEoyElLJxJsckM08cou4UQ/UxQUBDBXZgl0p4MKY/jx7P55JPVFBYWMX78WC6//GK0Wi1bt35PdvYpLrlkiV89qby8glYN2Qukr2dIebQ2e6jyyCmKt2VgrTApu3q8AedPIX7yqF5Z16c/cpitVJ0owLDzcK/8eeuNelKGlObhhx9+2G9JHyUlJSQlJSmbm7V69TrGjh3J5MkTCA4OIiQkhL17DzB16qQzboyFhUUcPXqMpUsXotWGERsbQ3Z2DtHRUaSmpnDgwEFOncrlpz/9McHB9TfWGTOmERMT7R3T6ImptXS+rs6B1WpDrVad8RjZ/irryUcp+GRVhwSRgsIjsBqKKd++lahJUwhLTlEu0mqGtWswrFvDkBt/zhtlW6hzl/GLAYvRTV6oXFSIfsmtGOftmW/utS2cTic1NTVERbVuiJjZbGX79p2MHz+WmJhonE4nGRmHSUlJIiWl/l7jdrspKSnlgw8+Y9myi4iLi+HEiZNoNBpGjRqu3OQZ3G43bjdoNBrvpFZrqHM6KbbWUGyvVa7SZzjdbkx1NnJqjRjr7CTqItAHh6BWq2WSSaZ+ONFQtFZ57aeT6oPQUKPJ6XSiVqvR6Vr3O7bb7SYuLpY5c2Zw0UWLmDZtMnq9ntDQEEaNGuH9/d9XVFQkY8aM8t5D2sLlcmEzW6g9WYizxr++VF/iqnNQk1dCaHQEodHhqDSND5SpOV1M0bZ0rGVGZVevYCk1oh+YSGh0uLJL9CAOsxXj0dPkfr2T8owTOHpJJl5fEKwPI2rkQIIjdF12j3A6ndhsNkJDQwnyqafV+JWoHU6fziclJdk7Hxsbjc1mw2q1+i0HMGLEMJKSEnjllbewWKxkZ+dgMJQycmR99lNaWgZjx45Eqw3zW8/35KhU9Tfb1syLH3ieXNcRwSiPITfcTFhyMseefFTZ1Sae4XpRkyZT6zzK3FKbDNcTwofyuuaZb+61KwUFaQgODsFoNOF2u7FYLGdkMzmdLrKzT5GXV8hTT73Avff+mXXrNvHNN9+xcuV7fssGolar0eu1iimM4OCgbnnP3cHudHKiuoyNRdmctpi8X+bIJJNM/W9SXvN9fyfuadfEnnY8fZHDbCV/wx5Mx/MbHQplKTVSuOUAFkPvLfDuMFsp/v4g5l78Hvoyh9lKRUY2x99ex+mvd0hWVDdS3g+64x7RKRlSO3bs5txzpxIbWz9kQKVSsXv3fkaOHOZt8zVu3Fh2797PRx99wc6de7nqqmXe4XpbtnxPeLie1avX8957n/D11xtISIgnNbVlWTdWqw2Hw+k32e111NXVoVLV//FSV1f/CFjfSa1WN3zT3renY/96jJJ13xA1cTJnP/mfM/rbOmn0eoL04ZSs/wZLcRExM2efsUxrppyXnkc/fCRvxmo4YdzFhcUWJl50L6qw8DOWlUmm/jJ5vgFvC3c7vvVoa4aUSgVlZWXk5uYzceJ4Tp3KJTPzOAsXzsNoNPHUUy8QExPFuedO4+KLF3PxxYtZvHg+breLMWNGctVVlyk32WIWm50iczVFfThDypfT7cZot3KiqpzcaiNhQcHEhrYuW0EI0fsFutYHauso7cmQ6i79JUPKw5MppQ4OIiw20m/4nqXUSN43O9tUb6qnsZtqCI0KRxsf1aIhiqLzOcxWSvZmkvfNTioOnZSMqG6kzJDy1Vn3iMYypDolILVlyw4mTBjnDT5ZrVZ2797v1+ZRWWnkn/98hsmTx7Ns2VLS0jIoLS1n6tRJAOzevZ+srBPcdNNPuP765SQkxPP++580GtxSMhqrsdvr/Ka6Oidutwu3W4XD4Tij33P+nU5nn56O3P8bKr7fTuSESYx59Mkz+ts7hQ0dRs2hDGpPniBk8FCC4hPOWKYlk2HtGsq+XceAa67nzYo0ahynuT7XTMIlvzpjWZlk6i+T212fcdRW7bnRONsYkNJoNAwbNpTdu/fz5psfkJV1nBtuuJqkpETy8wvYvz+d8ePH+g29cLlcrRqy15j+FpDy8A1M1dTZGaCPJFjd9p8bIUTvEuhaH6ito0hAqndw1TmwGCqwV9USFhdFkDYUh9lK3prvqcnrO7UWZehez1B55BT563ZTuGk/1ScLcdrkASzdzROQConUK7s67R7hbCQg1SlFzZ944jkWLJjDOedMgYan6L377sfcddf/nTH2+4sv1lBcXMJtt90EDU/U8y1ivmLFSpKTE70F0T398+fP5txzp0KAGlHNzVssVozGqn5d1Dzjt/dgTE/r0GF6gXREgXPPkMJz3/6QpV/fhUtVxifqOcTf9A/lokL0W55vM1r72hZtLWrenn22h9vtpsJUzb6yAvZXG5Td/UaIRkOqLpJpiQMZGdn6YsNCiN5Hec33/Z24o6/J7nYWNe/o42mp/lLUPJAgXf0fpbEThlO8LYPq08XKRXq92HHDSJ4zkdDYSGWX6GSVR05RlnYMc3F5o0NERffwFDXXDYjvsntEY0XN2z7eownR0ZEUFf1wQauoMBIaGkpYmH8dKI/k5ETvv7XaMMaOHUlxcX10Pjk50ftvX74nRxWgRlRz8/1ZVwWjAMKSUxhy488xpqdhWLtG2d0ihrVrSLrwIsKSU3CpyqR+lBABeK5rrX3tSt2xT/EDu9NJTnUlX5w6wqc5hymolZoNQvR1ymu+7+/EPe2a3NOOpz9wmK2UZ5wg59Mt1BaWKbv7hKpTRZiyC3DK8LAu4akPdXTFF5z6Yis1eQYJRvVgyvtBd9wjOiUgNWXKRHbt2k9lpRGLxcrGjdu8hckrK4386U//YMWKlQCMHz+WnTv3kZ2dAw1D+Hbt2u99dOvcuedx+nQ+e/bUF7U+dOgoJlOVt+h5S7gb6q34zvdXXRmM8khaspSw5GROv/W6sqtZniBW9MQpPLbpEwDGVtklICVEM5q7zjXXL/ouu9NJlrGUt46l8e+MrbyWuYePTh5kc+FJskyl5NYYqbD1j2ErQvR1ga71gdpE/+YwW/ts0MBhtmL4/hBmQ6WyS3QgKVTeOwW6HwRq60ydUkMqNTWF2tpaXn31bdav38SQIQO59tqroKGe1I4dewCYOnUSiYkJREZG8NJL/+PrrzewceM2zj//PC64YC40ZEwNHTqIN954ly+/XEtm5jFuu+1GBgxoWVFzFJE+GsYvWq021GoVen3vGN/eXtbiIjb+9Xc4Dhwk6cKLGP9Ixzz9riWCwiMI0kdgWLcGq6GY+Nn1n21LFHy6itrsE4y4825eOrSaGscprs81M/DK+5WLCiF8NPetRnP9TWlrDanu1F9rSDXH6XZjdtRRYbOQX2sis7KUgxXF7CstYHdpHkcqSzhZVUGppZbqOhtGuwW1So02KFi5KSFEDxToWh+oraNIDSnRE7nqHOByo02IJkj7w1Ah0TEqj5wi96sdlGeckELlvUSfryHVFXzHNPqOdWzJfH+qIWUtLuL0W2+w5vgaPjlPjd4WRmT0TCYnT+KB+VcqF+9UGb+9B6uhiNH3/ZHoSfX1xZqzZdFcki68iDH3/ZH5r/+YMdVF/CN6gdSPEkJBOc7bM9/ca1tIDSkRotEQFRJGVEgYCWF6YsN0hGg0JISFExuqVS4uhOgmymu+7+/EHX1NdksNKdGDBenCGLjoHKJGDZSn7nWQyiOnKN6WIdlQvVCfryHVFXxPjipAjajm5vs6a3ERGb+9h93XX82LprV8cp6aIHcs6IZRZNnEmpxnmP/6j/nJ+w95h8J1ttH3PYC1uJhjT7YsO8t3uB6AS1VGvM0lw/WECEB5XfPMN/falbpjn6Jz2J1OSi21nDCV870hl9WnM/n05GFWHNnF84e+Z3dJnnIVIUQ3UF7zfX8n7mnX5J52PKJvqR+6dxBLiQzda6/KI6e8NaIkGNW7Ke8H3XGP6LUBKRGYYe0adl+/nN3XX82p7DSevSKR/SNArzmLTxIX817sRJ4deDNXhS0g2q31C05d9ObtnRqc8hQ4txYXt6jAuTGjvm5Y1KTJUj9KiA7m+QZEiI5WU2fjSGUJJ6ok00CI7hboWh+oTYj+wFJqpPLoKexVMny/LSQQ1fcEuh8EautMvXbIXntYrTYqK019asje6TffwLDua6zFxYQlJ3N89iReDlsPwNTIS/jD6SNYj9XX7vJVFqrhaEQQmZEhbE2oT52LqtPgVmk4x57AssTJjBo4GoCguNSG1wHef7eWtbiIjN/dA8C5b69SdvvxHa73k/cfosiyif9v787jm6ry/oF/krRN0pY2paULW9nUKosWB3FBkXGFcZvF5ZkReMYZGMXi/NBBHrfRGWUYHB0HYRwenGEEfBwd9ypUwQWUUaBCoWxlKaVAabom6ZKtSe7vjzYhub1t0iXJvenn/Xrd1+Gec9Ns5Jybb8753vU76zFq9UHxoUQUQb1dshctXLIXeQkaDc5PHYIrs3O5hI9ogOjrkr1o4ZK9gSUuUYdRt12NQaOyxU3UBdOhk6gvOQqrsSFmk98PNN4le0nDhoibwqarJXuKDUj5r2n0X+sYyn6s5JCyG6tRs/kTVK5vv3qdLjsbWTfOwhsjU1FUsQIAUJD3KC5b9ygAwHDLg0i+4na4Gs7C1VAFAAH/PtVwEnsEK46pzPg2zeO7nwyHG1fXO5DX1IYLm9p89XHpwxCXPhTZD7/mqwtFzadFOPKnP/iCTVK8x1yw+HFk3TQT1/xzOq6uc2BR1nXMH0UkwX/td0/K3uhtQKov99kXDEhFR4JGg0szhmH60DHiJiKKEHGf739O3N99stDHgFR/P55QMSA18CTnZmPY9y9FYtZgcRP5YSAqdskph5RiA1J9ofQZUl0FonLn/Nw3k0gtZKBgxO343rvLAQDZD7/Wo6Vu+4xnsHnvZuxrKMMp505ffZJLj8udg5Efl4rLWm2wHy2G4ZYHYbhlQcDtgyl95CGY95Vg0osvSyY4P/KnP6Dm0yJc9vq/8VLZtyiqWIF55c344Q9+i+Qr7hAfTkQR1NuAVLQwIBU9g7V6XJ6Vi0np/CWaKNb1NSAVLQxIDUxDp+cj45LzoOFV9zqx1ZlR/fU+NFecZSAqRslphtSAyCElCIIv2ufdVyK7sRqV6/+JXffehcr1a6HLzkbunPtw2etvw3zjDZi5/n5U27YiSXMhPsi8Dt97dzni0of1OBgFABdnD8fim+/D6z97Hitn/h8evHQ5cvTXwqZJwueJVXgh4RB+ajDjjbwxaPn2A8nlgN05f/FjANBlgvOaT4uQddNM6LJzUNVsBABc2Ozq8fMgGqiC9XPB2on6Q6PDhv2NRlS1MtcEUTRI9fVSdUQDTW3xYVhrwpPg3GW1w2lp6bTJPbhjqzPjxHvbcHR9ESxHT8n+8VLfSY0HUnXhxBlSCpghJTUjKnf2fci6aSYA4K3SHfjr7iUAgEkZd+PJY7tgP1oM3flTerycLhT7jGfwanEhDtR9Do+qHj+ssuJOWxqGL90sPrRblev/icr1a33L8rzEy/Vmrr8fre7DzB9FJBOcIUU9kaDRYOLgbEzLGQW9Jl7cTEQxgjOkSGl6s3TPZbXD0+aCrc4Me70FgsuNNl8AqjUsgae4RB3U8XF++1okpCb76uITdUgwJEMdp/EdG5eo7SgDbyuFM6IGHjnNkFJsQEoYADmk7MZqVG74p++KdLrsbJy/+PGAJW7Ltr4XkC/qmm/fhv1oMZKvuCPsuZb2Gc/gfzY/h1b3YfywyorZI27s0X36Jzif9MLL0GXnAKLlerrsHOaPIgqBf5/ovx+s7I3eBqT6cp99wYBU9CXHa3FZ5nBcljlC3EREYSTu8/3Pifu7Txb6GJDq78cTKgakBq64RB2yrpiA9AljoNFrO2Y2tQeVHOaWgGBT69l6uG0O8Z9QBP+glDiY5bLaFf3cqHeYQyrK5DxDyjsbynvFPADInXMfsm682Rew8Sr46BWU1r/VKV9UxtylEcuztM94Bos2FcClMuGWOg0eumN5j5bVmfeVoPSRhwISnPtfXc8bcGP+KCL56G1AKloYkJKH7MRBmJYzCuNSevYllYiUoa8BqWhhQGpgi0vUwdPm4swgGlDkNENqQOSQkjO7sRrmfSWoXP9PfHX91b78UOgIRF32+r+RO+fnAcGofcYzmLn+fpTWvyWZLyqSQZuLs4fjpVmrECekYUeKEy9/0L50MFSGi/NhuDgfNZ8WwbyvxDcbzDCpfRbYXuM+gPmjiPpdN79FEIVFo8OKMlMdGh02cRMRhYlUXy9VRzRQeZfgEQ1EUuOBVF04MSAVBd7k5KWPPIRd996F0kceEiUp/zcue/3tToEodASjFhb9DK3uw5iUcTc2COkwf/zXjmDUP6MStPEGpVrjU7EjxYnC/31AfEi3/BOcm0tLAACpF18CAKixHgAAZDjciEsf5ncrIuqL/pyCSxQKp9uNo5Y67G+oFjcRUZhI9fVSdURENPBIjQdSdeGk2ICUf+ROkLiKXrD9SBMHoSrXr4V5XwkMF+cjd859uOazr7sMQnkt2/oeFhb9DOjIF/XksV1o+fYD6M6fguFLN0c1YHNx9nA8/4P/hVOjx2vCfrz3wUviQ7qky87BBYsfh91oDLi6HgB4VPW4us4R0VlfRErk7dd6WkZSNO6T5MXpduOIuQ6lDe1L0okovMR9vv85sdz6ZLk9HiKiWCceD6IxRig2IOUfuVOpVD3ejwRvEMp/KZ69phq5c+7DBYsfxzWffY1JL76M3Dk/F9+0k4KPXkFRxQqohQw8NPwXuGzdo7AfLYbhlgfDciW93rg4eziWXvNH1Gs1WF/zIfYd2S0+pEupF1/iS9buXa63bOt7AIC8JmdUZn4RKYm3X+tpGUnRuE+Sn0aHDfsbjahqtYibiKifift8/3NiufXJcns8RESxTjweRGOMUGxAqif8I33e/XCwG6tR82lRpyCUdynepBdf9s2CyrpppvjmksT5oj6+cLYveXn2w6/BcMsC8U2i6uILLsWKi5agMUHAk9sWY5/xjPgQSbrsHIzsCMx5l+sxfxRR7wXr54K1E4VTja0Zh0y1sLnbxE1E1I+k+nqpOjlwu90oKdmPp59ejl//+jGsWbMOtbV14sPgdDqxfftOLF78DAoKluCll/6GEycqxYcREVEQUuOBVF04DYiAlH+kz7vf3yrX/xO77r0LR/70hy7zQXlnAIVKnC/qX4MnoX7dE77k5XIN0uRPnYW7MRmWeDf+56NfhhyUMlycj0kvvuxbrldjPYArTGrmjyLqhWD9XLB2onByut3Y32jErprT4iYi6kdSfb1UnRycPWvE0aPHce21V+G5557AmDG52LbtG7S2Wn3HuN1ulJUdQ21tLRYvfhDLlj2FiRMvxO7dewOOIyKi4KTGA6m6cFJsQEo846mn+/3NPwgVSj4oKfuMZ/BW6Q4UfPQKZq6/v1O+KPPHf/Xli5JrMMrrV7f9BnMaB6M1zoZHNj7Qo6AUOl4Lj6oecS4b80cRhUDcr3n3g5WRFI37JPlyut2oaDbheBMvs04ULuI+3/+cWE59siAIMJnMcDicyM0dgcREPdLT02Gz2VFTc26WlEajwaRJ4/GjH92KzMwhcDqdsNkc0Gq1iI+PD/ibRETUPfF4EI0xQrEBKfGMp57u96eaT4sAALmz7wspH5TXPuMZFHz0Cgo+egXX/HM6Fhb9DH/dvQSl9W+h1X0YaiEDBXmP4sqPV8B+tBjJV9whm3xRwcSlD8N///cq/LDKCqe6Cb/e9GvxId3aVLYLADCt3i774BuRHIj7Ne9+sDLSzGYL/vjHFSgoWILHH38WFRWdl1kIgoDq6ho8/vhzKChYgocffgolJaXiwygGGK3N2Ft/Fo0Om7iJiPqBuM/3PyeO1jjQlbi4OCQnJyI5OREajQbJyYlITNSLDwMAnD5dhdWr/4m//GU1kpOTcNttNyMhIXhAymq1obq6NmCrr2+Ew+GM2JcvIqJo83gEeDyeTuNBNMYIxQak5KRyw1oA6DYv1D7jGSzb+p5v9pM3AFVa/xZK69+CWsjApIy7MSnjbjx46XJ89fNt+GTa/+CydY/C1VCFjLlLkTF3qfjPylpc+jD8/JKf44dVVnhU9bh27Y/Fh3TJlz+qqY0BKaIwiMaJt8vlwtat25GTk4mXX16G2bPvwttvF8JsPpfcWhAEWCzN+OCDTZg3bzZefnkZ5s27F1u2bAs4jmLHqRYzdtedYT4pojCQ6uul6qJNEATY7Q5YraEFp0eMGIb77/85/t//ux8mkxlvvPFOSEv2dDodMjMzArbBgw1ISIiP2JcvIqJoU6vbA09S44FUXTiphG7ucf/+/Zg4caK4OiSFhUXYvHkrAGDSpIswf/5c8SE+5eUVeOWVtXA4nACAuXPvwZQpnfMtFRYWYdu2b7BgwX0YO3a0uDlkdrsDJpMFGo0amZkZ4uYeMe8rQekjDyHrppm4YPHjQEfwqaz2DL6u3INyUyla3YcDbqMWMqCPG4KxaZNwde5k3D3pcrgaqgAALd9+CACwH90F+9FixKUPQ8bcpYoNyrgaqlC/7gmsd53Cx0PcyNFfi7fu+Z34sE6u+ed0XGFS44GjtRi1+qC4mYiiyOl0wmg0YuTIkeKmbrW2WvG//7sOM2ZchUsumQiLpQlr176BGTOuQn7+JPHhAACXy43i4j3YtasEv/rVXOh0WvEhAQRBgNMZGNgQBAGWFiv2mqpR0lIb0EbykByvxfcyhmLKkOHiJiLqA41GI64Km/YfFCxwOByIi4tDenq6+JAuCYKAAwcOo6RkP6ZNuxy5ucNRWnoI+/cfwrRpl2PMmFzxTYCOnFKhHNedtjYXLHWNqN3yHRzVXEJMRLFPP8SAETdfjqRhQ8RNYeN0OmGxWJCSkgKt9tz5fFgCUsXFJfjgg034zW8ehE6nw8qVryIvbxxuu63zDCKTyYwXXvgr7rhjFqZMyUd5eQX+8Y//wy9+8bOAoJO3XqfT4mc/+wnGjBnl+yXD+xRC3bfZ7DCbm/olIHXkT39AzadF+HbRL3DaY0Vp/VsB7Wqh/e9PGHIdhg3KxmPX/giuhiq4Gs7CfrQYroYqtHz7QcBt0DG7SHf+FMXNipLiaqjCmSduxL/HZIUUlFq29T0UVazAvPJmzDxvZky8BkThJgiC75eOnpS90fuAVCvWr/83br75+xg9OhcOhxOvv/5vTJ48qVNAqq2tDYWFn+Crr77F5MkTMXfufwW0d8Xj8aChwSyuhsPlwqHWBuxprhE3kUxk6pIwNWMYRicZxE1E1AsJCQnQaDSd+n50nBP3ZRyQ0peAFDqW4X3zzS5kZg7B9753CXbu/A4mkwXXXz8dBw8ewYEDh3HttVehqakZVVXVuPHGGfB4PPjmm12oqqrGLbfciMzMnn+5YkCKiAYab0AqcWhGxMaIiAak1qxZh+zsTF8Aqri4BF9+uR0LF86DXq8LOLa8vAJvvPEuCgp+ibS09pPQNWvWIT9/km+WlM1mx8qVryI/fyJ27PgOP/3pj2UzQ+qr669G1k0z8av03fCo6qEWMjBhyHUAgKtzJ+PHw0b4gk/eWU9i3uCTt1TqbKjutHz7Acre/C02nj8BnydWYVLG3Vh16wLxYQCAu998GtW2rfjzXhPy7vk9k5oTyUxvA1JNTS3429/+gbvuuiNoQMrL5XJj167d+Pzzr7Bw4TwYDKniQ4ISBAGNlmbsrq9iQErGEjQanJ86BFdm52KwVjpvDBHJV18DUgBw7Fg53ntvI86ercb48Xm4445Z0Ov1+Prrb1FefhI33HAtBg1KRnFxCbZu/Q9cLhfGjh2F22+f1avZUWBAiogGIDnNkApLDqnKyjPIycn27Q8ebIDD4YDdbg84DgDGjh2NrKwhePXVDbDZ7Cgvr0BNTR3GjTsXcNqy5UsAwPjxeX63DJ0QpqvseZOZGyblw6Oqx8iEqfj4wtl4TgU8eWwXpr7yC5x54kYY//zfMH/8V98SPMMtD8Jwy4PIfvg1jFp9EMOXbkbG3KUw3LIgJoNRAJB8xR0YNflW/ODoAVzgOR+l9W+h4KNXxIcBAGqsBwAAGQ53zL4eROEWrJ8L1h4OGo0a8fEJMJstEAQBNpsNFkuz+LAAGo0aF110AZKSkiQToFPscLrdOGqpw/6GanETEfWSVF8vVScX5503FkuWPIQVK5Zh/vy5yMwcgkGDkjFr1g1YuHAe8vLOw7BhObjjjln4y1+WYtWq5Vi06IFeB6OIiAYyqfFAqi6cwhKQ0um0GDz43JT7wYPTAACNjSa/o86ZPftuAMDixU/jpZdW4+abr/PNliovr8COHbvx4x/f0ml2VSjaX08VABUE4dy+999dbaHwJjNfq21PwHjT4c9Qv+4JmD/+K1wNZ7sMPhluWRDTwaeuGG5ZgOzkbPzqZAVSVGO7DEp5VPW4wtT+XzMufZi4mYhCEGyKbbD2cEhIiMeYMSNRWnoQgiCgutoIl8uFUaNGorq6Bs888zx2794Ho7EWK1b8ry9wdfasEc3Nzb2aHUXK4nS7ccRch9IGo7iJiHpBqq+XqiMiooFHajyQqgunsCzZe/bZFwKW1ZlMZqxa9XfJpXbeHFJTp07G+PF5eOWVtcjKysTChfMAACtXvooZM6ZhypT8gL8Tag6p+noT2tp6duUenS4B8fFx4uoAjV98hpMvv4jB378evxvlQo3jK/y5YShGjpmK+LGTET92svgmBKCtfA8sf3sA9eMm4ckhKbB6yjA+7Sf40/U/BwD8+duN+OzMK5hX3ozrR12PQff8VvwniAhAfHwCtNoE374gWuft3Q9W9kZvl+wJHQnH1659HQcPHkFKSjLmzZuD3NwRKCs7ig0b/o2f/OR2jBo1ApWVp/H66+/A6XQiISEBs2ff2eWyvmAELtlTnBHJBlw7dDSGJTEISdQX4j7f/xy5L+OAFKGPS/b6+/GEikv2iGigifkcUs8/v9IXREIXeaK8CguLYDTW+q7C580XlZc3Djk52Vi37s2A471uvPFaySTpYh6PR1wFh8PpS2qent4+e0tMre5+8tjRF5ah5tMiTNnwFm7d9Cs41U14Tz0N6XOeEx9KIuaPX4Fl4yswXTcXi5p3Ah1J31fe8gDueesZX/6oC+7+HfNHEXWjPweJnuhtQCpaGJBSngSNBhMHZ2NazijoNfHiZiKSob4GpKKFASkiGmhiPoeUwZCC6upz0+0bG83QarXQ6aSX3GVnZ/r+rdfrkJc3DkZjLaZMyceqVct927PPPoasrCFYtOj+kIJR6AgsiTf/L3EajUZyU6lU3W41nxYh66aZ0OcMhVPdhKvrHNCdP6XTcdw6b4OuvAO686dgyN7P8NL4XwAADtR9joUf/y0gf5T+gss63ZYbN27ntr7o5rcIoqhrX7pXj/1cukfUJ1J9vVQdERENPFLjgVRdOIUlIJWfPwk7d+6ByWSGzWbHl19uR17eOOj1OphMZjzxxFKsWbMO6EhUvmPHbpSXVwAdS/h27tzT66UZkeBNZp5140ws2/oeACCvycnZPCGKSx+GjLlL4WqowpDCv2DFrBVAR1CK+aOIIqOvAS2icGtpc+CQqRbHm8I3Y8HpdqOiuRGfnD6KwsrD2NtwFo2O9ryQRLFAqq+XqiMiooFHajyQqgunsASkpkzJx9Spk/HUU8uwePHTMBhSOs1oMpubYLPZMXbsaPzwhz/ASy+tRkHBEjz11DJMnTrZt9yvK/6RO0HiKnrB9vvCm8zccHE+9hr3AQAuGjVddBR1x5vw3dVQhdzvCrFi1gp4VPUAgAmNFgb3iHrI26/1tIykaNwnKVujw4oyU12/BImcbjfqbK04ZKrFJ6ePYs3hXfhz6dd463gp9tafxaHGGnxy6iheO/Id3jq+D4dMtbC5e5aDkkhuxH2+/zmx3PpkuT0eIqJYJx4PojFGhCWHlNzZ7Q6YTBZoNGpkZmaIm7tV82kRjvzpD8idcx9y5/wc1//jVkxtqMPii+bAcMsC8eHUDVdDFerXPQFXw1lkzF2KIyk5WFj0M/x5rwl59/yeQSkimWIOKYqkBI0Gl2YMw/ShY8RN3XK63aiyWlDV2gSjtRnHLT2faZWg0WBYYgompudgdEoa81kRdUNgDikiIkWI+RxScuMf6fPu91bNZu9yvZuxz3gGTnUTAEB3/hTRkRSM/9K9+nVP4OLs4XhPPQ0ZDjdfT6I+CtbPBWsnkov2fFJ1KO0mn1R3s5+2V5/sVTAKviV9JhSePIS/HdzBmVOkOFJ9vVQdERENPFLjgVRdOA2IgJQ4AXBf1kWa95Ug66aZ0GXnYFPZLgDAtHo7Ayi9JA5K2Y8W++qJqPeC9XPB2onkpNFhw/5GI6paLUBHoOistQm766vwyemjeO3obvyjrBiFJw9hb/1ZNNqt4j/RZwxOkRJJ9fVSdURENPBIjQdSdeGk2ICUeMZTT/d7o3L9P4GOZOYAfPmjpoz/QcBx1DPJV7Rfda/l2w/gaqjiUj2iXhD3a979YGUkReM+KXbU2JrxRdUJbDhagj+Xfo31R/Zgy+ljYQtAdYfBKVIKcZ/vf04stz5Zbo+HiCjWiceDaIwRig1IiWc89XS/N2o2bwI6kpkDQLVtK66uc3A2Tz/ImLvU9zpythlRz4n7Ne9+sDKSonGfFDucbjeqWi2+WVJyweAUyZm4z/c/J5Zbnyy3x0NEFOvE40E0xgjFBqQirebTItiNRlyw+HEAwLKt7wEA8pqcDKD0A+/SPTAgRRQRkfrVg2ggYXCK5Eaqr5eqIyKigUdqPJCqCycGpELkTWaeevElAICq5vbkqhc2uxhA6Se686fAcMuDnHFGFAGR+tWDaKDyBqc+OX0EhRWHcLypd4nVifpCqq+XqiMiooFHajyQqgsnxQak/CN3/msdQ93vCbuxOiCZOQCUm0oBAKMm3yo6mvrCcMsCcRURhUC83jvUMpKicZ9E0eYNTH1x5jh211VxthRFlLjP9z8nllufLLfHQ0QU68TjQTTGCMUGpPwjd/5rHUPd74nKDYHJzAGg1X0YV9c5ODuKiGRBvN471DKSonGfRHLR6LBhW/UJRcyWcrrdDJzFCHGf739OLLc+WW6Ph4go1onHg2iMEYoNSPWEf6TPu98Tln0lMFyc70tmzvxRRCR3wfq5YO1E1P+8s6W2V5+UZVDK6XZjf6MRbxzbi8/PlKPRYRMfQgoj1ddL1RER0cAjNR5I1YXTgAhI+Uf6vPuh8iYz958dtde4D+jIH8V8R0QkR8H6uWDtRBQ+RmszCk8ewseVZbII+rQHyhpRWHkIGyvLYLQ146ilDt8YK2Xx+Kj3pPp6qToiIhp4pMYDqbpwUmxASjzjqaf7ofImM8+66VxAqsZ6AGD+KCKSEXG/5t0PVkZSNO6TSK6cbjeOWuqw5fTRqM6WMlqbUVh5CG8dL8Vxy7nH4X18u+vOcPmegon7fP9zYrn1yXJ7PEREsU48HkRjjFBsQEo846mn+6Ew7yvxJTP351HVM38UEcmKuF/z7gcrIyka90kkZ94lfIUnD2HLmWMRDfw0OmzYeKoMrx3ZHRCI8uddwrer5rS4iRRC3Of7nxPLrU+W2+MhIop14vEgGmOEYgNSkeCbHeW3XI/5o4goFkTqVw8iCs4b+IlEwnPvfb1zYj/2NxjFzZ043W4cMdehNIRjSX6k+nqpOiIiGnikxgOpunBiQKobNZ8WBSQzB/NHEVGMiNSvHkQUmnDPlvIGlt4qL8XGyjI02q3iQ7rU6LBhT31V2INl1P+k+nqpOjlwu90oKdmPp59ejl//+jGsWbMOtbV14sPgdDqxfftOLF78TLfHERFR96TGA6m6cFJsQMo/cue/1jHU/WBqPu08OwrMH0VEMiVe7x1qGUnRuE8ipenv2VL+CcvfrziIqlaL+JCQGK3Nsr06IHVN3Of7nxPLrU8+e9aIo0eP49prr8Jzzz2BMWNysW3bN2htPRc8dTqd2L17H06erMTixQ/it79djJycbOzYsRtOZ/8GcYmIYp14PIjGGKHYgJR/5M5/rWOo+8FIJTMH80cRkUyJ13uHWkaa2WzBH/+4AgUFS/D448+ioqJSfAgEQUB1dQ0ef/y5bo8jilXe2VKfnDqKr6tP9nq2VFcJy3ur0WHF/gZjr4NaFHniPt//nDha44AUQRBgNlvgcDiRmzsCiYl6pKenw2azo6bm3OynhIQEXHHFFNx7713IzByCQYOSkZU1BG63G21tvfucEBENVOLxIBpjhGIDUj3hH+nz7nenq2TmzB9FREoRrJ8L1h4OLpcLW7duR05OJl5+eRlmz74Lb79dCLP53JdbQRBQU1OL9evfxLx5s/GXv/wBt956MwoLP4Xd7gj4e0SxrqXNgeK60z2eLdXqcmK78WS/BaK8vLOtSuqr0eiwiZtJhqT6eqk6OdBoNEhOTkRycqLv34mJevFhAWpq6lBRUQmDIRVJSYni5k4cDifM5qaArbm5BS6XG4A8Xxciov4mCALcbo/keCBVF04DIiDlH+nz7nfHOzsqd/bPA+qZP4qIlCJYPxesPRyczjacOHEKkyaNh0qlQk5ONuLi4gJmP6lUKmRnZ2HJkl9j9OhcaDRqjB6dC0CA3W4P+HtEA4F3tlQoy+W8y/3+79hebO/DzKruON1uHLXUYXfdmbD8fepfUn29VF20CYIAu90BqzX0QGdDQyOKi0vgdrtx2WWTxc2S1Go14uLiOm3tr4n8XhcionBRqaTHA6m6cFJsQEo846mn+93xJjPXZecE1lsP4Oo6B/NHEZHsiPs1736wMrIE6PU6GAypUKlU0Ov1SE0dJD4ogMvlwo4dxTAYUmAwpIqbO/F4PKivbwzYGhpMHcGsaDxnov5htDbjw4qDeOd4KcobamC1Wn2bpaUFZfXVeP/E/h4nLO8Np9uN0oZq/OfMiYDHwU1em8vl6tTn+58TR2cckKZSqRAXp4HHI6ClxQq3242WFmuXAaqGhkZ88cXXqK9vwPXXTw9pdhQAxMfH+WZheTe9XgeNRrFfiYiIekylUkGtVncaD6IxRoSt9y0sLEJBwRIUFCzBmjXrxM0Byssr8MgjT/mOLy4u8bXZbHY8//zKTn9LPOOpp/td6SqZ+VulO+BR1QMAl+sRkeyI+zXvfrAyktxuAU1NTeLqLrlcbhQXl2D//sO4/fZZ4mZJKpUKgwYlBWzJyYmIj48TH0qkOG0eD443N+KrutM442yFVquF2dOGzTUn8MHpI6hoMYtvEjZtHg/KmhtR2lQHrVbLTYab//mvfymukwOVSoW0NAO02gRUVp6G1WpDQ0MD9Hod0tJSsX37Tqxe/RpOnKj0BaNMJjPuuGMWMjOHiP8cERGFQDweRGOMCEtAqri4BDt37sGzzz6GP/3pdzCbm1BY2B7oETOZzFi79g3cc8+PsGrVcixadD/ef38jyssrYDKZ8dxzLyIvbxxWrVoe9G/1h8oNawGJZOYnGs8CAKbV2xmQIiLFi9SvHv40GjXi4xNgNlsgCAJsNhsslmbxYUBHMGrnzt34+ONPce+9d4Y0Owodg6f4S5lWq4VGEwcux6BYUWNrwcenyrCmrBhvnziA8qZG8SER0dLmQGmjEQfNddBoNNxkuEn19VJ1cjBixDBMnjwJu3btwZNPLsWJE5WYPv1KxMXFoampCW1tbXA6nTh8+Bh27SpBaekh/P73L6CgYAleeulvOHGCF78gIuoJqfFAqi6cwhKQKikpxdSpk5GWZoBer8OMGdNQVnYcNlvn/B+NjSbodFqMGzcaADB27GiMGjUCjY1mpKUZsHTpE7jttvbgkF6vQ17euC7/Vl+Z95XAbjR2CkbBP39UUxvzRxGR4kXqVw9/CQnxGDNmJEpLD0IQBFRXG+FyuTBq1EhUV9fgmWeeR0lJqS8YtXHjp5g3b05HDiki8ud0u2Fx2qOex6nRYcOe+qqg+a0oOqT6eqk6uTjvvLFYsuQhrFixDPPnz/VdSW/WrBuwcOE85OWdh2nTpuJPf3oGq1Yt922LFj2AMWM4VhAR9YTUeCBVF05hCUhVVp5BTk62b3/wYAMcDodkQtqxY0cjK2sIXn11A2w2O8rLK1BTU+cLUEkxGFKg02l9+/5rHUPdl9JVMnMAqLZtxdV1DiRfcYe4iYgo6sTrvUMtIykuLg4zZ94Aq9WGhx56DBs2/Bt33nkbUlNTYDKZ4HDY4fEIqKurx8aNm9HU1IIXX3wFBQVL8PDDT6GkpFT8J4lIBozW5pCSrlPkift8/3PiaIwD3ZHb4yEiinXi8SAaY4RK6Oae9u/fj4kTJ4qrg3r22Rfw05/+GGPHtgeVTCYzVq36e0CdP5vNjpUrX8WpU2cAAHPn3oMpU/LFh8FkMuOFF/6KqVMn+2ZNBdPY2DmfgsfjQVubCypV+xckr0P33I7U6d/HqIceQUJCgq/+xW8+wuZTqzCvvBk/uOEx6C9jUnMiii61Wg2t9lw/FUlOpxNGoxEjR44UN8mSIAhotDRjd30V9jTXiJuJqB8kaDQ4P3UIrszOxWCtXtxMA4AgCLBYLHA4HIiLi0N6err4EFlqa3PBUteI2i3fwVHNoCoRxT79EANG3Hw5koZFLgef0+mExWJBSkoKtNpzk4vCMkOqJ/zzRC1adD+02gR8+eV2ySV5b7/9IVJTU3DDDTPETV3S63XQ6bTQ6bTQ63XQ63WIj4/vaFX52qzffAUASLs4HxqNJuBSsNWttQCAC5tdSMyb2ulSsdy4ceMW6U2t7r777ua3BiCEdiKinnC63ThqqcPuujNRX0ZI50j19VJ1REQ08EiNB1J14RSWGVLPP78SM2ZM881yKi+vwBtvvIuCgl8iLc0QcGxhYRGMxlrMnz8X8JstlZc3LmAWVGFhEbZt+wYLFtwnOcuqJ+x2B0wmCzQaNTIzMwAAu+69E3ajEdd89rX4cMxcfz9a3Yexfmc9Rq0+KG4mIhpQOEOKiLqSoNHg0oxhmD50jLiJYhxnSBERKUPMz5AyGFJQXW307Tc2mqHVaqHT6QKO88rOzvT925u43Ghsn5WEjqv2bd68Fffc8yNfMMo/jua/1jHUfX81nxbBbjQid859AfVere7DzB9FRLIm7te8+8HKSIrGfRJRZDndbuyur8K2syfETRQF4j7f/5xYbn2y3B4PEVGsE48H0RgjwhKQys+fhJ0798BkMsNms+PLL7cjL28c9HodTCYznnhiKdasWQcAGD8+Dzt27EZ5eQXQsYRv5849yM+fBHQEo9atexM33nhtQF4p/+zvKpWqx/v+zKUlAICsG28OqAeAZVvfAwDkNTmhO3+KuJmISBbE/Zp3P1gZSdG4TyKKPKfbjSPmOpQ2nPtxkqJD3Of7nxPLrU+W2+MhIop14vEgGmNEWAJSU6bkY+rUyXjqqWVYvPhpGAwpnZKQm81NsNnsGDt2NH74wx/gpZdWo6BgCZ56ahmmTp2MKVPyfcEsANi8eSsKCpb4tuLi9iBSf6j5tAhZN82ELjtH3IS9xn1AR/4oBqSIKFZE6lcPIhqYGh027Kmv4pX3okyqr5eqIyKigUdqPJCqC6ew5JCSO/8cUrZPPkLl+rWY9OLLMFzc+cp+1679MTyqeuaPIiLqwBxSRBSq7MRBmJYzCuNSlJFPiHpPYA4pIiJFiPkcUpHgH0fzX+sY6r5XzeZNACAZjAIAj6qe+aOISPa8/VpPy0iKxn0SUXQ1OqwoM9Wh0WETN1EEiPt8/3NiufXJcns8RESxTjweRGOMUGxAyn9No/9ax1D3AcCy7UvYjUZcsPhxX5s/5o8iIqUQr/cOtYykaNwnEUWX0+3GUUsddtedgc3dJm6mMBP3+f7nxHLrk+X2eIiIYp14PIjGGKHYgFRP+Ef6vPsAYPnqCwBA6sWX+Nr8MX8UESlVsF81grUTEfUXp9uN/Y1GbK8+yaBUhEn19VJ1REQ08EiNB1J14TQgAlL+kT7vPgBYDx/oMpk5ANRYD2CwU4UMhxtx6cPEzUREshXsV41g7URE/ckblNpVc1rcRGEk1ddL1RER0cAjNR5I1YWTYgNS4hlPPd2H2wUAyLox8Op//jyqeoy32Jk/iohkT/xrhnc/WBlJ0bhPIpIPp9uN3fVV+LiybEDklHK63bA47aizteK4pQG766uw3XgSX1SV4/0TB/Fa2W5sOFqC3XVVYZs5Ju7z/c+J5dYny+3xEBHFOvF4EI0xQrEBKfGMp57uA0D8kCFdJjNn/igiUhLxrxne/WBlJEXjPolIXpxuNw40GvFOeWlYAzHhFEqgaUXpf/Dn0q/xt4M78I+yYrxzYj+2nD6G7dUnsav2NI5Y6mC0NaOq1YJt1SdQWHEIx5v6/wpv4j7f/5xYbn2y3B4PEVGsE48H0RgjVEI3oa/9+/dj4sSJ4mrFs9sdMJks0GjUyMzMEDcDAO5+82lU27Zi/c56DF+6mUv2iCimCILQ64HG6XTCaDRi5MiR4iZZEgQBjZZm7K6vwp7mGnEzEUVJgkaDYYkpuDRzOMalpIubZcHpdqPKasERcz2Mrc2wOO1hC6IlaDSYODgb03JGQa+JFzf3ilRfL1XXHwRBgMVigcPhQFxcHNLT5fmeirW1uWCpa0Ttlu/gqO7/oCARkdzohxgw4ubLkTg0o9N4EK4xwul0wmKxICUlBVqt1lev2BlS4VZjPYArTO0vD4NRRBRrwjHQEBH1hNPtRkWzCYUnD8luGZ/T7cYRcx3eKi/FW8dLsbf+LIy25rAFo+CXZ6s/Z0tJ9fVSdURENPBIjQdSdeGk2ICU/8Qu/7WOoe53563SHfCo6pFtbWH+KCJSBG+/1tMykqJxn0Qkf063G0ctddhy+mi/BWJ6yz8Q9X7FQVS1WsSHhFV/B+nEfb7/ObHc+mS5PR4iolgnHg+iMUYoNiDlH7nzX+sY6n53TjSeBQDkNbUxfxQRKYK3X+tpGUnRuE8iUgb/QMxbx/dFPDDVfv+NKKw8FJVAlJg311bhyUM4ZKrt9cwscZ/vf04stz5Zbo+HiCjWiceDaIwRig1I9YR/pM+73529xn0AgAsZkCIihQrWzwVrJyKKBv/A1JYzx3odiAmVfyDqreOlOG6JbCAsGKO1GZ+cPtLrZXxSfb1UHRERDTxS44FUXTgNiICUf6TPu9+dattWXGFSQ3f+FOaPIiJFCtbPBWsnIoqmcORT8if3QJS/vgTppPp6qToiIhp4pMYDqbpwUmxASjzjqaf7XVm29T0AwIRGC4NRRKQY4n7Nux+sjKRo3CcRKZd/IKa/ltEpKRAl1psgnbjP9z8nlluf7HK5UFKyH08/vRy//vVjWLNmHWpr68SHAWi/WtP27Tvx0kt/Q0lJqbiZiIhCIB4PojFGKDYgJZ7x1NP9rviW6zW7uFyPiBRD3K9594OVkWY2W/DHP65AQcESPP74s6ioqBQfAnQMgtXVNXj66T+iqOgzcTMRDSDeROMbK8uwu66qRzOEvJQciPLX06Tn4j7f/5w4WuNAV6qra3D06HFce+1VeO65JzBmTC62bfsGra3WgOOcTid27SrBhx8WwWbr/vkTEVHXxONBNMYIxQakwqXGegAAkOFwMyBFRDErUr96+HO5XNi6dTtycjLx8svLMHv2XXj77UKYzYGzHgRBgNFYi5UrX0VTU3NAGxENXI0OG7ZVn+jRDKFYCUSJ+Sc97+61kOrrpeqiTRAEmM0WOBxO5OaOQGKiHunp6bDZ7KipCZwllZCQgGnTpuKhh+ZhwoQLA9qIiCh0UuOBVF04MSAl4lHVM38UEcW8SP3q4c/pbMOJE6cwadJ4qFQq5ORkIy4urtMsqfa2LPzud0swY8a0gDYiGthCnSEUq4EoMaO1udsrE0r19VJ1cqDRaJCcnIjk5ETfvxMT9eLD+sTlcsNudwRsTqcTHo9HfCgRUcwSBAEej0dyPJCqCyfFBqT8I3f+ax1D3ZfC/FFEpFTefq2nZWQJ0Ot1MBhSoVKpoNfrkZo6SHxQn3g8Hlittk6by+UCEI3nTETh4J0h9GHFQRwx1cLlcsHlcsHqcOC4uQ4fnjwY04Eof/5Buk9PHUGzo73Pc7lcnfp8/3Pi6IwD0jweAXa7A1ardICxv7hcLrS0WAM2q9UOl8sjq9eDiCgSxONBNMYIxQak/CN3/msdQ92XwvxRRKRU3n6tp2Ukud0CmpqaxNX9zm53BmwORxtcLg+AyD9nIgqvGlsLNp4+grdP7MfX1Sfx0akyvFNxEOVNjeJDY57T7cZBcy0+rizDUXP7Mjdxn+9/ThyNcaArarUK8fFx8HgEtLRY4Xa7O4JF/Rug0um0yMhIC9gMhhQkJMTJ6vUgIgonlUoFtVrdaTyIxhgRlYCUzWbH88+vREHBEhQULEFxcYn4kACFhUW+Y594YilMJrP4kG75R/q8+1L880clX3GHuJmISDG66ue8grWHg0ajRnx8AsxmCwRBgM1mg8XSvzmi1Go1Bg9ODdjS0lKg0yWIDyWiGOF0u1HZasHO+jOoaDGJmwcU72vxhfEk9jRWS/b1UnXRplKpYDCkQqtNQGXlaVitNjQ0NECv1yEtLRXbt+/E6tWv4cQJ6QthEBFRz0mNB1J14RSVgNSGDW/BYEjBqlXLsWjR/Xj//Y0oL68QHwYAKC4uwc6de/Dss49h1arlmDp1Ml59dQNsNrv40C75R/q8+1K8+aMYjCIipeuqn/MK1h4OCQnxGDNmJEpLD0IQBFRXG+FyuTBq1EhUV9fgmWee5+W7iYj6kVRfL1UnByNGDMPkyZOwa9cePPnkUpw4UYnp069EXFwcmpqa0NbWfnXF06ersHr1P7F8+cvYvHkrXnvtX1izZh1qawOTnxMRUfekxgOpunCKeEDKZDKjpqYO1113DQBg7NjRGDVqBA4eLBMfCgCorjYiN3c40tIMAICrr74CAAIu8yo1AyrYvph//igiIqUR92ve/WBlJMXFxWHmzBtgtdrw0EOPYcOGf+POO29DamoKTCYTHI72Hxra2trw7rsfYdGiJ7F581Zs3LgFjz/+bKfk50RE1D1xn+9/ThyNcaA7giDgvPPGYsmSh7BixTLMnz8XmZlDMGhQMmbNugELF87DmDG5GDFiGO6//+dYtWo5Vq1aHnAsERGFTjweRGOMiHhA6vjxCtjtDgwenOary87OhNFYG3Cc19VXX4HKyjMoLCwCAHz99bcwGFICbi81AyrYvhjzRxGRkon7Ne9+sDKSVCoVtNoEPPDAfVi1ajn+8IenMHp0LtRqNS66KA/Llv0W+fmTEB8fjx//+Fbflw3/Y4mIKHTiPt//nDga40B35PZ4iIhinXg8iMYYoRK6CX3t378fEydOFFf3SXFxCb78cjsWLpwHvV7XZZ2/8vIKvPLKWjgcTqSmpuA3v3nQN2MqmJYWq7iq/SosVjtUKvguJ3v7u/+NYQ47lu47ifQ/7YROpxXfjIhIVuLj48VVIRMEodcDjdPphNFoxMiRI8VNsiQIAhotzdhdX4U9zTXiZiKimJMcr8VlmcMxZcjwTn19X/r/7giCAIvFAofDgbi4OKSnp4sPkaW2NhcsdY2o3fIdHNWxf1VGIiL9EANG3Hw5EodmdBoPwjVGOJ1OWCwWpKSkQKs9F2uJ+AypniouLsErr6zFggX34cYbr4XF0oSvv/5WfFiXvJe99d/cbg9Uqvaon7fOo6rHcJsV8ZNnwePxwO12c+PGjZtsN4+ny98SQhKOgYaIiORFqq+XqiMiooFHajyQqguniM+QKi+vwBtvvIuCgl/6ZjkVFhbBaKzF/PlzA4612exYufJVzJgxDVOm5Ptu/49//B/uu++nGDduDOC3vtH74gXbt9nsMJuboNGokZmZgWVb30NRxQrMK2/GrZf/EoZbFoCISEm8v2b0tOyN3s6Q6st99gVnSBHRQCOeIeXf96PjnLi/+2ShjzOk+vvxhIozpIhooBHPkIrEGCGbGVLe3E+Njecuy2s01iI7O9PvqHN0Oi0GDz63PG/o0BwYDKkwmc4lH1dJ5IgKtu/Pmz/q6noH80cRkSJ5+7WelpEUjfskIhrIxH2+/zmx3PpkuT0eIqJYJx4PojFGRDwglZZmQFbWEHz++VdAx4ynkydPY/z4PN/+I488hcLCIuj1OowaNQLvvvsxbLb2qy8dOHAYFksTxo0bHfB3uyMEucpejfUALrFlAAADUkQUE8T9nFiwdiIiUj6pvl6qjoiIBh6p8UCqLpwiHpACgNmz74bZ3ISCgiV46aXV+OEPf4CxYwMDTN6r7t1220wYDClYvPhpFBQswZtvvof77vtpyEnNIYr0efe9lm19Dx5VPUY3nkLyFXf46omIpHiD5gUFS1BQsATPP7/SFzC32ex4+eU1KC+vEN8s4oL9qhGsnYiIlE+qr5eqIyKigUdqPJCqC6eI55DqL/5rGv3XOoay759D6h+HvkJRxQo8dtiCK66Zz/xRRNQlbw67X/ziZ74g+po16wAA8+fPhclkxqpVf8dPf/rjTkH2cBOv8/buByt7gzmkiIjkjTmkQsccUkQ00AzoHFL9xf/FUUnMgAq27/XVqc0AgAub2rhcj4i61dhohsGQiqFDc3x18+fP7XRBhmgQDxje/WBlJEXjPomIBjJxn+9/Tiy3Plluj4eIKNaJx4NojBGKDUj1l1b3YeaPIqKQDB5sQE1NLQ4cOCxuQnl5BZ577kXU1NThpZdW45FHnvIt3SsuLvEt8fOvR8dVRtesWYc1a9ZJLgMMF+8vIEREFLuk+nqpOiIiGnikxgOpunAa0AGpVbvbZ0dNOVvB/FFEFNTYsaNxzz0/wrp1b6KgYAkKC4sC2p588hFkZQ3BokX348UXn8XYsaNRXl6B99/fiEWL7seqVcuxYMF9eOONd2EymX23LS09hPz8SVi1ajn+9KffAQC2bPnS1x4OkfrVg4iIokeqr5eqIyKigUdqPJCqCyfFBqT8I3eCxFX0gu0DwKHGQwCAC5tdnB1FRCGZMiUfq1Ytx9y592Dz5q2dZjyJff75V7j88kt9OaXGjh2NrKwhOH783G1GjhyOCRMuBADo9Trk5Y1DWdnxHs2S8vZrPS0jKRr3SUQ0kIn7fP9zYrn1yXJ7PEREsU48HkRjjFBsQMo/cue/1jHUfQCod7Qvu8lwuBmQIqIe8QamLrhgHN5992PJ4JH3AgqbN2/1LccrKFiC0tL2YHhXcnKyYbE0wW7v/De7Il7vHWoZSdG4TyKigUzc5/ufE8utT5bb4yEiinXi8SAaY4RiA1I94R/p8+4DgEdVj+81JQIA4tKH+dqJiEKVnz+py+CRXq+DwZCCG2+8FqtWLQ/YpkzJFx/uU11tRGpqCnQ6nbgpZMF+1QjWTkREyifV10vVERHRwCM1HkjVhdOACEj5R/q8+y1tLQCA/Loa5o8ioqBsNjuef35lQMJxm82OL7/cjtzc4UhLMwAA7HYHGhvP5YfKz5+Ebdu+CVjWV1VV7fs3ANTU1OLs2fa68vIKbNv2DWbMmAa9vvcBqWC/agRrJyIi5ZPq66XqiIho4JEaD6TqwkmxASnxjKee7ttcNoD5o4goRHq9Do8+uhAGQwoWL34aBQVLsHjx0zAYUjB//lwAQFqaAVOnTvYlPS8uLsGUKflYsOA+vPLKWt+SvVdeWRuQ1NxgSMUbb7yLgoIleOml1Zg+/cpuZ1BJEf+a4d0PVkZSNO6TiGggE/f5/ufEcuuT5fZ4iIhinXg8iMYYoRK6uaf9+/dj4sSJ4mrFs9sd2HdqPxb/5xGs31mP4Us3y27JntPpREODCTk5WeImxbFYmmGz2ZGdPUTcpDj19SaoVCqkp7fPhlGympo66HQ6pKYOEjcpTnV1LdLTDUhISBA3yV5hYRHKyo5j4cJ5AARYLM3Izs4UHyYrTqcTRqMRI0eOFDfJkiAIaLQ0Y3d9FfY014ibiYhiTnK8FpdlDsdlmSPETWEjCAIsFgscDgfi4uKQnp4uPkSW2tpcsNQ1onbLd3BUN4ibiYhijn6IASNuvhxJwyL3/dzpdMJisSAlJQVardZXr9gZUn01LHkYHq5rfwPkFowiIgq3bn6LICKiGCHV10vVERHRwCM1HkjVhdOADUhpVBpccuIw80cR0YAU6fXh8hDZAZaIKNqk+nqpOiIiGnikxgOpunBSbEDKP3Lnv9Yx1H107DN/FBFF0223zcSjjy7sUwJz+PWJPS0jKRr3SUQ0kIn7fP9zYrn1yXJ7PEREsU48HkRjjFBsQEp81bye7qNjlwEpIooF3j6up2UkReM+iYgGMnGf739OLLc+WW6Ph4go1onHg2iMEQMiqbn3KXpfVJvNDrPJDMfvr0PGC7tER8uDx+NGa6sNgwYli5sUx253wOVyITk5SdykOFarDYAaiYnnErEpVUtLK+Li4qDTKf+5NDe3IjFRC40mTtykKG1tbXA4nCF/Vro7ThCEbgeSYO3dCXdSc0EQYLE0YfXq13DmzFmkpCRj3rw5GD06V3xoSARfUvMz2NNcK24mIoo53qTmU4YM79TX96X/70573x3+pOZutxulpYfwwQebYDabMX58Hu64YxYyM3uXnJdJzYlooPEmNU8cmtFpPAjXGNFVUvMBEZASs9sdsNnssNWegSqld4NXZAjwTeUi2VCpVBGbwhhu4epwomNgfV4GDUrqNiAVTuEOSLW1tWHjxs2wWJowe/bdOHLkGD76aDPmz58DgyFVfHhQDEgR0UATy1fZO326Ct98swuZmUPwve9dgp07v4PJZMGsWTcgKSlRfHhQDEgR0UAjp6vsKTYg5f9FWjwDyv8pqVQqeDyegKlnHo8HbrcbLS1W33Fy4/F44HQ6odP1La+MHLS1tcHt9sTETByHow0qlQoJCcqeiQMADocDarUa8fHx4ibFsdsdSEiIh1qt2FXIQMfMSKfTFdJnJS5Og0GDkn19ocfjgVqt7nK/q7I3ehuQCuU+27/QNGHt2jcwY8ZVuOSSiQH7+fmTxDcJigEpIhpokuISMHlwDq4cOqpT3w+/H9eC9ck90d5/9z4gFcrj8c6O2r//EKZNuxy5ucMD9seM6flM2nMBqWI4qhvFzUREMUebnoKhN1yG1NzsiI0RMReQinVOpxMNDSbk5GSJmxTHYmmGzWZHdnbkIrDhUl9vgkqlQnq6QdykODU1ddDpdEhNHSRuUpzq6lqkpxuQkJAgblIUm80Gi6UZ2dmZ4iZZ6W1AKhTtX2ia8a9/vYubb/4+Ro/OhcPhxOuv/xuTJ08KGpByuz2oq+v8C7fT7cZZZwvOOFrETTFDEIB+PG+QrYHyPIn6IlETh/PThmBcRuTOI/sakAqF2+3GwYNlOH78BKZNuxyZmUNw7Fg59u07iMmTLw4akLLZ7LBYmsXVcNscsB47A3eTfH+sjn0Da6Y7UTQlDE7BkIljMWhImrgpbBiQUhgGpOSJASl5YkCq5/ryq0dvA1Kh3KcgCKipqcW6dW/irrvu6HFAShAEuN0ecTUEQUB9fSPi4+OhVks/hmCPTe6czjYIggCtVtmfg64IAuBwOKHRqBEfr/xZqlJcLjdcrtBmSSqVw+GEWq2Kidm5UtpnuLfJ4j3UahOg1+s69W2h9MW90deAVCiPy+l0YvfufSgvr8CNN87ocUDK4/HA4+n81cflcsNut8Pj6Tx+eAV7bJHgdnvgdrug0Wig0WjEzYrkdrvhdrsRHx8HlUrZM93R8f/Y5XIDQMyMVR6PBy6XGyqVKoaeU/v7pFarEBcXK5+l0PsHtVoNnU6LhIT4Tn1bKH1xbzAgpTAMSMkTA1LyxIBUZPU2IBWK9i80/btkDx0nHrW19Rg8OFXx/0+kCIIAs7kZLlcbhgzp2ZdApfB4BNTVNSA5OQlJSXpxs+IJgoCWFiusVhuysjLEzTFBENrfQ61WGxNjjxSHwwGzuQlZWco/5+mpvgakQhGOJXtKYrc70NJiRWKiHomJyk/rgY5ZazabHSkpyYiLU36ww+32oLXVCo/HA4MhRdysSE5nG1paWqHRaGKm73Y4nGhpsSIhIR6DBkUnJ2t/k3v/0FVASrFhaP84miAIfdonIlI6b5/W0zKSQrlPlUqFpKREjBkzEqWlByEIAqqrjXC5XCFfZU/8HMX3K65nyVJOpZe4PlZKL3F9rJRe4vpold4ZP/6l0HEe7D1GLkJ5PBqNBhkZg6HVJqCy8jSsVhsaGhqg1+tCDgKKXyPx6yH3sp1yHm8opXcT1yuxbF96eI64XbmldxPXK7v0EtcrtWwX2udJaovGGKHYgJT/NDKVStWnfSIipfP2aT0tIynU+4yPj8fMmTfAarXhoYcew4YN/8add94W8hX2xM9RfL/iepYs5VR6ietjpfQS18dK6SWuj1bpvdiHf6nqOA/2HiMXoT6eESOGYfLkSdi1aw+efHIpTpyoxPTpV4Z8hT3xayR+PeRetlPO4w2l9G7ieiWW4jxY4nbllt5NXK/s0ktcr9SyXWifJ6ktGmOEYgNSofBG9fwjfd59/3a5lt4pkeJ6pZXx8RqkprZfDUyqXUllUpIOen37ch+pdiWVgwYlISEhrlO9EkuDYZBkvRLLlJRkyfqelt3lwYDfcXKl1SbggQfuw6pVy/GHPzwV8uwoSLwW4ucqrmfJUk6ll7g+VkovcX2slF7i+miVUue83k3JzjtvLJYseQgrVizD/PlzkZkZ2uwoSLxGSivbhTYDQimldxPXK7HkDClllV7ieqWW7UL7PHm37uojIaYDUt6onn+kz7vv3y7HMiEhAYmJ7b/0SLUrqUxMTIRer+9Ur8RSr9fzfZFhqdfrfWuRpdqVUvbn/y9vP9cV73GxSPxaiJ+ruJ4lSzmVXuL6WCm9xPWxUnqJ66NVSp3zereBSvwaKa1sF9oMCKWU3k1cr8SSM6SUVXqJ65Vatgvt8+TduquPBM0zzzzzjLjSq7a2FllZ8kyqLfhlf/dG8HqyH8kXmYgo3MT9mnc/WNkbbrcbLS0tSE0NbQmdV1/usyekf9URoFa3T0UOduURJWp/zh5otQkxkRRWmgCNRtVxRZzYe46CIMDjcUOni933UBDaP4dxcZqYfY4ejwcJCfGyeX7e/tC/9O8j+7tPdjgccLvdUKvVvh9YQhXdMaLrejlRqQC1WgWNJnbGMpWqvV9Xq9VBf0xTgvarOKqQkBAXM+8RIEClAhIS4mPoOQFqdfuVEGPlOfWmf4jkGOF2u+FwOKDVagPGSF5lj4iIeiScV9kjIiJlEiJwlT0iIlKmrq6yx4AUEdEA1JdfouUekOpmWCMiGlCk+npvnbi+r5QSkOIYQUTULpJjBANSRETUL+QekCIioshTSkCKiIgiL+YCUv7RPO9T8N8P1u6/T0SkdN4+z79Uq9WS9f5lb/Q2INWX++wP0b5/IqJIE/f5/ufA/d0nCn0MSPX34+mpaN8/EVGkRXKMiLmAFBERRUdvA1JERBS7+hqQIiKi2NVVQEr5lzIIgSDKFt9NDI6IKCYE6+eCtRMRkfJJ9fVSdURENPBIjQdSdeE0IAJSKlFSrv6cekZEJEfB+rlg7UREpHxSfb1UHRERDTxS44FUXTgpdsme/5pG/7WO/vveOo/H42vz7oeSWyUapdlswQsv/BUWS5PvOYwcORwLF86DTqftdLwcy8LCImzb9g0eeODnGDduTED7Rx99gs2btwIAJk26CPPnz+10ezmVr766HpWVZ/Cb3zwIgyHVV+//PLzmzLkbl102WfLvRLPctWsP1q9/CwCg1SZ0el8aG0148cVXYLE0SbbLqfR/3VNTUwLeF//n4TVy5HAUFPwSiYl6yb8XrdJud2Dlyldx6tQZ33N55JEFGDw4zXdcYWFRwGdl3rw5nf6Ofynu18T7XZW90dsle325z/4Q7fsnIoo0cZ8vhDE/iNDHJXv9/Xh6Ktr3T0QUaZEcI7pasqfYgFSsKi+vwBtvvIuCgl8iLc0gbpY1m83u+5Kt1SZgwYL7MHbsaF97cXEJPvhgE37zmweh0+mwcuWryMsbh9tumxnwd+TAZDL7AoPewIf/+7FmzTpkZ2fK8rH7Kywsws6de3yP3/89SEsz+N4z7/sgbpeTNWvWwWxuwsKF86DX61BYWISysuO+faV8dsSvOTqeGwDMnz8XUMBnpbcBKSIiil19DUgREVHs6iogNSCW7FFk6PU6PProQixadH/AfzKvkpJSTJ06GWlpBuj1OsyYMQ1lZcdhs9nFh0ZdWpoBS5c+gblz7xE3Kcptt83E0qVP+AI048a1BwiPH68AAJw9Ww2Hw4Grr74CADBhwoVITU3xtcvJ/Plz8eijC6HX6wAA48fnwWy24OzZavGhsub9nPgHl/LzJ8FsbvJ9FiLxWenmtwgiIooRUn29VB0REQ08UuOBVF04aZ555plnxJVetbW1yMrKEldTGJlMZpw6VYWpUy9FfHycuFkRTCYzSkr2Y/LkSRg8OM1XV1T0OaZMycewYTkAALvdjr1724/zBhnk5uxZI8rKjuHKKy8LeIy7d+/DeeeN9T0XpbDb7dizpxSXXTYZgwenYfv2HTCbm3DVVVMRHx+H+Pg4HDxYBkDABRecJ765rJhMZpSVHcP06VdBr9cp9rNjMpmxdu0buOSS8Zgw4cKIfVb6MgXX7XajpaUFqamp4ibZEQQBRmMtli37Cz74YBN2796Liy8eD52uf17HaPN/fu+/vxGbNn2Gzz77CpmZGcjJUfb43dbWhg8/LMI77xQGvGdtbW344INNeOWVtdiyZSsEQcB5540R31z2vO/dCy+sgt1u9z0H/+e3adNn+OSTL3D06AlccskExMUpp2/zeDw4fPgIli1bgY8/3hzw2YuV99DhcOLVV9dh3bo3A56Hy+XGt98W4/nnV2LTps9QVPR51Poeqb5eqq6/OBwOuN1uqNVqJCYmipuplxoaGlFY+AlWr34NmzZ9hi1btqGxsRFjxoxCQkK8+HBZO326Cu+++xEOHz7qe/xutxv79h3E6tWv4YMPNuL06SqMGDEMSUlJ4pvL0rFj5fjXv96D0ViL0aNzodFoFPueOZ1OfPvtd1i58u/YuPHTgPfCv62o6DNFPB8AaG5uweefb8Nf/7oWn376pe9xazRq3/+7d9/9CJs2fYa9e/cjOTlJ9udQ/s+pqOizgPfp9Okq/Otf7+K1194M+nykxgOpuv7gdrvhcDig1WoDzmcUG5DyX9Pov9axN/tyUl5+El988TW2bNmKTZs+w+eff4Vx40b7AjtKIBWQEgdC0PH679q1R9bPTyogZbPZ8dVX3+Krr77Bpk2fYdOmz3DmzFlceukl4pvLzpYtX6Ky8gyuu+4a6PU6HDlyHC6XC5df/j3fMVVV1TAaa2X/fN55pxAul9sXTFPaZ6e8vAJLl/4ZX331LebPn4MrrpgC9OGz4u0Te1r2Rm8DUv75/CLF6WzDO+98iAkTLsSCBfdBp9Ni06bPFPflvjutrVacPHkKDz/8AH70o1tw003f7/LEQyna2tpQWPgJtm79D5KSEjF16qXQ6XTweDw4dqwcO3bsxuLFD+Laa6dhy5Zt0Om0inrO3mDUypWvorW1FWPHjvYFZDweD06cOIm8vPPw61//CjNnXo/LL79UUf9fPR4Pjhw5ho8/3oKHH34At956EyyWJuzbdwCTJo2PiffQ4XBiw4Y3MXLkcDz00HxccskEbN78JYYNy0FqagqMxhpotQl4/PFFmDXrekyffmXEg1HoYmxAmPKDoA8BKTmcm4fj9egvNpsNJpMZEydehAcf/AVuvvn7mDjxItkHAsROn67Cxo2bcejQUQwblo28vPOQkBCPqqpq7N27H+PH5+Hee++C1WpFWdlxjBo1UvbP8dixcrz33kbU1NRi5MjhGDduDDQajSLfM6fTid2796Gi4iTmzLkLM2ZMg9nchDNnzmL06FxUVp7GgQOHcN111+DWW29CbW09Tpyo9AXh5Ki5uQU7d36HpqYW3H//f+OSSyagqqoaZnMTcnNHoL6+AQkJcZg9+y7ceeftuPrqK2Q/FjmdThw4cBgmkwXz58/BVVdN9b1PGRnpOHDgEFQqNX71q7lIT0/H/v2HMWjQIMmUJpEcI7oKSCl2yZ7/i6OSuIpeT/blZMKEC3H//f+NVauWY9Wq5bjggnFYu/YNmExm8aEUJXq9Dj/+8a149tnHsGrVcixadD+OHDmOwsIi8aGyUl5egW3bvsEdd8yS7JCUpLi4BEeOHMePf3yLL1CotM/O2LGj8eKLz+K5557Au+9+7Msj1VvePq2nZSSp1ZEdcgRBgMlkQkODCXl550Gj0WD06JGw222orjaKD1cslUqF1NSUqHzZDZf4+Hj86Ee34IknHkZKyiBfvdvtxpEjx5GVlQGDwYCkpESMGTMSpaUHA24vdyqVCjk5Wfjd75Zgxoxp4mao1WpkZ2eKqxVDrVbjwgsvwKOPLoTBkAqNRoO8vPNgtzvQ0mKNifdQq03AL385BzNnXg+VSoW0tDRkZKTDbLYAHe9xZuYQ8c0iTtzn+58DR2Mc6Ir/44qWaN9/MHq9DgZDirhaUUaMGIb77vsZ/uu/fgS9Xg909Ov19Y1wOJzIzR2BxEQ90tPTYbPZUVNTJ/4TsnPeeWOxYMF9mDXrBsTHBwablPaeJSQk4IorpuDee+9CZuYQDBqUjKysIXC73WhtbUV9fSNUKhWGDcvBoEHJyMgYjKamJpjN8jzXBoBBg5Jx/fXX4s47b0dSUiIMhlRkZ2fBbnfA6WyDRqNBUlKSYmbjoeN9uuyyyfjhD3+ApKREWK02WK1WDBqUDKvVioYGEzIy0pGSMggZGYOh1SagsvK0+M8AMhkjIvvtIEoEQfBF+7z7cqXX6zBhwoW+/TvvvB06nRaNjaaA45RGp9NBq9WisfFch+V9Tl3N+JCzsWNH+YI6Y8eOxvTpV8JorBUfJhveZWEXXDAOU6bk++pzcrIDchcBgNFYK+svQuXlFXjzzfcwffqVAUnzlfrZaQ9w3oKTJ0+jvLyi3z4rwfq5YO2xQwWdTuf7vOp0eqSkKOfkMBhBENDQ0IDS0kP4zW9+i4ceegwrVqyB3e4QHxoz1Gq174u+SqVGdra8f8nsKY9HwOnTVfjHP/4PBQVL8PDDT6GkpFR8mKK0tbmwffsOjBw5HHq9Nubew/ZZbRVoaDBh9OhcCIIHZ86cxcaNW1BQsASLFj2BoqLPxDeLCKm+XqqO5M1qteHQoSO+fuEPf/iz4vsFfxqNGsnJiUhOToRGo0FyciISE9sDVkoVC+9ZTU0dKioqYTCkIimp/b3xBm/a/62898lorMGpU6eRnT0EGo0aJpMFn332FZYs+R0WLXoSb7zxDlpbreKbydKxY+VYvvxlbNjwFs4/f6zvBy7/QGhioh4GQ9crGqTGA6m6cBoQASnxry6RivbROd4Phv+shMZGM7RabUz9qi9HNpsdr766AampKZg9++6AtsGDDXA4HLDb2wNSNpsdZnMTcnKyA46TC//AmlyuONff+uuzEqyfC9YeC7wzpBwOp7gpZqjVauTlnY/FiwuwcuUf8fvf/w9crjZ8+eXX4kNjgscjoLZW/r+Y90VCQjz+679+hBde+D3+8pc/4Cc/uRUff7zZN/NGadra2rBp0xa0ttoxY8bVMfceCoKAmpo6vPXWh7jhhukwGFIRFxeHmTOvx3PPPY6XX16GefPmYNeuPaioqBTfPOyk+nqpOpK3oUOzce+9d2H58qexbNlTuPTSS1BSsj8mPkvts2+ssFpt4iZFU/p71tDQiOLiErjdblx22WQ4HE40NTXB5XKJD1WM06ersGPHbqSmpmL8+AuRkJCAyZMn4fHH/x9WrVqOBQt+jpaWVuzatUd8U1k677yxWLLkIcyefTcOHChDYeEnaGpqhsXSJD60S1LjgVRdOCk2ICWe8dTTfTkymcx49tkXUF5+7gpnb7/9IbRaLYYOVVbybCn5+ZOwc+cemExm2Gx2fPnlduTljeu3JM2RUlhYFLC8yrsULj9/UsBxcmCz2bFy5auwWJowb97sTq/10KE50Gq1+PrrbwEABw4chsXS5Lsan5yYTGa88MJfJQNrSvrsmExmPPHEUhQXl/jqPv/8KxgMqb7H2pvPirhf8+4HKyPJ4/GIq8JKpVIhLc0AQfDAZDJDEATY7TY0NYU+UCuBWq1GTk4WVCoVkpOTcdVVUxVzwttTarUKGRnpvucnCB4YjTXiwxRNpVLBYDBAp9NCo1HjoovykJGRLtvlx91pa2vDRx99igMHDmPu3Luh02lj6j0UOnKBrV79T0ydOtl3HqBSqXy/SqvVaowdOxrDhw+NSlBR3Of7nxNHYxzoivhcPRqiff/daZ81lISkpEQMGpSMMWNykZIyCC0typjJ0R2NRtORI1BAS4u1I0+l8gNUSn7PGhoa8cUXX6O+vgHXXz8dSUmJ0GoTkJSUBIfDgdbWVsUFEk+frsKWLVuh0ahx3XXX+HJ5JSbqfbPos7OzcMEF7cvLnc420V+Qr6ysIRg3bjSamppgt9uRkJAAs7n9XNdqtXU79ojHg2iMEYpNai6e8dTTfTmy2+2YOPEirFmz3ne1JK1Wi4UL53X7RVQuiotLsGzZX7Bjx3dwOJzYseM7/Oc/u3xXBhs2LAetra34+99fx5YtW5GbOxw//elPxH9GFgoLi7By5d+xb98BOBwOfPnldhw4UIbJky9GWpoBzc3NWLny79i06TPs2PEd7r33zoClcHKxd+9+fPXVN77n4E3C7n0uer0OF110Ad5+uxDvv78RZWVHMX/+HNkFcdCRkP3QoSOwWJp8icu9CeXHj89TzGfHbrcjP38SNmz4d5ePtTefFXG/5t0PVvZGb5Oa9+U+e0OlUiE+PgHHjpXD6WzDmDGjcPBgGWpq6nHttdMUlSS6K06nE2+++T4GDUqCwZCK5uZmfPhhEUaNGqnIq5aJtbZacfBgGS65ZAJ0Op3v/9CePfsxfvwFaGtz4YsvtuPyyy+VfRJSKR6PB8ePn4BGo8F5542Bx+PB0aPHsWXLNkyceCHcbg/27t2PgwfLMH36VT2aJRlt3mDUwYNlWLhwnm/JQKy8h/7BqMsv/x5mzrzeV19bW4933ilEXt75UKvVHUncv8PUqZdGPIejuM/3PycOR5/c26Tm/o8rWqJ9/11xOp3Yv/8QDhwow/Dhw2C12lBaegj19Q2YMCFPUblv0HEOYTTWorm5BWPHjoZWq4XL5UJ1tREulwtDhmTg2LFyuFxu5OdPlHUScC+n04nq6hq0tbkwZkwu3G63Yt8zbzDKZDLjjjtm+ZZXazQa2O12nDlzFnq9Dnq9DkeOlEOr1WLChItkm9QcfsEonU6L22+fhaSk9r7p9Okq7Nq1B6qOHzBPnTqN777b6wvwyFVzcwt27PgOhw8fRW7uCDQ3t+DAgTK43W5cfPEEtLS0oLHRhBEjhqGqqhpnzxoxadJ4yfFHPB6Ec4zoKqm5Sugm9LV//35MnDhRXE1ERAon9OHKGU6nE0ajESNHjhQ3yY4gCLBYmrB69WuoqqpGZmZGwJdjJRMEAVarDZWVp/H662+jqakZ8fFxuPHGGb4vx0rk/aK/cuWraGpqBjpOhCdPnoi5c/8LLpcbO3d+h3/96z3FPl/vVQS//HK7ry4lJRm//OVsJCcn47PPtuKbb4qhUqkU+X/W4/GgrOwo/v73/4PTeW7JbEpKMubNm4MRI4Yr/j10OJxYu/Z1HDx4xFen0WiQnz8Bt9xyE/btO4T33/8Y8Hveo0fn+v2FyJDq66Xq+kN7f2uBw+FAXFwc0tPTxYdQLzidTlRVVWP79p3YuXM3NBo1xo/PCwgWKIHT6cSuXSX48MMi2Gzts2rS0lLx/e9fgxkzpvmuVnf2bLVinl9zcwu+/vpbbN681beUbejQLHz/+9cgK2uI4t4zqfcIHblzb799FnJzh6O09BA++GATmpqaMWXKJQEBHjmSeo+878d1112DU6fOYOvWb9DQ0Bjw/1HOgvUJDQ2N2LJlG7Zv34GhQ7Mwc+b1Xa7kkRoPpOr6g9PphMViQUpKCrRara+eASkiIuoRJQWkiIgoMhiQIiKirnQVkBqwOaS6icMRESmOt0/raRlJkc4hJRaN50xEFE3iPt//HFhOfaIczs2jff9ERJEmHg+iMUYoNiDlP41MvO68p/tERErn7dN6WkaSWh3dIScaz5mIKJrEfb7/ObCc+kQ5nJtH+/6JiCJNPB5EY4yI7rcDIiIiIiIiIiIacBiQIiIiIiIiIiKiiGJAioiIiIiIiIiIIooBKSIiIiIiIiIiiigGpIiIiIiIiIiIKKIYkCIiIiIiIiIioohiQIqIiIiIiIiIiCKKASkiIiIiIiIiIoooBqSIiIiIiIiIiCiiGJAiIiIiIiIiIqKI6jYgFR8fD4fDIa4mIqIBrK2tDW1tbeJqIiIa4JxOJwDA7XaLm4iIaADzeDzweDzi6u4DUunp6Th79iyDUkREBABwOByoq6uDIAiora3llw4iIoIgCLBYLKivr0dcXBwcDgfMZrPklw8iIhpY2tra0NjYCLvdDpVKFdCmEgRBCKgRqaurQ0NDA38NJyIixMfHIz09HQaDAdXV1WhubuYXDiKiAU6lUiEpKQmZmZnQ6/WwWq2ora2F1WpFkK8aREQU4zQaDQwGAwYPHgytVhsQlAoakCIiIiIiIiIiIupP3S7ZIyIiIiIiIiIi6m8MSBERERERERERUUQxIEVERERERERERBHFgBQREREREREREUUUA1JERERERERERBRRDEgREREREREREVFEMSBFREREREREREQRxYAUERERERERERFFFANSREREREREREQUUf8fzGLQKuziinMAAAAASUVORK5CYII=)"
      ],
      "metadata": {
        "id": "AFoc3ZEXGsDp"
      },
      "id": "AFoc3ZEXGsDp"
    },
    {
      "cell_type": "markdown",
      "id": "7c5aec8c",
      "metadata": {
        "id": "7c5aec8c"
      },
      "source": [
        "### **Evaluate Model**"
      ]
    },
    {
      "cell_type": "code",
      "execution_count": 23,
      "id": "b9ca5969",
      "metadata": {
        "id": "b9ca5969",
        "outputId": "031f9f6f-b2ad-49e1-f92d-df800d7031bc",
        "colab": {
          "base_uri": "https://localhost:8080/"
        }
      },
      "outputs": [
        {
          "output_type": "stream",
          "name": "stderr",
          "text": [
            "The following columns in the Evaluation set don't have a corresponding argument in `BertForSequenceClassification.forward` and have been ignored: text. If text are not expected by `BertForSequenceClassification.forward`,  you can safely ignore this message.\n",
            "\n",
            "***** Running Evaluation *****\n",
            "  Num examples = 1350\n",
            "  Batch size = 8\n"
          ]
        },
        {
          "output_type": "stream",
          "name": "stdout",
          "text": [
            "{'eval_loss': 0.3975439965724945, 'eval_accuracy': 0.8918518518518519, 'eval_recall': 0.8918518518518519, 'eval_precision': 0.8924432001043584, 'eval_f1': 0.8921147665272452, 'eval_runtime': 24.5474, 'eval_samples_per_second': 54.996, 'eval_steps_per_second': 6.885, 'epoch': 3.0}\n"
          ]
        },
        {
          "output_type": "execute_result",
          "data": {
            "text/plain": [
              "{'eval_loss': 0.3975439965724945,\n",
              " 'eval_accuracy': 0.8918518518518519,\n",
              " 'eval_recall': 0.8918518518518519,\n",
              " 'eval_precision': 0.8924432001043584,\n",
              " 'eval_f1': 0.8921147665272452,\n",
              " 'eval_runtime': 24.5474,\n",
              " 'eval_samples_per_second': 54.996,\n",
              " 'eval_steps_per_second': 6.885,\n",
              " 'epoch': 3.0}"
            ]
          },
          "metadata": {},
          "execution_count": 23
        }
      ],
      "source": [
        "evaluation_history = trainer.evaluate()\n",
        "evaluation_history"
      ]
    },
    {
      "cell_type": "code",
      "execution_count": 24,
      "id": "c4c51a16",
      "metadata": {
        "id": "c4c51a16",
        "outputId": "c3d165fb-027a-4f3f-9889-53b349f3b694",
        "colab": {
          "base_uri": "https://localhost:8080/"
        }
      },
      "outputs": [
        {
          "output_type": "stream",
          "name": "stderr",
          "text": [
            "The following columns in the test set don't have a corresponding argument in `BertForSequenceClassification.forward` and have been ignored: text. If text are not expected by `BertForSequenceClassification.forward`,  you can safely ignore this message.\n",
            "\n",
            "***** Running Prediction *****\n",
            "  Num examples = 150\n",
            "  Batch size = 8\n"
          ]
        }
      ],
      "source": [
        "test_dataset = tokenized_datasets[\"test\"]\n",
        "\n",
        "prediction = trainer.predict(test_dataset)\n",
        "prediction = prediction.predictions.argmax(1)"
      ]
    },
    {
      "cell_type": "code",
      "execution_count": 25,
      "id": "d1bbbb33",
      "metadata": {
        "id": "d1bbbb33",
        "outputId": "41e07e42-5500-4f60-eb0b-9e983354d1eb",
        "colab": {
          "base_uri": "https://localhost:8080/"
        }
      },
      "outputs": [
        {
          "output_type": "stream",
          "name": "stdout",
          "text": [
            "              precision    recall  f1-score   support\n",
            "\n",
            "     Negatif       0.93      0.93      0.93        46\n",
            "      Netral       0.80      0.84      0.82        43\n",
            "     Positif       0.90      0.87      0.88        61\n",
            "\n",
            "    accuracy                           0.88       150\n",
            "   macro avg       0.88      0.88      0.88       150\n",
            "weighted avg       0.88      0.88      0.88       150\n",
            "\n"
          ]
        }
      ],
      "source": [
        "print(classification_report(prediction, actual_label, target_names=[\"Negatif\", \"Netral\", \"Positif\"]))"
      ]
    },
    {
      "cell_type": "code",
      "execution_count": 26,
      "id": "815459cd",
      "metadata": {
        "id": "815459cd",
        "outputId": "8c4ebfb5-4dd3-4d44-f657-7dd8600fac3a",
        "colab": {
          "base_uri": "https://localhost:8080/",
          "height": 452
        }
      },
      "outputs": [
        {
          "output_type": "display_data",
          "data": {
            "text/plain": [
              "<Figure size 640x480 with 2 Axes>"
            ],
            "image/png": "[encoded data removed]"
          },
          "metadata": {}
        }
      ],
      "source": [
        "def show_confusion_matrix(confusion_matrix):\n",
        "        hmap = sns.heatmap(confusion_matrix, annot=True, fmt=\"d\", cmap=\"Blues\")\n",
        "        hmap.yaxis.set_ticklabels(hmap.yaxis.get_ticklabels(), rotation=0, ha='right')\n",
        "        hmap.xaxis.set_ticklabels(hmap.xaxis.get_ticklabels(), rotation=30, ha='right')\n",
        "\n",
        "        plt.ylabel('True Label')\n",
        "        plt.xlabel('Predicted Label')\n",
        "\n",
        "cm = confusion_matrix(prediction, actual_label)\n",
        "show_confusion_matrix(cm)"
      ]
    },
    {
      "cell_type": "markdown",
      "id": "c5ae5e62",
      "metadata": {
        "id": "c5ae5e62"
      },
      "source": [
        "### **Save And Load Model**"
      ]
    },
    {
      "cell_type": "code",
      "execution_count": 27,
      "id": "81e32e4c",
      "metadata": {
        "id": "81e32e4c",
        "outputId": "ba642e36-7eb6-4d34-aff6-78179fe6daab",
        "colab": {
          "base_uri": "https://localhost:8080/"
        }
      },
      "outputs": [
        {
          "output_type": "stream",
          "name": "stderr",
          "text": [
            "Configuration saved in model/config.json\n",
            "Model weights saved in model/model.safetensors\n"
          ]
        }
      ],
      "source": [
        "model.save_pretrained(\"model\")"
      ]
    },
    {
      "cell_type": "code",
      "execution_count": 28,
      "id": "0573d35a",
      "metadata": {
        "id": "0573d35a",
        "outputId": "329653ec-5770-4788-c5f0-fb8b2635b9a5",
        "colab": {
          "base_uri": "https://localhost:8080/"
        }
      },
      "outputs": [
        {
          "output_type": "stream",
          "name": "stderr",
          "text": [
            "loading configuration file model/config.json\n",
            "Model config BertConfig {\n",
            "  \"_num_labels\": 5,\n",
            "  \"architectures\": [\n",
            "    \"BertForSequenceClassification\"\n",
            "  ],\n",
            "  \"attention_probs_dropout_prob\": 0.1,\n",
            "  \"classifier_dropout\": null,\n",
            "  \"directionality\": \"bidi\",\n",
            "  \"hidden_act\": \"gelu\",\n",
            "  \"hidden_dropout_prob\": 0.1,\n",
            "  \"hidden_size\": 768,\n",
            "  \"id2label\": {\n",
            "    \"0\": \"LABEL_0\",\n",
            "    \"1\": \"LABEL_1\",\n",
            "    \"2\": \"LABEL_2\"\n",
            "  },\n",
            "  \"initializer_range\": 0.02,\n",
            "  \"intermediate_size\": 3072,\n",
            "  \"label2id\": {\n",
            "    \"LABEL_0\": 0,\n",
            "    \"LABEL_1\": 1,\n",
            "    \"LABEL_2\": 2\n",
            "  },\n",
            "  \"layer_norm_eps\": 1e-12,\n",
            "  \"max_position_embeddings\": 512,\n",
            "  \"model_type\": \"bert\",\n",
            "  \"num_attention_heads\": 12,\n",
            "  \"num_hidden_layers\": 12,\n",
            "  \"output_past\": true,\n",
            "  \"pad_token_id\": 0,\n",
            "  \"pooler_fc_size\": 768,\n",
            "  \"pooler_num_attention_heads\": 12,\n",
            "  \"pooler_num_fc_layers\": 3,\n",
            "  \"pooler_size_per_head\": 128,\n",
            "  \"pooler_type\": \"first_token_transform\",\n",
            "  \"position_embedding_type\": \"absolute\",\n",
            "  \"problem_type\": \"single_label_classification\",\n",
            "  \"torch_dtype\": \"float32\",\n",
            "  \"transformers_version\": \"4.52.2\",\n",
            "  \"type_vocab_size\": 2,\n",
            "  \"use_cache\": true,\n",
            "  \"vocab_size\": 50000\n",
            "}\n",
            "\n",
            "loading weights file model/model.safetensors\n",
            "All model checkpoint weights were used when initializing BertForSequenceClassification.\n",
            "\n",
            "All the weights of BertForSequenceClassification were initialized from the model checkpoint at model.\n",
            "If your task is similar to the task the model of the checkpoint was trained on, you can already use BertForSequenceClassification for predictions without further training.\n"
          ]
        }
      ],
      "source": [
        "model = AutoModelForSequenceClassification.from_pretrained(\"model\")"
      ]
    },
    {
      "cell_type": "code",
      "execution_count": 29,
      "id": "0d39644f",
      "metadata": {
        "id": "0d39644f",
        "outputId": "6ea9b2e3-edd5-44aa-dd5b-dfb2a006a244",
        "colab": {
          "base_uri": "https://localhost:8080/"
        }
      },
      "outputs": [
        {
          "output_type": "stream",
          "name": "stderr",
          "text": [
            "No `TrainingArguments` passed, using `output_dir=tmp_trainer`.\n",
            "PyTorch: setting up devices\n",
            "The default value for the training argument `--report_to` will change in v5 (from all installed integrations to none). In v5, you will need to use `--report_to all` to get the same behavior as now. You should start updating your code and make this info disappear :-).\n"
          ]
        }
      ],
      "source": [
        "trainer = Trainer(model=model)"
      ]
    },
    {
      "cell_type": "code",
      "execution_count": 30,
      "id": "2ba2dac6",
      "metadata": {
        "id": "2ba2dac6"
      },
      "outputs": [],
      "source": [
        "def predict(text):\n",
        "    tokenized = tokenizer(text, padding='max_length', max_length=256)\n",
        "    label = trainer.predict([tokenized]).predictions.argmax(1)[0]\n",
        "    if label == 0:\n",
        "        print(f'Predicted: Negatif [{label}]')\n",
        "    elif label == 1:\n",
        "        print(f'Predicted: Netral [{label}]')\n",
        "    else:\n",
        "        print(f'Predicted: Positif [{label}]')\n"
      ]
    },
    {
      "cell_type": "code",
      "execution_count": 31,
      "id": "d9b45fa9",
      "metadata": {
        "id": "d9b45fa9",
        "outputId": "785a3bb3-6ec7-4ffd-ae91-ef338f1440d0",
        "colab": {
          "base_uri": "https://localhost:8080/",
          "height": 126
        }
      },
      "outputs": [
        {
          "output_type": "stream",
          "name": "stderr",
          "text": [
            "\n",
            "***** Running Prediction *****\n",
            "  Num examples = 1\n",
            "  Batch size = 8\n"
          ]
        },
        {
          "output_type": "display_data",
          "data": {
            "text/plain": [
              "<IPython.core.display.HTML object>"
            ],
            "text/html": []
          },
          "metadata": {}
        },
        {
          "output_type": "stream",
          "name": "stderr",
          "text": [
            "Automatic Weights & Biases logging enabled, to disable set os.environ[\"WANDB_DISABLED\"] = \"true\"\n"
          ]
        },
        {
          "output_type": "stream",
          "name": "stdout",
          "text": [
            "Predicted: Negatif [0]\n"
          ]
        }
      ],
      "source": [
        "predict(\"\"\"\n",
        "    universitas telkom mahal banget bayar bpp full\n",
        "    padahal kuliah online gak dikembalikan duitnya\n",
        "\"\"\")"
      ]
    },
    {
      "cell_type": "code",
      "execution_count": 32,
      "id": "f89dfd3c",
      "metadata": {
        "id": "f89dfd3c",
        "outputId": "07a2b68e-3038-434e-b603-b5762f7912ca",
        "colab": {
          "base_uri": "https://localhost:8080/",
          "height": 108
        }
      },
      "outputs": [
        {
          "output_type": "stream",
          "name": "stderr",
          "text": [
            "\n",
            "***** Running Prediction *****\n",
            "  Num examples = 1\n",
            "  Batch size = 8\n"
          ]
        },
        {
          "output_type": "display_data",
          "data": {
            "text/plain": [
              "<IPython.core.display.HTML object>"
            ],
            "text/html": []
          },
          "metadata": {}
        },
        {
          "output_type": "stream",
          "name": "stdout",
          "text": [
            "Predicted: Positif [2]\n"
          ]
        }
      ],
      "source": [
        "predict(\"saya senang sekali kuliah di universitas telkom\")"
      ]
    },
    {
      "cell_type": "code",
      "execution_count": 33,
      "id": "08b7999f",
      "metadata": {
        "colab": {
          "base_uri": "https://localhost:8080/",
          "height": 108
        },
        "id": "08b7999f",
        "outputId": "c0b9ccb6-9ec7-4167-94f1-92754c7be4d6"
      },
      "outputs": [
        {
          "output_type": "stream",
          "name": "stderr",
          "text": [
            "\n",
            "***** Running Prediction *****\n",
            "  Num examples = 1\n",
            "  Batch size = 8\n"
          ]
        },
        {
          "output_type": "display_data",
          "data": {
            "text/plain": [
              "<IPython.core.display.HTML object>"
            ],
            "text/html": []
          },
          "metadata": {}
        },
        {
          "output_type": "stream",
          "name": "stdout",
          "text": [
            "Predicted: Netral [1]\n"
          ]
        }
      ],
      "source": [
        "predict(\"kuliah online di tel-u enak-enak aja kok\")"
      ]
    },
    {
      "cell_type": "code",
      "source": [
        "from huggingface_hub import notebook_login\n",
        "notebook_login()"
      ],
      "metadata": {
        "colab": {
          "base_uri": "https://localhost:8080/",
          "height": 17,
          "referenced_widgets": [
            "4f346ae266614148857a157fb9eae8b2",
            "bb39f759afc94f7ca106675bbe9f966f",
            "8bea99bc106945afa6054eb2ae1672e4",
            "75d508233aca4a64bda3295e181d4872",
            "633cb6d3c46c428b9e0d4b31f226b676",
            "3338c7fa36164609b54d383eca466902",
            "5bd6cb6dc2194c269b07f9b5bac8e216",
            "1f88c65e290343b8bd027205b54fcc9a",
            "bf784dd0c4ad4e99a658fa7a5dadb73f",
            "5124786f5f754f59ad0364da9b7b5121",
            "05d3adfa8ef8405f9a6274e56f8b49dc",
            "e9bedb0d804e4e4897414cdcadcafa86",
            "d8c03cd3e2e740e489b12ab328cc15e9",
            "920440d6fe904dec818ae35b5ff1fd4f",
            "dc3db9b6206c432cb6a53c96513bc8ed",
            "beac1534bfbc43ba8fd2b55da284c75e",
            "e0acc59f6ea240e5879b34db5c45b651",
            "72d80ed93ae34968830838ba2a07c8a6",
            "619e532b4aa340e781d1f6b8429aec57",
            "bd1fa6d7afa4427a8876afd71b396cd5"
          ]
        },
        "id": "4n-cL-lTg22v",
        "outputId": "c4a8c8ea-06b7-4fc1-9bad-50d48d413d7e"
      },
      "id": "4n-cL-lTg22v",
      "execution_count": 34,
      "outputs": [
        {
          "output_type": "display_data",
          "data": {
            "text/plain": [
              "VBox(children=(HTML(value='<center> <img\\nsrc=https://huggingface.co/front/assets/huggingface_logo-noborder.sv…"
            ],
            "application/vnd.jupyter.widget-view+json": {
              "version_major": 2,
              "version_minor": 0,
              "model_id": "4f346ae266614148857a157fb9eae8b2"
            }
          },
          "metadata": {}
        }
      ]
    },
    {
      "cell_type": "markdown",
      "source": [
        "## **Publish To HuggingFace**"
      ],
      "metadata": {
        "id": "GRu7myIdidsK"
      },
      "id": "GRu7myIdidsK"
    },
    {
      "cell_type": "markdown",
      "source": [
        "[ShinyQ/indobert-sentiment-analysis-indonesian-university-reviews](https://huggingface.co/ShinyQ/indobert-sentiment-analysis-indonesian-university-reviews)"
      ],
      "metadata": {
        "id": "hRREvYXaiwE6"
      },
      "id": "hRREvYXaiwE6"
    },
    {
      "cell_type": "code",
      "source": [
        "model.push_to_hub(\"ShinyQ/indobert-sentiment-analysis-indonesian-university-reviews\")"
      ],
      "metadata": {
        "colab": {
          "base_uri": "https://localhost:8080/",
          "height": 190,
          "referenced_widgets": [
            "194f76e8b19e4de3b131b7acdf3543a3",
            "bfacb87fb6a04a538ab249c3b7e37a9f",
            "981d4817155a408f8516117140497b8f",
            "dd9ae70783f64dc8afe40cfb30b59709",
            "098391487adf4590be6afd078efbe011",
            "e274f7717f924fe28a04c5d7f40ce02a",
            "b8ea5b24130e40a8a54744c31c019709",
            "c661255ca01d44f3b4e94b970e37d3e6",
            "590cf23c0dd34c5ca93cb84e8492fd34",
            "5ccbe6ebb05844ee957108377a286402",
            "79f1b120f6a14bc28bdb7fbd85084b91",
            "0443ce47301b47ce9d726f37cd99f884",
            "125edf4992e741778ebedc427fc6cee3",
            "ab143213858e4c328343f0dd1a5154e4",
            "26952d3ae0aa40c0be9fa27601224f99",
            "093b598410dd43668cf3301e490dcb8c",
            "0a9cef5a292d4e84b7080575dc785271",
            "8e6f6a53a5c943e383ab6acc6525659b",
            "bba104206cb64fe899dc55a6fb43373d",
            "2440c4410462433b866a4501a4016f90",
            "6657b49dc0504ec6bc636c9f42e67670",
            "c532bbbe720a4e3a8c980a999ca8a59f"
          ]
        },
        "id": "PCydU09kh65J",
        "outputId": "6367bfef-256d-4ec2-fd2c-617d89fa7898"
      },
      "id": "PCydU09kh65J",
      "execution_count": 35,
      "outputs": [
        {
          "output_type": "display_data",
          "data": {
            "text/plain": [
              "README.md:   0%|          | 0.00/4.05k [00:00<?, ?B/s]"
            ],
            "application/vnd.jupyter.widget-view+json": {
              "version_major": 2,
              "version_minor": 0,
              "model_id": "194f76e8b19e4de3b131b7acdf3543a3"
            }
          },
          "metadata": {}
        },
        {
          "output_type": "stream",
          "name": "stderr",
          "text": [
            "Configuration saved in /tmp/tmp85wkvha7/config.json\n",
            "Model weights saved in /tmp/tmp85wkvha7/model.safetensors\n",
            "Uploading the following files to ShinyQ/indobert-sentiment-analysis-indonesian-university-reviews: model.safetensors,config.json,README.md\n"
          ]
        },
        {
          "output_type": "display_data",
          "data": {
            "text/plain": [
              "model.safetensors:   0%|          | 0.00/498M [00:00<?, ?B/s]"
            ],
            "application/vnd.jupyter.widget-view+json": {
              "version_major": 2,
              "version_minor": 0,
              "model_id": "0443ce47301b47ce9d726f37cd99f884"
            }
          },
          "metadata": {}
        },
        {
          "output_type": "execute_result",
          "data": {
            "text/plain": [
              "CommitInfo(commit_url='https://huggingface.co/ShinyQ/indobert-sentiment-analysis-indonesian-university-reviews/commit/dde4f772dbbccaa266a183c4784f5c6a79242c3b', commit_message='Upload BertForSequenceClassification', commit_description='', oid='dde4f772dbbccaa266a183c4784f5c6a79242c3b', pr_url=None, repo_url=RepoUrl('https://huggingface.co/ShinyQ/indobert-sentiment-analysis-indonesian-university-reviews', endpoint='https://huggingface.co', repo_type='model', repo_id='ShinyQ/indobert-sentiment-analysis-indonesian-university-reviews'), pr_revision=None, pr_num=None)"
            ],
            "application/vnd.google.colaboratory.intrinsic+json": {
              "type": "string"
            }
          },
          "metadata": {},
          "execution_count": 35
        }
      ]
    }
  ],
  "metadata": {
    "colab": {
      "provenance": [],
      "gpuType": "T4"
    },
    "interpreter": {
      "hash": "f76d4fda128b12615e46e0e8dd834a222e7abd956eb53de74309670d1db4104c"
    },
    "kernelspec": {
      "display_name": "Python 3",
      "name": "python3"
    },
    "language_info": {
      "codemirror_mode": {
        "name": "ipython",
        "version": 3
      },
      "file_extension": ".py",
      "mimetype": "text/x-python",
      "name": "python",
      "nbconvert_exporter": "python",
      "pygments_lexer": "ipython3",
      "version": "3.9.12"
    },
    "widgets": {
      "application/vnd.jupyter.widget-state+json": {
        "fd608a77295346309f40ae97c7ed96b0": {
          "model_module": "@jupyter-widgets/controls",
          "model_name": "HBoxModel",
          "model_module_version": "1.5.0",
          "state": {
            "_dom_classes": [],
            "_model_module": "@jupyter-widgets/controls",
            "_model_module_version": "1.5.0",
            "_model_name": "HBoxModel",
            "_view_count": null,
            "_view_module": "@jupyter-widgets/controls",
            "_view_module_version": "1.5.0",
            "_view_name": "HBoxView",
            "box_style": "",
            "children": [
              "IPY_MODEL_9875f779f29c48ecafdebce8c3f6fade",
              "IPY_MODEL_e0d48f9dec6b4d92bb211f1a5dadb439",
              "IPY_MODEL_50d3ae9c7f4840d4a3436a17f878b7b2"
            ],
            "layout": "IPY_MODEL_a037509f739e47a6815acf41c3b4b8b2"
          }
        },
        "9875f779f29c48ecafdebce8c3f6fade": {
          "model_module": "@jupyter-widgets/controls",
          "model_name": "HTMLModel",
          "model_module_version": "1.5.0",
          "state": {
            "_dom_classes": [],
            "_model_module": "@jupyter-widgets/controls",
            "_model_module_version": "1.5.0",
            "_model_name": "HTMLModel",
            "_view_count": null,
            "_view_module": "@jupyter-widgets/controls",
            "_view_module_version": "1.5.0",
            "_view_name": "HTMLView",
            "description": "",
            "description_tooltip": null,
            "layout": "IPY_MODEL_72acd9b33056403d8fbc9f2984e6484c",
            "placeholder": "​",
            "style": "IPY_MODEL_e326ab2dee564645a45370551feda517",
            "value": "tokenizer_config.json: 100%"
          }
        },
        "e0d48f9dec6b4d92bb211f1a5dadb439": {
          "model_module": "@jupyter-widgets/controls",
          "model_name": "FloatProgressModel",
          "model_module_version": "1.5.0",
          "state": {
            "_dom_classes": [],
            "_model_module": "@jupyter-widgets/controls",
            "_model_module_version": "1.5.0",
            "_model_name": "FloatProgressModel",
            "_view_count": null,
            "_view_module": "@jupyter-widgets/controls",
            "_view_module_version": "1.5.0",
            "_view_name": "ProgressView",
            "bar_style": "success",
            "description": "",
            "description_tooltip": null,
            "layout": "IPY_MODEL_b36d90d3669d4b92876592346894437e",
            "max": 2,
            "min": 0,
            "orientation": "horizontal",
            "style": "IPY_MODEL_502024339dfc4b5d9674dab5f976d4b7",
            "value": 2
          }
        },
        "50d3ae9c7f4840d4a3436a17f878b7b2": {
          "model_module": "@jupyter-widgets/controls",
          "model_name": "HTMLModel",
          "model_module_version": "1.5.0",
          "state": {
            "_dom_classes": [],
            "_model_module": "@jupyter-widgets/controls",
            "_model_module_version": "1.5.0",
            "_model_name": "HTMLModel",
            "_view_count": null,
            "_view_module": "@jupyter-widgets/controls",
            "_view_module_version": "1.5.0",
            "_view_name": "HTMLView",
            "description": "",
            "description_tooltip": null,
            "layout": "IPY_MODEL_a2a09bbb82e849e58b87f9e2fc541c0c",
            "placeholder": "​",
            "style": "IPY_MODEL_1776f12e250f45d28e69d6e685e10ec5",
            "value": " 2.00/2.00 [00:00&lt;00:00, 197B/s]"
          }
        },
        "a037509f739e47a6815acf41c3b4b8b2": {
          "model_module": "@jupyter-widgets/base",
          "model_name": "LayoutModel",
          "model_module_version": "1.2.0",
          "state": {
            "_model_module": "@jupyter-widgets/base",
            "_model_module_version": "1.2.0",
            "_model_name": "LayoutModel",
            "_view_count": null,
            "_view_module": "@jupyter-widgets/base",
            "_view_module_version": "1.2.0",
            "_view_name": "LayoutView",
            "align_content": null,
            "align_items": null,
            "align_self": null,
            "border": null,
            "bottom": null,
            "display": null,
            "flex": null,
            "flex_flow": null,
            "grid_area": null,
            "grid_auto_columns": null,
            "grid_auto_flow": null,
            "grid_auto_rows": null,
            "grid_column": null,
            "grid_gap": null,
            "grid_row": null,
            "grid_template_areas": null,
            "grid_template_columns": null,
            "grid_template_rows": null,
            "height": null,
            "justify_content": null,
            "justify_items": null,
            "left": null,
            "margin": null,
            "max_height": null,
            "max_width": null,
            "min_height": null,
            "min_width": null,
            "object_fit": null,
            "object_position": null,
            "order": null,
            "overflow": null,
            "overflow_x": null,
            "overflow_y": null,
            "padding": null,
            "right": null,
            "top": null,
            "visibility": null,
            "width": null
          }
        },
        "72acd9b33056403d8fbc9f2984e6484c": {
          "model_module": "@jupyter-widgets/base",
          "model_name": "LayoutModel",
          "model_module_version": "1.2.0",
          "state": {
            "_model_module": "@jupyter-widgets/base",
            "_model_module_version": "1.2.0",
            "_model_name": "LayoutModel",
            "_view_count": null,
            "_view_module": "@jupyter-widgets/base",
            "_view_module_version": "1.2.0",
            "_view_name": "LayoutView",
            "align_content": null,
            "align_items": null,
            "align_self": null,
            "border": null,
            "bottom": null,
            "display": null,
            "flex": null,
            "flex_flow": null,
            "grid_area": null,
            "grid_auto_columns": null,
            "grid_auto_flow": null,
            "grid_auto_rows": null,
            "grid_column": null,
            "grid_gap": null,
            "grid_row": null,
            "grid_template_areas": null,
            "grid_template_columns": null,
            "grid_template_rows": null,
            "height": null,
            "justify_content": null,
            "justify_items": null,
            "left": null,
            "margin": null,
            "max_height": null,
            "max_width": null,
            "min_height": null,
            "min_width": null,
            "object_fit": null,
            "object_position": null,
            "order": null,
            "overflow": null,
            "overflow_x": null,
            "overflow_y": null,
            "padding": null,
            "right": null,
            "top": null,
            "visibility": null,
            "width": null
          }
        },
        "e326ab2dee564645a45370551feda517": {
          "model_module": "@jupyter-widgets/controls",
          "model_name": "DescriptionStyleModel",
          "model_module_version": "1.5.0",
          "state": {
            "_model_module": "@jupyter-widgets/controls",
            "_model_module_version": "1.5.0",
            "_model_name": "DescriptionStyleModel",
            "_view_count": null,
            "_view_module": "@jupyter-widgets/base",
            "_view_module_version": "1.2.0",
            "_view_name": "StyleView",
            "description_width": ""
          }
        },
        "b36d90d3669d4b92876592346894437e": {
          "model_module": "@jupyter-widgets/base",
          "model_name": "LayoutModel",
          "model_module_version": "1.2.0",
          "state": {
            "_model_module": "@jupyter-widgets/base",
            "_model_module_version": "1.2.0",
            "_model_name": "LayoutModel",
            "_view_count": null,
            "_view_module": "@jupyter-widgets/base",
            "_view_module_version": "1.2.0",
            "_view_name": "LayoutView",
            "align_content": null,
            "align_items": null,
            "align_self": null,
            "border": null,
            "bottom": null,
            "display": null,
            "flex": null,
            "flex_flow": null,
            "grid_area": null,
            "grid_auto_columns": null,
            "grid_auto_flow": null,
            "grid_auto_rows": null,
            "grid_column": null,
            "grid_gap": null,
            "grid_row": null,
            "grid_template_areas": null,
            "grid_template_columns": null,
            "grid_template_rows": null,
            "height": null,
            "justify_content": null,
            "justify_items": null,
            "left": null,
            "margin": null,
            "max_height": null,
            "max_width": null,
            "min_height": null,
            "min_width": null,
            "object_fit": null,
            "object_position": null,
            "order": null,
            "overflow": null,
            "overflow_x": null,
            "overflow_y": null,
            "padding": null,
            "right": null,
            "top": null,
            "visibility": null,
            "width": null
          }
        },
        "502024339dfc4b5d9674dab5f976d4b7": {
          "model_module": "@jupyter-widgets/controls",
          "model_name": "ProgressStyleModel",
          "model_module_version": "1.5.0",
          "state": {
            "_model_module": "@jupyter-widgets/controls",
            "_model_module_version": "1.5.0",
            "_model_name": "ProgressStyleModel",
            "_view_count": null,
            "_view_module": "@jupyter-widgets/base",
            "_view_module_version": "1.2.0",
            "_view_name": "StyleView",
            "bar_color": null,
            "description_width": ""
          }
        },
        "a2a09bbb82e849e58b87f9e2fc541c0c": {
          "model_module": "@jupyter-widgets/base",
          "model_name": "LayoutModel",
          "model_module_version": "1.2.0",
          "state": {
            "_model_module": "@jupyter-widgets/base",
            "_model_module_version": "1.2.0",
            "_model_name": "LayoutModel",
            "_view_count": null,
            "_view_module": "@jupyter-widgets/base",
            "_view_module_version": "1.2.0",
            "_view_name": "LayoutView",
            "align_content": null,
            "align_items": null,
            "align_self": null,
            "border": null,
            "bottom": null,
            "display": null,
            "flex": null,
            "flex_flow": null,
            "grid_area": null,
            "grid_auto_columns": null,
            "grid_auto_flow": null,
            "grid_auto_rows": null,
            "grid_column": null,
            "grid_gap": null,
            "grid_row": null,
            "grid_template_areas": null,
            "grid_template_columns": null,
            "grid_template_rows": null,
            "height": null,
            "justify_content": null,
            "justify_items": null,
            "left": null,
            "margin": null,
            "max_height": null,
            "max_width": null,
            "min_height": null,
            "min_width": null,
            "object_fit": null,
            "object_position": null,
            "order": null,
            "overflow": null,
            "overflow_x": null,
            "overflow_y": null,
            "padding": null,
            "right": null,
            "top": null,
            "visibility": null,
            "width": null
          }
        },
        "1776f12e250f45d28e69d6e685e10ec5": {
          "model_module": "@jupyter-widgets/controls",
          "model_name": "DescriptionStyleModel",
          "model_module_version": "1.5.0",
          "state": {
            "_model_module": "@jupyter-widgets/controls",
            "_model_module_version": "1.5.0",
            "_model_name": "DescriptionStyleModel",
            "_view_count": null,
            "_view_module": "@jupyter-widgets/base",
            "_view_module_version": "1.2.0",
            "_view_name": "StyleView",
            "description_width": ""
          }
        },
        "b9dc2763cb4b484e96f8c6ed011012ae": {
          "model_module": "@jupyter-widgets/controls",
          "model_name": "HBoxModel",
          "model_module_version": "1.5.0",
          "state": {
            "_dom_classes": [],
            "_model_module": "@jupyter-widgets/controls",
            "_model_module_version": "1.5.0",
            "_model_name": "HBoxModel",
            "_view_count": null,
            "_view_module": "@jupyter-widgets/controls",
            "_view_module_version": "1.5.0",
            "_view_name": "HBoxView",
            "box_style": "",
            "children": [
              "IPY_MODEL_4a4a767b7dbb4c1b8f72403eb30fa3eb",
              "IPY_MODEL_df1317c2f3034cf489c0652f072d8e9e",
              "IPY_MODEL_ee13d4ed34ef4115bdf003a2cc2acfaa"
            ],
            "layout": "IPY_MODEL_6c140553e6ff4ec59cbf62caf9d4ebe0"
          }
        },
        "4a4a767b7dbb4c1b8f72403eb30fa3eb": {
          "model_module": "@jupyter-widgets/controls",
          "model_name": "HTMLModel",
          "model_module_version": "1.5.0",
          "state": {
            "_dom_classes": [],
            "_model_module": "@jupyter-widgets/controls",
            "_model_module_version": "1.5.0",
            "_model_name": "HTMLModel",
            "_view_count": null,
            "_view_module": "@jupyter-widgets/controls",
            "_view_module_version": "1.5.0",
            "_view_name": "HTMLView",
            "description": "",
            "description_tooltip": null,
            "layout": "IPY_MODEL_d4615b537cb4495ba3142f32fd3b3014",
            "placeholder": "​",
            "style": "IPY_MODEL_9719aa35681d40378f1e95621208277c",
            "value": "config.json: 100%"
          }
        },
        "df1317c2f3034cf489c0652f072d8e9e": {
          "model_module": "@jupyter-widgets/controls",
          "model_name": "FloatProgressModel",
          "model_module_version": "1.5.0",
          "state": {
            "_dom_classes": [],
            "_model_module": "@jupyter-widgets/controls",
            "_model_module_version": "1.5.0",
            "_model_name": "FloatProgressModel",
            "_view_count": null,
            "_view_module": "@jupyter-widgets/controls",
            "_view_module_version": "1.5.0",
            "_view_name": "ProgressView",
            "bar_style": "success",
            "description": "",
            "description_tooltip": null,
            "layout": "IPY_MODEL_55b07c2281364594a3a050ed38b371d9",
            "max": 1534,
            "min": 0,
            "orientation": "horizontal",
            "style": "IPY_MODEL_963a5b093749478ebe2946d37f96f2c0",
            "value": 1534
          }
        },
        "ee13d4ed34ef4115bdf003a2cc2acfaa": {
          "model_module": "@jupyter-widgets/controls",
          "model_name": "HTMLModel",
          "model_module_version": "1.5.0",
          "state": {
            "_dom_classes": [],
            "_model_module": "@jupyter-widgets/controls",
            "_model_module_version": "1.5.0",
            "_model_name": "HTMLModel",
            "_view_count": null,
            "_view_module": "@jupyter-widgets/controls",
            "_view_module_version": "1.5.0",
            "_view_name": "HTMLView",
            "description": "",
            "description_tooltip": null,
            "layout": "IPY_MODEL_c820430912964e86a80405574fd2014e",
            "placeholder": "​",
            "style": "IPY_MODEL_8222fcd2736349b3916768a73ec451e9",
            "value": " 1.53k/1.53k [00:00&lt;00:00, 154kB/s]"
          }
        },
        "6c140553e6ff4ec59cbf62caf9d4ebe0": {
          "model_module": "@jupyter-widgets/base",
          "model_name": "LayoutModel",
          "model_module_version": "1.2.0",
          "state": {
            "_model_module": "@jupyter-widgets/base",
            "_model_module_version": "1.2.0",
            "_model_name": "LayoutModel",
            "_view_count": null,
            "_view_module": "@jupyter-widgets/base",
            "_view_module_version": "1.2.0",
            "_view_name": "LayoutView",
            "align_content": null,
            "align_items": null,
            "align_self": null,
            "border": null,
            "bottom": null,
            "display": null,
            "flex": null,
            "flex_flow": null,
            "grid_area": null,
            "grid_auto_columns": null,
            "grid_auto_flow": null,
            "grid_auto_rows": null,
            "grid_column": null,
            "grid_gap": null,
            "grid_row": null,
            "grid_template_areas": null,
            "grid_template_columns": null,
            "grid_template_rows": null,
            "height": null,
            "justify_content": null,
            "justify_items": null,
            "left": null,
            "margin": null,
            "max_height": null,
            "max_width": null,
            "min_height": null,
            "min_width": null,
            "object_fit": null,
            "object_position": null,
            "order": null,
            "overflow": null,
            "overflow_x": null,
            "overflow_y": null,
            "padding": null,
            "right": null,
            "top": null,
            "visibility": null,
            "width": null
          }
        },
        "d4615b537cb4495ba3142f32fd3b3014": {
          "model_module": "@jupyter-widgets/base",
          "model_name": "LayoutModel",
          "model_module_version": "1.2.0",
          "state": {
            "_model_module": "@jupyter-widgets/base",
            "_model_module_version": "1.2.0",
            "_model_name": "LayoutModel",
            "_view_count": null,
            "_view_module": "@jupyter-widgets/base",
            "_view_module_version": "1.2.0",
            "_view_name": "LayoutView",
            "align_content": null,
            "align_items": null,
            "align_self": null,
            "border": null,
            "bottom": null,
            "display": null,
            "flex": null,
            "flex_flow": null,
            "grid_area": null,
            "grid_auto_columns": null,
            "grid_auto_flow": null,
            "grid_auto_rows": null,
            "grid_column": null,
            "grid_gap": null,
            "grid_row": null,
            "grid_template_areas": null,
            "grid_template_columns": null,
            "grid_template_rows": null,
            "height": null,
            "justify_content": null,
            "justify_items": null,
            "left": null,
            "margin": null,
            "max_height": null,
            "max_width": null,
            "min_height": null,
            "min_width": null,
            "object_fit": null,
            "object_position": null,
            "order": null,
            "overflow": null,
            "overflow_x": null,
            "overflow_y": null,
            "padding": null,
            "right": null,
            "top": null,
            "visibility": null,
            "width": null
          }
        },
        "9719aa35681d40378f1e95621208277c": {
          "model_module": "@jupyter-widgets/controls",
          "model_name": "DescriptionStyleModel",
          "model_module_version": "1.5.0",
          "state": {
            "_model_module": "@jupyter-widgets/controls",
            "_model_module_version": "1.5.0",
            "_model_name": "DescriptionStyleModel",
            "_view_count": null,
            "_view_module": "@jupyter-widgets/base",
            "_view_module_version": "1.2.0",
            "_view_name": "StyleView",
            "description_width": ""
          }
        },
        "55b07c2281364594a3a050ed38b371d9": {
          "model_module": "@jupyter-widgets/base",
          "model_name": "LayoutModel",
          "model_module_version": "1.2.0",
          "state": {
            "_model_module": "@jupyter-widgets/base",
            "_model_module_version": "1.2.0",
            "_model_name": "LayoutModel",
            "_view_count": null,
            "_view_module": "@jupyter-widgets/base",
            "_view_module_version": "1.2.0",
            "_view_name": "LayoutView",
            "align_content": null,
            "align_items": null,
            "align_self": null,
            "border": null,
            "bottom": null,
            "display": null,
            "flex": null,
            "flex_flow": null,
            "grid_area": null,
            "grid_auto_columns": null,
            "grid_auto_flow": null,
            "grid_auto_rows": null,
            "grid_column": null,
            "grid_gap": null,
            "grid_row": null,
            "grid_template_areas": null,
            "grid_template_columns": null,
            "grid_template_rows": null,
            "height": null,
            "justify_content": null,
            "justify_items": null,
            "left": null,
            "margin": null,
            "max_height": null,
            "max_width": null,
            "min_height": null,
            "min_width": null,
            "object_fit": null,
            "object_position": null,
            "order": null,
            "overflow": null,
            "overflow_x": null,
            "overflow_y": null,
            "padding": null,
            "right": null,
            "top": null,
            "visibility": null,
            "width": null
          }
        },
        "963a5b093749478ebe2946d37f96f2c0": {
          "model_module": "@jupyter-widgets/controls",
          "model_name": "ProgressStyleModel",
          "model_module_version": "1.5.0",
          "state": {
            "_model_module": "@jupyter-widgets/controls",
            "_model_module_version": "1.5.0",
            "_model_name": "ProgressStyleModel",
            "_view_count": null,
            "_view_module": "@jupyter-widgets/base",
            "_view_module_version": "1.2.0",
            "_view_name": "StyleView",
            "bar_color": null,
            "description_width": ""
          }
        },
        "c820430912964e86a80405574fd2014e": {
          "model_module": "@jupyter-widgets/base",
          "model_name": "LayoutModel",
          "model_module_version": "1.2.0",
          "state": {
            "_model_module": "@jupyter-widgets/base",
            "_model_module_version": "1.2.0",
            "_model_name": "LayoutModel",
            "_view_count": null,
            "_view_module": "@jupyter-widgets/base",
            "_view_module_version": "1.2.0",
            "_view_name": "LayoutView",
            "align_content": null,
            "align_items": null,
            "align_self": null,
            "border": null,
            "bottom": null,
            "display": null,
            "flex": null,
            "flex_flow": null,
            "grid_area": null,
            "grid_auto_columns": null,
            "grid_auto_flow": null,
            "grid_auto_rows": null,
            "grid_column": null,
            "grid_gap": null,
            "grid_row": null,
            "grid_template_areas": null,
            "grid_template_columns": null,
            "grid_template_rows": null,
            "height": null,
            "justify_content": null,
            "justify_items": null,
            "left": null,
            "margin": null,
            "max_height": null,
            "max_width": null,
            "min_height": null,
            "min_width": null,
            "object_fit": null,
            "object_position": null,
            "order": null,
            "overflow": null,
            "overflow_x": null,
            "overflow_y": null,
            "padding": null,
            "right": null,
            "top": null,
            "visibility": null,
            "width": null
          }
        },
        "8222fcd2736349b3916768a73ec451e9": {
          "model_module": "@jupyter-widgets/controls",
          "model_name": "DescriptionStyleModel",
          "model_module_version": "1.5.0",
          "state": {
            "_model_module": "@jupyter-widgets/controls",
            "_model_module_version": "1.5.0",
            "_model_name": "DescriptionStyleModel",
            "_view_count": null,
            "_view_module": "@jupyter-widgets/base",
            "_view_module_version": "1.2.0",
            "_view_name": "StyleView",
            "description_width": ""
          }
        },
        "db7b3cae4eb64659a9e785e3f8adb750": {
          "model_module": "@jupyter-widgets/controls",
          "model_name": "HBoxModel",
          "model_module_version": "1.5.0",
          "state": {
            "_dom_classes": [],
            "_model_module": "@jupyter-widgets/controls",
            "_model_module_version": "1.5.0",
            "_model_name": "HBoxModel",
            "_view_count": null,
            "_view_module": "@jupyter-widgets/controls",
            "_view_module_version": "1.5.0",
            "_view_name": "HBoxView",
            "box_style": "",
            "children": [
              "IPY_MODEL_89490b2ccdaf4e40a4113ee48f8f64bc",
              "IPY_MODEL_30c0de2ccf854ab0a318a92d3babc738",
              "IPY_MODEL_f30594f2f6c54cd3a9bf038c92362521"
            ],
            "layout": "IPY_MODEL_a361fe93089341238933b884e8f973d1"
          }
        },
        "89490b2ccdaf4e40a4113ee48f8f64bc": {
          "model_module": "@jupyter-widgets/controls",
          "model_name": "HTMLModel",
          "model_module_version": "1.5.0",
          "state": {
            "_dom_classes": [],
            "_model_module": "@jupyter-widgets/controls",
            "_model_module_version": "1.5.0",
            "_model_name": "HTMLModel",
            "_view_count": null,
            "_view_module": "@jupyter-widgets/controls",
            "_view_module_version": "1.5.0",
            "_view_name": "HTMLView",
            "description": "",
            "description_tooltip": null,
            "layout": "IPY_MODEL_1628aecf8b6b4aa3a8c3c1d02789812b",
            "placeholder": "​",
            "style": "IPY_MODEL_9eff4cd346bd4dc784013d0652699238",
            "value": "vocab.txt: 100%"
          }
        },
        "30c0de2ccf854ab0a318a92d3babc738": {
          "model_module": "@jupyter-widgets/controls",
          "model_name": "FloatProgressModel",
          "model_module_version": "1.5.0",
          "state": {
            "_dom_classes": [],
            "_model_module": "@jupyter-widgets/controls",
            "_model_module_version": "1.5.0",
            "_model_name": "FloatProgressModel",
            "_view_count": null,
            "_view_module": "@jupyter-widgets/controls",
            "_view_module_version": "1.5.0",
            "_view_name": "ProgressView",
            "bar_style": "success",
            "description": "",
            "description_tooltip": null,
            "layout": "IPY_MODEL_a9f1795d78f044cf9fc6e84ae785a485",
            "max": 229167,
            "min": 0,
            "orientation": "horizontal",
            "style": "IPY_MODEL_a33a73410c7546adb7ac8304375697f1",
            "value": 229167
          }
        },
        "f30594f2f6c54cd3a9bf038c92362521": {
          "model_module": "@jupyter-widgets/controls",
          "model_name": "HTMLModel",
          "model_module_version": "1.5.0",
          "state": {
            "_dom_classes": [],
            "_model_module": "@jupyter-widgets/controls",
            "_model_module_version": "1.5.0",
            "_model_name": "HTMLModel",
            "_view_count": null,
            "_view_module": "@jupyter-widgets/controls",
            "_view_module_version": "1.5.0",
            "_view_name": "HTMLView",
            "description": "",
            "description_tooltip": null,
            "layout": "IPY_MODEL_32e187af01ab4da9afa7b58255aaf352",
            "placeholder": "​",
            "style": "IPY_MODEL_e7bbe08306e04ddf9b9010388f9b7678",
            "value": " 229k/229k [00:00&lt;00:00, 1.02MB/s]"
          }
        },
        "a361fe93089341238933b884e8f973d1": {
          "model_module": "@jupyter-widgets/base",
          "model_name": "LayoutModel",
          "model_module_version": "1.2.0",
          "state": {
            "_model_module": "@jupyter-widgets/base",
            "_model_module_version": "1.2.0",
            "_model_name": "LayoutModel",
            "_view_count": null,
            "_view_module": "@jupyter-widgets/base",
            "_view_module_version": "1.2.0",
            "_view_name": "LayoutView",
            "align_content": null,
            "align_items": null,
            "align_self": null,
            "border": null,
            "bottom": null,
            "display": null,
            "flex": null,
            "flex_flow": null,
            "grid_area": null,
            "grid_auto_columns": null,
            "grid_auto_flow": null,
            "grid_auto_rows": null,
            "grid_column": null,
            "grid_gap": null,
            "grid_row": null,
            "grid_template_areas": null,
            "grid_template_columns": null,
            "grid_template_rows": null,
            "height": null,
            "justify_content": null,
            "justify_items": null,
            "left": null,
            "margin": null,
            "max_height": null,
            "max_width": null,
            "min_height": null,
            "min_width": null,
            "object_fit": null,
            "object_position": null,
            "order": null,
            "overflow": null,
            "overflow_x": null,
            "overflow_y": null,
            "padding": null,
            "right": null,
            "top": null,
            "visibility": null,
            "width": null
          }
        },
        "1628aecf8b6b4aa3a8c3c1d02789812b": {
          "model_module": "@jupyter-widgets/base",
          "model_name": "LayoutModel",
          "model_module_version": "1.2.0",
          "state": {
            "_model_module": "@jupyter-widgets/base",
            "_model_module_version": "1.2.0",
            "_model_name": "LayoutModel",
            "_view_count": null,
            "_view_module": "@jupyter-widgets/base",
            "_view_module_version": "1.2.0",
            "_view_name": "LayoutView",
            "align_content": null,
            "align_items": null,
            "align_self": null,
            "border": null,
            "bottom": null,
            "display": null,
            "flex": null,
            "flex_flow": null,
            "grid_area": null,
            "grid_auto_columns": null,
            "grid_auto_flow": null,
            "grid_auto_rows": null,
            "grid_column": null,
            "grid_gap": null,
            "grid_row": null,
            "grid_template_areas": null,
            "grid_template_columns": null,
            "grid_template_rows": null,
            "height": null,
            "justify_content": null,
            "justify_items": null,
            "left": null,
            "margin": null,
            "max_height": null,
            "max_width": null,
            "min_height": null,
            "min_width": null,
            "object_fit": null,
            "object_position": null,
            "order": null,
            "overflow": null,
            "overflow_x": null,
            "overflow_y": null,
            "padding": null,
            "right": null,
            "top": null,
            "visibility": null,
            "width": null
          }
        },
        "9eff4cd346bd4dc784013d0652699238": {
          "model_module": "@jupyter-widgets/controls",
          "model_name": "DescriptionStyleModel",
          "model_module_version": "1.5.0",
          "state": {
            "_model_module": "@jupyter-widgets/controls",
            "_model_module_version": "1.5.0",
            "_model_name": "DescriptionStyleModel",
            "_view_count": null,
            "_view_module": "@jupyter-widgets/base",
            "_view_module_version": "1.2.0",
            "_view_name": "StyleView",
            "description_width": ""
          }
        },
        "a9f1795d78f044cf9fc6e84ae785a485": {
          "model_module": "@jupyter-widgets/base",
          "model_name": "LayoutModel",
          "model_module_version": "1.2.0",
          "state": {
            "_model_module": "@jupyter-widgets/base",
            "_model_module_version": "1.2.0",
            "_model_name": "LayoutModel",
            "_view_count": null,
            "_view_module": "@jupyter-widgets/base",
            "_view_module_version": "1.2.0",
            "_view_name": "LayoutView",
            "align_content": null,
            "align_items": null,
            "align_self": null,
            "border": null,
            "bottom": null,
            "display": null,
            "flex": null,
            "flex_flow": null,
            "grid_area": null,
            "grid_auto_columns": null,
            "grid_auto_flow": null,
            "grid_auto_rows": null,
            "grid_column": null,
            "grid_gap": null,
            "grid_row": null,
            "grid_template_areas": null,
            "grid_template_columns": null,
            "grid_template_rows": null,
            "height": null,
            "justify_content": null,
            "justify_items": null,
            "left": null,
            "margin": null,
            "max_height": null,
            "max_width": null,
            "min_height": null,
            "min_width": null,
            "object_fit": null,
            "object_position": null,
            "order": null,
            "overflow": null,
            "overflow_x": null,
            "overflow_y": null,
            "padding": null,
            "right": null,
            "top": null,
            "visibility": null,
            "width": null
          }
        },
        "a33a73410c7546adb7ac8304375697f1": {
          "model_module": "@jupyter-widgets/controls",
          "model_name": "ProgressStyleModel",
          "model_module_version": "1.5.0",
          "state": {
            "_model_module": "@jupyter-widgets/controls",
            "_model_module_version": "1.5.0",
            "_model_name": "ProgressStyleModel",
            "_view_count": null,
            "_view_module": "@jupyter-widgets/base",
            "_view_module_version": "1.2.0",
            "_view_name": "StyleView",
            "bar_color": null,
            "description_width": ""
          }
        },
        "32e187af01ab4da9afa7b58255aaf352": {
          "model_module": "@jupyter-widgets/base",
          "model_name": "LayoutModel",
          "model_module_version": "1.2.0",
          "state": {
            "_model_module": "@jupyter-widgets/base",
            "_model_module_version": "1.2.0",
            "_model_name": "LayoutModel",
            "_view_count": null,
            "_view_module": "@jupyter-widgets/base",
            "_view_module_version": "1.2.0",
            "_view_name": "LayoutView",
            "align_content": null,
            "align_items": null,
            "align_self": null,
            "border": null,
            "bottom": null,
            "display": null,
            "flex": null,
            "flex_flow": null,
            "grid_area": null,
            "grid_auto_columns": null,
            "grid_auto_flow": null,
            "grid_auto_rows": null,
            "grid_column": null,
            "grid_gap": null,
            "grid_row": null,
            "grid_template_areas": null,
            "grid_template_columns": null,
            "grid_template_rows": null,
            "height": null,
            "justify_content": null,
            "justify_items": null,
            "left": null,
            "margin": null,
            "max_height": null,
            "max_width": null,
            "min_height": null,
            "min_width": null,
            "object_fit": null,
            "object_position": null,
            "order": null,
            "overflow": null,
            "overflow_x": null,
            "overflow_y": null,
            "padding": null,
            "right": null,
            "top": null,
            "visibility": null,
            "width": null
          }
        },
        "e7bbe08306e04ddf9b9010388f9b7678": {
          "model_module": "@jupyter-widgets/controls",
          "model_name": "DescriptionStyleModel",
          "model_module_version": "1.5.0",
          "state": {
            "_model_module": "@jupyter-widgets/controls",
            "_model_module_version": "1.5.0",
            "_model_name": "DescriptionStyleModel",
            "_view_count": null,
            "_view_module": "@jupyter-widgets/base",
            "_view_module_version": "1.2.0",
            "_view_name": "StyleView",
            "description_width": ""
          }
        },
        "4a917fff9da44791a086572ba0868184": {
          "model_module": "@jupyter-widgets/controls",
          "model_name": "HBoxModel",
          "model_module_version": "1.5.0",
          "state": {
            "_dom_classes": [],
            "_model_module": "@jupyter-widgets/controls",
            "_model_module_version": "1.5.0",
            "_model_name": "HBoxModel",
            "_view_count": null,
            "_view_module": "@jupyter-widgets/controls",
            "_view_module_version": "1.5.0",
            "_view_name": "HBoxView",
            "box_style": "",
            "children": [
              "IPY_MODEL_fd222fe449d548af903403d2aaa2358c",
              "IPY_MODEL_d721e4811d3142df9c1e4971b2cee634",
              "IPY_MODEL_418a3cd0555e45849b2e8395552a55d0"
            ],
            "layout": "IPY_MODEL_e4607589ab9a436d827513e4a5164ba3"
          }
        },
        "fd222fe449d548af903403d2aaa2358c": {
          "model_module": "@jupyter-widgets/controls",
          "model_name": "HTMLModel",
          "model_module_version": "1.5.0",
          "state": {
            "_dom_classes": [],
            "_model_module": "@jupyter-widgets/controls",
            "_model_module_version": "1.5.0",
            "_model_name": "HTMLModel",
            "_view_count": null,
            "_view_module": "@jupyter-widgets/controls",
            "_view_module_version": "1.5.0",
            "_view_name": "HTMLView",
            "description": "",
            "description_tooltip": null,
            "layout": "IPY_MODEL_77647284dd454cf9abbc77a3d277635c",
            "placeholder": "​",
            "style": "IPY_MODEL_4c53e80d89ea47678057f340f1024db3",
            "value": "special_tokens_map.json: 100%"
          }
        },
        "d721e4811d3142df9c1e4971b2cee634": {
          "model_module": "@jupyter-widgets/controls",
          "model_name": "FloatProgressModel",
          "model_module_version": "1.5.0",
          "state": {
            "_dom_classes": [],
            "_model_module": "@jupyter-widgets/controls",
            "_model_module_version": "1.5.0",
            "_model_name": "FloatProgressModel",
            "_view_count": null,
            "_view_module": "@jupyter-widgets/controls",
            "_view_module_version": "1.5.0",
            "_view_name": "ProgressView",
            "bar_style": "success",
            "description": "",
            "description_tooltip": null,
            "layout": "IPY_MODEL_ff19fb25a4d542f88a73f6cf6388830a",
            "max": 112,
            "min": 0,
            "orientation": "horizontal",
            "style": "IPY_MODEL_bcdeb3936343474f84ac82d7511d24a7",
            "value": 112
          }
        },
        "418a3cd0555e45849b2e8395552a55d0": {
          "model_module": "@jupyter-widgets/controls",
          "model_name": "HTMLModel",
          "model_module_version": "1.5.0",
          "state": {
            "_dom_classes": [],
            "_model_module": "@jupyter-widgets/controls",
            "_model_module_version": "1.5.0",
            "_model_name": "HTMLModel",
            "_view_count": null,
            "_view_module": "@jupyter-widgets/controls",
            "_view_module_version": "1.5.0",
            "_view_name": "HTMLView",
            "description": "",
            "description_tooltip": null,
            "layout": "IPY_MODEL_a8ac201f465148329a78d1224d1028b7",
            "placeholder": "​",
            "style": "IPY_MODEL_2309678405d14b6fa65726a0a94d51a7",
            "value": " 112/112 [00:00&lt;00:00, 10.0kB/s]"
          }
        },
        "e4607589ab9a436d827513e4a5164ba3": {
          "model_module": "@jupyter-widgets/base",
          "model_name": "LayoutModel",
          "model_module_version": "1.2.0",
          "state": {
            "_model_module": "@jupyter-widgets/base",
            "_model_module_version": "1.2.0",
            "_model_name": "LayoutModel",
            "_view_count": null,
            "_view_module": "@jupyter-widgets/base",
            "_view_module_version": "1.2.0",
            "_view_name": "LayoutView",
            "align_content": null,
            "align_items": null,
            "align_self": null,
            "border": null,
            "bottom": null,
            "display": null,
            "flex": null,
            "flex_flow": null,
            "grid_area": null,
            "grid_auto_columns": null,
            "grid_auto_flow": null,
            "grid_auto_rows": null,
            "grid_column": null,
            "grid_gap": null,
            "grid_row": null,
            "grid_template_areas": null,
            "grid_template_columns": null,
            "grid_template_rows": null,
            "height": null,
            "justify_content": null,
            "justify_items": null,
            "left": null,
            "margin": null,
            "max_height": null,
            "max_width": null,
            "min_height": null,
            "min_width": null,
            "object_fit": null,
            "object_position": null,
            "order": null,
            "overflow": null,
            "overflow_x": null,
            "overflow_y": null,
            "padding": null,
            "right": null,
            "top": null,
            "visibility": null,
            "width": null
          }
        },
        "77647284dd454cf9abbc77a3d277635c": {
          "model_module": "@jupyter-widgets/base",
          "model_name": "LayoutModel",
          "model_module_version": "1.2.0",
          "state": {
            "_model_module": "@jupyter-widgets/base",
            "_model_module_version": "1.2.0",
            "_model_name": "LayoutModel",
            "_view_count": null,
            "_view_module": "@jupyter-widgets/base",
            "_view_module_version": "1.2.0",
            "_view_name": "LayoutView",
            "align_content": null,
            "align_items": null,
            "align_self": null,
            "border": null,
            "bottom": null,
            "display": null,
            "flex": null,
            "flex_flow": null,
            "grid_area": null,
            "grid_auto_columns": null,
            "grid_auto_flow": null,
            "grid_auto_rows": null,
            "grid_column": null,
            "grid_gap": null,
            "grid_row": null,
            "grid_template_areas": null,
            "grid_template_columns": null,
            "grid_template_rows": null,
            "height": null,
            "justify_content": null,
            "justify_items": null,
            "left": null,
            "margin": null,
            "max_height": null,
            "max_width": null,
            "min_height": null,
            "min_width": null,
            "object_fit": null,
            "object_position": null,
            "order": null,
            "overflow": null,
            "overflow_x": null,
            "overflow_y": null,
            "padding": null,
            "right": null,
            "top": null,
            "visibility": null,
            "width": null
          }
        },
        "4c53e80d89ea47678057f340f1024db3": {
          "model_module": "@jupyter-widgets/controls",
          "model_name": "DescriptionStyleModel",
          "model_module_version": "1.5.0",
          "state": {
            "_model_module": "@jupyter-widgets/controls",
            "_model_module_version": "1.5.0",
            "_model_name": "DescriptionStyleModel",
            "_view_count": null,
            "_view_module": "@jupyter-widgets/base",
            "_view_module_version": "1.2.0",
            "_view_name": "StyleView",
            "description_width": ""
          }
        },
        "ff19fb25a4d542f88a73f6cf6388830a": {
          "model_module": "@jupyter-widgets/base",
          "model_name": "LayoutModel",
          "model_module_version": "1.2.0",
          "state": {
            "_model_module": "@jupyter-widgets/base",
            "_model_module_version": "1.2.0",
            "_model_name": "LayoutModel",
            "_view_count": null,
            "_view_module": "@jupyter-widgets/base",
            "_view_module_version": "1.2.0",
            "_view_name": "LayoutView",
            "align_content": null,
            "align_items": null,
            "align_self": null,
            "border": null,
            "bottom": null,
            "display": null,
            "flex": null,
            "flex_flow": null,
            "grid_area": null,
            "grid_auto_columns": null,
            "grid_auto_flow": null,
            "grid_auto_rows": null,
            "grid_column": null,
            "grid_gap": null,
            "grid_row": null,
            "grid_template_areas": null,
            "grid_template_columns": null,
            "grid_template_rows": null,
            "height": null,
            "justify_content": null,
            "justify_items": null,
            "left": null,
            "margin": null,
            "max_height": null,
            "max_width": null,
            "min_height": null,
            "min_width": null,
            "object_fit": null,
            "object_position": null,
            "order": null,
            "overflow": null,
            "overflow_x": null,
            "overflow_y": null,
            "padding": null,
            "right": null,
            "top": null,
            "visibility": null,
            "width": null
          }
        },
        "bcdeb3936343474f84ac82d7511d24a7": {
          "model_module": "@jupyter-widgets/controls",
          "model_name": "ProgressStyleModel",
          "model_module_version": "1.5.0",
          "state": {
            "_model_module": "@jupyter-widgets/controls",
            "_model_module_version": "1.5.0",
            "_model_name": "ProgressStyleModel",
            "_view_count": null,
            "_view_module": "@jupyter-widgets/base",
            "_view_module_version": "1.2.0",
            "_view_name": "StyleView",
            "bar_color": null,
            "description_width": ""
          }
        },
        "a8ac201f465148329a78d1224d1028b7": {
          "model_module": "@jupyter-widgets/base",
          "model_name": "LayoutModel",
          "model_module_version": "1.2.0",
          "state": {
            "_model_module": "@jupyter-widgets/base",
            "_model_module_version": "1.2.0",
            "_model_name": "LayoutModel",
            "_view_count": null,
            "_view_module": "@jupyter-widgets/base",
            "_view_module_version": "1.2.0",
            "_view_name": "LayoutView",
            "align_content": null,
            "align_items": null,
            "align_self": null,
            "border": null,
            "bottom": null,
            "display": null,
            "flex": null,
            "flex_flow": null,
            "grid_area": null,
            "grid_auto_columns": null,
            "grid_auto_flow": null,
            "grid_auto_rows": null,
            "grid_column": null,
            "grid_gap": null,
            "grid_row": null,
            "grid_template_areas": null,
            "grid_template_columns": null,
            "grid_template_rows": null,
            "height": null,
            "justify_content": null,
            "justify_items": null,
            "left": null,
            "margin": null,
            "max_height": null,
            "max_width": null,
            "min_height": null,
            "min_width": null,
            "object_fit": null,
            "object_position": null,
            "order": null,
            "overflow": null,
            "overflow_x": null,
            "overflow_y": null,
            "padding": null,
            "right": null,
            "top": null,
            "visibility": null,
            "width": null
          }
        },
        "2309678405d14b6fa65726a0a94d51a7": {
          "model_module": "@jupyter-widgets/controls",
          "model_name": "DescriptionStyleModel",
          "model_module_version": "1.5.0",
          "state": {
            "_model_module": "@jupyter-widgets/controls",
            "_model_module_version": "1.5.0",
            "_model_name": "DescriptionStyleModel",
            "_view_count": null,
            "_view_module": "@jupyter-widgets/base",
            "_view_module_version": "1.2.0",
            "_view_name": "StyleView",
            "description_width": ""
          }
        },
        "2cb9f2b0d3994f2aa42c0a2ed804fc91": {
          "model_module": "@jupyter-widgets/controls",
          "model_name": "HBoxModel",
          "model_module_version": "1.5.0",
          "state": {
            "_dom_classes": [],
            "_model_module": "@jupyter-widgets/controls",
            "_model_module_version": "1.5.0",
            "_model_name": "HBoxModel",
            "_view_count": null,
            "_view_module": "@jupyter-widgets/controls",
            "_view_module_version": "1.5.0",
            "_view_name": "HBoxView",
            "box_style": "",
            "children": [
              "IPY_MODEL_bc7dcdc6afe44d56a64315bed3c3fde9",
              "IPY_MODEL_808ccc18374e4f20882ebfbc0fd4a1c5",
              "IPY_MODEL_36582223599c407894a8669cabb03426"
            ],
            "layout": "IPY_MODEL_5d8462c7b7454e9abb2dfe50fadfd907"
          }
        },
        "bc7dcdc6afe44d56a64315bed3c3fde9": {
          "model_module": "@jupyter-widgets/controls",
          "model_name": "HTMLModel",
          "model_module_version": "1.5.0",
          "state": {
            "_dom_classes": [],
            "_model_module": "@jupyter-widgets/controls",
            "_model_module_version": "1.5.0",
            "_model_name": "HTMLModel",
            "_view_count": null,
            "_view_module": "@jupyter-widgets/controls",
            "_view_module_version": "1.5.0",
            "_view_name": "HTMLView",
            "description": "",
            "description_tooltip": null,
            "layout": "IPY_MODEL_54ea30ebb62d499db8da4c8011fe28f8",
            "placeholder": "​",
            "style": "IPY_MODEL_5d5bc42b539a472aa9dfd9320d056a77",
            "value": "Map: 100%"
          }
        },
        "808ccc18374e4f20882ebfbc0fd4a1c5": {
          "model_module": "@jupyter-widgets/controls",
          "model_name": "FloatProgressModel",
          "model_module_version": "1.5.0",
          "state": {
            "_dom_classes": [],
            "_model_module": "@jupyter-widgets/controls",
            "_model_module_version": "1.5.0",
            "_model_name": "FloatProgressModel",
            "_view_count": null,
            "_view_module": "@jupyter-widgets/controls",
            "_view_module_version": "1.5.0",
            "_view_name": "ProgressView",
            "bar_style": "success",
            "description": "",
            "description_tooltip": null,
            "layout": "IPY_MODEL_dd41b38cabb74cc4b42884a8851c88ea",
            "max": 6000,
            "min": 0,
            "orientation": "horizontal",
            "style": "IPY_MODEL_f3844a8586dd41dbb7c11d859bfa46a7",
            "value": 6000
          }
        },
        "36582223599c407894a8669cabb03426": {
          "model_module": "@jupyter-widgets/controls",
          "model_name": "HTMLModel",
          "model_module_version": "1.5.0",
          "state": {
            "_dom_classes": [],
            "_model_module": "@jupyter-widgets/controls",
            "_model_module_version": "1.5.0",
            "_model_name": "HTMLModel",
            "_view_count": null,
            "_view_module": "@jupyter-widgets/controls",
            "_view_module_version": "1.5.0",
            "_view_name": "HTMLView",
            "description": "",
            "description_tooltip": null,
            "layout": "IPY_MODEL_6d03726060174d34a5d69c5f67a3aa2b",
            "placeholder": "​",
            "style": "IPY_MODEL_3970a40585274ba6bbc8952fc424379d",
            "value": " 6000/6000 [00:01&lt;00:00, 3846.96 examples/s]"
          }
        },
        "5d8462c7b7454e9abb2dfe50fadfd907": {
          "model_module": "@jupyter-widgets/base",
          "model_name": "LayoutModel",
          "model_module_version": "1.2.0",
          "state": {
            "_model_module": "@jupyter-widgets/base",
            "_model_module_version": "1.2.0",
            "_model_name": "LayoutModel",
            "_view_count": null,
            "_view_module": "@jupyter-widgets/base",
            "_view_module_version": "1.2.0",
            "_view_name": "LayoutView",
            "align_content": null,
            "align_items": null,
            "align_self": null,
            "border": null,
            "bottom": null,
            "display": null,
            "flex": null,
            "flex_flow": null,
            "grid_area": null,
            "grid_auto_columns": null,
            "grid_auto_flow": null,
            "grid_auto_rows": null,
            "grid_column": null,
            "grid_gap": null,
            "grid_row": null,
            "grid_template_areas": null,
            "grid_template_columns": null,
            "grid_template_rows": null,
            "height": null,
            "justify_content": null,
            "justify_items": null,
            "left": null,
            "margin": null,
            "max_height": null,
            "max_width": null,
            "min_height": null,
            "min_width": null,
            "object_fit": null,
            "object_position": null,
            "order": null,
            "overflow": null,
            "overflow_x": null,
            "overflow_y": null,
            "padding": null,
            "right": null,
            "top": null,
            "visibility": null,
            "width": null
          }
        },
        "54ea30ebb62d499db8da4c8011fe28f8": {
          "model_module": "@jupyter-widgets/base",
          "model_name": "LayoutModel",
          "model_module_version": "1.2.0",
          "state": {
            "_model_module": "@jupyter-widgets/base",
            "_model_module_version": "1.2.0",
            "_model_name": "LayoutModel",
            "_view_count": null,
            "_view_module": "@jupyter-widgets/base",
            "_view_module_version": "1.2.0",
            "_view_name": "LayoutView",
            "align_content": null,
            "align_items": null,
            "align_self": null,
            "border": null,
            "bottom": null,
            "display": null,
            "flex": null,
            "flex_flow": null,
            "grid_area": null,
            "grid_auto_columns": null,
            "grid_auto_flow": null,
            "grid_auto_rows": null,
            "grid_column": null,
            "grid_gap": null,
            "grid_row": null,
            "grid_template_areas": null,
            "grid_template_columns": null,
            "grid_template_rows": null,
            "height": null,
            "justify_content": null,
            "justify_items": null,
            "left": null,
            "margin": null,
            "max_height": null,
            "max_width": null,
            "min_height": null,
            "min_width": null,
            "object_fit": null,
            "object_position": null,
            "order": null,
            "overflow": null,
            "overflow_x": null,
            "overflow_y": null,
            "padding": null,
            "right": null,
            "top": null,
            "visibility": null,
            "width": null
          }
        },
        "5d5bc42b539a472aa9dfd9320d056a77": {
          "model_module": "@jupyter-widgets/controls",
          "model_name": "DescriptionStyleModel",
          "model_module_version": "1.5.0",
          "state": {
            "_model_module": "@jupyter-widgets/controls",
            "_model_module_version": "1.5.0",
            "_model_name": "DescriptionStyleModel",
            "_view_count": null,
            "_view_module": "@jupyter-widgets/base",
            "_view_module_version": "1.2.0",
            "_view_name": "StyleView",
            "description_width": ""
          }
        },
        "dd41b38cabb74cc4b42884a8851c88ea": {
          "model_module": "@jupyter-widgets/base",
          "model_name": "LayoutModel",
          "model_module_version": "1.2.0",
          "state": {
            "_model_module": "@jupyter-widgets/base",
            "_model_module_version": "1.2.0",
            "_model_name": "LayoutModel",
            "_view_count": null,
            "_view_module": "@jupyter-widgets/base",
            "_view_module_version": "1.2.0",
            "_view_name": "LayoutView",
            "align_content": null,
            "align_items": null,
            "align_self": null,
            "border": null,
            "bottom": null,
            "display": null,
            "flex": null,
            "flex_flow": null,
            "grid_area": null,
            "grid_auto_columns": null,
            "grid_auto_flow": null,
            "grid_auto_rows": null,
            "grid_column": null,
            "grid_gap": null,
            "grid_row": null,
            "grid_template_areas": null,
            "grid_template_columns": null,
            "grid_template_rows": null,
            "height": null,
            "justify_content": null,
            "justify_items": null,
            "left": null,
            "margin": null,
            "max_height": null,
            "max_width": null,
            "min_height": null,
            "min_width": null,
            "object_fit": null,
            "object_position": null,
            "order": null,
            "overflow": null,
            "overflow_x": null,
            "overflow_y": null,
            "padding": null,
            "right": null,
            "top": null,
            "visibility": null,
            "width": null
          }
        },
        "f3844a8586dd41dbb7c11d859bfa46a7": {
          "model_module": "@jupyter-widgets/controls",
          "model_name": "ProgressStyleModel",
          "model_module_version": "1.5.0",
          "state": {
            "_model_module": "@jupyter-widgets/controls",
            "_model_module_version": "1.5.0",
            "_model_name": "ProgressStyleModel",
            "_view_count": null,
            "_view_module": "@jupyter-widgets/base",
            "_view_module_version": "1.2.0",
            "_view_name": "StyleView",
            "bar_color": null,
            "description_width": ""
          }
        },
        "6d03726060174d34a5d69c5f67a3aa2b": {
          "model_module": "@jupyter-widgets/base",
          "model_name": "LayoutModel",
          "model_module_version": "1.2.0",
          "state": {
            "_model_module": "@jupyter-widgets/base",
            "_model_module_version": "1.2.0",
            "_model_name": "LayoutModel",
            "_view_count": null,
            "_view_module": "@jupyter-widgets/base",
            "_view_module_version": "1.2.0",
            "_view_name": "LayoutView",
            "align_content": null,
            "align_items": null,
            "align_self": null,
            "border": null,
            "bottom": null,
            "display": null,
            "flex": null,
            "flex_flow": null,
            "grid_area": null,
            "grid_auto_columns": null,
            "grid_auto_flow": null,
            "grid_auto_rows": null,
            "grid_column": null,
            "grid_gap": null,
            "grid_row": null,
            "grid_template_areas": null,
            "grid_template_columns": null,
            "grid_template_rows": null,
            "height": null,
            "justify_content": null,
            "justify_items": null,
            "left": null,
            "margin": null,
            "max_height": null,
            "max_width": null,
            "min_height": null,
            "min_width": null,
            "object_fit": null,
            "object_position": null,
            "order": null,
            "overflow": null,
            "overflow_x": null,
            "overflow_y": null,
            "padding": null,
            "right": null,
            "top": null,
            "visibility": null,
            "width": null
          }
        },
        "3970a40585274ba6bbc8952fc424379d": {
          "model_module": "@jupyter-widgets/controls",
          "model_name": "DescriptionStyleModel",
          "model_module_version": "1.5.0",
          "state": {
            "_model_module": "@jupyter-widgets/controls",
            "_model_module_version": "1.5.0",
            "_model_name": "DescriptionStyleModel",
            "_view_count": null,
            "_view_module": "@jupyter-widgets/base",
            "_view_module_version": "1.2.0",
            "_view_name": "StyleView",
            "description_width": ""
          }
        },
        "e4b2be8efb3d4238bba5b8c127996048": {
          "model_module": "@jupyter-widgets/controls",
          "model_name": "HBoxModel",
          "model_module_version": "1.5.0",
          "state": {
            "_dom_classes": [],
            "_model_module": "@jupyter-widgets/controls",
            "_model_module_version": "1.5.0",
            "_model_name": "HBoxModel",
            "_view_count": null,
            "_view_module": "@jupyter-widgets/controls",
            "_view_module_version": "1.5.0",
            "_view_name": "HBoxView",
            "box_style": "",
            "children": [
              "IPY_MODEL_665447b0cdd64f859929812494763171",
              "IPY_MODEL_96f22484ecc248e682fc3e06c765b6d4",
              "IPY_MODEL_ceb6758449f647d48865a75100766d5b"
            ],
            "layout": "IPY_MODEL_d7a292aef08a43f09044c906deb38aa9"
          }
        },
        "665447b0cdd64f859929812494763171": {
          "model_module": "@jupyter-widgets/controls",
          "model_name": "HTMLModel",
          "model_module_version": "1.5.0",
          "state": {
            "_dom_classes": [],
            "_model_module": "@jupyter-widgets/controls",
            "_model_module_version": "1.5.0",
            "_model_name": "HTMLModel",
            "_view_count": null,
            "_view_module": "@jupyter-widgets/controls",
            "_view_module_version": "1.5.0",
            "_view_name": "HTMLView",
            "description": "",
            "description_tooltip": null,
            "layout": "IPY_MODEL_c800a3d7cb6f4c389109310afa614661",
            "placeholder": "​",
            "style": "IPY_MODEL_fdfddbd2792b4278984bab2d1bc7c837",
            "value": "Map: 100%"
          }
        },
        "96f22484ecc248e682fc3e06c765b6d4": {
          "model_module": "@jupyter-widgets/controls",
          "model_name": "FloatProgressModel",
          "model_module_version": "1.5.0",
          "state": {
            "_dom_classes": [],
            "_model_module": "@jupyter-widgets/controls",
            "_model_module_version": "1.5.0",
            "_model_name": "FloatProgressModel",
            "_view_count": null,
            "_view_module": "@jupyter-widgets/controls",
            "_view_module_version": "1.5.0",
            "_view_name": "ProgressView",
            "bar_style": "success",
            "description": "",
            "description_tooltip": null,
            "layout": "IPY_MODEL_b6625a0fad0140939388f2f6641ee5b2",
            "max": 1350,
            "min": 0,
            "orientation": "horizontal",
            "style": "IPY_MODEL_11d0a2c939954741ac2ddd9dc41fed73",
            "value": 1350
          }
        },
        "ceb6758449f647d48865a75100766d5b": {
          "model_module": "@jupyter-widgets/controls",
          "model_name": "HTMLModel",
          "model_module_version": "1.5.0",
          "state": {
            "_dom_classes": [],
            "_model_module": "@jupyter-widgets/controls",
            "_model_module_version": "1.5.0",
            "_model_name": "HTMLModel",
            "_view_count": null,
            "_view_module": "@jupyter-widgets/controls",
            "_view_module_version": "1.5.0",
            "_view_name": "HTMLView",
            "description": "",
            "description_tooltip": null,
            "layout": "IPY_MODEL_d472cff3f2fe4b19ae64c4222f3d7c1d",
            "placeholder": "​",
            "style": "IPY_MODEL_7afc0738f67948e0b2a73e6189ffa427",
            "value": " 1350/1350 [00:00&lt;00:00, 1730.59 examples/s]"
          }
        },
        "d7a292aef08a43f09044c906deb38aa9": {
          "model_module": "@jupyter-widgets/base",
          "model_name": "LayoutModel",
          "model_module_version": "1.2.0",
          "state": {
            "_model_module": "@jupyter-widgets/base",
            "_model_module_version": "1.2.0",
            "_model_name": "LayoutModel",
            "_view_count": null,
            "_view_module": "@jupyter-widgets/base",
            "_view_module_version": "1.2.0",
            "_view_name": "LayoutView",
            "align_content": null,
            "align_items": null,
            "align_self": null,
            "border": null,
            "bottom": null,
            "display": null,
            "flex": null,
            "flex_flow": null,
            "grid_area": null,
            "grid_auto_columns": null,
            "grid_auto_flow": null,
            "grid_auto_rows": null,
            "grid_column": null,
            "grid_gap": null,
            "grid_row": null,
            "grid_template_areas": null,
            "grid_template_columns": null,
            "grid_template_rows": null,
            "height": null,
            "justify_content": null,
            "justify_items": null,
            "left": null,
            "margin": null,
            "max_height": null,
            "max_width": null,
            "min_height": null,
            "min_width": null,
            "object_fit": null,
            "object_position": null,
            "order": null,
            "overflow": null,
            "overflow_x": null,
            "overflow_y": null,
            "padding": null,
            "right": null,
            "top": null,
            "visibility": null,
            "width": null
          }
        },
        "c800a3d7cb6f4c389109310afa614661": {
          "model_module": "@jupyter-widgets/base",
          "model_name": "LayoutModel",
          "model_module_version": "1.2.0",
          "state": {
            "_model_module": "@jupyter-widgets/base",
            "_model_module_version": "1.2.0",
            "_model_name": "LayoutModel",
            "_view_count": null,
            "_view_module": "@jupyter-widgets/base",
            "_view_module_version": "1.2.0",
            "_view_name": "LayoutView",
            "align_content": null,
            "align_items": null,
            "align_self": null,
            "border": null,
            "bottom": null,
            "display": null,
            "flex": null,
            "flex_flow": null,
            "grid_area": null,
            "grid_auto_columns": null,
            "grid_auto_flow": null,
            "grid_auto_rows": null,
            "grid_column": null,
            "grid_gap": null,
            "grid_row": null,
            "grid_template_areas": null,
            "grid_template_columns": null,
            "grid_template_rows": null,
            "height": null,
            "justify_content": null,
            "justify_items": null,
            "left": null,
            "margin": null,
            "max_height": null,
            "max_width": null,
            "min_height": null,
            "min_width": null,
            "object_fit": null,
            "object_position": null,
            "order": null,
            "overflow": null,
            "overflow_x": null,
            "overflow_y": null,
            "padding": null,
            "right": null,
            "top": null,
            "visibility": null,
            "width": null
          }
        },
        "fdfddbd2792b4278984bab2d1bc7c837": {
          "model_module": "@jupyter-widgets/controls",
          "model_name": "DescriptionStyleModel",
          "model_module_version": "1.5.0",
          "state": {
            "_model_module": "@jupyter-widgets/controls",
            "_model_module_version": "1.5.0",
            "_model_name": "DescriptionStyleModel",
            "_view_count": null,
            "_view_module": "@jupyter-widgets/base",
            "_view_module_version": "1.2.0",
            "_view_name": "StyleView",
            "description_width": ""
          }
        },
        "b6625a0fad0140939388f2f6641ee5b2": {
          "model_module": "@jupyter-widgets/base",
          "model_name": "LayoutModel",
          "model_module_version": "1.2.0",
          "state": {
            "_model_module": "@jupyter-widgets/base",
            "_model_module_version": "1.2.0",
            "_model_name": "LayoutModel",
            "_view_count": null,
            "_view_module": "@jupyter-widgets/base",
            "_view_module_version": "1.2.0",
            "_view_name": "LayoutView",
            "align_content": null,
            "align_items": null,
            "align_self": null,
            "border": null,
            "bottom": null,
            "display": null,
            "flex": null,
            "flex_flow": null,
            "grid_area": null,
            "grid_auto_columns": null,
            "grid_auto_flow": null,
            "grid_auto_rows": null,
            "grid_column": null,
            "grid_gap": null,
            "grid_row": null,
            "grid_template_areas": null,
            "grid_template_columns": null,
            "grid_template_rows": null,
            "height": null,
            "justify_content": null,
            "justify_items": null,
            "left": null,
            "margin": null,
            "max_height": null,
            "max_width": null,
            "min_height": null,
            "min_width": null,
            "object_fit": null,
            "object_position": null,
            "order": null,
            "overflow": null,
            "overflow_x": null,
            "overflow_y": null,
            "padding": null,
            "right": null,
            "top": null,
            "visibility": null,
            "width": null
          }
        },
        "11d0a2c939954741ac2ddd9dc41fed73": {
          "model_module": "@jupyter-widgets/controls",
          "model_name": "ProgressStyleModel",
          "model_module_version": "1.5.0",
          "state": {
            "_model_module": "@jupyter-widgets/controls",
            "_model_module_version": "1.5.0",
            "_model_name": "ProgressStyleModel",
            "_view_count": null,
            "_view_module": "@jupyter-widgets/base",
            "_view_module_version": "1.2.0",
            "_view_name": "StyleView",
            "bar_color": null,
            "description_width": ""
          }
        },
        "d472cff3f2fe4b19ae64c4222f3d7c1d": {
          "model_module": "@jupyter-widgets/base",
          "model_name": "LayoutModel",
          "model_module_version": "1.2.0",
          "state": {
            "_model_module": "@jupyter-widgets/base",
            "_model_module_version": "1.2.0",
            "_model_name": "LayoutModel",
            "_view_count": null,
            "_view_module": "@jupyter-widgets/base",
            "_view_module_version": "1.2.0",
            "_view_name": "LayoutView",
            "align_content": null,
            "align_items": null,
            "align_self": null,
            "border": null,
            "bottom": null,
            "display": null,
            "flex": null,
            "flex_flow": null,
            "grid_area": null,
            "grid_auto_columns": null,
            "grid_auto_flow": null,
            "grid_auto_rows": null,
            "grid_column": null,
            "grid_gap": null,
            "grid_row": null,
            "grid_template_areas": null,
            "grid_template_columns": null,
            "grid_template_rows": null,
            "height": null,
            "justify_content": null,
            "justify_items": null,
            "left": null,
            "margin": null,
            "max_height": null,
            "max_width": null,
            "min_height": null,
            "min_width": null,
            "object_fit": null,
            "object_position": null,
            "order": null,
            "overflow": null,
            "overflow_x": null,
            "overflow_y": null,
            "padding": null,
            "right": null,
            "top": null,
            "visibility": null,
            "width": null
          }
        },
        "7afc0738f67948e0b2a73e6189ffa427": {
          "model_module": "@jupyter-widgets/controls",
          "model_name": "DescriptionStyleModel",
          "model_module_version": "1.5.0",
          "state": {
            "_model_module": "@jupyter-widgets/controls",
            "_model_module_version": "1.5.0",
            "_model_name": "DescriptionStyleModel",
            "_view_count": null,
            "_view_module": "@jupyter-widgets/base",
            "_view_module_version": "1.2.0",
            "_view_name": "StyleView",
            "description_width": ""
          }
        },
        "e3a5823c4f84478fa48b44aa59b58673": {
          "model_module": "@jupyter-widgets/controls",
          "model_name": "HBoxModel",
          "model_module_version": "1.5.0",
          "state": {
            "_dom_classes": [],
            "_model_module": "@jupyter-widgets/controls",
            "_model_module_version": "1.5.0",
            "_model_name": "HBoxModel",
            "_view_count": null,
            "_view_module": "@jupyter-widgets/controls",
            "_view_module_version": "1.5.0",
            "_view_name": "HBoxView",
            "box_style": "",
            "children": [
              "IPY_MODEL_67f8503b25b840d290f5d9cc51835156",
              "IPY_MODEL_6933f273d3a9480880944c30df46b7a5",
              "IPY_MODEL_1a9546ec96194c989c9c1fac09f0cbc2"
            ],
            "layout": "IPY_MODEL_5bdd1e635166432abffd8ce6ee747b6c"
          }
        },
        "67f8503b25b840d290f5d9cc51835156": {
          "model_module": "@jupyter-widgets/controls",
          "model_name": "HTMLModel",
          "model_module_version": "1.5.0",
          "state": {
            "_dom_classes": [],
            "_model_module": "@jupyter-widgets/controls",
            "_model_module_version": "1.5.0",
            "_model_name": "HTMLModel",
            "_view_count": null,
            "_view_module": "@jupyter-widgets/controls",
            "_view_module_version": "1.5.0",
            "_view_name": "HTMLView",
            "description": "",
            "description_tooltip": null,
            "layout": "IPY_MODEL_e00aba3b9b4c44868f809510477a849e",
            "placeholder": "​",
            "style": "IPY_MODEL_1cf23ebe6d484e19b208a1c8b7ff41ff",
            "value": "Map: 100%"
          }
        },
        "6933f273d3a9480880944c30df46b7a5": {
          "model_module": "@jupyter-widgets/controls",
          "model_name": "FloatProgressModel",
          "model_module_version": "1.5.0",
          "state": {
            "_dom_classes": [],
            "_model_module": "@jupyter-widgets/controls",
            "_model_module_version": "1.5.0",
            "_model_name": "FloatProgressModel",
            "_view_count": null,
            "_view_module": "@jupyter-widgets/controls",
            "_view_module_version": "1.5.0",
            "_view_name": "ProgressView",
            "bar_style": "success",
            "description": "",
            "description_tooltip": null,
            "layout": "IPY_MODEL_0976ad2dc99d483988aea7cfc8ffbe74",
            "max": 150,
            "min": 0,
            "orientation": "horizontal",
            "style": "IPY_MODEL_29a0e5456a6640f49cd4038c3baad43d",
            "value": 150
          }
        },
        "1a9546ec96194c989c9c1fac09f0cbc2": {
          "model_module": "@jupyter-widgets/controls",
          "model_name": "HTMLModel",
          "model_module_version": "1.5.0",
          "state": {
            "_dom_classes": [],
            "_model_module": "@jupyter-widgets/controls",
            "_model_module_version": "1.5.0",
            "_model_name": "HTMLModel",
            "_view_count": null,
            "_view_module": "@jupyter-widgets/controls",
            "_view_module_version": "1.5.0",
            "_view_name": "HTMLView",
            "description": "",
            "description_tooltip": null,
            "layout": "IPY_MODEL_d771f0c93ba141f2b8d15bfd069426f8",
            "placeholder": "​",
            "style": "IPY_MODEL_6cc046c11426477ab5d615a2a0c2de84",
            "value": " 150/150 [00:00&lt;00:00, 2715.08 examples/s]"
          }
        },
        "5bdd1e635166432abffd8ce6ee747b6c": {
          "model_module": "@jupyter-widgets/base",
          "model_name": "LayoutModel",
          "model_module_version": "1.2.0",
          "state": {
            "_model_module": "@jupyter-widgets/base",
            "_model_module_version": "1.2.0",
            "_model_name": "LayoutModel",
            "_view_count": null,
            "_view_module": "@jupyter-widgets/base",
            "_view_module_version": "1.2.0",
            "_view_name": "LayoutView",
            "align_content": null,
            "align_items": null,
            "align_self": null,
            "border": null,
            "bottom": null,
            "display": null,
            "flex": null,
            "flex_flow": null,
            "grid_area": null,
            "grid_auto_columns": null,
            "grid_auto_flow": null,
            "grid_auto_rows": null,
            "grid_column": null,
            "grid_gap": null,
            "grid_row": null,
            "grid_template_areas": null,
            "grid_template_columns": null,
            "grid_template_rows": null,
            "height": null,
            "justify_content": null,
            "justify_items": null,
            "left": null,
            "margin": null,
            "max_height": null,
            "max_width": null,
            "min_height": null,
            "min_width": null,
            "object_fit": null,
            "object_position": null,
            "order": null,
            "overflow": null,
            "overflow_x": null,
            "overflow_y": null,
            "padding": null,
            "right": null,
            "top": null,
            "visibility": null,
            "width": null
          }
        },
        "e00aba3b9b4c44868f809510477a849e": {
          "model_module": "@jupyter-widgets/base",
          "model_name": "LayoutModel",
          "model_module_version": "1.2.0",
          "state": {
            "_model_module": "@jupyter-widgets/base",
            "_model_module_version": "1.2.0",
            "_model_name": "LayoutModel",
            "_view_count": null,
            "_view_module": "@jupyter-widgets/base",
            "_view_module_version": "1.2.0",
            "_view_name": "LayoutView",
            "align_content": null,
            "align_items": null,
            "align_self": null,
            "border": null,
            "bottom": null,
            "display": null,
            "flex": null,
            "flex_flow": null,
            "grid_area": null,
            "grid_auto_columns": null,
            "grid_auto_flow": null,
            "grid_auto_rows": null,
            "grid_column": null,
            "grid_gap": null,
            "grid_row": null,
            "grid_template_areas": null,
            "grid_template_columns": null,
            "grid_template_rows": null,
            "height": null,
            "justify_content": null,
            "justify_items": null,
            "left": null,
            "margin": null,
            "max_height": null,
            "max_width": null,
            "min_height": null,
            "min_width": null,
            "object_fit": null,
            "object_position": null,
            "order": null,
            "overflow": null,
            "overflow_x": null,
            "overflow_y": null,
            "padding": null,
            "right": null,
            "top": null,
            "visibility": null,
            "width": null
          }
        },
        "1cf23ebe6d484e19b208a1c8b7ff41ff": {
          "model_module": "@jupyter-widgets/controls",
          "model_name": "DescriptionStyleModel",
          "model_module_version": "1.5.0",
          "state": {
            "_model_module": "@jupyter-widgets/controls",
            "_model_module_version": "1.5.0",
            "_model_name": "DescriptionStyleModel",
            "_view_count": null,
            "_view_module": "@jupyter-widgets/base",
            "_view_module_version": "1.2.0",
            "_view_name": "StyleView",
            "description_width": ""
          }
        },
        "0976ad2dc99d483988aea7cfc8ffbe74": {
          "model_module": "@jupyter-widgets/base",
          "model_name": "LayoutModel",
          "model_module_version": "1.2.0",
          "state": {
            "_model_module": "@jupyter-widgets/base",
            "_model_module_version": "1.2.0",
            "_model_name": "LayoutModel",
            "_view_count": null,
            "_view_module": "@jupyter-widgets/base",
            "_view_module_version": "1.2.0",
            "_view_name": "LayoutView",
            "align_content": null,
            "align_items": null,
            "align_self": null,
            "border": null,
            "bottom": null,
            "display": null,
            "flex": null,
            "flex_flow": null,
            "grid_area": null,
            "grid_auto_columns": null,
            "grid_auto_flow": null,
            "grid_auto_rows": null,
            "grid_column": null,
            "grid_gap": null,
            "grid_row": null,
            "grid_template_areas": null,
            "grid_template_columns": null,
            "grid_template_rows": null,
            "height": null,
            "justify_content": null,
            "justify_items": null,
            "left": null,
            "margin": null,
            "max_height": null,
            "max_width": null,
            "min_height": null,
            "min_width": null,
            "object_fit": null,
            "object_position": null,
            "order": null,
            "overflow": null,
            "overflow_x": null,
            "overflow_y": null,
            "padding": null,
            "right": null,
            "top": null,
            "visibility": null,
            "width": null
          }
        },
        "29a0e5456a6640f49cd4038c3baad43d": {
          "model_module": "@jupyter-widgets/controls",
          "model_name": "ProgressStyleModel",
          "model_module_version": "1.5.0",
          "state": {
            "_model_module": "@jupyter-widgets/controls",
            "_model_module_version": "1.5.0",
            "_model_name": "ProgressStyleModel",
            "_view_count": null,
            "_view_module": "@jupyter-widgets/base",
            "_view_module_version": "1.2.0",
            "_view_name": "StyleView",
            "bar_color": null,
            "description_width": ""
          }
        },
        "d771f0c93ba141f2b8d15bfd069426f8": {
          "model_module": "@jupyter-widgets/base",
          "model_name": "LayoutModel",
          "model_module_version": "1.2.0",
          "state": {
            "_model_module": "@jupyter-widgets/base",
            "_model_module_version": "1.2.0",
            "_model_name": "LayoutModel",
            "_view_count": null,
            "_view_module": "@jupyter-widgets/base",
            "_view_module_version": "1.2.0",
            "_view_name": "LayoutView",
            "align_content": null,
            "align_items": null,
            "align_self": null,
            "border": null,
            "bottom": null,
            "display": null,
            "flex": null,
            "flex_flow": null,
            "grid_area": null,
            "grid_auto_columns": null,
            "grid_auto_flow": null,
            "grid_auto_rows": null,
            "grid_column": null,
            "grid_gap": null,
            "grid_row": null,
            "grid_template_areas": null,
            "grid_template_columns": null,
            "grid_template_rows": null,
            "height": null,
            "justify_content": null,
            "justify_items": null,
            "left": null,
            "margin": null,
            "max_height": null,
            "max_width": null,
            "min_height": null,
            "min_width": null,
            "object_fit": null,
            "object_position": null,
            "order": null,
            "overflow": null,
            "overflow_x": null,
            "overflow_y": null,
            "padding": null,
            "right": null,
            "top": null,
            "visibility": null,
            "width": null
          }
        },
        "6cc046c11426477ab5d615a2a0c2de84": {
          "model_module": "@jupyter-widgets/controls",
          "model_name": "DescriptionStyleModel",
          "model_module_version": "1.5.0",
          "state": {
            "_model_module": "@jupyter-widgets/controls",
            "_model_module_version": "1.5.0",
            "_model_name": "DescriptionStyleModel",
            "_view_count": null,
            "_view_module": "@jupyter-widgets/base",
            "_view_module_version": "1.2.0",
            "_view_name": "StyleView",
            "description_width": ""
          }
        },
        "1a6819e231fe45e4b0298223ebcedabb": {
          "model_module": "@jupyter-widgets/controls",
          "model_name": "HBoxModel",
          "model_module_version": "1.5.0",
          "state": {
            "_dom_classes": [],
            "_model_module": "@jupyter-widgets/controls",
            "_model_module_version": "1.5.0",
            "_model_name": "HBoxModel",
            "_view_count": null,
            "_view_module": "@jupyter-widgets/controls",
            "_view_module_version": "1.5.0",
            "_view_name": "HBoxView",
            "box_style": "",
            "children": [
              "IPY_MODEL_e31e76d5893e4bbdab00c9221dec979d",
              "IPY_MODEL_cd776bc7c0e844a18e1fb8aabf1ff6fb",
              "IPY_MODEL_ae6126ac7cad4acc98c1eeb83d4a87be"
            ],
            "layout": "IPY_MODEL_b25204357d114c1884ba16493d970cfd"
          }
        },
        "e31e76d5893e4bbdab00c9221dec979d": {
          "model_module": "@jupyter-widgets/controls",
          "model_name": "HTMLModel",
          "model_module_version": "1.5.0",
          "state": {
            "_dom_classes": [],
            "_model_module": "@jupyter-widgets/controls",
            "_model_module_version": "1.5.0",
            "_model_name": "HTMLModel",
            "_view_count": null,
            "_view_module": "@jupyter-widgets/controls",
            "_view_module_version": "1.5.0",
            "_view_name": "HTMLView",
            "description": "",
            "description_tooltip": null,
            "layout": "IPY_MODEL_d17eb0df30374ebeb2690cbdfc478c4c",
            "placeholder": "​",
            "style": "IPY_MODEL_85cb36b4e73047ed84be32a8a456bd2a",
            "value": "pytorch_model.bin: 100%"
          }
        },
        "cd776bc7c0e844a18e1fb8aabf1ff6fb": {
          "model_module": "@jupyter-widgets/controls",
          "model_name": "FloatProgressModel",
          "model_module_version": "1.5.0",
          "state": {
            "_dom_classes": [],
            "_model_module": "@jupyter-widgets/controls",
            "_model_module_version": "1.5.0",
            "_model_name": "FloatProgressModel",
            "_view_count": null,
            "_view_module": "@jupyter-widgets/controls",
            "_view_module_version": "1.5.0",
            "_view_name": "ProgressView",
            "bar_style": "success",
            "description": "",
            "description_tooltip": null,
            "layout": "IPY_MODEL_d8e04fc8b0a542b2b7296d475758bf10",
            "max": 497810400,
            "min": 0,
            "orientation": "horizontal",
            "style": "IPY_MODEL_3ed149bf364f41fbb247481b4d05ff4f",
            "value": 497810400
          }
        },
        "ae6126ac7cad4acc98c1eeb83d4a87be": {
          "model_module": "@jupyter-widgets/controls",
          "model_name": "HTMLModel",
          "model_module_version": "1.5.0",
          "state": {
            "_dom_classes": [],
            "_model_module": "@jupyter-widgets/controls",
            "_model_module_version": "1.5.0",
            "_model_name": "HTMLModel",
            "_view_count": null,
            "_view_module": "@jupyter-widgets/controls",
            "_view_module_version": "1.5.0",
            "_view_name": "HTMLView",
            "description": "",
            "description_tooltip": null,
            "layout": "IPY_MODEL_7987bd1b2a1e4d559f55da9015a0dcac",
            "placeholder": "​",
            "style": "IPY_MODEL_9437f3fc5f0a4172b4e910287f792405",
            "value": " 498M/498M [00:07&lt;00:00, 114MB/s]"
          }
        },
        "b25204357d114c1884ba16493d970cfd": {
          "model_module": "@jupyter-widgets/base",
          "model_name": "LayoutModel",
          "model_module_version": "1.2.0",
          "state": {
            "_model_module": "@jupyter-widgets/base",
            "_model_module_version": "1.2.0",
            "_model_name": "LayoutModel",
            "_view_count": null,
            "_view_module": "@jupyter-widgets/base",
            "_view_module_version": "1.2.0",
            "_view_name": "LayoutView",
            "align_content": null,
            "align_items": null,
            "align_self": null,
            "border": null,
            "bottom": null,
            "display": null,
            "flex": null,
            "flex_flow": null,
            "grid_area": null,
            "grid_auto_columns": null,
            "grid_auto_flow": null,
            "grid_auto_rows": null,
            "grid_column": null,
            "grid_gap": null,
            "grid_row": null,
            "grid_template_areas": null,
            "grid_template_columns": null,
            "grid_template_rows": null,
            "height": null,
            "justify_content": null,
            "justify_items": null,
            "left": null,
            "margin": null,
            "max_height": null,
            "max_width": null,
            "min_height": null,
            "min_width": null,
            "object_fit": null,
            "object_position": null,
            "order": null,
            "overflow": null,
            "overflow_x": null,
            "overflow_y": null,
            "padding": null,
            "right": null,
            "top": null,
            "visibility": null,
            "width": null
          }
        },
        "d17eb0df30374ebeb2690cbdfc478c4c": {
          "model_module": "@jupyter-widgets/base",
          "model_name": "LayoutModel",
          "model_module_version": "1.2.0",
          "state": {
            "_model_module": "@jupyter-widgets/base",
            "_model_module_version": "1.2.0",
            "_model_name": "LayoutModel",
            "_view_count": null,
            "_view_module": "@jupyter-widgets/base",
            "_view_module_version": "1.2.0",
            "_view_name": "LayoutView",
            "align_content": null,
            "align_items": null,
            "align_self": null,
            "border": null,
            "bottom": null,
            "display": null,
            "flex": null,
            "flex_flow": null,
            "grid_area": null,
            "grid_auto_columns": null,
            "grid_auto_flow": null,
            "grid_auto_rows": null,
            "grid_column": null,
            "grid_gap": null,
            "grid_row": null,
            "grid_template_areas": null,
            "grid_template_columns": null,
            "grid_template_rows": null,
            "height": null,
            "justify_content": null,
            "justify_items": null,
            "left": null,
            "margin": null,
            "max_height": null,
            "max_width": null,
            "min_height": null,
            "min_width": null,
            "object_fit": null,
            "object_position": null,
            "order": null,
            "overflow": null,
            "overflow_x": null,
            "overflow_y": null,
            "padding": null,
            "right": null,
            "top": null,
            "visibility": null,
            "width": null
          }
        },
        "85cb36b4e73047ed84be32a8a456bd2a": {
          "model_module": "@jupyter-widgets/controls",
          "model_name": "DescriptionStyleModel",
          "model_module_version": "1.5.0",
          "state": {
            "_model_module": "@jupyter-widgets/controls",
            "_model_module_version": "1.5.0",
            "_model_name": "DescriptionStyleModel",
            "_view_count": null,
            "_view_module": "@jupyter-widgets/base",
            "_view_module_version": "1.2.0",
            "_view_name": "StyleView",
            "description_width": ""
          }
        },
        "d8e04fc8b0a542b2b7296d475758bf10": {
          "model_module": "@jupyter-widgets/base",
          "model_name": "LayoutModel",
          "model_module_version": "1.2.0",
          "state": {
            "_model_module": "@jupyter-widgets/base",
            "_model_module_version": "1.2.0",
            "_model_name": "LayoutModel",
            "_view_count": null,
            "_view_module": "@jupyter-widgets/base",
            "_view_module_version": "1.2.0",
            "_view_name": "LayoutView",
            "align_content": null,
            "align_items": null,
            "align_self": null,
            "border": null,
            "bottom": null,
            "display": null,
            "flex": null,
            "flex_flow": null,
            "grid_area": null,
            "grid_auto_columns": null,
            "grid_auto_flow": null,
            "grid_auto_rows": null,
            "grid_column": null,
            "grid_gap": null,
            "grid_row": null,
            "grid_template_areas": null,
            "grid_template_columns": null,
            "grid_template_rows": null,
            "height": null,
            "justify_content": null,
            "justify_items": null,
            "left": null,
            "margin": null,
            "max_height": null,
            "max_width": null,
            "min_height": null,
            "min_width": null,
            "object_fit": null,
            "object_position": null,
            "order": null,
            "overflow": null,
            "overflow_x": null,
            "overflow_y": null,
            "padding": null,
            "right": null,
            "top": null,
            "visibility": null,
            "width": null
          }
        },
        "3ed149bf364f41fbb247481b4d05ff4f": {
          "model_module": "@jupyter-widgets/controls",
          "model_name": "ProgressStyleModel",
          "model_module_version": "1.5.0",
          "state": {
            "_model_module": "@jupyter-widgets/controls",
            "_model_module_version": "1.5.0",
            "_model_name": "ProgressStyleModel",
            "_view_count": null,
            "_view_module": "@jupyter-widgets/base",
            "_view_module_version": "1.2.0",
            "_view_name": "StyleView",
            "bar_color": null,
            "description_width": ""
          }
        },
        "7987bd1b2a1e4d559f55da9015a0dcac": {
          "model_module": "@jupyter-widgets/base",
          "model_name": "LayoutModel",
          "model_module_version": "1.2.0",
          "state": {
            "_model_module": "@jupyter-widgets/base",
            "_model_module_version": "1.2.0",
            "_model_name": "LayoutModel",
            "_view_count": null,
            "_view_module": "@jupyter-widgets/base",
            "_view_module_version": "1.2.0",
            "_view_name": "LayoutView",
            "align_content": null,
            "align_items": null,
            "align_self": null,
            "border": null,
            "bottom": null,
            "display": null,
            "flex": null,
            "flex_flow": null,
            "grid_area": null,
            "grid_auto_columns": null,
            "grid_auto_flow": null,
            "grid_auto_rows": null,
            "grid_column": null,
            "grid_gap": null,
            "grid_row": null,
            "grid_template_areas": null,
            "grid_template_columns": null,
            "grid_template_rows": null,
            "height": null,
            "justify_content": null,
            "justify_items": null,
            "left": null,
            "margin": null,
            "max_height": null,
            "max_width": null,
            "min_height": null,
            "min_width": null,
            "object_fit": null,
            "object_position": null,
            "order": null,
            "overflow": null,
            "overflow_x": null,
            "overflow_y": null,
            "padding": null,
            "right": null,
            "top": null,
            "visibility": null,
            "width": null
          }
        },
        "9437f3fc5f0a4172b4e910287f792405": {
          "model_module": "@jupyter-widgets/controls",
          "model_name": "DescriptionStyleModel",
          "model_module_version": "1.5.0",
          "state": {
            "_model_module": "@jupyter-widgets/controls",
            "_model_module_version": "1.5.0",
            "_model_name": "DescriptionStyleModel",
            "_view_count": null,
            "_view_module": "@jupyter-widgets/base",
            "_view_module_version": "1.2.0",
            "_view_name": "StyleView",
            "description_width": ""
          }
        },
        "5ada5f451e744c90b8158af47c16bac4": {
          "model_module": "@jupyter-widgets/controls",
          "model_name": "HBoxModel",
          "model_module_version": "1.5.0",
          "state": {
            "_dom_classes": [],
            "_model_module": "@jupyter-widgets/controls",
            "_model_module_version": "1.5.0",
            "_model_name": "HBoxModel",
            "_view_count": null,
            "_view_module": "@jupyter-widgets/controls",
            "_view_module_version": "1.5.0",
            "_view_name": "HBoxView",
            "box_style": "",
            "children": [
              "IPY_MODEL_000c4938fc994589987f6e3aeee746e3",
              "IPY_MODEL_2ec6fe0e714c4572b6912425d8eb45c9",
              "IPY_MODEL_c16fefc1be1d476a8298502147b1e052"
            ],
            "layout": "IPY_MODEL_6a112951ece4416582d751b0b3b2e6d1"
          }
        },
        "000c4938fc994589987f6e3aeee746e3": {
          "model_module": "@jupyter-widgets/controls",
          "model_name": "HTMLModel",
          "model_module_version": "1.5.0",
          "state": {
            "_dom_classes": [],
            "_model_module": "@jupyter-widgets/controls",
            "_model_module_version": "1.5.0",
            "_model_name": "HTMLModel",
            "_view_count": null,
            "_view_module": "@jupyter-widgets/controls",
            "_view_module_version": "1.5.0",
            "_view_name": "HTMLView",
            "description": "",
            "description_tooltip": null,
            "layout": "IPY_MODEL_b76a643e314a4197a9bdf83626f78e68",
            "placeholder": "​",
            "style": "IPY_MODEL_26a4efc8ed974c2797036080c3cbbbc1",
            "value": "model.safetensors: 100%"
          }
        },
        "2ec6fe0e714c4572b6912425d8eb45c9": {
          "model_module": "@jupyter-widgets/controls",
          "model_name": "FloatProgressModel",
          "model_module_version": "1.5.0",
          "state": {
            "_dom_classes": [],
            "_model_module": "@jupyter-widgets/controls",
            "_model_module_version": "1.5.0",
            "_model_name": "FloatProgressModel",
            "_view_count": null,
            "_view_module": "@jupyter-widgets/controls",
            "_view_module_version": "1.5.0",
            "_view_name": "ProgressView",
            "bar_style": "success",
            "description": "",
            "description_tooltip": null,
            "layout": "IPY_MODEL_093bee0c86b843e382ba947bdfcaf4c6",
            "max": 497787752,
            "min": 0,
            "orientation": "horizontal",
            "style": "IPY_MODEL_c61360c1bc8c4df2928467bbba4a7c4c",
            "value": 497787752
          }
        },
        "c16fefc1be1d476a8298502147b1e052": {
          "model_module": "@jupyter-widgets/controls",
          "model_name": "HTMLModel",
          "model_module_version": "1.5.0",
          "state": {
            "_dom_classes": [],
            "_model_module": "@jupyter-widgets/controls",
            "_model_module_version": "1.5.0",
            "_model_name": "HTMLModel",
            "_view_count": null,
            "_view_module": "@jupyter-widgets/controls",
            "_view_module_version": "1.5.0",
            "_view_name": "HTMLView",
            "description": "",
            "description_tooltip": null,
            "layout": "IPY_MODEL_e595d0475729492bb8371043633fe89d",
            "placeholder": "​",
            "style": "IPY_MODEL_0fd1961a39aa4651aa34cb0544a180ae",
            "value": " 498M/498M [00:02&lt;00:00, 261MB/s]"
          }
        },
        "6a112951ece4416582d751b0b3b2e6d1": {
          "model_module": "@jupyter-widgets/base",
          "model_name": "LayoutModel",
          "model_module_version": "1.2.0",
          "state": {
            "_model_module": "@jupyter-widgets/base",
            "_model_module_version": "1.2.0",
            "_model_name": "LayoutModel",
            "_view_count": null,
            "_view_module": "@jupyter-widgets/base",
            "_view_module_version": "1.2.0",
            "_view_name": "LayoutView",
            "align_content": null,
            "align_items": null,
            "align_self": null,
            "border": null,
            "bottom": null,
            "display": null,
            "flex": null,
            "flex_flow": null,
            "grid_area": null,
            "grid_auto_columns": null,
            "grid_auto_flow": null,
            "grid_auto_rows": null,
            "grid_column": null,
            "grid_gap": null,
            "grid_row": null,
            "grid_template_areas": null,
            "grid_template_columns": null,
            "grid_template_rows": null,
            "height": null,
            "justify_content": null,
            "justify_items": null,
            "left": null,
            "margin": null,
            "max_height": null,
            "max_width": null,
            "min_height": null,
            "min_width": null,
            "object_fit": null,
            "object_position": null,
            "order": null,
            "overflow": null,
            "overflow_x": null,
            "overflow_y": null,
            "padding": null,
            "right": null,
            "top": null,
            "visibility": null,
            "width": null
          }
        },
        "b76a643e314a4197a9bdf83626f78e68": {
          "model_module": "@jupyter-widgets/base",
          "model_name": "LayoutModel",
          "model_module_version": "1.2.0",
          "state": {
            "_model_module": "@jupyter-widgets/base",
            "_model_module_version": "1.2.0",
            "_model_name": "LayoutModel",
            "_view_count": null,
            "_view_module": "@jupyter-widgets/base",
            "_view_module_version": "1.2.0",
            "_view_name": "LayoutView",
            "align_content": null,
            "align_items": null,
            "align_self": null,
            "border": null,
            "bottom": null,
            "display": null,
            "flex": null,
            "flex_flow": null,
            "grid_area": null,
            "grid_auto_columns": null,
            "grid_auto_flow": null,
            "grid_auto_rows": null,
            "grid_column": null,
            "grid_gap": null,
            "grid_row": null,
            "grid_template_areas": null,
            "grid_template_columns": null,
            "grid_template_rows": null,
            "height": null,
            "justify_content": null,
            "justify_items": null,
            "left": null,
            "margin": null,
            "max_height": null,
            "max_width": null,
            "min_height": null,
            "min_width": null,
            "object_fit": null,
            "object_position": null,
            "order": null,
            "overflow": null,
            "overflow_x": null,
            "overflow_y": null,
            "padding": null,
            "right": null,
            "top": null,
            "visibility": null,
            "width": null
          }
        },
        "26a4efc8ed974c2797036080c3cbbbc1": {
          "model_module": "@jupyter-widgets/controls",
          "model_name": "DescriptionStyleModel",
          "model_module_version": "1.5.0",
          "state": {
            "_model_module": "@jupyter-widgets/controls",
            "_model_module_version": "1.5.0",
            "_model_name": "DescriptionStyleModel",
            "_view_count": null,
            "_view_module": "@jupyter-widgets/base",
            "_view_module_version": "1.2.0",
            "_view_name": "StyleView",
            "description_width": ""
          }
        },
        "093bee0c86b843e382ba947bdfcaf4c6": {
          "model_module": "@jupyter-widgets/base",
          "model_name": "LayoutModel",
          "model_module_version": "1.2.0",
          "state": {
            "_model_module": "@jupyter-widgets/base",
            "_model_module_version": "1.2.0",
            "_model_name": "LayoutModel",
            "_view_count": null,
            "_view_module": "@jupyter-widgets/base",
            "_view_module_version": "1.2.0",
            "_view_name": "LayoutView",
            "align_content": null,
            "align_items": null,
            "align_self": null,
            "border": null,
            "bottom": null,
            "display": null,
            "flex": null,
            "flex_flow": null,
            "grid_area": null,
            "grid_auto_columns": null,
            "grid_auto_flow": null,
            "grid_auto_rows": null,
            "grid_column": null,
            "grid_gap": null,
            "grid_row": null,
            "grid_template_areas": null,
            "grid_template_columns": null,
            "grid_template_rows": null,
            "height": null,
            "justify_content": null,
            "justify_items": null,
            "left": null,
            "margin": null,
            "max_height": null,
            "max_width": null,
            "min_height": null,
            "min_width": null,
            "object_fit": null,
            "object_position": null,
            "order": null,
            "overflow": null,
            "overflow_x": null,
            "overflow_y": null,
            "padding": null,
            "right": null,
            "top": null,
            "visibility": null,
            "width": null
          }
        },
        "c61360c1bc8c4df2928467bbba4a7c4c": {
          "model_module": "@jupyter-widgets/controls",
          "model_name": "ProgressStyleModel",
          "model_module_version": "1.5.0",
          "state": {
            "_model_module": "@jupyter-widgets/controls",
            "_model_module_version": "1.5.0",
            "_model_name": "ProgressStyleModel",
            "_view_count": null,
            "_view_module": "@jupyter-widgets/base",
            "_view_module_version": "1.2.0",
            "_view_name": "StyleView",
            "bar_color": null,
            "description_width": ""
          }
        },
        "e595d0475729492bb8371043633fe89d": {
          "model_module": "@jupyter-widgets/base",
          "model_name": "LayoutModel",
          "model_module_version": "1.2.0",
          "state": {
            "_model_module": "@jupyter-widgets/base",
            "_model_module_version": "1.2.0",
            "_model_name": "LayoutModel",
            "_view_count": null,
            "_view_module": "@jupyter-widgets/base",
            "_view_module_version": "1.2.0",
            "_view_name": "LayoutView",
            "align_content": null,
            "align_items": null,
            "align_self": null,
            "border": null,
            "bottom": null,
            "display": null,
            "flex": null,
            "flex_flow": null,
            "grid_area": null,
            "grid_auto_columns": null,
            "grid_auto_flow": null,
            "grid_auto_rows": null,
            "grid_column": null,
            "grid_gap": null,
            "grid_row": null,
            "grid_template_areas": null,
            "grid_template_columns": null,
            "grid_template_rows": null,
            "height": null,
            "justify_content": null,
            "justify_items": null,
            "left": null,
            "margin": null,
            "max_height": null,
            "max_width": null,
            "min_height": null,
            "min_width": null,
            "object_fit": null,
            "object_position": null,
            "order": null,
            "overflow": null,
            "overflow_x": null,
            "overflow_y": null,
            "padding": null,
            "right": null,
            "top": null,
            "visibility": null,
            "width": null
          }
        },
        "0fd1961a39aa4651aa34cb0544a180ae": {
          "model_module": "@jupyter-widgets/controls",
          "model_name": "DescriptionStyleModel",
          "model_module_version": "1.5.0",
          "state": {
            "_model_module": "@jupyter-widgets/controls",
            "_model_module_version": "1.5.0",
            "_model_name": "DescriptionStyleModel",
            "_view_count": null,
            "_view_module": "@jupyter-widgets/base",
            "_view_module_version": "1.2.0",
            "_view_name": "StyleView",
            "description_width": ""
          }
        },
        "0e2515bd438841c2be76892071ba5e14": {
          "model_module": "@jupyter-widgets/controls",
          "model_name": "HBoxModel",
          "model_module_version": "1.5.0",
          "state": {
            "_dom_classes": [],
            "_model_module": "@jupyter-widgets/controls",
            "_model_module_version": "1.5.0",
            "_model_name": "HBoxModel",
            "_view_count": null,
            "_view_module": "@jupyter-widgets/controls",
            "_view_module_version": "1.5.0",
            "_view_name": "HBoxView",
            "box_style": "",
            "children": [
              "IPY_MODEL_bd2ea1110bbe4713b187bee2ce3c640b",
              "IPY_MODEL_96a1a196bd88409f945c54d9d8de7be3",
              "IPY_MODEL_cb212abe06104cf69bae04d24cd238c5"
            ],
            "layout": "IPY_MODEL_a8a07d04526e40f5945ee2c4231d7bdd"
          }
        },
        "bd2ea1110bbe4713b187bee2ce3c640b": {
          "model_module": "@jupyter-widgets/controls",
          "model_name": "HTMLModel",
          "model_module_version": "1.5.0",
          "state": {
            "_dom_classes": [],
            "_model_module": "@jupyter-widgets/controls",
            "_model_module_version": "1.5.0",
            "_model_name": "HTMLModel",
            "_view_count": null,
            "_view_module": "@jupyter-widgets/controls",
            "_view_module_version": "1.5.0",
            "_view_name": "HTMLView",
            "description": "",
            "description_tooltip": null,
            "layout": "IPY_MODEL_f7a69bb56c6a4091815bb02e773cf2fa",
            "placeholder": "​",
            "style": "IPY_MODEL_630b81551cb241c996e72dffda101a20",
            "value": "Downloading builder script: 100%"
          }
        },
        "96a1a196bd88409f945c54d9d8de7be3": {
          "model_module": "@jupyter-widgets/controls",
          "model_name": "FloatProgressModel",
          "model_module_version": "1.5.0",
          "state": {
            "_dom_classes": [],
            "_model_module": "@jupyter-widgets/controls",
            "_model_module_version": "1.5.0",
            "_model_name": "FloatProgressModel",
            "_view_count": null,
            "_view_module": "@jupyter-widgets/controls",
            "_view_module_version": "1.5.0",
            "_view_name": "ProgressView",
            "bar_style": "success",
            "description": "",
            "description_tooltip": null,
            "layout": "IPY_MODEL_aad8cea7308641948f941987399c1dea",
            "max": 4203,
            "min": 0,
            "orientation": "horizontal",
            "style": "IPY_MODEL_7ac8867e796c4f149f27b6306169748a",
            "value": 4203
          }
        },
        "cb212abe06104cf69bae04d24cd238c5": {
          "model_module": "@jupyter-widgets/controls",
          "model_name": "HTMLModel",
          "model_module_version": "1.5.0",
          "state": {
            "_dom_classes": [],
            "_model_module": "@jupyter-widgets/controls",
            "_model_module_version": "1.5.0",
            "_model_name": "HTMLModel",
            "_view_count": null,
            "_view_module": "@jupyter-widgets/controls",
            "_view_module_version": "1.5.0",
            "_view_name": "HTMLView",
            "description": "",
            "description_tooltip": null,
            "layout": "IPY_MODEL_dd6275a505db49a8aafae63e07781dd0",
            "placeholder": "​",
            "style": "IPY_MODEL_95dfcb121c384dadb6805d6090d850e4",
            "value": " 4.20k/4.20k [00:00&lt;00:00, 97.6kB/s]"
          }
        },
        "a8a07d04526e40f5945ee2c4231d7bdd": {
          "model_module": "@jupyter-widgets/base",
          "model_name": "LayoutModel",
          "model_module_version": "1.2.0",
          "state": {
            "_model_module": "@jupyter-widgets/base",
            "_model_module_version": "1.2.0",
            "_model_name": "LayoutModel",
            "_view_count": null,
            "_view_module": "@jupyter-widgets/base",
            "_view_module_version": "1.2.0",
            "_view_name": "LayoutView",
            "align_content": null,
            "align_items": null,
            "align_self": null,
            "border": null,
            "bottom": null,
            "display": null,
            "flex": null,
            "flex_flow": null,
            "grid_area": null,
            "grid_auto_columns": null,
            "grid_auto_flow": null,
            "grid_auto_rows": null,
            "grid_column": null,
            "grid_gap": null,
            "grid_row": null,
            "grid_template_areas": null,
            "grid_template_columns": null,
            "grid_template_rows": null,
            "height": null,
            "justify_content": null,
            "justify_items": null,
            "left": null,
            "margin": null,
            "max_height": null,
            "max_width": null,
            "min_height": null,
            "min_width": null,
            "object_fit": null,
            "object_position": null,
            "order": null,
            "overflow": null,
            "overflow_x": null,
            "overflow_y": null,
            "padding": null,
            "right": null,
            "top": null,
            "visibility": null,
            "width": null
          }
        },
        "f7a69bb56c6a4091815bb02e773cf2fa": {
          "model_module": "@jupyter-widgets/base",
          "model_name": "LayoutModel",
          "model_module_version": "1.2.0",
          "state": {
            "_model_module": "@jupyter-widgets/base",
            "_model_module_version": "1.2.0",
            "_model_name": "LayoutModel",
            "_view_count": null,
            "_view_module": "@jupyter-widgets/base",
            "_view_module_version": "1.2.0",
            "_view_name": "LayoutView",
            "align_content": null,
            "align_items": null,
            "align_self": null,
            "border": null,
            "bottom": null,
            "display": null,
            "flex": null,
            "flex_flow": null,
            "grid_area": null,
            "grid_auto_columns": null,
            "grid_auto_flow": null,
            "grid_auto_rows": null,
            "grid_column": null,
            "grid_gap": null,
            "grid_row": null,
            "grid_template_areas": null,
            "grid_template_columns": null,
            "grid_template_rows": null,
            "height": null,
            "justify_content": null,
            "justify_items": null,
            "left": null,
            "margin": null,
            "max_height": null,
            "max_width": null,
            "min_height": null,
            "min_width": null,
            "object_fit": null,
            "object_position": null,
            "order": null,
            "overflow": null,
            "overflow_x": null,
            "overflow_y": null,
            "padding": null,
            "right": null,
            "top": null,
            "visibility": null,
            "width": null
          }
        },
        "630b81551cb241c996e72dffda101a20": {
          "model_module": "@jupyter-widgets/controls",
          "model_name": "DescriptionStyleModel",
          "model_module_version": "1.5.0",
          "state": {
            "_model_module": "@jupyter-widgets/controls",
            "_model_module_version": "1.5.0",
            "_model_name": "DescriptionStyleModel",
            "_view_count": null,
            "_view_module": "@jupyter-widgets/base",
            "_view_module_version": "1.2.0",
            "_view_name": "StyleView",
            "description_width": ""
          }
        },
        "aad8cea7308641948f941987399c1dea": {
          "model_module": "@jupyter-widgets/base",
          "model_name": "LayoutModel",
          "model_module_version": "1.2.0",
          "state": {
            "_model_module": "@jupyter-widgets/base",
            "_model_module_version": "1.2.0",
            "_model_name": "LayoutModel",
            "_view_count": null,
            "_view_module": "@jupyter-widgets/base",
            "_view_module_version": "1.2.0",
            "_view_name": "LayoutView",
            "align_content": null,
            "align_items": null,
            "align_self": null,
            "border": null,
            "bottom": null,
            "display": null,
            "flex": null,
            "flex_flow": null,
            "grid_area": null,
            "grid_auto_columns": null,
            "grid_auto_flow": null,
            "grid_auto_rows": null,
            "grid_column": null,
            "grid_gap": null,
            "grid_row": null,
            "grid_template_areas": null,
            "grid_template_columns": null,
            "grid_template_rows": null,
            "height": null,
            "justify_content": null,
            "justify_items": null,
            "left": null,
            "margin": null,
            "max_height": null,
            "max_width": null,
            "min_height": null,
            "min_width": null,
            "object_fit": null,
            "object_position": null,
            "order": null,
            "overflow": null,
            "overflow_x": null,
            "overflow_y": null,
            "padding": null,
            "right": null,
            "top": null,
            "visibility": null,
            "width": null
          }
        },
        "7ac8867e796c4f149f27b6306169748a": {
          "model_module": "@jupyter-widgets/controls",
          "model_name": "ProgressStyleModel",
          "model_module_version": "1.5.0",
          "state": {
            "_model_module": "@jupyter-widgets/controls",
            "_model_module_version": "1.5.0",
            "_model_name": "ProgressStyleModel",
            "_view_count": null,
            "_view_module": "@jupyter-widgets/base",
            "_view_module_version": "1.2.0",
            "_view_name": "StyleView",
            "bar_color": null,
            "description_width": ""
          }
        },
        "dd6275a505db49a8aafae63e07781dd0": {
          "model_module": "@jupyter-widgets/base",
          "model_name": "LayoutModel",
          "model_module_version": "1.2.0",
          "state": {
            "_model_module": "@jupyter-widgets/base",
            "_model_module_version": "1.2.0",
            "_model_name": "LayoutModel",
            "_view_count": null,
            "_view_module": "@jupyter-widgets/base",
            "_view_module_version": "1.2.0",
            "_view_name": "LayoutView",
            "align_content": null,
            "align_items": null,
            "align_self": null,
            "border": null,
            "bottom": null,
            "display": null,
            "flex": null,
            "flex_flow": null,
            "grid_area": null,
            "grid_auto_columns": null,
            "grid_auto_flow": null,
            "grid_auto_rows": null,
            "grid_column": null,
            "grid_gap": null,
            "grid_row": null,
            "grid_template_areas": null,
            "grid_template_columns": null,
            "grid_template_rows": null,
            "height": null,
            "justify_content": null,
            "justify_items": null,
            "left": null,
            "margin": null,
            "max_height": null,
            "max_width": null,
            "min_height": null,
            "min_width": null,
            "object_fit": null,
            "object_position": null,
            "order": null,
            "overflow": null,
            "overflow_x": null,
            "overflow_y": null,
            "padding": null,
            "right": null,
            "top": null,
            "visibility": null,
            "width": null
          }
        },
        "95dfcb121c384dadb6805d6090d850e4": {
          "model_module": "@jupyter-widgets/controls",
          "model_name": "DescriptionStyleModel",
          "model_module_version": "1.5.0",
          "state": {
            "_model_module": "@jupyter-widgets/controls",
            "_model_module_version": "1.5.0",
            "_model_name": "DescriptionStyleModel",
            "_view_count": null,
            "_view_module": "@jupyter-widgets/base",
            "_view_module_version": "1.2.0",
            "_view_name": "StyleView",
            "description_width": ""
          }
        },
        "c81d8edfbb0f403ab65de4bc5a0acfd0": {
          "model_module": "@jupyter-widgets/controls",
          "model_name": "HBoxModel",
          "model_module_version": "1.5.0",
          "state": {
            "_dom_classes": [],
            "_model_module": "@jupyter-widgets/controls",
            "_model_module_version": "1.5.0",
            "_model_name": "HBoxModel",
            "_view_count": null,
            "_view_module": "@jupyter-widgets/controls",
            "_view_module_version": "1.5.0",
            "_view_name": "HBoxView",
            "box_style": "",
            "children": [
              "IPY_MODEL_4740873b9fc4453c8b7b65d85177ef14",
              "IPY_MODEL_55c627876987425c856851862dda390c",
              "IPY_MODEL_6521988f7a02493a99b3a5d0becbe1a5"
            ],
            "layout": "IPY_MODEL_6336bfc5a03743e190500857456feef9"
          }
        },
        "4740873b9fc4453c8b7b65d85177ef14": {
          "model_module": "@jupyter-widgets/controls",
          "model_name": "HTMLModel",
          "model_module_version": "1.5.0",
          "state": {
            "_dom_classes": [],
            "_model_module": "@jupyter-widgets/controls",
            "_model_module_version": "1.5.0",
            "_model_name": "HTMLModel",
            "_view_count": null,
            "_view_module": "@jupyter-widgets/controls",
            "_view_module_version": "1.5.0",
            "_view_name": "HTMLView",
            "description": "",
            "description_tooltip": null,
            "layout": "IPY_MODEL_adbc7dcbc0fb455d98251fadad901314",
            "placeholder": "​",
            "style": "IPY_MODEL_a0ef533dab584c81b846f7ca678a50e9",
            "value": "Downloading builder script: 100%"
          }
        },
        "55c627876987425c856851862dda390c": {
          "model_module": "@jupyter-widgets/controls",
          "model_name": "FloatProgressModel",
          "model_module_version": "1.5.0",
          "state": {
            "_dom_classes": [],
            "_model_module": "@jupyter-widgets/controls",
            "_model_module_version": "1.5.0",
            "_model_name": "FloatProgressModel",
            "_view_count": null,
            "_view_module": "@jupyter-widgets/controls",
            "_view_module_version": "1.5.0",
            "_view_name": "ProgressView",
            "bar_style": "success",
            "description": "",
            "description_tooltip": null,
            "layout": "IPY_MODEL_b0d5866f01c04abdbdd231d4ade5c86c",
            "max": 7377,
            "min": 0,
            "orientation": "horizontal",
            "style": "IPY_MODEL_1b7130e2491e4ffbacb1a01e2004df5b",
            "value": 7377
          }
        },
        "6521988f7a02493a99b3a5d0becbe1a5": {
          "model_module": "@jupyter-widgets/controls",
          "model_name": "HTMLModel",
          "model_module_version": "1.5.0",
          "state": {
            "_dom_classes": [],
            "_model_module": "@jupyter-widgets/controls",
            "_model_module_version": "1.5.0",
            "_model_name": "HTMLModel",
            "_view_count": null,
            "_view_module": "@jupyter-widgets/controls",
            "_view_module_version": "1.5.0",
            "_view_name": "HTMLView",
            "description": "",
            "description_tooltip": null,
            "layout": "IPY_MODEL_c5bd9b20b9e24bc68dc2b8f929f64e0c",
            "placeholder": "​",
            "style": "IPY_MODEL_d835c88d6f214599bd122954a95c7b24",
            "value": " 7.38k/7.38k [00:00&lt;00:00, 182kB/s]"
          }
        },
        "6336bfc5a03743e190500857456feef9": {
          "model_module": "@jupyter-widgets/base",
          "model_name": "LayoutModel",
          "model_module_version": "1.2.0",
          "state": {
            "_model_module": "@jupyter-widgets/base",
            "_model_module_version": "1.2.0",
            "_model_name": "LayoutModel",
            "_view_count": null,
            "_view_module": "@jupyter-widgets/base",
            "_view_module_version": "1.2.0",
            "_view_name": "LayoutView",
            "align_content": null,
            "align_items": null,
            "align_self": null,
            "border": null,
            "bottom": null,
            "display": null,
            "flex": null,
            "flex_flow": null,
            "grid_area": null,
            "grid_auto_columns": null,
            "grid_auto_flow": null,
            "grid_auto_rows": null,
            "grid_column": null,
            "grid_gap": null,
            "grid_row": null,
            "grid_template_areas": null,
            "grid_template_columns": null,
            "grid_template_rows": null,
            "height": null,
            "justify_content": null,
            "justify_items": null,
            "left": null,
            "margin": null,
            "max_height": null,
            "max_width": null,
            "min_height": null,
            "min_width": null,
            "object_fit": null,
            "object_position": null,
            "order": null,
            "overflow": null,
            "overflow_x": null,
            "overflow_y": null,
            "padding": null,
            "right": null,
            "top": null,
            "visibility": null,
            "width": null
          }
        },
        "adbc7dcbc0fb455d98251fadad901314": {
          "model_module": "@jupyter-widgets/base",
          "model_name": "LayoutModel",
          "model_module_version": "1.2.0",
          "state": {
            "_model_module": "@jupyter-widgets/base",
            "_model_module_version": "1.2.0",
            "_model_name": "LayoutModel",
            "_view_count": null,
            "_view_module": "@jupyter-widgets/base",
            "_view_module_version": "1.2.0",
            "_view_name": "LayoutView",
            "align_content": null,
            "align_items": null,
            "align_self": null,
            "border": null,
            "bottom": null,
            "display": null,
            "flex": null,
            "flex_flow": null,
            "grid_area": null,
            "grid_auto_columns": null,
            "grid_auto_flow": null,
            "grid_auto_rows": null,
            "grid_column": null,
            "grid_gap": null,
            "grid_row": null,
            "grid_template_areas": null,
            "grid_template_columns": null,
            "grid_template_rows": null,
            "height": null,
            "justify_content": null,
            "justify_items": null,
            "left": null,
            "margin": null,
            "max_height": null,
            "max_width": null,
            "min_height": null,
            "min_width": null,
            "object_fit": null,
            "object_position": null,
            "order": null,
            "overflow": null,
            "overflow_x": null,
            "overflow_y": null,
            "padding": null,
            "right": null,
            "top": null,
            "visibility": null,
            "width": null
          }
        },
        "a0ef533dab584c81b846f7ca678a50e9": {
          "model_module": "@jupyter-widgets/controls",
          "model_name": "DescriptionStyleModel",
          "model_module_version": "1.5.0",
          "state": {
            "_model_module": "@jupyter-widgets/controls",
            "_model_module_version": "1.5.0",
            "_model_name": "DescriptionStyleModel",
            "_view_count": null,
            "_view_module": "@jupyter-widgets/base",
            "_view_module_version": "1.2.0",
            "_view_name": "StyleView",
            "description_width": ""
          }
        },
        "b0d5866f01c04abdbdd231d4ade5c86c": {
          "model_module": "@jupyter-widgets/base",
          "model_name": "LayoutModel",
          "model_module_version": "1.2.0",
          "state": {
            "_model_module": "@jupyter-widgets/base",
            "_model_module_version": "1.2.0",
            "_model_name": "LayoutModel",
            "_view_count": null,
            "_view_module": "@jupyter-widgets/base",
            "_view_module_version": "1.2.0",
            "_view_name": "LayoutView",
            "align_content": null,
            "align_items": null,
            "align_self": null,
            "border": null,
            "bottom": null,
            "display": null,
            "flex": null,
            "flex_flow": null,
            "grid_area": null,
            "grid_auto_columns": null,
            "grid_auto_flow": null,
            "grid_auto_rows": null,
            "grid_column": null,
            "grid_gap": null,
            "grid_row": null,
            "grid_template_areas": null,
            "grid_template_columns": null,
            "grid_template_rows": null,
            "height": null,
            "justify_content": null,
            "justify_items": null,
            "left": null,
            "margin": null,
            "max_height": null,
            "max_width": null,
            "min_height": null,
            "min_width": null,
            "object_fit": null,
            "object_position": null,
            "order": null,
            "overflow": null,
            "overflow_x": null,
            "overflow_y": null,
            "padding": null,
            "right": null,
            "top": null,
            "visibility": null,
            "width": null
          }
        },
        "1b7130e2491e4ffbacb1a01e2004df5b": {
          "model_module": "@jupyter-widgets/controls",
          "model_name": "ProgressStyleModel",
          "model_module_version": "1.5.0",
          "state": {
            "_model_module": "@jupyter-widgets/controls",
            "_model_module_version": "1.5.0",
            "_model_name": "ProgressStyleModel",
            "_view_count": null,
            "_view_module": "@jupyter-widgets/base",
            "_view_module_version": "1.2.0",
            "_view_name": "StyleView",
            "bar_color": null,
            "description_width": ""
          }
        },
        "c5bd9b20b9e24bc68dc2b8f929f64e0c": {
          "model_module": "@jupyter-widgets/base",
          "model_name": "LayoutModel",
          "model_module_version": "1.2.0",
          "state": {
            "_model_module": "@jupyter-widgets/base",
            "_model_module_version": "1.2.0",
            "_model_name": "LayoutModel",
            "_view_count": null,
            "_view_module": "@jupyter-widgets/base",
            "_view_module_version": "1.2.0",
            "_view_name": "LayoutView",
            "align_content": null,
            "align_items": null,
            "align_self": null,
            "border": null,
            "bottom": null,
            "display": null,
            "flex": null,
            "flex_flow": null,
            "grid_area": null,
            "grid_auto_columns": null,
            "grid_auto_flow": null,
            "grid_auto_rows": null,
            "grid_column": null,
            "grid_gap": null,
            "grid_row": null,
            "grid_template_areas": null,
            "grid_template_columns": null,
            "grid_template_rows": null,
            "height": null,
            "justify_content": null,
            "justify_items": null,
            "left": null,
            "margin": null,
            "max_height": null,
            "max_width": null,
            "min_height": null,
            "min_width": null,
            "object_fit": null,
            "object_position": null,
            "order": null,
            "overflow": null,
            "overflow_x": null,
            "overflow_y": null,
            "padding": null,
            "right": null,
            "top": null,
            "visibility": null,
            "width": null
          }
        },
        "d835c88d6f214599bd122954a95c7b24": {
          "model_module": "@jupyter-widgets/controls",
          "model_name": "DescriptionStyleModel",
          "model_module_version": "1.5.0",
          "state": {
            "_model_module": "@jupyter-widgets/controls",
            "_model_module_version": "1.5.0",
            "_model_name": "DescriptionStyleModel",
            "_view_count": null,
            "_view_module": "@jupyter-widgets/base",
            "_view_module_version": "1.2.0",
            "_view_name": "StyleView",
            "description_width": ""
          }
        },
        "e6455b41730045dd86aff86a6cea6c7b": {
          "model_module": "@jupyter-widgets/controls",
          "model_name": "HBoxModel",
          "model_module_version": "1.5.0",
          "state": {
            "_dom_classes": [],
            "_model_module": "@jupyter-widgets/controls",
            "_model_module_version": "1.5.0",
            "_model_name": "HBoxModel",
            "_view_count": null,
            "_view_module": "@jupyter-widgets/controls",
            "_view_module_version": "1.5.0",
            "_view_name": "HBoxView",
            "box_style": "",
            "children": [
              "IPY_MODEL_e66f47a88e9641578a25880347e6bd47",
              "IPY_MODEL_0e5d9f3ea644435786122066b2a2c25c",
              "IPY_MODEL_1f4374974f6f41e0a00379d231c6df10"
            ],
            "layout": "IPY_MODEL_38294135ce5545f0a13ef6f0debe49b6"
          }
        },
        "e66f47a88e9641578a25880347e6bd47": {
          "model_module": "@jupyter-widgets/controls",
          "model_name": "HTMLModel",
          "model_module_version": "1.5.0",
          "state": {
            "_dom_classes": [],
            "_model_module": "@jupyter-widgets/controls",
            "_model_module_version": "1.5.0",
            "_model_name": "HTMLModel",
            "_view_count": null,
            "_view_module": "@jupyter-widgets/controls",
            "_view_module_version": "1.5.0",
            "_view_name": "HTMLView",
            "description": "",
            "description_tooltip": null,
            "layout": "IPY_MODEL_27d732c5d9a04499a0d69704217973ae",
            "placeholder": "​",
            "style": "IPY_MODEL_03d76032345c4522a0d4401511e820fd",
            "value": "Downloading builder script: 100%"
          }
        },
        "0e5d9f3ea644435786122066b2a2c25c": {
          "model_module": "@jupyter-widgets/controls",
          "model_name": "FloatProgressModel",
          "model_module_version": "1.5.0",
          "state": {
            "_dom_classes": [],
            "_model_module": "@jupyter-widgets/controls",
            "_model_module_version": "1.5.0",
            "_model_name": "FloatProgressModel",
            "_view_count": null,
            "_view_module": "@jupyter-widgets/controls",
            "_view_module_version": "1.5.0",
            "_view_name": "ProgressView",
            "bar_style": "success",
            "description": "",
            "description_tooltip": null,
            "layout": "IPY_MODEL_e4f08b69044c42c88bb1a7c92a85dbe7",
            "max": 7560,
            "min": 0,
            "orientation": "horizontal",
            "style": "IPY_MODEL_44b9ccb19503468eabb522999898f9a9",
            "value": 7560
          }
        },
        "1f4374974f6f41e0a00379d231c6df10": {
          "model_module": "@jupyter-widgets/controls",
          "model_name": "HTMLModel",
          "model_module_version": "1.5.0",
          "state": {
            "_dom_classes": [],
            "_model_module": "@jupyter-widgets/controls",
            "_model_module_version": "1.5.0",
            "_model_name": "HTMLModel",
            "_view_count": null,
            "_view_module": "@jupyter-widgets/controls",
            "_view_module_version": "1.5.0",
            "_view_name": "HTMLView",
            "description": "",
            "description_tooltip": null,
            "layout": "IPY_MODEL_20dba511d1b74ec6a0c2b77a59e2b766",
            "placeholder": "​",
            "style": "IPY_MODEL_4aba95d3f3874df98953ac1396ff0559",
            "value": " 7.56k/7.56k [00:00&lt;00:00, 219kB/s]"
          }
        },
        "38294135ce5545f0a13ef6f0debe49b6": {
          "model_module": "@jupyter-widgets/base",
          "model_name": "LayoutModel",
          "model_module_version": "1.2.0",
          "state": {
            "_model_module": "@jupyter-widgets/base",
            "_model_module_version": "1.2.0",
            "_model_name": "LayoutModel",
            "_view_count": null,
            "_view_module": "@jupyter-widgets/base",
            "_view_module_version": "1.2.0",
            "_view_name": "LayoutView",
            "align_content": null,
            "align_items": null,
            "align_self": null,
            "border": null,
            "bottom": null,
            "display": null,
            "flex": null,
            "flex_flow": null,
            "grid_area": null,
            "grid_auto_columns": null,
            "grid_auto_flow": null,
            "grid_auto_rows": null,
            "grid_column": null,
            "grid_gap": null,
            "grid_row": null,
            "grid_template_areas": null,
            "grid_template_columns": null,
            "grid_template_rows": null,
            "height": null,
            "justify_content": null,
            "justify_items": null,
            "left": null,
            "margin": null,
            "max_height": null,
            "max_width": null,
            "min_height": null,
            "min_width": null,
            "object_fit": null,
            "object_position": null,
            "order": null,
            "overflow": null,
            "overflow_x": null,
            "overflow_y": null,
            "padding": null,
            "right": null,
            "top": null,
            "visibility": null,
            "width": null
          }
        },
        "27d732c5d9a04499a0d69704217973ae": {
          "model_module": "@jupyter-widgets/base",
          "model_name": "LayoutModel",
          "model_module_version": "1.2.0",
          "state": {
            "_model_module": "@jupyter-widgets/base",
            "_model_module_version": "1.2.0",
            "_model_name": "LayoutModel",
            "_view_count": null,
            "_view_module": "@jupyter-widgets/base",
            "_view_module_version": "1.2.0",
            "_view_name": "LayoutView",
            "align_content": null,
            "align_items": null,
            "align_self": null,
            "border": null,
            "bottom": null,
            "display": null,
            "flex": null,
            "flex_flow": null,
            "grid_area": null,
            "grid_auto_columns": null,
            "grid_auto_flow": null,
            "grid_auto_rows": null,
            "grid_column": null,
            "grid_gap": null,
            "grid_row": null,
            "grid_template_areas": null,
            "grid_template_columns": null,
            "grid_template_rows": null,
            "height": null,
            "justify_content": null,
            "justify_items": null,
            "left": null,
            "margin": null,
            "max_height": null,
            "max_width": null,
            "min_height": null,
            "min_width": null,
            "object_fit": null,
            "object_position": null,
            "order": null,
            "overflow": null,
            "overflow_x": null,
            "overflow_y": null,
            "padding": null,
            "right": null,
            "top": null,
            "visibility": null,
            "width": null
          }
        },
        "03d76032345c4522a0d4401511e820fd": {
          "model_module": "@jupyter-widgets/controls",
          "model_name": "DescriptionStyleModel",
          "model_module_version": "1.5.0",
          "state": {
            "_model_module": "@jupyter-widgets/controls",
            "_model_module_version": "1.5.0",
            "_model_name": "DescriptionStyleModel",
            "_view_count": null,
            "_view_module": "@jupyter-widgets/base",
            "_view_module_version": "1.2.0",
            "_view_name": "StyleView",
            "description_width": ""
          }
        },
        "e4f08b69044c42c88bb1a7c92a85dbe7": {
          "model_module": "@jupyter-widgets/base",
          "model_name": "LayoutModel",
          "model_module_version": "1.2.0",
          "state": {
            "_model_module": "@jupyter-widgets/base",
            "_model_module_version": "1.2.0",
            "_model_name": "LayoutModel",
            "_view_count": null,
            "_view_module": "@jupyter-widgets/base",
            "_view_module_version": "1.2.0",
            "_view_name": "LayoutView",
            "align_content": null,
            "align_items": null,
            "align_self": null,
            "border": null,
            "bottom": null,
            "display": null,
            "flex": null,
            "flex_flow": null,
            "grid_area": null,
            "grid_auto_columns": null,
            "grid_auto_flow": null,
            "grid_auto_rows": null,
            "grid_column": null,
            "grid_gap": null,
            "grid_row": null,
            "grid_template_areas": null,
            "grid_template_columns": null,
            "grid_template_rows": null,
            "height": null,
            "justify_content": null,
            "justify_items": null,
            "left": null,
            "margin": null,
            "max_height": null,
            "max_width": null,
            "min_height": null,
            "min_width": null,
            "object_fit": null,
            "object_position": null,
            "order": null,
            "overflow": null,
            "overflow_x": null,
            "overflow_y": null,
            "padding": null,
            "right": null,
            "top": null,
            "visibility": null,
            "width": null
          }
        },
        "44b9ccb19503468eabb522999898f9a9": {
          "model_module": "@jupyter-widgets/controls",
          "model_name": "ProgressStyleModel",
          "model_module_version": "1.5.0",
          "state": {
            "_model_module": "@jupyter-widgets/controls",
            "_model_module_version": "1.5.0",
            "_model_name": "ProgressStyleModel",
            "_view_count": null,
            "_view_module": "@jupyter-widgets/base",
            "_view_module_version": "1.2.0",
            "_view_name": "StyleView",
            "bar_color": null,
            "description_width": ""
          }
        },
        "20dba511d1b74ec6a0c2b77a59e2b766": {
          "model_module": "@jupyter-widgets/base",
          "model_name": "LayoutModel",
          "model_module_version": "1.2.0",
          "state": {
            "_model_module": "@jupyter-widgets/base",
            "_model_module_version": "1.2.0",
            "_model_name": "LayoutModel",
            "_view_count": null,
            "_view_module": "@jupyter-widgets/base",
            "_view_module_version": "1.2.0",
            "_view_name": "LayoutView",
            "align_content": null,
            "align_items": null,
            "align_self": null,
            "border": null,
            "bottom": null,
            "display": null,
            "flex": null,
            "flex_flow": null,
            "grid_area": null,
            "grid_auto_columns": null,
            "grid_auto_flow": null,
            "grid_auto_rows": null,
            "grid_column": null,
            "grid_gap": null,
            "grid_row": null,
            "grid_template_areas": null,
            "grid_template_columns": null,
            "grid_template_rows": null,
            "height": null,
            "justify_content": null,
            "justify_items": null,
            "left": null,
            "margin": null,
            "max_height": null,
            "max_width": null,
            "min_height": null,
            "min_width": null,
            "object_fit": null,
            "object_position": null,
            "order": null,
            "overflow": null,
            "overflow_x": null,
            "overflow_y": null,
            "padding": null,
            "right": null,
            "top": null,
            "visibility": null,
            "width": null
          }
        },
        "4aba95d3f3874df98953ac1396ff0559": {
          "model_module": "@jupyter-widgets/controls",
          "model_name": "DescriptionStyleModel",
          "model_module_version": "1.5.0",
          "state": {
            "_model_module": "@jupyter-widgets/controls",
            "_model_module_version": "1.5.0",
            "_model_name": "DescriptionStyleModel",
            "_view_count": null,
            "_view_module": "@jupyter-widgets/base",
            "_view_module_version": "1.2.0",
            "_view_name": "StyleView",
            "description_width": ""
          }
        },
        "856fd216fdc04c0aa800b0ea124ff6ef": {
          "model_module": "@jupyter-widgets/controls",
          "model_name": "HBoxModel",
          "model_module_version": "1.5.0",
          "state": {
            "_dom_classes": [],
            "_model_module": "@jupyter-widgets/controls",
            "_model_module_version": "1.5.0",
            "_model_name": "HBoxModel",
            "_view_count": null,
            "_view_module": "@jupyter-widgets/controls",
            "_view_module_version": "1.5.0",
            "_view_name": "HBoxView",
            "box_style": "",
            "children": [
              "IPY_MODEL_7435a3a15c2e4262b967738042015323",
              "IPY_MODEL_2c6f80bd819f402f9f63c794e5d35e1d",
              "IPY_MODEL_e4bb2ccd761d4ed2b032f718eab115a0"
            ],
            "layout": "IPY_MODEL_a1a73d5c18a9475fbd2abed1d49b7030"
          }
        },
        "7435a3a15c2e4262b967738042015323": {
          "model_module": "@jupyter-widgets/controls",
          "model_name": "HTMLModel",
          "model_module_version": "1.5.0",
          "state": {
            "_dom_classes": [],
            "_model_module": "@jupyter-widgets/controls",
            "_model_module_version": "1.5.0",
            "_model_name": "HTMLModel",
            "_view_count": null,
            "_view_module": "@jupyter-widgets/controls",
            "_view_module_version": "1.5.0",
            "_view_name": "HTMLView",
            "description": "",
            "description_tooltip": null,
            "layout": "IPY_MODEL_10bd07e0e6964e5599a2c5d581c63e8b",
            "placeholder": "​",
            "style": "IPY_MODEL_9d8939af652149d89d902395bcb9eb79",
            "value": "Downloading builder script: 100%"
          }
        },
        "2c6f80bd819f402f9f63c794e5d35e1d": {
          "model_module": "@jupyter-widgets/controls",
          "model_name": "FloatProgressModel",
          "model_module_version": "1.5.0",
          "state": {
            "_dom_classes": [],
            "_model_module": "@jupyter-widgets/controls",
            "_model_module_version": "1.5.0",
            "_model_name": "FloatProgressModel",
            "_view_count": null,
            "_view_module": "@jupyter-widgets/controls",
            "_view_module_version": "1.5.0",
            "_view_name": "ProgressView",
            "bar_style": "success",
            "description": "",
            "description_tooltip": null,
            "layout": "IPY_MODEL_2006c02e2aef4340adb2a71eb0ee4ee2",
            "max": 6785,
            "min": 0,
            "orientation": "horizontal",
            "style": "IPY_MODEL_c640a43ac7564e5e8f91c875ac1abee1",
            "value": 6785
          }
        },
        "e4bb2ccd761d4ed2b032f718eab115a0": {
          "model_module": "@jupyter-widgets/controls",
          "model_name": "HTMLModel",
          "model_module_version": "1.5.0",
          "state": {
            "_dom_classes": [],
            "_model_module": "@jupyter-widgets/controls",
            "_model_module_version": "1.5.0",
            "_model_name": "HTMLModel",
            "_view_count": null,
            "_view_module": "@jupyter-widgets/controls",
            "_view_module_version": "1.5.0",
            "_view_name": "HTMLView",
            "description": "",
            "description_tooltip": null,
            "layout": "IPY_MODEL_4ec0cbcdcb774f9196cea5655d3bb2b0",
            "placeholder": "​",
            "style": "IPY_MODEL_09a90c100b7148bb8d92fa3092ba1464",
            "value": " 6.79k/6.79k [00:00&lt;00:00, 434kB/s]"
          }
        },
        "a1a73d5c18a9475fbd2abed1d49b7030": {
          "model_module": "@jupyter-widgets/base",
          "model_name": "LayoutModel",
          "model_module_version": "1.2.0",
          "state": {
            "_model_module": "@jupyter-widgets/base",
            "_model_module_version": "1.2.0",
            "_model_name": "LayoutModel",
            "_view_count": null,
            "_view_module": "@jupyter-widgets/base",
            "_view_module_version": "1.2.0",
            "_view_name": "LayoutView",
            "align_content": null,
            "align_items": null,
            "align_self": null,
            "border": null,
            "bottom": null,
            "display": null,
            "flex": null,
            "flex_flow": null,
            "grid_area": null,
            "grid_auto_columns": null,
            "grid_auto_flow": null,
            "grid_auto_rows": null,
            "grid_column": null,
            "grid_gap": null,
            "grid_row": null,
            "grid_template_areas": null,
            "grid_template_columns": null,
            "grid_template_rows": null,
            "height": null,
            "justify_content": null,
            "justify_items": null,
            "left": null,
            "margin": null,
            "max_height": null,
            "max_width": null,
            "min_height": null,
            "min_width": null,
            "object_fit": null,
            "object_position": null,
            "order": null,
            "overflow": null,
            "overflow_x": null,
            "overflow_y": null,
            "padding": null,
            "right": null,
            "top": null,
            "visibility": null,
            "width": null
          }
        },
        "10bd07e0e6964e5599a2c5d581c63e8b": {
          "model_module": "@jupyter-widgets/base",
          "model_name": "LayoutModel",
          "model_module_version": "1.2.0",
          "state": {
            "_model_module": "@jupyter-widgets/base",
            "_model_module_version": "1.2.0",
            "_model_name": "LayoutModel",
            "_view_count": null,
            "_view_module": "@jupyter-widgets/base",
            "_view_module_version": "1.2.0",
            "_view_name": "LayoutView",
            "align_content": null,
            "align_items": null,
            "align_self": null,
            "border": null,
            "bottom": null,
            "display": null,
            "flex": null,
            "flex_flow": null,
            "grid_area": null,
            "grid_auto_columns": null,
            "grid_auto_flow": null,
            "grid_auto_rows": null,
            "grid_column": null,
            "grid_gap": null,
            "grid_row": null,
            "grid_template_areas": null,
            "grid_template_columns": null,
            "grid_template_rows": null,
            "height": null,
            "justify_content": null,
            "justify_items": null,
            "left": null,
            "margin": null,
            "max_height": null,
            "max_width": null,
            "min_height": null,
            "min_width": null,
            "object_fit": null,
            "object_position": null,
            "order": null,
            "overflow": null,
            "overflow_x": null,
            "overflow_y": null,
            "padding": null,
            "right": null,
            "top": null,
            "visibility": null,
            "width": null
          }
        },
        "9d8939af652149d89d902395bcb9eb79": {
          "model_module": "@jupyter-widgets/controls",
          "model_name": "DescriptionStyleModel",
          "model_module_version": "1.5.0",
          "state": {
            "_model_module": "@jupyter-widgets/controls",
            "_model_module_version": "1.5.0",
            "_model_name": "DescriptionStyleModel",
            "_view_count": null,
            "_view_module": "@jupyter-widgets/base",
            "_view_module_version": "1.2.0",
            "_view_name": "StyleView",
            "description_width": ""
          }
        },
        "2006c02e2aef4340adb2a71eb0ee4ee2": {
          "model_module": "@jupyter-widgets/base",
          "model_name": "LayoutModel",
          "model_module_version": "1.2.0",
          "state": {
            "_model_module": "@jupyter-widgets/base",
            "_model_module_version": "1.2.0",
            "_model_name": "LayoutModel",
            "_view_count": null,
            "_view_module": "@jupyter-widgets/base",
            "_view_module_version": "1.2.0",
            "_view_name": "LayoutView",
            "align_content": null,
            "align_items": null,
            "align_self": null,
            "border": null,
            "bottom": null,
            "display": null,
            "flex": null,
            "flex_flow": null,
            "grid_area": null,
            "grid_auto_columns": null,
            "grid_auto_flow": null,
            "grid_auto_rows": null,
            "grid_column": null,
            "grid_gap": null,
            "grid_row": null,
            "grid_template_areas": null,
            "grid_template_columns": null,
            "grid_template_rows": null,
            "height": null,
            "justify_content": null,
            "justify_items": null,
            "left": null,
            "margin": null,
            "max_height": null,
            "max_width": null,
            "min_height": null,
            "min_width": null,
            "object_fit": null,
            "object_position": null,
            "order": null,
            "overflow": null,
            "overflow_x": null,
            "overflow_y": null,
            "padding": null,
            "right": null,
            "top": null,
            "visibility": null,
            "width": null
          }
        },
        "c640a43ac7564e5e8f91c875ac1abee1": {
          "model_module": "@jupyter-widgets/controls",
          "model_name": "ProgressStyleModel",
          "model_module_version": "1.5.0",
          "state": {
            "_model_module": "@jupyter-widgets/controls",
            "_model_module_version": "1.5.0",
            "_model_name": "ProgressStyleModel",
            "_view_count": null,
            "_view_module": "@jupyter-widgets/base",
            "_view_module_version": "1.2.0",
            "_view_name": "StyleView",
            "bar_color": null,
            "description_width": ""
          }
        },
        "4ec0cbcdcb774f9196cea5655d3bb2b0": {
          "model_module": "@jupyter-widgets/base",
          "model_name": "LayoutModel",
          "model_module_version": "1.2.0",
          "state": {
            "_model_module": "@jupyter-widgets/base",
            "_model_module_version": "1.2.0",
            "_model_name": "LayoutModel",
            "_view_count": null,
            "_view_module": "@jupyter-widgets/base",
            "_view_module_version": "1.2.0",
            "_view_name": "LayoutView",
            "align_content": null,
            "align_items": null,
            "align_self": null,
            "border": null,
            "bottom": null,
            "display": null,
            "flex": null,
            "flex_flow": null,
            "grid_area": null,
            "grid_auto_columns": null,
            "grid_auto_flow": null,
            "grid_auto_rows": null,
            "grid_column": null,
            "grid_gap": null,
            "grid_row": null,
            "grid_template_areas": null,
            "grid_template_columns": null,
            "grid_template_rows": null,
            "height": null,
            "justify_content": null,
            "justify_items": null,
            "left": null,
            "margin": null,
            "max_height": null,
            "max_width": null,
            "min_height": null,
            "min_width": null,
            "object_fit": null,
            "object_position": null,
            "order": null,
            "overflow": null,
            "overflow_x": null,
            "overflow_y": null,
            "padding": null,
            "right": null,
            "top": null,
            "visibility": null,
            "width": null
          }
        },
        "09a90c100b7148bb8d92fa3092ba1464": {
          "model_module": "@jupyter-widgets/controls",
          "model_name": "DescriptionStyleModel",
          "model_module_version": "1.5.0",
          "state": {
            "_model_module": "@jupyter-widgets/controls",
            "_model_module_version": "1.5.0",
            "_model_name": "DescriptionStyleModel",
            "_view_count": null,
            "_view_module": "@jupyter-widgets/base",
            "_view_module_version": "1.2.0",
            "_view_name": "StyleView",
            "description_width": ""
          }
        },
        "4f346ae266614148857a157fb9eae8b2": {
          "model_module": "@jupyter-widgets/controls",
          "model_name": "VBoxModel",
          "model_module_version": "1.5.0",
          "state": {
            "_dom_classes": [],
            "_model_module": "@jupyter-widgets/controls",
            "_model_module_version": "1.5.0",
            "_model_name": "VBoxModel",
            "_view_count": null,
            "_view_module": "@jupyter-widgets/controls",
            "_view_module_version": "1.5.0",
            "_view_name": "VBoxView",
            "box_style": "",
            "children": [],
            "layout": "IPY_MODEL_5bd6cb6dc2194c269b07f9b5bac8e216"
          }
        },
        "bb39f759afc94f7ca106675bbe9f966f": {
          "model_module": "@jupyter-widgets/controls",
          "model_name": "HTMLModel",
          "model_module_version": "1.5.0",
          "state": {
            "_dom_classes": [],
            "_model_module": "@jupyter-widgets/controls",
            "_model_module_version": "1.5.0",
            "_model_name": "HTMLModel",
            "_view_count": null,
            "_view_module": "@jupyter-widgets/controls",
            "_view_module_version": "1.5.0",
            "_view_name": "HTMLView",
            "description": "",
            "description_tooltip": null,
            "layout": "IPY_MODEL_1f88c65e290343b8bd027205b54fcc9a",
            "placeholder": "​",
            "style": "IPY_MODEL_bf784dd0c4ad4e99a658fa7a5dadb73f",
            "value": "<center> <img\nsrc=https://huggingface.co/front/assets/huggingface_logo-noborder.svg\nalt='Hugging Face'> <br> Copy a token from <a\nhref=\"https://huggingface.co/settings/tokens\" target=\"_blank\">your Hugging Face\ntokens page</a> and paste it below. <br> Immediately click login after copying\nyour token or it might be stored in plain text in this notebook file. </center>"
          }
        },
        "8bea99bc106945afa6054eb2ae1672e4": {
          "model_module": "@jupyter-widgets/controls",
          "model_name": "PasswordModel",
          "model_module_version": "1.5.0",
          "state": {
            "_dom_classes": [],
            "_model_module": "@jupyter-widgets/controls",
            "_model_module_version": "1.5.0",
            "_model_name": "PasswordModel",
            "_view_count": null,
            "_view_module": "@jupyter-widgets/controls",
            "_view_module_version": "1.5.0",
            "_view_name": "PasswordView",
            "continuous_update": true,
            "description": "Token:",
            "description_tooltip": null,
            "disabled": false,
            "layout": "IPY_MODEL_5124786f5f754f59ad0364da9b7b5121",
            "placeholder": "​",
            "style": "IPY_MODEL_05d3adfa8ef8405f9a6274e56f8b49dc",
            "value": ""
          }
        },
        "75d508233aca4a64bda3295e181d4872": {
          "model_module": "@jupyter-widgets/controls",
          "model_name": "CheckboxModel",
          "model_module_version": "1.5.0",
          "state": {
            "_dom_classes": [],
            "_model_module": "@jupyter-widgets/controls",
            "_model_module_version": "1.5.0",
            "_model_name": "CheckboxModel",
            "_view_count": null,
            "_view_module": "@jupyter-widgets/controls",
            "_view_module_version": "1.5.0",
            "_view_name": "CheckboxView",
            "description": "Add token as git credential?",
            "description_tooltip": null,
            "disabled": false,
            "indent": true,
            "layout": "IPY_MODEL_e9bedb0d804e4e4897414cdcadcafa86",
            "style": "IPY_MODEL_d8c03cd3e2e740e489b12ab328cc15e9",
            "value": true
          }
        },
        "633cb6d3c46c428b9e0d4b31f226b676": {
          "model_module": "@jupyter-widgets/controls",
          "model_name": "ButtonModel",
          "model_module_version": "1.5.0",
          "state": {
            "_dom_classes": [],
            "_model_module": "@jupyter-widgets/controls",
            "_model_module_version": "1.5.0",
            "_model_name": "ButtonModel",
            "_view_count": null,
            "_view_module": "@jupyter-widgets/controls",
            "_view_module_version": "1.5.0",
            "_view_name": "ButtonView",
            "button_style": "",
            "description": "Login",
            "disabled": false,
            "icon": "",
            "layout": "IPY_MODEL_920440d6fe904dec818ae35b5ff1fd4f",
            "style": "IPY_MODEL_dc3db9b6206c432cb6a53c96513bc8ed",
            "tooltip": ""
          }
        },
        "3338c7fa36164609b54d383eca466902": {
          "model_module": "@jupyter-widgets/controls",
          "model_name": "HTMLModel",
          "model_module_version": "1.5.0",
          "state": {
            "_dom_classes": [],
            "_model_module": "@jupyter-widgets/controls",
            "_model_module_version": "1.5.0",
            "_model_name": "HTMLModel",
            "_view_count": null,
            "_view_module": "@jupyter-widgets/controls",
            "_view_module_version": "1.5.0",
            "_view_name": "HTMLView",
            "description": "",
            "description_tooltip": null,
            "layout": "IPY_MODEL_beac1534bfbc43ba8fd2b55da284c75e",
            "placeholder": "​",
            "style": "IPY_MODEL_e0acc59f6ea240e5879b34db5c45b651",
            "value": "\n<b>Pro Tip:</b> If you don't already have one, you can create a dedicated\n'notebooks' token with 'write' access, that you can then easily reuse for all\nnotebooks. </center>"
          }
        },
        "5bd6cb6dc2194c269b07f9b5bac8e216": {
          "model_module": "@jupyter-widgets/base",
          "model_name": "LayoutModel",
          "model_module_version": "1.2.0",
          "state": {
            "_model_module": "@jupyter-widgets/base",
            "_model_module_version": "1.2.0",
            "_model_name": "LayoutModel",
            "_view_count": null,
            "_view_module": "@jupyter-widgets/base",
            "_view_module_version": "1.2.0",
            "_view_name": "LayoutView",
            "align_content": null,
            "align_items": "center",
            "align_self": null,
            "border": null,
            "bottom": null,
            "display": "flex",
            "flex": null,
            "flex_flow": "column",
            "grid_area": null,
            "grid_auto_columns": null,
            "grid_auto_flow": null,
            "grid_auto_rows": null,
            "grid_column": null,
            "grid_gap": null,
            "grid_row": null,
            "grid_template_areas": null,
            "grid_template_columns": null,
            "grid_template_rows": null,
            "height": null,
            "justify_content": null,
            "justify_items": null,
            "left": null,
            "margin": null,
            "max_height": null,
            "max_width": null,
            "min_height": null,
            "min_width": null,
            "object_fit": null,
            "object_position": null,
            "order": null,
            "overflow": null,
            "overflow_x": null,
            "overflow_y": null,
            "padding": null,
            "right": null,
            "top": null,
            "visibility": null,
            "width": "50%"
          }
        },
        "1f88c65e290343b8bd027205b54fcc9a": {
          "model_module": "@jupyter-widgets/base",
          "model_name": "LayoutModel",
          "model_module_version": "1.2.0",
          "state": {
            "_model_module": "@jupyter-widgets/base",
            "_model_module_version": "1.2.0",
            "_model_name": "LayoutModel",
            "_view_count": null,
            "_view_module": "@jupyter-widgets/base",
            "_view_module_version": "1.2.0",
            "_view_name": "LayoutView",
            "align_content": null,
            "align_items": null,
            "align_self": null,
            "border": null,
            "bottom": null,
            "display": null,
            "flex": null,
            "flex_flow": null,
            "grid_area": null,
            "grid_auto_columns": null,
            "grid_auto_flow": null,
            "grid_auto_rows": null,
            "grid_column": null,
            "grid_gap": null,
            "grid_row": null,
            "grid_template_areas": null,
            "grid_template_columns": null,
            "grid_template_rows": null,
            "height": null,
            "justify_content": null,
            "justify_items": null,
            "left": null,
            "margin": null,
            "max_height": null,
            "max_width": null,
            "min_height": null,
            "min_width": null,
            "object_fit": null,
            "object_position": null,
            "order": null,
            "overflow": null,
            "overflow_x": null,
            "overflow_y": null,
            "padding": null,
            "right": null,
            "top": null,
            "visibility": null,
            "width": null
          }
        },
        "bf784dd0c4ad4e99a658fa7a5dadb73f": {
          "model_module": "@jupyter-widgets/controls",
          "model_name": "DescriptionStyleModel",
          "model_module_version": "1.5.0",
          "state": {
            "_model_module": "@jupyter-widgets/controls",
            "_model_module_version": "1.5.0",
            "_model_name": "DescriptionStyleModel",
            "_view_count": null,
            "_view_module": "@jupyter-widgets/base",
            "_view_module_version": "1.2.0",
            "_view_name": "StyleView",
            "description_width": ""
          }
        },
        "5124786f5f754f59ad0364da9b7b5121": {
          "model_module": "@jupyter-widgets/base",
          "model_name": "LayoutModel",
          "model_module_version": "1.2.0",
          "state": {
            "_model_module": "@jupyter-widgets/base",
            "_model_module_version": "1.2.0",
            "_model_name": "LayoutModel",
            "_view_count": null,
            "_view_module": "@jupyter-widgets/base",
            "_view_module_version": "1.2.0",
            "_view_name": "LayoutView",
            "align_content": null,
            "align_items": null,
            "align_self": null,
            "border": null,
            "bottom": null,
            "display": null,
            "flex": null,
            "flex_flow": null,
            "grid_area": null,
            "grid_auto_columns": null,
            "grid_auto_flow": null,
            "grid_auto_rows": null,
            "grid_column": null,
            "grid_gap": null,
            "grid_row": null,
            "grid_template_areas": null,
            "grid_template_columns": null,
            "grid_template_rows": null,
            "height": null,
            "justify_content": null,
            "justify_items": null,
            "left": null,
            "margin": null,
            "max_height": null,
            "max_width": null,
            "min_height": null,
            "min_width": null,
            "object_fit": null,
            "object_position": null,
            "order": null,
            "overflow": null,
            "overflow_x": null,
            "overflow_y": null,
            "padding": null,
            "right": null,
            "top": null,
            "visibility": null,
            "width": null
          }
        },
        "05d3adfa8ef8405f9a6274e56f8b49dc": {
          "model_module": "@jupyter-widgets/controls",
          "model_name": "DescriptionStyleModel",
          "model_module_version": "1.5.0",
          "state": {
            "_model_module": "@jupyter-widgets/controls",
            "_model_module_version": "1.5.0",
            "_model_name": "DescriptionStyleModel",
            "_view_count": null,
            "_view_module": "@jupyter-widgets/base",
            "_view_module_version": "1.2.0",
            "_view_name": "StyleView",
            "description_width": ""
          }
        },
        "e9bedb0d804e4e4897414cdcadcafa86": {
          "model_module": "@jupyter-widgets/base",
          "model_name": "LayoutModel",
          "model_module_version": "1.2.0",
          "state": {
            "_model_module": "@jupyter-widgets/base",
            "_model_module_version": "1.2.0",
            "_model_name": "LayoutModel",
            "_view_count": null,
            "_view_module": "@jupyter-widgets/base",
            "_view_module_version": "1.2.0",
            "_view_name": "LayoutView",
            "align_content": null,
            "align_items": null,
            "align_self": null,
            "border": null,
            "bottom": null,
            "display": null,
            "flex": null,
            "flex_flow": null,
            "grid_area": null,
            "grid_auto_columns": null,
            "grid_auto_flow": null,
            "grid_auto_rows": null,
            "grid_column": null,
            "grid_gap": null,
            "grid_row": null,
            "grid_template_areas": null,
            "grid_template_columns": null,
            "grid_template_rows": null,
            "height": null,
            "justify_content": null,
            "justify_items": null,
            "left": null,
            "margin": null,
            "max_height": null,
            "max_width": null,
            "min_height": null,
            "min_width": null,
            "object_fit": null,
            "object_position": null,
            "order": null,
            "overflow": null,
            "overflow_x": null,
            "overflow_y": null,
            "padding": null,
            "right": null,
            "top": null,
            "visibility": null,
            "width": null
          }
        },
        "d8c03cd3e2e740e489b12ab328cc15e9": {
          "model_module": "@jupyter-widgets/controls",
          "model_name": "DescriptionStyleModel",
          "model_module_version": "1.5.0",
          "state": {
            "_model_module": "@jupyter-widgets/controls",
            "_model_module_version": "1.5.0",
            "_model_name": "DescriptionStyleModel",
            "_view_count": null,
            "_view_module": "@jupyter-widgets/base",
            "_view_module_version": "1.2.0",
            "_view_name": "StyleView",
            "description_width": ""
          }
        },
        "920440d6fe904dec818ae35b5ff1fd4f": {
          "model_module": "@jupyter-widgets/base",
          "model_name": "LayoutModel",
          "model_module_version": "1.2.0",
          "state": {
            "_model_module": "@jupyter-widgets/base",
            "_model_module_version": "1.2.0",
            "_model_name": "LayoutModel",
            "_view_count": null,
            "_view_module": "@jupyter-widgets/base",
            "_view_module_version": "1.2.0",
            "_view_name": "LayoutView",
            "align_content": null,
            "align_items": null,
            "align_self": null,
            "border": null,
            "bottom": null,
            "display": null,
            "flex": null,
            "flex_flow": null,
            "grid_area": null,
            "grid_auto_columns": null,
            "grid_auto_flow": null,
            "grid_auto_rows": null,
            "grid_column": null,
            "grid_gap": null,
            "grid_row": null,
            "grid_template_areas": null,
            "grid_template_columns": null,
            "grid_template_rows": null,
            "height": null,
            "justify_content": null,
            "justify_items": null,
            "left": null,
            "margin": null,
            "max_height": null,
            "max_width": null,
            "min_height": null,
            "min_width": null,
            "object_fit": null,
            "object_position": null,
            "order": null,
            "overflow": null,
            "overflow_x": null,
            "overflow_y": null,
            "padding": null,
            "right": null,
            "top": null,
            "visibility": null,
            "width": null
          }
        },
        "dc3db9b6206c432cb6a53c96513bc8ed": {
          "model_module": "@jupyter-widgets/controls",
          "model_name": "ButtonStyleModel",
          "model_module_version": "1.5.0",
          "state": {
            "_model_module": "@jupyter-widgets/controls",
            "_model_module_version": "1.5.0",
            "_model_name": "ButtonStyleModel",
            "_view_count": null,
            "_view_module": "@jupyter-widgets/base",
            "_view_module_version": "1.2.0",
            "_view_name": "StyleView",
            "button_color": null,
            "font_weight": ""
          }
        },
        "beac1534bfbc43ba8fd2b55da284c75e": {
          "model_module": "@jupyter-widgets/base",
          "model_name": "LayoutModel",
          "model_module_version": "1.2.0",
          "state": {
            "_model_module": "@jupyter-widgets/base",
            "_model_module_version": "1.2.0",
            "_model_name": "LayoutModel",
            "_view_count": null,
            "_view_module": "@jupyter-widgets/base",
            "_view_module_version": "1.2.0",
            "_view_name": "LayoutView",
            "align_content": null,
            "align_items": null,
            "align_self": null,
            "border": null,
            "bottom": null,
            "display": null,
            "flex": null,
            "flex_flow": null,
            "grid_area": null,
            "grid_auto_columns": null,
            "grid_auto_flow": null,
            "grid_auto_rows": null,
            "grid_column": null,
            "grid_gap": null,
            "grid_row": null,
            "grid_template_areas": null,
            "grid_template_columns": null,
            "grid_template_rows": null,
            "height": null,
            "justify_content": null,
            "justify_items": null,
            "left": null,
            "margin": null,
            "max_height": null,
            "max_width": null,
            "min_height": null,
            "min_width": null,
            "object_fit": null,
            "object_position": null,
            "order": null,
            "overflow": null,
            "overflow_x": null,
            "overflow_y": null,
            "padding": null,
            "right": null,
            "top": null,
            "visibility": null,
            "width": null
          }
        },
        "e0acc59f6ea240e5879b34db5c45b651": {
          "model_module": "@jupyter-widgets/controls",
          "model_name": "DescriptionStyleModel",
          "model_module_version": "1.5.0",
          "state": {
            "_model_module": "@jupyter-widgets/controls",
            "_model_module_version": "1.5.0",
            "_model_name": "DescriptionStyleModel",
            "_view_count": null,
            "_view_module": "@jupyter-widgets/base",
            "_view_module_version": "1.2.0",
            "_view_name": "StyleView",
            "description_width": ""
          }
        },
        "72d80ed93ae34968830838ba2a07c8a6": {
          "model_module": "@jupyter-widgets/controls",
          "model_name": "LabelModel",
          "model_module_version": "1.5.0",
          "state": {
            "_dom_classes": [],
            "_model_module": "@jupyter-widgets/controls",
            "_model_module_version": "1.5.0",
            "_model_name": "LabelModel",
            "_view_count": null,
            "_view_module": "@jupyter-widgets/controls",
            "_view_module_version": "1.5.0",
            "_view_name": "LabelView",
            "description": "",
            "description_tooltip": null,
            "layout": "IPY_MODEL_619e532b4aa340e781d1f6b8429aec57",
            "placeholder": "​",
            "style": "IPY_MODEL_bd1fa6d7afa4427a8876afd71b396cd5",
            "value": "Connecting..."
          }
        },
        "619e532b4aa340e781d1f6b8429aec57": {
          "model_module": "@jupyter-widgets/base",
          "model_name": "LayoutModel",
          "model_module_version": "1.2.0",
          "state": {
            "_model_module": "@jupyter-widgets/base",
            "_model_module_version": "1.2.0",
            "_model_name": "LayoutModel",
            "_view_count": null,
            "_view_module": "@jupyter-widgets/base",
            "_view_module_version": "1.2.0",
            "_view_name": "LayoutView",
            "align_content": null,
            "align_items": null,
            "align_self": null,
            "border": null,
            "bottom": null,
            "display": null,
            "flex": null,
            "flex_flow": null,
            "grid_area": null,
            "grid_auto_columns": null,
            "grid_auto_flow": null,
            "grid_auto_rows": null,
            "grid_column": null,
            "grid_gap": null,
            "grid_row": null,
            "grid_template_areas": null,
            "grid_template_columns": null,
            "grid_template_rows": null,
            "height": null,
            "justify_content": null,
            "justify_items": null,
            "left": null,
            "margin": null,
            "max_height": null,
            "max_width": null,
            "min_height": null,
            "min_width": null,
            "object_fit": null,
            "object_position": null,
            "order": null,
            "overflow": null,
            "overflow_x": null,
            "overflow_y": null,
            "padding": null,
            "right": null,
            "top": null,
            "visibility": null,
            "width": null
          }
        },
        "bd1fa6d7afa4427a8876afd71b396cd5": {
          "model_module": "@jupyter-widgets/controls",
          "model_name": "DescriptionStyleModel",
          "model_module_version": "1.5.0",
          "state": {
            "_model_module": "@jupyter-widgets/controls",
            "_model_module_version": "1.5.0",
            "_model_name": "DescriptionStyleModel",
            "_view_count": null,
            "_view_module": "@jupyter-widgets/base",
            "_view_module_version": "1.2.0",
            "_view_name": "StyleView",
            "description_width": ""
          }
        },
        "194f76e8b19e4de3b131b7acdf3543a3": {
          "model_module": "@jupyter-widgets/controls",
          "model_name": "HBoxModel",
          "model_module_version": "1.5.0",
          "state": {
            "_dom_classes": [],
            "_model_module": "@jupyter-widgets/controls",
            "_model_module_version": "1.5.0",
            "_model_name": "HBoxModel",
            "_view_count": null,
            "_view_module": "@jupyter-widgets/controls",
            "_view_module_version": "1.5.0",
            "_view_name": "HBoxView",
            "box_style": "",
            "children": [
              "IPY_MODEL_bfacb87fb6a04a538ab249c3b7e37a9f",
              "IPY_MODEL_981d4817155a408f8516117140497b8f",
              "IPY_MODEL_dd9ae70783f64dc8afe40cfb30b59709"
            ],
            "layout": "IPY_MODEL_098391487adf4590be6afd078efbe011"
          }
        },
        "bfacb87fb6a04a538ab249c3b7e37a9f": {
          "model_module": "@jupyter-widgets/controls",
          "model_name": "HTMLModel",
          "model_module_version": "1.5.0",
          "state": {
            "_dom_classes": [],
            "_model_module": "@jupyter-widgets/controls",
            "_model_module_version": "1.5.0",
            "_model_name": "HTMLModel",
            "_view_count": null,
            "_view_module": "@jupyter-widgets/controls",
            "_view_module_version": "1.5.0",
            "_view_name": "HTMLView",
            "description": "",
            "description_tooltip": null,
            "layout": "IPY_MODEL_e274f7717f924fe28a04c5d7f40ce02a",
            "placeholder": "​",
            "style": "IPY_MODEL_b8ea5b24130e40a8a54744c31c019709",
            "value": "README.md: 100%"
          }
        },
        "981d4817155a408f8516117140497b8f": {
          "model_module": "@jupyter-widgets/controls",
          "model_name": "FloatProgressModel",
          "model_module_version": "1.5.0",
          "state": {
            "_dom_classes": [],
            "_model_module": "@jupyter-widgets/controls",
            "_model_module_version": "1.5.0",
            "_model_name": "FloatProgressModel",
            "_view_count": null,
            "_view_module": "@jupyter-widgets/controls",
            "_view_module_version": "1.5.0",
            "_view_name": "ProgressView",
            "bar_style": "success",
            "description": "",
            "description_tooltip": null,
            "layout": "IPY_MODEL_c661255ca01d44f3b4e94b970e37d3e6",
            "max": 4053,
            "min": 0,
            "orientation": "horizontal",
            "style": "IPY_MODEL_590cf23c0dd34c5ca93cb84e8492fd34",
            "value": 4053
          }
        },
        "dd9ae70783f64dc8afe40cfb30b59709": {
          "model_module": "@jupyter-widgets/controls",
          "model_name": "HTMLModel",
          "model_module_version": "1.5.0",
          "state": {
            "_dom_classes": [],
            "_model_module": "@jupyter-widgets/controls",
            "_model_module_version": "1.5.0",
            "_model_name": "HTMLModel",
            "_view_count": null,
            "_view_module": "@jupyter-widgets/controls",
            "_view_module_version": "1.5.0",
            "_view_name": "HTMLView",
            "description": "",
            "description_tooltip": null,
            "layout": "IPY_MODEL_5ccbe6ebb05844ee957108377a286402",
            "placeholder": "​",
            "style": "IPY_MODEL_79f1b120f6a14bc28bdb7fbd85084b91",
            "value": " 4.05k/4.05k [00:00&lt;00:00, 113kB/s]"
          }
        },
        "098391487adf4590be6afd078efbe011": {
          "model_module": "@jupyter-widgets/base",
          "model_name": "LayoutModel",
          "model_module_version": "1.2.0",
          "state": {
            "_model_module": "@jupyter-widgets/base",
            "_model_module_version": "1.2.0",
            "_model_name": "LayoutModel",
            "_view_count": null,
            "_view_module": "@jupyter-widgets/base",
            "_view_module_version": "1.2.0",
            "_view_name": "LayoutView",
            "align_content": null,
            "align_items": null,
            "align_self": null,
            "border": null,
            "bottom": null,
            "display": null,
            "flex": null,
            "flex_flow": null,
            "grid_area": null,
            "grid_auto_columns": null,
            "grid_auto_flow": null,
            "grid_auto_rows": null,
            "grid_column": null,
            "grid_gap": null,
            "grid_row": null,
            "grid_template_areas": null,
            "grid_template_columns": null,
            "grid_template_rows": null,
            "height": null,
            "justify_content": null,
            "justify_items": null,
            "left": null,
            "margin": null,
            "max_height": null,
            "max_width": null,
            "min_height": null,
            "min_width": null,
            "object_fit": null,
            "object_position": null,
            "order": null,
            "overflow": null,
            "overflow_x": null,
            "overflow_y": null,
            "padding": null,
            "right": null,
            "top": null,
            "visibility": null,
            "width": null
          }
        },
        "e274f7717f924fe28a04c5d7f40ce02a": {
          "model_module": "@jupyter-widgets/base",
          "model_name": "LayoutModel",
          "model_module_version": "1.2.0",
          "state": {
            "_model_module": "@jupyter-widgets/base",
            "_model_module_version": "1.2.0",
            "_model_name": "LayoutModel",
            "_view_count": null,
            "_view_module": "@jupyter-widgets/base",
            "_view_module_version": "1.2.0",
            "_view_name": "LayoutView",
            "align_content": null,
            "align_items": null,
            "align_self": null,
            "border": null,
            "bottom": null,
            "display": null,
            "flex": null,
            "flex_flow": null,
            "grid_area": null,
            "grid_auto_columns": null,
            "grid_auto_flow": null,
            "grid_auto_rows": null,
            "grid_column": null,
            "grid_gap": null,
            "grid_row": null,
            "grid_template_areas": null,
            "grid_template_columns": null,
            "grid_template_rows": null,
            "height": null,
            "justify_content": null,
            "justify_items": null,
            "left": null,
            "margin": null,
            "max_height": null,
            "max_width": null,
            "min_height": null,
            "min_width": null,
            "object_fit": null,
            "object_position": null,
            "order": null,
            "overflow": null,
            "overflow_x": null,
            "overflow_y": null,
            "padding": null,
            "right": null,
            "top": null,
            "visibility": null,
            "width": null
          }
        },
        "b8ea5b24130e40a8a54744c31c019709": {
          "model_module": "@jupyter-widgets/controls",
          "model_name": "DescriptionStyleModel",
          "model_module_version": "1.5.0",
          "state": {
            "_model_module": "@jupyter-widgets/controls",
            "_model_module_version": "1.5.0",
            "_model_name": "DescriptionStyleModel",
            "_view_count": null,
            "_view_module": "@jupyter-widgets/base",
            "_view_module_version": "1.2.0",
            "_view_name": "StyleView",
            "description_width": ""
          }
        },
        "c661255ca01d44f3b4e94b970e37d3e6": {
          "model_module": "@jupyter-widgets/base",
          "model_name": "LayoutModel",
          "model_module_version": "1.2.0",
          "state": {
            "_model_module": "@jupyter-widgets/base",
            "_model_module_version": "1.2.0",
            "_model_name": "LayoutModel",
            "_view_count": null,
            "_view_module": "@jupyter-widgets/base",
            "_view_module_version": "1.2.0",
            "_view_name": "LayoutView",
            "align_content": null,
            "align_items": null,
            "align_self": null,
            "border": null,
            "bottom": null,
            "display": null,
            "flex": null,
            "flex_flow": null,
            "grid_area": null,
            "grid_auto_columns": null,
            "grid_auto_flow": null,
            "grid_auto_rows": null,
            "grid_column": null,
            "grid_gap": null,
            "grid_row": null,
            "grid_template_areas": null,
            "grid_template_columns": null,
            "grid_template_rows": null,
            "height": null,
            "justify_content": null,
            "justify_items": null,
            "left": null,
            "margin": null,
            "max_height": null,
            "max_width": null,
            "min_height": null,
            "min_width": null,
            "object_fit": null,
            "object_position": null,
            "order": null,
            "overflow": null,
            "overflow_x": null,
            "overflow_y": null,
            "padding": null,
            "right": null,
            "top": null,
            "visibility": null,
            "width": null
          }
        },
        "590cf23c0dd34c5ca93cb84e8492fd34": {
          "model_module": "@jupyter-widgets/controls",
          "model_name": "ProgressStyleModel",
          "model_module_version": "1.5.0",
          "state": {
            "_model_module": "@jupyter-widgets/controls",
            "_model_module_version": "1.5.0",
            "_model_name": "ProgressStyleModel",
            "_view_count": null,
            "_view_module": "@jupyter-widgets/base",
            "_view_module_version": "1.2.0",
            "_view_name": "StyleView",
            "bar_color": null,
            "description_width": ""
          }
        },
        "5ccbe6ebb05844ee957108377a286402": {
          "model_module": "@jupyter-widgets/base",
          "model_name": "LayoutModel",
          "model_module_version": "1.2.0",
          "state": {
            "_model_module": "@jupyter-widgets/base",
            "_model_module_version": "1.2.0",
            "_model_name": "LayoutModel",
            "_view_count": null,
            "_view_module": "@jupyter-widgets/base",
            "_view_module_version": "1.2.0",
            "_view_name": "LayoutView",
            "align_content": null,
            "align_items": null,
            "align_self": null,
            "border": null,
            "bottom": null,
            "display": null,
            "flex": null,
            "flex_flow": null,
            "grid_area": null,
            "grid_auto_columns": null,
            "grid_auto_flow": null,
            "grid_auto_rows": null,
            "grid_column": null,
            "grid_gap": null,
            "grid_row": null,
            "grid_template_areas": null,
            "grid_template_columns": null,
            "grid_template_rows": null,
            "height": null,
            "justify_content": null,
            "justify_items": null,
            "left": null,
            "margin": null,
            "max_height": null,
            "max_width": null,
            "min_height": null,
            "min_width": null,
            "object_fit": null,
            "object_position": null,
            "order": null,
            "overflow": null,
            "overflow_x": null,
            "overflow_y": null,
            "padding": null,
            "right": null,
            "top": null,
            "visibility": null,
            "width": null
          }
        },
        "79f1b120f6a14bc28bdb7fbd85084b91": {
          "model_module": "@jupyter-widgets/controls",
          "model_name": "DescriptionStyleModel",
          "model_module_version": "1.5.0",
          "state": {
            "_model_module": "@jupyter-widgets/controls",
            "_model_module_version": "1.5.0",
            "_model_name": "DescriptionStyleModel",
            "_view_count": null,
            "_view_module": "@jupyter-widgets/base",
            "_view_module_version": "1.2.0",
            "_view_name": "StyleView",
            "description_width": ""
          }
        },
        "0443ce47301b47ce9d726f37cd99f884": {
          "model_module": "@jupyter-widgets/controls",
          "model_name": "HBoxModel",
          "model_module_version": "1.5.0",
          "state": {
            "_dom_classes": [],
            "_model_module": "@jupyter-widgets/controls",
            "_model_module_version": "1.5.0",
            "_model_name": "HBoxModel",
            "_view_count": null,
            "_view_module": "@jupyter-widgets/controls",
            "_view_module_version": "1.5.0",
            "_view_name": "HBoxView",
            "box_style": "",
            "children": [
              "IPY_MODEL_125edf4992e741778ebedc427fc6cee3",
              "IPY_MODEL_ab143213858e4c328343f0dd1a5154e4",
              "IPY_MODEL_26952d3ae0aa40c0be9fa27601224f99"
            ],
            "layout": "IPY_MODEL_093b598410dd43668cf3301e490dcb8c"
          }
        },
        "125edf4992e741778ebedc427fc6cee3": {
          "model_module": "@jupyter-widgets/controls",
          "model_name": "HTMLModel",
          "model_module_version": "1.5.0",
          "state": {
            "_dom_classes": [],
            "_model_module": "@jupyter-widgets/controls",
            "_model_module_version": "1.5.0",
            "_model_name": "HTMLModel",
            "_view_count": null,
            "_view_module": "@jupyter-widgets/controls",
            "_view_module_version": "1.5.0",
            "_view_name": "HTMLView",
            "description": "",
            "description_tooltip": null,
            "layout": "IPY_MODEL_0a9cef5a292d4e84b7080575dc785271",
            "placeholder": "​",
            "style": "IPY_MODEL_8e6f6a53a5c943e383ab6acc6525659b",
            "value": "model.safetensors: 100%"
          }
        },
        "ab143213858e4c328343f0dd1a5154e4": {
          "model_module": "@jupyter-widgets/controls",
          "model_name": "FloatProgressModel",
          "model_module_version": "1.5.0",
          "state": {
            "_dom_classes": [],
            "_model_module": "@jupyter-widgets/controls",
            "_model_module_version": "1.5.0",
            "_model_name": "FloatProgressModel",
            "_view_count": null,
            "_view_module": "@jupyter-widgets/controls",
            "_view_module_version": "1.5.0",
            "_view_name": "ProgressView",
            "bar_style": "success",
            "description": "",
            "description_tooltip": null,
            "layout": "IPY_MODEL_bba104206cb64fe899dc55a6fb43373d",
            "max": 497798148,
            "min": 0,
            "orientation": "horizontal",
            "style": "IPY_MODEL_2440c4410462433b866a4501a4016f90",
            "value": 497798148
          }
        },
        "26952d3ae0aa40c0be9fa27601224f99": {
          "model_module": "@jupyter-widgets/controls",
          "model_name": "HTMLModel",
          "model_module_version": "1.5.0",
          "state": {
            "_dom_classes": [],
            "_model_module": "@jupyter-widgets/controls",
            "_model_module_version": "1.5.0",
            "_model_name": "HTMLModel",
            "_view_count": null,
            "_view_module": "@jupyter-widgets/controls",
            "_view_module_version": "1.5.0",
            "_view_name": "HTMLView",
            "description": "",
            "description_tooltip": null,
            "layout": "IPY_MODEL_6657b49dc0504ec6bc636c9f42e67670",
            "placeholder": "​",
            "style": "IPY_MODEL_c532bbbe720a4e3a8c980a999ca8a59f",
            "value": " 498M/498M [00:44&lt;00:00, 9.64MB/s]"
          }
        },
        "093b598410dd43668cf3301e490dcb8c": {
          "model_module": "@jupyter-widgets/base",
          "model_name": "LayoutModel",
          "model_module_version": "1.2.0",
          "state": {
            "_model_module": "@jupyter-widgets/base",
            "_model_module_version": "1.2.0",
            "_model_name": "LayoutModel",
            "_view_count": null,
            "_view_module": "@jupyter-widgets/base",
            "_view_module_version": "1.2.0",
            "_view_name": "LayoutView",
            "align_content": null,
            "align_items": null,
            "align_self": null,
            "border": null,
            "bottom": null,
            "display": null,
            "flex": null,
            "flex_flow": null,
            "grid_area": null,
            "grid_auto_columns": null,
            "grid_auto_flow": null,
            "grid_auto_rows": null,
            "grid_column": null,
            "grid_gap": null,
            "grid_row": null,
            "grid_template_areas": null,
            "grid_template_columns": null,
            "grid_template_rows": null,
            "height": null,
            "justify_content": null,
            "justify_items": null,
            "left": null,
            "margin": null,
            "max_height": null,
            "max_width": null,
            "min_height": null,
            "min_width": null,
            "object_fit": null,
            "object_position": null,
            "order": null,
            "overflow": null,
            "overflow_x": null,
            "overflow_y": null,
            "padding": null,
            "right": null,
            "top": null,
            "visibility": null,
            "width": null
          }
        },
        "0a9cef5a292d4e84b7080575dc785271": {
          "model_module": "@jupyter-widgets/base",
          "model_name": "LayoutModel",
          "model_module_version": "1.2.0",
          "state": {
            "_model_module": "@jupyter-widgets/base",
            "_model_module_version": "1.2.0",
            "_model_name": "LayoutModel",
            "_view_count": null,
            "_view_module": "@jupyter-widgets/base",
            "_view_module_version": "1.2.0",
            "_view_name": "LayoutView",
            "align_content": null,
            "align_items": null,
            "align_self": null,
            "border": null,
            "bottom": null,
            "display": null,
            "flex": null,
            "flex_flow": null,
            "grid_area": null,
            "grid_auto_columns": null,
            "grid_auto_flow": null,
            "grid_auto_rows": null,
            "grid_column": null,
            "grid_gap": null,
            "grid_row": null,
            "grid_template_areas": null,
            "grid_template_columns": null,
            "grid_template_rows": null,
            "height": null,
            "justify_content": null,
            "justify_items": null,
            "left": null,
            "margin": null,
            "max_height": null,
            "max_width": null,
            "min_height": null,
            "min_width": null,
            "object_fit": null,
            "object_position": null,
            "order": null,
            "overflow": null,
            "overflow_x": null,
            "overflow_y": null,
            "padding": null,
            "right": null,
            "top": null,
            "visibility": null,
            "width": null
          }
        },
        "8e6f6a53a5c943e383ab6acc6525659b": {
          "model_module": "@jupyter-widgets/controls",
          "model_name": "DescriptionStyleModel",
          "model_module_version": "1.5.0",
          "state": {
            "_model_module": "@jupyter-widgets/controls",
            "_model_module_version": "1.5.0",
            "_model_name": "DescriptionStyleModel",
            "_view_count": null,
            "_view_module": "@jupyter-widgets/base",
            "_view_module_version": "1.2.0",
            "_view_name": "StyleView",
            "description_width": ""
          }
        },
        "bba104206cb64fe899dc55a6fb43373d": {
          "model_module": "@jupyter-widgets/base",
          "model_name": "LayoutModel",
          "model_module_version": "1.2.0",
          "state": {
            "_model_module": "@jupyter-widgets/base",
            "_model_module_version": "1.2.0",
            "_model_name": "LayoutModel",
            "_view_count": null,
            "_view_module": "@jupyter-widgets/base",
            "_view_module_version": "1.2.0",
            "_view_name": "LayoutView",
            "align_content": null,
            "align_items": null,
            "align_self": null,
            "border": null,
            "bottom": null,
            "display": null,
            "flex": null,
            "flex_flow": null,
            "grid_area": null,
            "grid_auto_columns": null,
            "grid_auto_flow": null,
            "grid_auto_rows": null,
            "grid_column": null,
            "grid_gap": null,
            "grid_row": null,
            "grid_template_areas": null,
            "grid_template_columns": null,
            "grid_template_rows": null,
            "height": null,
            "justify_content": null,
            "justify_items": null,
            "left": null,
            "margin": null,
            "max_height": null,
            "max_width": null,
            "min_height": null,
            "min_width": null,
            "object_fit": null,
            "object_position": null,
            "order": null,
            "overflow": null,
            "overflow_x": null,
            "overflow_y": null,
            "padding": null,
            "right": null,
            "top": null,
            "visibility": null,
            "width": null
          }
        },
        "2440c4410462433b866a4501a4016f90": {
          "model_module": "@jupyter-widgets/controls",
          "model_name": "ProgressStyleModel",
          "model_module_version": "1.5.0",
          "state": {
            "_model_module": "@jupyter-widgets/controls",
            "_model_module_version": "1.5.0",
            "_model_name": "ProgressStyleModel",
            "_view_count": null,
            "_view_module": "@jupyter-widgets/base",
            "_view_module_version": "1.2.0",
            "_view_name": "StyleView",
            "bar_color": null,
            "description_width": ""
          }
        },
        "6657b49dc0504ec6bc636c9f42e67670": {
          "model_module": "@jupyter-widgets/base",
          "model_name": "LayoutModel",
          "model_module_version": "1.2.0",
          "state": {
            "_model_module": "@jupyter-widgets/base",
            "_model_module_version": "1.2.0",
            "_model_name": "LayoutModel",
            "_view_count": null,
            "_view_module": "@jupyter-widgets/base",
            "_view_module_version": "1.2.0",
            "_view_name": "LayoutView",
            "align_content": null,
            "align_items": null,
            "align_self": null,
            "border": null,
            "bottom": null,
            "display": null,
            "flex": null,
            "flex_flow": null,
            "grid_area": null,
            "grid_auto_columns": null,
            "grid_auto_flow": null,
            "grid_auto_rows": null,
            "grid_column": null,
            "grid_gap": null,
            "grid_row": null,
            "grid_template_areas": null,
            "grid_template_columns": null,
            "grid_template_rows": null,
            "height": null,
            "justify_content": null,
            "justify_items": null,
            "left": null,
            "margin": null,
            "max_height": null,
            "max_width": null,
            "min_height": null,
            "min_width": null,
            "object_fit": null,
            "object_position": null,
            "order": null,
            "overflow": null,
            "overflow_x": null,
            "overflow_y": null,
            "padding": null,
            "right": null,
            "top": null,
            "visibility": null,
            "width": null
          }
        },
        "c532bbbe720a4e3a8c980a999ca8a59f": {
          "model_module": "@jupyter-widgets/controls",
          "model_name": "DescriptionStyleModel",
          "model_module_version": "1.5.0",
          "state": {
            "_model_module": "@jupyter-widgets/controls",
            "_model_module_version": "1.5.0",
            "_model_name": "DescriptionStyleModel",
            "_view_count": null,
            "_view_module": "@jupyter-widgets/base",
            "_view_module_version": "1.2.0",
            "_view_name": "StyleView",
            "description_width": ""
          }
        }
      }
    },
    "accelerator": "GPU"
  },
  "nbformat": 4,
  "nbformat_minor": 5
}